{
 "cells": [
  {
   "cell_type": "markdown",
   "id": "labeled-airport",
   "metadata": {},
   "source": [
    "# Hard negative dataset"
   ]
  },
  {
   "cell_type": "code",
   "execution_count": 1,
   "id": "behind-departure",
   "metadata": {},
   "outputs": [
    {
     "name": "stderr",
     "output_type": "stream",
     "text": [
      "/opt/miniconda/lib/python3.8/site-packages/tqdm/std.py:703: FutureWarning: The Panel class is removed from pandas. Accessing it from the top-level namespace will also be removed in the next version\n",
      "  from pandas import Panel\n"
     ]
    }
   ],
   "source": [
    "import re\n",
    "import shutil\n",
    "import multiprocessing as mp\n",
    "\n",
    "import cv2\n",
    "import pandas as pd\n",
    "import tokenizers\n",
    "import Levenshtein\n",
    "from dataclasses import dataclass\n",
    "from pathlib import Path\n",
    "from rdkit import Chem\n",
    "from tqdm.auto import tqdm\n",
    "\n",
    "tqdm.pandas()"
   ]
  },
  {
   "cell_type": "code",
   "execution_count": 2,
   "id": "coordinate-wildlife",
   "metadata": {},
   "outputs": [],
   "source": [
    "%load_ext autoreload\n",
    "%autoreload 2\n",
    "from nncomp_molecule import constants"
   ]
  },
  {
   "cell_type": "markdown",
   "id": "matched-humanity",
   "metadata": {},
   "source": [
    "## Config"
   ]
  },
  {
   "cell_type": "code",
   "execution_count": 3,
   "id": "banner-midwest",
   "metadata": {},
   "outputs": [
    {
     "name": "stdout",
     "output_type": "stream",
     "text": [
      "/work/input/kfujikawa/bms-preprocess-hn-v1/train.pkl: False\n",
      "/work/input/kfujikawa/bms-preprocess-hn-v1/test.pkl: False\n"
     ]
    }
   ],
   "source": [
    "NOTEBOOK_ID = \"bms-preprocess-hn-v1\"\n",
    "KFOLD_PATH = constants.INPUTDIR / \"kfujikawa\" / \"bms-kfold\" / \"10fold.csv\"\n",
    "OUTDIR = constants.INPUTDIR / \"kfujikawa\" / NOTEBOOK_ID\n",
    "OUTDIR.mkdir(parents=True, exist_ok=True)\n",
    "print(f\"{OUTDIR / 'train.pkl'}: {(OUTDIR / 'train.pkl').exists()}\")\n",
    "print(f\"{OUTDIR / 'test.pkl'}: {(OUTDIR / 'test.pkl').exists()}\")"
   ]
  },
  {
   "cell_type": "markdown",
   "id": "incomplete-throat",
   "metadata": {
    "tags": []
   },
   "source": [
    "## Preprocess datasets"
   ]
  },
  {
   "cell_type": "code",
   "execution_count": 4,
   "id": "coordinate-saskatchewan",
   "metadata": {},
   "outputs": [
    {
     "name": "stdout",
     "output_type": "stream",
     "text": [
      "CPU times: user 29.6 s, sys: 1.77 s, total: 31.3 s\n",
      "Wall time: 31.3 s\n"
     ]
    },
    {
     "data": {
      "text/html": [
       "<div>\n",
       "<style scoped>\n",
       "    .dataframe tbody tr th:only-of-type {\n",
       "        vertical-align: middle;\n",
       "    }\n",
       "\n",
       "    .dataframe tbody tr th {\n",
       "        vertical-align: top;\n",
       "    }\n",
       "\n",
       "    .dataframe thead th {\n",
       "        text-align: right;\n",
       "    }\n",
       "</style>\n",
       "<table border=\"1\" class=\"dataframe\">\n",
       "  <thead>\n",
       "    <tr style=\"text-align: right;\">\n",
       "      <th></th>\n",
       "      <th>image_id</th>\n",
       "      <th>InChI</th>\n",
       "      <th>image_path</th>\n",
       "      <th>InChI_length</th>\n",
       "      <th>w</th>\n",
       "      <th>h</th>\n",
       "      <th>w/h</th>\n",
       "      <th>w*h</th>\n",
       "      <th>is_flipped</th>\n",
       "      <th>is_HN</th>\n",
       "    </tr>\n",
       "  </thead>\n",
       "  <tbody>\n",
       "    <tr>\n",
       "      <th>0</th>\n",
       "      <td>4435736fd10b</td>\n",
       "      <td>InChI=1S/C65H110O6/c1-4-7-10-13-16-19-22-25-28...</td>\n",
       "      <td>/work/input/bms-molecular-translation/train/4/...</td>\n",
       "      <td>403</td>\n",
       "      <td>1472</td>\n",
       "      <td>788</td>\n",
       "      <td>1.868020</td>\n",
       "      <td>1159936</td>\n",
       "      <td>False</td>\n",
       "      <td>True</td>\n",
       "    </tr>\n",
       "    <tr>\n",
       "      <th>1</th>\n",
       "      <td>8c0e35ce3f1f</td>\n",
       "      <td>InChI=1S/C60H98O6/c1-4-7-10-13-16-19-22-25-27-...</td>\n",
       "      <td>/work/input/bms-molecular-translation/train/8/...</td>\n",
       "      <td>398</td>\n",
       "      <td>939</td>\n",
       "      <td>309</td>\n",
       "      <td>3.038835</td>\n",
       "      <td>290151</td>\n",
       "      <td>False</td>\n",
       "      <td>True</td>\n",
       "    </tr>\n",
       "    <tr>\n",
       "      <th>2</th>\n",
       "      <td>934593ad3cae</td>\n",
       "      <td>InChI=1S/C63H106O6/c1-4-7-10-13-16-19-22-25-27...</td>\n",
       "      <td>/work/input/bms-molecular-translation/train/9/...</td>\n",
       "      <td>397</td>\n",
       "      <td>826</td>\n",
       "      <td>661</td>\n",
       "      <td>1.249622</td>\n",
       "      <td>545986</td>\n",
       "      <td>False</td>\n",
       "      <td>True</td>\n",
       "    </tr>\n",
       "    <tr>\n",
       "      <th>3</th>\n",
       "      <td>c963808e309d</td>\n",
       "      <td>InChI=1S/C59H92O6/c1-4-7-10-13-16-19-22-25-28-...</td>\n",
       "      <td>/work/input/bms-molecular-translation/train/c/...</td>\n",
       "      <td>393</td>\n",
       "      <td>1268</td>\n",
       "      <td>883</td>\n",
       "      <td>1.436014</td>\n",
       "      <td>1119644</td>\n",
       "      <td>False</td>\n",
       "      <td>True</td>\n",
       "    </tr>\n",
       "    <tr>\n",
       "      <th>4</th>\n",
       "      <td>0aa425d5f5ac</td>\n",
       "      <td>InChI=1S/C62H106O6/c1-4-7-10-13-16-19-22-25-27...</td>\n",
       "      <td>/work/input/bms-molecular-translation/train/0/...</td>\n",
       "      <td>393</td>\n",
       "      <td>918</td>\n",
       "      <td>543</td>\n",
       "      <td>1.690608</td>\n",
       "      <td>498474</td>\n",
       "      <td>False</td>\n",
       "      <td>True</td>\n",
       "    </tr>\n",
       "  </tbody>\n",
       "</table>\n",
       "</div>"
      ],
      "text/plain": [
       "       image_id                                              InChI  \\\n",
       "0  4435736fd10b  InChI=1S/C65H110O6/c1-4-7-10-13-16-19-22-25-28...   \n",
       "1  8c0e35ce3f1f  InChI=1S/C60H98O6/c1-4-7-10-13-16-19-22-25-27-...   \n",
       "2  934593ad3cae  InChI=1S/C63H106O6/c1-4-7-10-13-16-19-22-25-27...   \n",
       "3  c963808e309d  InChI=1S/C59H92O6/c1-4-7-10-13-16-19-22-25-28-...   \n",
       "4  0aa425d5f5ac  InChI=1S/C62H106O6/c1-4-7-10-13-16-19-22-25-27...   \n",
       "\n",
       "                                          image_path  InChI_length     w    h  \\\n",
       "0  /work/input/bms-molecular-translation/train/4/...           403  1472  788   \n",
       "1  /work/input/bms-molecular-translation/train/8/...           398   939  309   \n",
       "2  /work/input/bms-molecular-translation/train/9/...           397   826  661   \n",
       "3  /work/input/bms-molecular-translation/train/c/...           393  1268  883   \n",
       "4  /work/input/bms-molecular-translation/train/0/...           393   918  543   \n",
       "\n",
       "        w/h      w*h  is_flipped  is_HN  \n",
       "0  1.868020  1159936       False   True  \n",
       "1  3.038835   290151       False   True  \n",
       "2  1.249622   545986       False   True  \n",
       "3  1.436014  1119644       False   True  \n",
       "4  1.690608   498474       False   True  "
      ]
     },
     "execution_count": 4,
     "metadata": {},
     "output_type": "execute_result"
    }
   ],
   "source": [
    "%%time\n",
    "COLUMNS = [\"image_id\", \"normed_InChI\", \"InChI_GT\", \"is_valid\"]\n",
    "\n",
    "train_df = pd.read_pickle(\"/work/input/kfujikawa/bms-preprocess-v2/train.pkl\").set_index(\"image_id\")\n",
    "\n",
    "# データ読み込み\n",
    "df = pd.concat([\n",
    "    pd.read_csv(constants.OUTPUTDIR / \"1106_swin_bert_384/train_beam=2.csv\", usecols=COLUMNS),\n",
    "    pd.read_csv(constants.OUTPUTDIR / \"1106_swin_bert_384/valid_beam=2.csv\", usecols=COLUMNS),\n",
    "], ignore_index=True).groupby(\"image_id\").first()\n",
    "\n",
    "train_df[\"is_HN\"] = df.eval(\"InChI_GT != normed_InChI\")\n",
    "train_df = train_df.reset_index()\n",
    "train_df.head()"
   ]
  },
  {
   "cell_type": "markdown",
   "id": "d67d4ac0-2b03-4915-bf45-767be84b4f88",
   "metadata": {},
   "source": [
    "## Load KFold"
   ]
  },
  {
   "cell_type": "code",
   "execution_count": 5,
   "id": "egyptian-smooth",
   "metadata": {},
   "outputs": [
    {
     "data": {
      "text/plain": [
       "0          000011a64c74\n",
       "2          0000252b6d2b\n",
       "4          000026fc6c36\n",
       "6          000029a61c01\n",
       "12         000061d37e54\n",
       "               ...     \n",
       "2424159    ffff58ad694c\n",
       "2424165    ffff8397e15e\n",
       "2424172    ffffac645f33\n",
       "2424174    ffffb8682cf9\n",
       "2424181    ffffe824f539\n",
       "Name: image_id, Length: 727257, dtype: object"
      ]
     },
     "execution_count": 5,
     "metadata": {},
     "output_type": "execute_result"
    }
   ],
   "source": [
    "kfold_df = pd.read_csv(KFOLD_PATH)\n",
    "benchmark_ids = kfold_df.query(\"fold.isin([0,1,2])\").image_id\n",
    "benchmark_ids"
   ]
  },
  {
   "cell_type": "markdown",
   "id": "5f1223e6-6ba9-4758-b156-02d88477c4a1",
   "metadata": {},
   "source": [
    "## Save datasets"
   ]
  },
  {
   "cell_type": "code",
   "execution_count": 6,
   "id": "romance-testing",
   "metadata": {},
   "outputs": [
    {
     "data": {
      "text/plain": [
       "[PosixPath('/work/input/kfujikawa/bms-preprocess-hn-v1/train.debug.pkl'),\n",
       " PosixPath('/work/input/kfujikawa/bms-preprocess-hn-v1/train.bench.pkl'),\n",
       " PosixPath('/work/input/kfujikawa/bms-preprocess-hn-v1/train.pkl')]"
      ]
     },
     "execution_count": 6,
     "metadata": {},
     "output_type": "execute_result"
    }
   ],
   "source": [
    "OUTDIR.mkdir(parents=True, exist_ok=True)\n",
    "train_df.head(1000).to_pickle(OUTDIR / \"train.debug.pkl\")\n",
    "train_df.query(\"image_id.isin(@benchmark_ids)\").reset_index(drop=True).to_pickle(OUTDIR / \"train.bench.pkl\")\n",
    "train_df.to_pickle(OUTDIR / \"train.pkl\")\n",
    "list(OUTDIR.iterdir())"
   ]
  },
  {
   "cell_type": "code",
   "execution_count": 7,
   "id": "ad23475b-a0a1-4535-8cb7-ad48b8981b96",
   "metadata": {},
   "outputs": [
    {
     "data": {
      "application/vnd.jupyter.widget-view+json": {
       "model_id": "15c0832182bf407aba18a41b5344529a",
       "version_major": 2,
       "version_minor": 0
      },
      "text/plain": [
       "HBox(children=(HTML(value=''), FloatProgress(value=0.0, max=3.0), HTML(value='')))"
      ]
     },
     "metadata": {},
     "output_type": "display_data"
    },
    {
     "name": "stdout",
     "output_type": "stream",
     "text": [
      "\n"
     ]
    },
    {
     "data": {
      "text/plain": [
       "[PosixPath('/work/input/kfujikawa/bms-preprocess-hn-v1/train.debug.pkl'),\n",
       " PosixPath('/work/input/kfujikawa/bms-preprocess-hn-v1/test.bench.pkl'),\n",
       " PosixPath('/work/input/kfujikawa/bms-preprocess-hn-v1/train.bench.pkl'),\n",
       " PosixPath('/work/input/kfujikawa/bms-preprocess-hn-v1/test.debug.pkl'),\n",
       " PosixPath('/work/input/kfujikawa/bms-preprocess-hn-v1/train.pkl'),\n",
       " PosixPath('/work/input/kfujikawa/bms-preprocess-hn-v1/test.pkl')]"
      ]
     },
     "execution_count": 7,
     "metadata": {},
     "output_type": "execute_result"
    }
   ],
   "source": [
    "PREPROCESS_DIR = constants.INPUTDIR / \"kfujikawa/bms-preprocess-v2\"\n",
    "for filename in tqdm([\"test.debug.pkl\", \"test.bench.pkl\", \"test.pkl\"]):\n",
    "    shutil.copy(str(PREPROCESS_DIR / filename), str(OUTDIR / filename))\n",
    "list(OUTDIR.iterdir())"
   ]
  },
  {
   "cell_type": "code",
   "execution_count": null,
   "id": "6038bdc5-d3e8-4e7f-8e23-a51fd425b9a6",
   "metadata": {},
   "outputs": [],
   "source": []
  }
 ],
 "metadata": {
  "kernelspec": {
   "display_name": "Python 3",
   "language": "python",
   "name": "python3"
  },
  "language_info": {
   "codemirror_mode": {
    "name": "ipython",
    "version": 3
   },
   "file_extension": ".py",
   "mimetype": "text/x-python",
   "name": "python",
   "nbconvert_exporter": "python",
   "pygments_lexer": "ipython3",
   "version": "3.8.5"
  }
 },
 "nbformat": 4,
 "nbformat_minor": 5
}
