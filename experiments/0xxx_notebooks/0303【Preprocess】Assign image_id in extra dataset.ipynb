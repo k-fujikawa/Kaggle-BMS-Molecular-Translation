{
 "cells": [
  {
   "cell_type": "code",
   "execution_count": 1,
   "id": "43113965-3484-4904-a46c-671f30dc40b9",
   "metadata": {},
   "outputs": [],
   "source": [
    "import pandas as pd"
   ]
  },
  {
   "cell_type": "code",
   "execution_count": 2,
   "id": "8bcb13b0-89eb-483c-b860-79d30f33d351",
   "metadata": {},
   "outputs": [],
   "source": [
    "%load_ext autoreload\n",
    "%autoreload 2\n",
    "from nncomp_molecule import constants"
   ]
  },
  {
   "cell_type": "code",
   "execution_count": 4,
   "id": "900c53de-6e80-4273-8493-77642455837e",
   "metadata": {},
   "outputs": [],
   "source": [
    "extra_df = pd.read_csv(constants.COMPETITION_DATADIR / \"extra_approved_InChIs.csv\")"
   ]
  },
  {
   "cell_type": "code",
   "execution_count": 12,
   "id": "cfdcda31-5a36-453d-916b-1c7819879b91",
   "metadata": {},
   "outputs": [],
   "source": [
    "NOTEBOOK_ID = \"bms-preprocess-extra-v1\"\n",
    "OUTDIR = constants.INPUTDIR / \"kfujikawa\" / NOTEBOOK_ID"
   ]
  },
  {
   "cell_type": "code",
   "execution_count": 14,
   "id": "ab158547-fd43-4ad6-b152-69f432a6909b",
   "metadata": {},
   "outputs": [
    {
     "data": {
      "text/html": [
       "<div>\n",
       "<style scoped>\n",
       "    .dataframe tbody tr th:only-of-type {\n",
       "        vertical-align: middle;\n",
       "    }\n",
       "\n",
       "    .dataframe tbody tr th {\n",
       "        vertical-align: top;\n",
       "    }\n",
       "\n",
       "    .dataframe thead th {\n",
       "        text-align: right;\n",
       "    }\n",
       "</style>\n",
       "<table border=\"1\" class=\"dataframe\">\n",
       "  <thead>\n",
       "    <tr style=\"text-align: right;\">\n",
       "      <th></th>\n",
       "      <th>image_id</th>\n",
       "      <th>InChI</th>\n",
       "    </tr>\n",
       "  </thead>\n",
       "  <tbody>\n",
       "    <tr>\n",
       "      <th>0</th>\n",
       "      <td>0000000ex</td>\n",
       "      <td>InChI=1S/C13H10Cl4O4/c1-20-13(21-2)11(16)5-6-8...</td>\n",
       "    </tr>\n",
       "    <tr>\n",
       "      <th>1</th>\n",
       "      <td>0000001ex</td>\n",
       "      <td>InChI=1S/C23H32O6Si/c1-20(2)25-15-19(27-20)22(...</td>\n",
       "    </tr>\n",
       "    <tr>\n",
       "      <th>2</th>\n",
       "      <td>0000002ex</td>\n",
       "      <td>InChI=1S/C24H16N4O3/c29-21-19-20(14-8-2-1-3-9-...</td>\n",
       "    </tr>\n",
       "    <tr>\n",
       "      <th>3</th>\n",
       "      <td>0000003ex</td>\n",
       "      <td>InChI=1S/C20H26N2O5/c1-9-14-11-7-13-19(8-21-3)...</td>\n",
       "    </tr>\n",
       "    <tr>\n",
       "      <th>4</th>\n",
       "      <td>0000004ex</td>\n",
       "      <td>InChI=1S/C14H12BrN/c15-8-3-1-7(2-4-8)12-9-5-10...</td>\n",
       "    </tr>\n",
       "    <tr>\n",
       "      <th>...</th>\n",
       "      <td>...</td>\n",
       "      <td>...</td>\n",
       "    </tr>\n",
       "    <tr>\n",
       "      <th>9998706</th>\n",
       "      <td>9998706ex</td>\n",
       "      <td>InChI=1S/C21H25NO4S/c1-15-14-18(27(2,24)25)12-...</td>\n",
       "    </tr>\n",
       "    <tr>\n",
       "      <th>9998707</th>\n",
       "      <td>9998707ex</td>\n",
       "      <td>InChI=1S/C39H42N4O5/c1-5-6-18-40-38(44)27-16-1...</td>\n",
       "    </tr>\n",
       "    <tr>\n",
       "      <th>9998708</th>\n",
       "      <td>9998708ex</td>\n",
       "      <td>InChI=1S/C19H23ClN2O4S/c1-4-5-6-7-8-26-17-14(2...</td>\n",
       "    </tr>\n",
       "    <tr>\n",
       "      <th>9998709</th>\n",
       "      <td>9998709ex</td>\n",
       "      <td>InChI=1S/C20H24N2OS/c1-15-8-9-17(24-15)14-22-1...</td>\n",
       "    </tr>\n",
       "    <tr>\n",
       "      <th>9998710</th>\n",
       "      <td>9998710ex</td>\n",
       "      <td>InChI=1S/C17H25N5OS/c1-13-20-16(23-21-13)6-5-1...</td>\n",
       "    </tr>\n",
       "  </tbody>\n",
       "</table>\n",
       "<p>9998711 rows × 2 columns</p>\n",
       "</div>"
      ],
      "text/plain": [
       "          image_id                                              InChI\n",
       "0        0000000ex  InChI=1S/C13H10Cl4O4/c1-20-13(21-2)11(16)5-6-8...\n",
       "1        0000001ex  InChI=1S/C23H32O6Si/c1-20(2)25-15-19(27-20)22(...\n",
       "2        0000002ex  InChI=1S/C24H16N4O3/c29-21-19-20(14-8-2-1-3-9-...\n",
       "3        0000003ex  InChI=1S/C20H26N2O5/c1-9-14-11-7-13-19(8-21-3)...\n",
       "4        0000004ex  InChI=1S/C14H12BrN/c15-8-3-1-7(2-4-8)12-9-5-10...\n",
       "...            ...                                                ...\n",
       "9998706  9998706ex  InChI=1S/C21H25NO4S/c1-15-14-18(27(2,24)25)12-...\n",
       "9998707  9998707ex  InChI=1S/C39H42N4O5/c1-5-6-18-40-38(44)27-16-1...\n",
       "9998708  9998708ex  InChI=1S/C19H23ClN2O4S/c1-4-5-6-7-8-26-17-14(2...\n",
       "9998709  9998709ex  InChI=1S/C20H24N2OS/c1-15-8-9-17(24-15)14-22-1...\n",
       "9998710  9998710ex  InChI=1S/C17H25N5OS/c1-13-20-16(23-21-13)6-5-1...\n",
       "\n",
       "[9998711 rows x 2 columns]"
      ]
     },
     "execution_count": 14,
     "metadata": {},
     "output_type": "execute_result"
    }
   ],
   "source": [
    "extra_df[\"image_id\"] = extra_df.index\n",
    "extra_df[\"image_id\"] = extra_df[\"image_id\"].apply(lambda x: f\"{x:07}ex\")\n",
    "extra_df = extra_df[[\"image_id\", \"InChI\"]]\n",
    "extra_df"
   ]
  },
  {
   "cell_type": "code",
   "execution_count": 16,
   "id": "c9ef174d-58ad-4b15-a127-a75c2d7fec85",
   "metadata": {},
   "outputs": [],
   "source": [
    "OUTDIR.mkdir(parents=True, exist_ok=True)\n",
    "extra_df.to_csv(OUTDIR / \"extra_approved_InChIs.csv\")"
   ]
  },
  {
   "cell_type": "code",
   "execution_count": null,
   "id": "b685a51c-916a-42ea-a386-b73af24db9c4",
   "metadata": {},
   "outputs": [],
   "source": []
  }
 ],
 "metadata": {
  "kernelspec": {
   "display_name": "Python 3",
   "language": "python",
   "name": "python3"
  },
  "language_info": {
   "codemirror_mode": {
    "name": "ipython",
    "version": 3
   },
   "file_extension": ".py",
   "mimetype": "text/x-python",
   "name": "python",
   "nbconvert_exporter": "python",
   "pygments_lexer": "ipython3",
   "version": "3.8.5"
  }
 },
 "nbformat": 4,
 "nbformat_minor": 5
}
