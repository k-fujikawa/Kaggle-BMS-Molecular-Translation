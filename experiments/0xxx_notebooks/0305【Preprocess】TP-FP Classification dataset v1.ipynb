{
 "cells": [
  {
   "cell_type": "markdown",
   "id": "labeled-airport",
   "metadata": {},
   "source": [
    "# TP/FP Classification dataset"
   ]
  },
  {
   "cell_type": "code",
   "execution_count": 1,
   "id": "behind-departure",
   "metadata": {},
   "outputs": [
    {
     "name": "stderr",
     "output_type": "stream",
     "text": [
      "/opt/miniconda/lib/python3.8/site-packages/tqdm/std.py:703: FutureWarning: The Panel class is removed from pandas. Accessing it from the top-level namespace will also be removed in the next version\n",
      "  from pandas import Panel\n"
     ]
    }
   ],
   "source": [
    "import re\n",
    "import shutil\n",
    "import multiprocessing as mp\n",
    "\n",
    "import cv2\n",
    "import pandas as pd\n",
    "import tokenizers\n",
    "import Levenshtein\n",
    "from dataclasses import dataclass\n",
    "from pathlib import Path\n",
    "from rdkit import Chem\n",
    "from tqdm.auto import tqdm\n",
    "\n",
    "tqdm.pandas()"
   ]
  },
  {
   "cell_type": "code",
   "execution_count": 2,
   "id": "coordinate-wildlife",
   "metadata": {},
   "outputs": [],
   "source": [
    "%load_ext autoreload\n",
    "%autoreload 2\n",
    "from nncomp_molecule import constants"
   ]
  },
  {
   "cell_type": "markdown",
   "id": "matched-humanity",
   "metadata": {},
   "source": [
    "## Config"
   ]
  },
  {
   "cell_type": "code",
   "execution_count": 3,
   "id": "banner-midwest",
   "metadata": {},
   "outputs": [
    {
     "name": "stdout",
     "output_type": "stream",
     "text": [
      "/work/input/kfujikawa/bms-preprocess-tpfp-v1/train.pkl: True\n",
      "/work/input/kfujikawa/bms-preprocess-tpfp-v1/test.pkl: True\n"
     ]
    }
   ],
   "source": [
    "NOTEBOOK_ID = \"bms-preprocess-tpfp-v1\"\n",
    "KFOLD_PATH = constants.INPUTDIR / \"kfujikawa\" / \"bms-kfold\" / \"10fold.csv\"\n",
    "OUTDIR = constants.INPUTDIR / \"kfujikawa\" / NOTEBOOK_ID\n",
    "OUTDIR.mkdir(parents=True, exist_ok=True)\n",
    "print(f\"{OUTDIR / 'train.pkl'}: {(OUTDIR / 'train.pkl').exists()}\")\n",
    "print(f\"{OUTDIR / 'test.pkl'}: {(OUTDIR / 'test.pkl').exists()}\")"
   ]
  },
  {
   "cell_type": "markdown",
   "id": "incomplete-throat",
   "metadata": {
    "tags": []
   },
   "source": [
    "## Preprocess datasets"
   ]
  },
  {
   "cell_type": "code",
   "execution_count": 4,
   "id": "coordinate-saskatchewan",
   "metadata": {},
   "outputs": [
    {
     "data": {
      "application/vnd.jupyter.widget-view+json": {
       "model_id": "3cbbc95a1ae74cf89d30386ac9ba343d",
       "version_major": 2,
       "version_minor": 0
      },
      "text/plain": [
       "HBox(children=(HTML(value=''), FloatProgress(value=0.0, max=9563602.0), HTML(value='')))"
      ]
     },
     "metadata": {},
     "output_type": "display_data"
    },
    {
     "name": "stdout",
     "output_type": "stream",
     "text": [
      "\n"
     ]
    },
    {
     "data": {
      "application/vnd.jupyter.widget-view+json": {
       "model_id": "117cec3b01074e2bad8f021c226444b7",
       "version_major": 2,
       "version_minor": 0
      },
      "text/plain": [
       "HBox(children=(HTML(value=''), FloatProgress(value=0.0, max=9563602.0), HTML(value='')))"
      ]
     },
     "metadata": {},
     "output_type": "display_data"
    },
    {
     "name": "stdout",
     "output_type": "stream",
     "text": [
      "\n"
     ]
    },
    {
     "data": {
      "application/vnd.jupyter.widget-view+json": {
       "model_id": "a6c4944b921e45ddbb7e85013d5ab0ac",
       "version_major": 2,
       "version_minor": 0
      },
      "text/plain": [
       "HBox(children=(HTML(value=''), FloatProgress(value=0.0, max=9563602.0), HTML(value='')))"
      ]
     },
     "metadata": {},
     "output_type": "display_data"
    },
    {
     "name": "stdout",
     "output_type": "stream",
     "text": [
      "\n",
      "CPU times: user 5min 25s, sys: 9.03 s, total: 5min 34s\n",
      "Wall time: 5min 31s\n"
     ]
    },
    {
     "data": {
      "text/html": [
       "<div>\n",
       "<style scoped>\n",
       "    .dataframe tbody tr th:only-of-type {\n",
       "        vertical-align: middle;\n",
       "    }\n",
       "\n",
       "    .dataframe tbody tr th {\n",
       "        vertical-align: top;\n",
       "    }\n",
       "\n",
       "    .dataframe thead th {\n",
       "        text-align: right;\n",
       "    }\n",
       "</style>\n",
       "<table border=\"1\" class=\"dataframe\">\n",
       "  <thead>\n",
       "    <tr style=\"text-align: right;\">\n",
       "      <th></th>\n",
       "      <th>image_id</th>\n",
       "      <th>InChI_GT</th>\n",
       "      <th>is_valid</th>\n",
       "      <th>InChI</th>\n",
       "      <th>is_HN</th>\n",
       "      <th>...</th>\n",
       "      <th>is_GT</th>\n",
       "      <th>exact_match</th>\n",
       "      <th>image_path</th>\n",
       "      <th>InChI_length</th>\n",
       "      <th>levenshtein_rate</th>\n",
       "    </tr>\n",
       "  </thead>\n",
       "  <tbody>\n",
       "    <tr>\n",
       "      <th>0</th>\n",
       "      <td>000011a64c74</td>\n",
       "      <td>InChI=1S/C13H20OS/c1-9(2)8-15-13-6-5-10(3)7-12...</td>\n",
       "      <td>True</td>\n",
       "      <td>InChI=1S/C13H20OS/c1-9(2)8-15-13-6-5-10(3)7-12...</td>\n",
       "      <td>False</td>\n",
       "      <td>...</td>\n",
       "      <td>True</td>\n",
       "      <td>TP</td>\n",
       "      <td>/work/input/bms-molecular-translation/train/0/...</td>\n",
       "      <td>81</td>\n",
       "      <td>0.000000</td>\n",
       "    </tr>\n",
       "    <tr>\n",
       "      <th>1</th>\n",
       "      <td>000011a64c74</td>\n",
       "      <td>InChI=1S/C13H20OS/c1-9(2)8-15-13-6-5-10(3)7-12...</td>\n",
       "      <td>True</td>\n",
       "      <td>InChI=1S/C13H20OSi/c1-9(2)8-15-13-6-5-10(3)7-1...</td>\n",
       "      <td>False</td>\n",
       "      <td>...</td>\n",
       "      <td>False</td>\n",
       "      <td>TN</td>\n",
       "      <td>/work/input/bms-molecular-translation/train/0/...</td>\n",
       "      <td>82</td>\n",
       "      <td>0.012195</td>\n",
       "    </tr>\n",
       "    <tr>\n",
       "      <th>2</th>\n",
       "      <td>000011a64c74</td>\n",
       "      <td>InChI=1S/C13H20OS/c1-9(2)8-15-13-6-5-10(3)7-12...</td>\n",
       "      <td>False</td>\n",
       "      <td>InChI=1S/C13H20OS/c1-9(2)8-15-13-6-5-10(3)7-12...</td>\n",
       "      <td>False</td>\n",
       "      <td>...</td>\n",
       "      <td>False</td>\n",
       "      <td>TN</td>\n",
       "      <td>/work/input/bms-molecular-translation/train/0/...</td>\n",
       "      <td>82</td>\n",
       "      <td>0.012195</td>\n",
       "    </tr>\n",
       "    <tr>\n",
       "      <th>3</th>\n",
       "      <td>000011a64c74</td>\n",
       "      <td>InChI=1S/C13H20OS/c1-9(2)8-15-13-6-5-10(3)7-12...</td>\n",
       "      <td>False</td>\n",
       "      <td>InChI=1S/C14H22OS/c1-9(2)10(3)16-14-7-6-11(4)8...</td>\n",
       "      <td>False</td>\n",
       "      <td>...</td>\n",
       "      <td>False</td>\n",
       "      <td>TN</td>\n",
       "      <td>/work/input/bms-molecular-translation/train/0/...</td>\n",
       "      <td>79</td>\n",
       "      <td>0.379747</td>\n",
       "    </tr>\n",
       "    <tr>\n",
       "      <th>4</th>\n",
       "      <td>000019cc0cd2</td>\n",
       "      <td>InChI=1S/C21H30O4/c1-12(22)25-14-6-8-20(2)13(1...</td>\n",
       "      <td>True</td>\n",
       "      <td>InChI=1S/C21H30O4/c1-12(22)25-14-6-8-20(2)13(1...</td>\n",
       "      <td>True</td>\n",
       "      <td>...</td>\n",
       "      <td>True</td>\n",
       "      <td>FN</td>\n",
       "      <td>/work/input/bms-molecular-translation/train/0/...</td>\n",
       "      <td>155</td>\n",
       "      <td>0.000000</td>\n",
       "    </tr>\n",
       "  </tbody>\n",
       "</table>\n",
       "<p>5 rows × 11 columns</p>\n",
       "</div>"
      ],
      "text/plain": [
       "       image_id                                           InChI_GT  is_valid  \\\n",
       "0  000011a64c74  InChI=1S/C13H20OS/c1-9(2)8-15-13-6-5-10(3)7-12...      True   \n",
       "1  000011a64c74  InChI=1S/C13H20OS/c1-9(2)8-15-13-6-5-10(3)7-12...      True   \n",
       "2  000011a64c74  InChI=1S/C13H20OS/c1-9(2)8-15-13-6-5-10(3)7-12...     False   \n",
       "3  000011a64c74  InChI=1S/C13H20OS/c1-9(2)8-15-13-6-5-10(3)7-12...     False   \n",
       "4  000019cc0cd2  InChI=1S/C21H30O4/c1-12(22)25-14-6-8-20(2)13(1...      True   \n",
       "\n",
       "                                               InChI  is_HN  ...  is_GT  \\\n",
       "0  InChI=1S/C13H20OS/c1-9(2)8-15-13-6-5-10(3)7-12...  False  ...   True   \n",
       "1  InChI=1S/C13H20OSi/c1-9(2)8-15-13-6-5-10(3)7-1...  False  ...  False   \n",
       "2  InChI=1S/C13H20OS/c1-9(2)8-15-13-6-5-10(3)7-12...  False  ...  False   \n",
       "3  InChI=1S/C14H22OS/c1-9(2)10(3)16-14-7-6-11(4)8...  False  ...  False   \n",
       "4  InChI=1S/C21H30O4/c1-12(22)25-14-6-8-20(2)13(1...   True  ...   True   \n",
       "\n",
       "   exact_match                                         image_path  \\\n",
       "0           TP  /work/input/bms-molecular-translation/train/0/...   \n",
       "1           TN  /work/input/bms-molecular-translation/train/0/...   \n",
       "2           TN  /work/input/bms-molecular-translation/train/0/...   \n",
       "3           TN  /work/input/bms-molecular-translation/train/0/...   \n",
       "4           FN  /work/input/bms-molecular-translation/train/0/...   \n",
       "\n",
       "  InChI_length  levenshtein_rate  \n",
       "0           81          0.000000  \n",
       "1           82          0.012195  \n",
       "2           82          0.012195  \n",
       "3           79          0.379747  \n",
       "4          155          0.000000  \n",
       "\n",
       "[5 rows x 11 columns]"
      ]
     },
     "execution_count": 4,
     "metadata": {},
     "output_type": "execute_result"
    }
   ],
   "source": [
    "%%time\n",
    "def assign_exact_match(is_gt, is_hn):\n",
    "    if is_hn:\n",
    "        if is_gt:\n",
    "            return \"FN\"\n",
    "        else:\n",
    "            return \"FP\"\n",
    "    else:\n",
    "        if is_gt:\n",
    "            return \"TP\"\n",
    "        else:\n",
    "            return \"TN\"\n",
    "\n",
    "COLUMNS = [\"image_id\", \"normed_InChI\", \"InChI_GT\", \"is_valid\"]\n",
    "\n",
    "# データ読み込み\n",
    "df = pd.concat([\n",
    "    pd.read_csv(constants.OUTPUTDIR / \"1102_vtnt_bert_224-448_denoise-5/train_beam=4.csv\", usecols=COLUMNS),\n",
    "    pd.read_csv(constants.OUTPUTDIR / \"1102_vtnt_bert_224-448_denoise-5/valid_beam=4.csv\", usecols=COLUMNS),\n",
    "], ignore_index=True)\n",
    "df[\"InChI\"] = df.pop(\"normed_InChI\")\n",
    "\n",
    "# 完全一致で生成できたかどうか (Hard Negative) のアサイン\n",
    "is_HN = df.groupby(\"image_id\").first().eval(\"InChI != InChI_GT\")\n",
    "df[\"is_HN\"] = df.image_id.map(is_HN)\n",
    "\n",
    "# GTのレコード追加\n",
    "gt_df = df.assign(InChI=df.InChI_GT, is_valid=True)\n",
    "df = pd.concat([gt_df, df], ignore_index=True).drop_duplicates()\n",
    "\n",
    "# Levenshtein計算\n",
    "df[\"levenshtein\"] = [\n",
    "    Levenshtein.distance(x, y)\n",
    "    for x, y in tqdm(df[[\"InChI\", \"InChI_GT\"]].values)\n",
    "]\n",
    "\n",
    "# 正解と完全一致したレコードかどうかのアサイン\n",
    "df[\"is_GT\"] = df.levenshtein == 0\n",
    "\n",
    "# TP/FP/FN/TNのアサイン\n",
    "df[\"exact_match\"] = [\n",
    "    assign_exact_match(is_gt, is_hn)\n",
    "    for is_gt, is_hn in tqdm(df[[\"is_GT\", \"is_HN\"]].values)\n",
    "]\n",
    "\n",
    "df = df.sort_values([\"image_id\", \"levenshtein\"]).reset_index(drop=True)\n",
    "df[\"image_path\"] = df.image_id.progress_apply(\n",
    "    lambda x: str(constants.COMPETITION_DATADIR / f\"train/{x[0]}/{x[1]}/{x[2]}/{x}.png\")\n",
    ")\n",
    "df[\"InChI_length\"] = df.InChI.apply(len)\n",
    "df[\"levenshtein_rate\"] = (df.levenshtein / df.InChI_length).apply(lambda x: min(x, 1))\n",
    "df.head()"
   ]
  },
  {
   "cell_type": "code",
   "execution_count": 5,
   "id": "3ab4ff14-251c-477d-a804-c03cfb4e6708",
   "metadata": {},
   "outputs": [
    {
     "data": {
      "text/plain": [
       "TN    6186594\n",
       "TP    2126612\n",
       "FP     952822\n",
       "FN     297574\n",
       "Name: exact_match, dtype: int64"
      ]
     },
     "execution_count": 5,
     "metadata": {},
     "output_type": "execute_result"
    }
   ],
   "source": [
    "df.exact_match.value_counts()"
   ]
  },
  {
   "cell_type": "markdown",
   "id": "d67d4ac0-2b03-4915-bf45-767be84b4f88",
   "metadata": {},
   "source": [
    "## Load KFold"
   ]
  },
  {
   "cell_type": "code",
   "execution_count": 6,
   "id": "egyptian-smooth",
   "metadata": {},
   "outputs": [
    {
     "data": {
      "text/plain": [
       "0          000011a64c74\n",
       "2          0000252b6d2b\n",
       "4          000026fc6c36\n",
       "6          000029a61c01\n",
       "12         000061d37e54\n",
       "               ...     \n",
       "2424159    ffff58ad694c\n",
       "2424165    ffff8397e15e\n",
       "2424172    ffffac645f33\n",
       "2424174    ffffb8682cf9\n",
       "2424181    ffffe824f539\n",
       "Name: image_id, Length: 727257, dtype: object"
      ]
     },
     "execution_count": 6,
     "metadata": {},
     "output_type": "execute_result"
    }
   ],
   "source": [
    "kfold_df = pd.read_csv(KFOLD_PATH)\n",
    "benchmark_ids = kfold_df.query(\"fold.isin([0,1,2])\").image_id\n",
    "benchmark_ids"
   ]
  },
  {
   "cell_type": "markdown",
   "id": "5f1223e6-6ba9-4758-b156-02d88477c4a1",
   "metadata": {},
   "source": [
    "## Save datasets"
   ]
  },
  {
   "cell_type": "code",
   "execution_count": 7,
   "id": "romance-testing",
   "metadata": {},
   "outputs": [
    {
     "data": {
      "text/plain": [
       "[PosixPath('/work/input/kfujikawa/bms-preprocess-tpfp-v1/dataset-metadata.json'),\n",
       " PosixPath('/work/input/kfujikawa/bms-preprocess-tpfp-v1/train.debug.pkl'),\n",
       " PosixPath('/work/input/kfujikawa/bms-preprocess-tpfp-v1/test.bench.pkl'),\n",
       " PosixPath('/work/input/kfujikawa/bms-preprocess-tpfp-v1/train.bench.pkl'),\n",
       " PosixPath('/work/input/kfujikawa/bms-preprocess-tpfp-v1/test.debug.pkl'),\n",
       " PosixPath('/work/input/kfujikawa/bms-preprocess-tpfp-v1/train.pkl'),\n",
       " PosixPath('/work/input/kfujikawa/bms-preprocess-tpfp-v1/test.pkl')]"
      ]
     },
     "execution_count": 7,
     "metadata": {},
     "output_type": "execute_result"
    }
   ],
   "source": [
    "OUTDIR.mkdir(parents=True, exist_ok=True)\n",
    "df.head(1000).to_pickle(OUTDIR / \"train.debug.pkl\")\n",
    "df.query(\"image_id.isin(@benchmark_ids)\").reset_index(drop=True).to_pickle(OUTDIR / \"train.bench.pkl\")\n",
    "df.to_pickle(OUTDIR / \"train.pkl\")\n",
    "list(OUTDIR.iterdir())"
   ]
  },
  {
   "cell_type": "code",
   "execution_count": 8,
   "id": "ad23475b-a0a1-4535-8cb7-ad48b8981b96",
   "metadata": {},
   "outputs": [
    {
     "data": {
      "application/vnd.jupyter.widget-view+json": {
       "model_id": "e2b71d32bc9549c6b4654587ef032119",
       "version_major": 2,
       "version_minor": 0
      },
      "text/plain": [
       "HBox(children=(HTML(value=''), FloatProgress(value=0.0, max=3.0), HTML(value='')))"
      ]
     },
     "metadata": {},
     "output_type": "display_data"
    },
    {
     "name": "stdout",
     "output_type": "stream",
     "text": [
      "\n"
     ]
    },
    {
     "data": {
      "text/plain": [
       "[PosixPath('/work/input/kfujikawa/bms-preprocess-tpfp-v1/dataset-metadata.json'),\n",
       " PosixPath('/work/input/kfujikawa/bms-preprocess-tpfp-v1/train.debug.pkl'),\n",
       " PosixPath('/work/input/kfujikawa/bms-preprocess-tpfp-v1/test.bench.pkl'),\n",
       " PosixPath('/work/input/kfujikawa/bms-preprocess-tpfp-v1/train.bench.pkl'),\n",
       " PosixPath('/work/input/kfujikawa/bms-preprocess-tpfp-v1/test.debug.pkl'),\n",
       " PosixPath('/work/input/kfujikawa/bms-preprocess-tpfp-v1/train.pkl'),\n",
       " PosixPath('/work/input/kfujikawa/bms-preprocess-tpfp-v1/test.pkl')]"
      ]
     },
     "execution_count": 8,
     "metadata": {},
     "output_type": "execute_result"
    }
   ],
   "source": [
    "PREPROCESS_DIR = constants.INPUTDIR / \"kfujikawa/bms-preprocess-v2\"\n",
    "for filename in tqdm([\"test.debug.pkl\", \"test.bench.pkl\", \"test.pkl\"]):\n",
    "    shutil.copy(str(PREPROCESS_DIR / filename), str(OUTDIR / filename))\n",
    "list(OUTDIR.iterdir())"
   ]
  },
  {
   "cell_type": "code",
   "execution_count": null,
   "id": "6038bdc5-d3e8-4e7f-8e23-a51fd425b9a6",
   "metadata": {},
   "outputs": [],
   "source": []
  }
 ],
 "metadata": {
  "kernelspec": {
   "display_name": "Python 3",
   "language": "python",
   "name": "python3"
  },
  "language_info": {
   "codemirror_mode": {
    "name": "ipython",
    "version": 3
   },
   "file_extension": ".py",
   "mimetype": "text/x-python",
   "name": "python",
   "nbconvert_exporter": "python",
   "pygments_lexer": "ipython3",
   "version": "3.8.5"
  }
 },
 "nbformat": 4,
 "nbformat_minor": 5
}
