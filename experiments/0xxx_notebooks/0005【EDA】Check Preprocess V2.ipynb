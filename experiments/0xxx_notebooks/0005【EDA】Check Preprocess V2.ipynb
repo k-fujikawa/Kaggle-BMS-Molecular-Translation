{
 "cells": [
  {
   "cell_type": "code",
   "execution_count": 13,
   "id": "86ef600b-55e2-44d9-b184-56f3d2ffa207",
   "metadata": {},
   "outputs": [],
   "source": [
    "from pathlib import Path\n",
    "\n",
    "import albumentations as A\n",
    "import numpy as np\n",
    "import cv2\n",
    "import ipywidgets\n",
    "import matplotlib.pyplot as plt\n",
    "import seaborn as sns\n",
    "import pandas as pd\n",
    "import plotly.express as px\n",
    "from tqdm.auto import tqdm\n",
    "tqdm.pandas()"
   ]
  },
  {
   "cell_type": "code",
   "execution_count": 2,
   "id": "4ec61230-8690-4df5-b4f1-0d93c568fdc6",
   "metadata": {},
   "outputs": [],
   "source": [
    "%load_ext autoreload\n",
    "%autoreload 2\n",
    "from nncomp_molecule import constants"
   ]
  },
  {
   "cell_type": "code",
   "execution_count": 3,
   "id": "5ed9afa5-2dcd-4ef8-93c1-803080ac72f4",
   "metadata": {},
   "outputs": [],
   "source": [
    "PREPROCESSED_DIR = constants.INPUTDIR / \"kfujikawa\" / \"bms-preprocess-v2\""
   ]
  },
  {
   "cell_type": "code",
   "execution_count": 4,
   "id": "9c829c34-caaa-42db-a2ce-e8928422359e",
   "metadata": {},
   "outputs": [],
   "source": [
    "train_df = pd.read_pickle(PREPROCESSED_DIR / \"train.pkl\").assign(train=True)\n",
    "test_df = pd.read_pickle(PREPROCESSED_DIR / \"test.pkl\").assign(train=False)\n",
    "merged_df = pd.concat([train_df, test_df], ignore_index=True)"
   ]
  },
  {
   "cell_type": "code",
   "execution_count": 5,
   "id": "5589cf71-f59b-4b46-a386-f0bd40258b11",
   "metadata": {},
   "outputs": [
    {
     "data": {
      "image/png": "[encoded data removed]",
      "text/plain": [
       "<Figure size 720x720 with 4 Axes>"
      ]
     },
     "metadata": {
      "needs_background": "light"
     },
     "output_type": "display_data"
    }
   ],
   "source": [
    "%matplotlib inline\n",
    "fig, axes = plt.subplots(2,2, figsize=(10, 10))\n",
    "\n",
    "for i, x in enumerate([\"w\", \"h\", \"w/h\", \"w*h\"]):\n",
    "    ax = axes[i // 2][i % 2]\n",
    "    sns.histplot(merged_df, ax=ax, x=x, hue=\"train\", bins=20)"
   ]
  },
  {
   "cell_type": "code",
   "execution_count": 6,
   "id": "95c1ac03-9929-46d2-a337-13b98c169341",
   "metadata": {},
   "outputs": [
    {
     "data": {
      "text/html": [
       "<div>\n",
       "<style scoped>\n",
       "    .dataframe tbody tr th:only-of-type {\n",
       "        vertical-align: middle;\n",
       "    }\n",
       "\n",
       "    .dataframe tbody tr th {\n",
       "        vertical-align: top;\n",
       "    }\n",
       "\n",
       "    .dataframe thead tr th {\n",
       "        text-align: left;\n",
       "    }\n",
       "\n",
       "    .dataframe thead tr:last-of-type th {\n",
       "        text-align: right;\n",
       "    }\n",
       "</style>\n",
       "<table border=\"1\" class=\"dataframe\">\n",
       "  <thead>\n",
       "    <tr>\n",
       "      <th></th>\n",
       "      <th colspan=\"4\" halign=\"left\">w</th>\n",
       "      <th colspan=\"4\" halign=\"left\">h</th>\n",
       "      <th colspan=\"4\" halign=\"left\">w/h</th>\n",
       "      <th colspan=\"4\" halign=\"left\">w*h</th>\n",
       "    </tr>\n",
       "    <tr>\n",
       "      <th></th>\n",
       "      <th>max</th>\n",
       "      <th>min</th>\n",
       "      <th>mean</th>\n",
       "      <th>median</th>\n",
       "      <th>max</th>\n",
       "      <th>min</th>\n",
       "      <th>mean</th>\n",
       "      <th>median</th>\n",
       "      <th>max</th>\n",
       "      <th>min</th>\n",
       "      <th>mean</th>\n",
       "      <th>median</th>\n",
       "      <th>max</th>\n",
       "      <th>min</th>\n",
       "      <th>mean</th>\n",
       "      <th>median</th>\n",
       "    </tr>\n",
       "    <tr>\n",
       "      <th>train</th>\n",
       "      <th></th>\n",
       "      <th></th>\n",
       "      <th></th>\n",
       "      <th></th>\n",
       "      <th></th>\n",
       "      <th></th>\n",
       "      <th></th>\n",
       "      <th></th>\n",
       "      <th></th>\n",
       "      <th></th>\n",
       "      <th></th>\n",
       "      <th></th>\n",
       "      <th></th>\n",
       "      <th></th>\n",
       "      <th></th>\n",
       "      <th></th>\n",
       "    </tr>\n",
       "  </thead>\n",
       "  <tbody>\n",
       "    <tr>\n",
       "      <th>False</th>\n",
       "      <td>3043</td>\n",
       "      <td>114</td>\n",
       "      <td>381.05</td>\n",
       "      <td>360</td>\n",
       "      <td>1578</td>\n",
       "      <td>68</td>\n",
       "      <td>219.79</td>\n",
       "      <td>211</td>\n",
       "      <td>27.92</td>\n",
       "      <td>1.00</td>\n",
       "      <td>1.78</td>\n",
       "      <td>1.71</td>\n",
       "      <td>2900364</td>\n",
       "      <td>11439</td>\n",
       "      <td>90328.11</td>\n",
       "      <td>76212</td>\n",
       "    </tr>\n",
       "    <tr>\n",
       "      <th>True</th>\n",
       "      <td>3078</td>\n",
       "      <td>117</td>\n",
       "      <td>380.96</td>\n",
       "      <td>360</td>\n",
       "      <td>1537</td>\n",
       "      <td>60</td>\n",
       "      <td>219.82</td>\n",
       "      <td>211</td>\n",
       "      <td>27.15</td>\n",
       "      <td>1.00</td>\n",
       "      <td>1.78</td>\n",
       "      <td>1.71</td>\n",
       "      <td>2648251</td>\n",
       "      <td>11466</td>\n",
       "      <td>90351.68</td>\n",
       "      <td>76162</td>\n",
       "    </tr>\n",
       "  </tbody>\n",
       "</table>\n",
       "</div>"
      ],
      "text/plain": [
       "          w                        h                     w/h                   \\\n",
       "        max  min   mean median   max min   mean median   max  min mean median   \n",
       "train                                                                           \n",
       "False  3043  114 381.05    360  1578  68 219.79    211 27.92 1.00 1.78   1.71   \n",
       "True   3078  117 380.96    360  1537  60 219.82    211 27.15 1.00 1.78   1.71   \n",
       "\n",
       "           w*h                         \n",
       "           max    min     mean median  \n",
       "train                                  \n",
       "False  2900364  11439 90328.11  76212  \n",
       "True   2648251  11466 90351.68  76162  "
      ]
     },
     "metadata": {},
     "output_type": "display_data"
    }
   ],
   "source": [
    "with pd.option_context(\"display.float_format\", '{:.2f}'.format, \"display.max_columns\", None):\n",
    "    display(merged_df[[\"w\", \"h\", \"w/h\", \"w*h\", \"train\"]].groupby(\"train\").agg([\"max\", \"min\", \"mean\", \"median\"]))"
   ]
  },
  {
   "cell_type": "code",
   "execution_count": 29,
   "id": "3383f6c0-9c3e-455b-afe7-7ba0e45ef16c",
   "metadata": {},
   "outputs": [
    {
     "data": {
      "application/vnd.jupyter.widget-view+json": {
       "model_id": "b62f8661873c4bf1b3b6bdef29344dd7",
       "version_major": 2,
       "version_minor": 0
      },
      "text/plain": [
       "HBox(children=(HTML(value=''), FloatProgress(value=0.0, max=4040293.0), HTML(value='')))"
      ]
     },
     "metadata": {},
     "output_type": "display_data"
    },
    {
     "name": "stdout",
     "output_type": "stream",
     "text": [
      "\n"
     ]
    },
    {
     "data": {
      "text/plain": [
       "w    5410\n",
       "h    1024\n",
       "dtype: int64"
      ]
     },
     "execution_count": 29,
     "metadata": {},
     "output_type": "execute_result"
    }
   ],
   "source": [
    "target_area = 1024 ** 2\n",
    "\n",
    "def calc_wh(x):\n",
    "    w = int(np.sqrt(target_area / (x.h / x.w)))\n",
    "    h = int(np.sqrt(target_area / (x.w / x.h)))\n",
    "    return dict(w=w, h=h)\n",
    "\n",
    "wh_df = merged_df.progress_apply(calc_wh, axis=1, result_type=\"expand\")\n",
    "wh_df.max()"
   ]
  },
  {
   "cell_type": "code",
   "execution_count": 28,
   "id": "642dcedc-54cb-45a7-bbfa-b4b8cef0d907",
   "metadata": {},
   "outputs": [
    {
     "data": {
      "text/plain": [
       "w    2720.0\n",
       "h     512.0\n",
       "dtype: float64"
      ]
     },
     "execution_count": 28,
     "metadata": {},
     "output_type": "execute_result"
    }
   ],
   "source": [
    "np.ceil(wh_df.max() / 16) * 16"
   ]
  },
  {
   "cell_type": "code",
   "execution_count": null,
   "id": "08c628d5-12f7-4a32-a7a9-d9ed529912b5",
   "metadata": {},
   "outputs": [],
   "source": []
  }
 ],
 "metadata": {
  "kernelspec": {
   "display_name": "Python 3",
   "language": "python",
   "name": "python3"
  },
  "language_info": {
   "codemirror_mode": {
    "name": "ipython",
    "version": 3
   },
   "file_extension": ".py",
   "mimetype": "text/x-python",
   "name": "python",
   "nbconvert_exporter": "python",
   "pygments_lexer": "ipython3",
   "version": "3.8.5"
  }
 },
 "nbformat": 4,
 "nbformat_minor": 5
}
