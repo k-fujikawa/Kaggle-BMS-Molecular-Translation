{
 "cells": [
  {
   "cell_type": "code",
   "execution_count": 1,
   "id": "060fdc4d-c588-4ff5-9a1a-24f281164171",
   "metadata": {},
   "outputs": [
    {
     "name": "stderr",
     "output_type": "stream",
     "text": [
      "/opt/miniconda/lib/python3.8/site-packages/tqdm/std.py:703: FutureWarning: The Panel class is removed from pandas. Accessing it from the top-level namespace will also be removed in the next version\n",
      "  from pandas import Panel\n"
     ]
    }
   ],
   "source": [
    "import cv2\n",
    "import Levenshtein\n",
    "import optuna\n",
    "import numpy as np\n",
    "import pandas as pd\n",
    "import plotly.express as px\n",
    "import sklearn.metrics\n",
    "import ipywidgets\n",
    "import matplotlib.pyplot as plt\n",
    "import multiprocessing as mp\n",
    "from tqdm.auto import tqdm\n",
    "tqdm.pandas()"
   ]
  },
  {
   "cell_type": "code",
   "execution_count": 2,
   "id": "96273d07-39d9-4b74-a4b6-540fac880da4",
   "metadata": {},
   "outputs": [],
   "source": [
    "%load_ext autoreload\n",
    "%autoreload 2\n",
    "from nncomp_molecule import constants"
   ]
  },
  {
   "cell_type": "code",
   "execution_count": 3,
   "id": "51768dcc-2bed-4f06-bdbc-7887c73c54a1",
   "metadata": {},
   "outputs": [
    {
     "data": {
      "text/html": [
       "<div>\n",
       "<style scoped>\n",
       "    .dataframe tbody tr th:only-of-type {\n",
       "        vertical-align: middle;\n",
       "    }\n",
       "\n",
       "    .dataframe tbody tr th {\n",
       "        vertical-align: top;\n",
       "    }\n",
       "\n",
       "    .dataframe thead th {\n",
       "        text-align: right;\n",
       "    }\n",
       "</style>\n",
       "<table border=\"1\" class=\"dataframe\">\n",
       "  <thead>\n",
       "    <tr style=\"text-align: right;\">\n",
       "      <th></th>\n",
       "      <th>InChI</th>\n",
       "      <th>image_path</th>\n",
       "      <th>InChI_length</th>\n",
       "      <th>w</th>\n",
       "      <th>h</th>\n",
       "      <th>w/h</th>\n",
       "      <th>w*h</th>\n",
       "      <th>is_flipped</th>\n",
       "    </tr>\n",
       "    <tr>\n",
       "      <th>image_id</th>\n",
       "      <th></th>\n",
       "      <th></th>\n",
       "      <th></th>\n",
       "      <th></th>\n",
       "      <th></th>\n",
       "      <th></th>\n",
       "      <th></th>\n",
       "      <th></th>\n",
       "    </tr>\n",
       "  </thead>\n",
       "  <tbody>\n",
       "    <tr>\n",
       "      <th>4435736fd10b</th>\n",
       "      <td>InChI=1S/C65H110O6/c1-4-7-10-13-16-19-22-25-28...</td>\n",
       "      <td>/work/input/bms-molecular-translation/train/4/...</td>\n",
       "      <td>403</td>\n",
       "      <td>1472</td>\n",
       "      <td>788</td>\n",
       "      <td>1.868020</td>\n",
       "      <td>1159936</td>\n",
       "      <td>False</td>\n",
       "    </tr>\n",
       "    <tr>\n",
       "      <th>8c0e35ce3f1f</th>\n",
       "      <td>InChI=1S/C60H98O6/c1-4-7-10-13-16-19-22-25-27-...</td>\n",
       "      <td>/work/input/bms-molecular-translation/train/8/...</td>\n",
       "      <td>398</td>\n",
       "      <td>939</td>\n",
       "      <td>309</td>\n",
       "      <td>3.038835</td>\n",
       "      <td>290151</td>\n",
       "      <td>False</td>\n",
       "    </tr>\n",
       "    <tr>\n",
       "      <th>934593ad3cae</th>\n",
       "      <td>InChI=1S/C63H106O6/c1-4-7-10-13-16-19-22-25-27...</td>\n",
       "      <td>/work/input/bms-molecular-translation/train/9/...</td>\n",
       "      <td>397</td>\n",
       "      <td>826</td>\n",
       "      <td>661</td>\n",
       "      <td>1.249622</td>\n",
       "      <td>545986</td>\n",
       "      <td>False</td>\n",
       "    </tr>\n",
       "    <tr>\n",
       "      <th>c963808e309d</th>\n",
       "      <td>InChI=1S/C59H92O6/c1-4-7-10-13-16-19-22-25-28-...</td>\n",
       "      <td>/work/input/bms-molecular-translation/train/c/...</td>\n",
       "      <td>393</td>\n",
       "      <td>1268</td>\n",
       "      <td>883</td>\n",
       "      <td>1.436014</td>\n",
       "      <td>1119644</td>\n",
       "      <td>False</td>\n",
       "    </tr>\n",
       "    <tr>\n",
       "      <th>0aa425d5f5ac</th>\n",
       "      <td>InChI=1S/C62H106O6/c1-4-7-10-13-16-19-22-25-27...</td>\n",
       "      <td>/work/input/bms-molecular-translation/train/0/...</td>\n",
       "      <td>393</td>\n",
       "      <td>918</td>\n",
       "      <td>543</td>\n",
       "      <td>1.690608</td>\n",
       "      <td>498474</td>\n",
       "      <td>False</td>\n",
       "    </tr>\n",
       "  </tbody>\n",
       "</table>\n",
       "</div>"
      ],
      "text/plain": [
       "                                                          InChI  \\\n",
       "image_id                                                          \n",
       "4435736fd10b  InChI=1S/C65H110O6/c1-4-7-10-13-16-19-22-25-28...   \n",
       "8c0e35ce3f1f  InChI=1S/C60H98O6/c1-4-7-10-13-16-19-22-25-27-...   \n",
       "934593ad3cae  InChI=1S/C63H106O6/c1-4-7-10-13-16-19-22-25-27...   \n",
       "c963808e309d  InChI=1S/C59H92O6/c1-4-7-10-13-16-19-22-25-28-...   \n",
       "0aa425d5f5ac  InChI=1S/C62H106O6/c1-4-7-10-13-16-19-22-25-27...   \n",
       "\n",
       "                                                     image_path  InChI_length  \\\n",
       "image_id                                                                        \n",
       "4435736fd10b  /work/input/bms-molecular-translation/train/4/...           403   \n",
       "8c0e35ce3f1f  /work/input/bms-molecular-translation/train/8/...           398   \n",
       "934593ad3cae  /work/input/bms-molecular-translation/train/9/...           397   \n",
       "c963808e309d  /work/input/bms-molecular-translation/train/c/...           393   \n",
       "0aa425d5f5ac  /work/input/bms-molecular-translation/train/0/...           393   \n",
       "\n",
       "                 w    h       w/h      w*h  is_flipped  \n",
       "image_id                                                \n",
       "4435736fd10b  1472  788  1.868020  1159936       False  \n",
       "8c0e35ce3f1f   939  309  3.038835   290151       False  \n",
       "934593ad3cae   826  661  1.249622   545986       False  \n",
       "c963808e309d  1268  883  1.436014  1119644       False  \n",
       "0aa425d5f5ac   918  543  1.690608   498474       False  "
      ]
     },
     "execution_count": 3,
     "metadata": {},
     "output_type": "execute_result"
    }
   ],
   "source": [
    "train_df = pd.read_pickle(\"/work/input/kfujikawa/bms-preprocess-v2/train.pkl\").set_index(\"image_id\")\n",
    "train_df.head()"
   ]
  },
  {
   "cell_type": "code",
   "execution_count": 4,
   "id": "9af31ead-4004-4a6f-9859-c3ad1ad8a97d",
   "metadata": {},
   "outputs": [
    {
     "data": {
      "application/vnd.jupyter.widget-view+json": {
       "model_id": "f4eb5f34d2eb4ffeac83e3f4aa8ace6b",
       "version_major": 2,
       "version_minor": 0
      },
      "text/plain": [
       "HBox(children=(HTML(value=''), FloatProgress(value=0.0, max=10.0), HTML(value='')))"
      ]
     },
     "metadata": {},
     "output_type": "display_data"
    },
    {
     "name": "stdout",
     "output_type": "stream",
     "text": [
      "\n"
     ]
    },
    {
     "data": {
      "text/html": [
       "<div>\n",
       "<style scoped>\n",
       "    .dataframe tbody tr th:only-of-type {\n",
       "        vertical-align: middle;\n",
       "    }\n",
       "\n",
       "    .dataframe tbody tr th {\n",
       "        vertical-align: top;\n",
       "    }\n",
       "\n",
       "    .dataframe thead th {\n",
       "        text-align: right;\n",
       "    }\n",
       "</style>\n",
       "<table border=\"1\" class=\"dataframe\">\n",
       "  <thead>\n",
       "    <tr style=\"text-align: right;\">\n",
       "      <th></th>\n",
       "      <th>count</th>\n",
       "      <th>levenshtein</th>\n",
       "      <th>is_valid</th>\n",
       "      <th>normed_score</th>\n",
       "    </tr>\n",
       "    <tr>\n",
       "      <th>model</th>\n",
       "      <th></th>\n",
       "      <th></th>\n",
       "      <th></th>\n",
       "      <th></th>\n",
       "    </tr>\n",
       "  </thead>\n",
       "  <tbody>\n",
       "    <tr>\n",
       "      <th>1106_swin_bert_384</th>\n",
       "      <td>947763</td>\n",
       "      <td>9.939814</td>\n",
       "      <td>0.454798</td>\n",
       "      <td>0.090014</td>\n",
       "    </tr>\n",
       "    <tr>\n",
       "      <th>1109_vtnt_bert_512-1024-denoise-5</th>\n",
       "      <td>951360</td>\n",
       "      <td>15.925850</td>\n",
       "      <td>0.495948</td>\n",
       "      <td>0.086438</td>\n",
       "    </tr>\n",
       "    <tr>\n",
       "      <th>1113_swin_large_bert_384</th>\n",
       "      <td>3824177</td>\n",
       "      <td>12.774713</td>\n",
       "      <td>0.189188</td>\n",
       "      <td>0.140054</td>\n",
       "    </tr>\n",
       "    <tr>\n",
       "      <th>9006_1103+1106+1109</th>\n",
       "      <td>950940</td>\n",
       "      <td>17.048165</td>\n",
       "      <td>0.512284</td>\n",
       "      <td>0.091095</td>\n",
       "    </tr>\n",
       "    <tr>\n",
       "      <th>9007_1109+1113</th>\n",
       "      <td>949810</td>\n",
       "      <td>15.080523</td>\n",
       "      <td>0.493025</td>\n",
       "      <td>0.091854</td>\n",
       "    </tr>\n",
       "  </tbody>\n",
       "</table>\n",
       "</div>"
      ],
      "text/plain": [
       "                                     count  levenshtein  is_valid  \\\n",
       "model                                                               \n",
       "1106_swin_bert_384                  947763     9.939814  0.454798   \n",
       "1109_vtnt_bert_512-1024-denoise-5   951360    15.925850  0.495948   \n",
       "1113_swin_large_bert_384           3824177    12.774713  0.189188   \n",
       "9006_1103+1106+1109                 950940    17.048165  0.512284   \n",
       "9007_1109+1113                      949810    15.080523  0.493025   \n",
       "\n",
       "                                   normed_score  \n",
       "model                                            \n",
       "1106_swin_bert_384                     0.090014  \n",
       "1109_vtnt_bert_512-1024-denoise-5      0.086438  \n",
       "1113_swin_large_bert_384               0.140054  \n",
       "9006_1103+1106+1109                    0.091095  \n",
       "9007_1109+1113                         0.091854  "
      ]
     },
     "metadata": {},
     "output_type": "display_data"
    }
   ],
   "source": [
    "VALID_CSVs = [\n",
    "    constants.OUTPUTDIR / \"1113_swin_large_bert_384\" / \"valid_beam=1.csv\",\n",
    "    constants.OUTPUTDIR / \"1113_swin_large_bert_384\" / \"valid_beam=4.csv\",\n",
    "    constants.OUTPUTDIR / \"1113_swin_large_bert_384\" / \"valid_beam=16.csv\",\n",
    "#     constants.OUTPUTDIR / \"1113_swin_large_bert_384\" / \"candidate_0521_1113_swin_large_bert_384.csv\",\n",
    "    constants.OUTPUTDIR / \"1106_swin_bert_384\" / \"valid_beam=1.csv\",\n",
    "    constants.OUTPUTDIR / \"1106_swin_bert_384\" / \"valid_beam=4.csv\",\n",
    "#     constants.OUTPUTDIR / \"1106_swin_bert_384\" / \"candidate_0521_1106_swin_bert_384.csv\",\n",
    "    constants.OUTPUTDIR / \"1109_vtnt_bert_512-1024-denoise-5\" / \"valid_beam=1.csv\",\n",
    "    constants.OUTPUTDIR / \"1109_vtnt_bert_512-1024-denoise-5\" / \"valid_beam=4.csv\",\n",
    "    \n",
    "    constants.OUTPUTDIR / \"9006_1103+1106+1109\" / \"valid_beam=1.csv\",\n",
    "    constants.OUTPUTDIR / \"9006_1103+1106+1109\" / \"valid_beam=4.csv\",\n",
    "    constants.OUTPUTDIR / \"9007_1109+1113\" / \"valid_beam=4.csv\",\n",
    "#     constants.OUTPUTDIR / \"1109_vtnt_bert_512-1024-denoise-5\" / \"candidate_0521_1109_vtnt_bert_512-1024-denoise-5.csv\",\n",
    "#     constants.OUTPUTDIR / \"9004_1102+1105\" / \"valid_beam=1.csv\",\n",
    "#     constants.OUTPUTDIR / \"9005_1102+1105+1106\" / \"valid_beam=1.csv\",\n",
    "#     constants.OUTPUTDIR / \"9006_1103+1106+1109\" / \"valid_beam=1.csv\",\n",
    "#     constants.OUTPUTDIR / \"9006_1103+1106+1109\" / \"valid_beam=4.csv\",\n",
    "#     constants.OUTPUTDIR / \"v30\" / \"valid_pred.csv\",\n",
    "]\n",
    "COLUMNS = [\n",
    "    \"image_id\",\n",
    "    \"normed_InChI\",\n",
    "    \"is_valid\",\n",
    "    \"normed_score\",\n",
    "    \"InChI_GT\",\n",
    "    \"levenshtein\",\n",
    "]\n",
    "valid_df = pd.concat([\n",
    "    pd.read_csv(filename, usecols=COLUMNS).assign(model=filename.parent.name)\n",
    "    for filename in tqdm(VALID_CSVs)\n",
    "], ignore_index=True)\n",
    "valid_df = valid_df.drop_duplicates([\"image_id\", \"model\", \"normed_InChI\"])\n",
    "display(valid_df.groupby(\"model\").agg(**{\n",
    "    \"count\": (\"image_id\", \"count\"),\n",
    "    \"levenshtein\": (\"levenshtein\", \"mean\"),\n",
    "    \"is_valid\": (\"is_valid\", \"mean\"),\n",
    "    \"normed_score\": (\"normed_score\", \"mean\")\n",
    "}))"
   ]
  },
  {
   "cell_type": "code",
   "execution_count": 6,
   "id": "61c9a97f-7d96-4190-bf13-680270f3f13f",
   "metadata": {},
   "outputs": [
    {
     "data": {
      "text/plain": [
       "model\n",
       "1106_swin_bert_384                   0.928071\n",
       "1109_vtnt_bert_512-1024-denoise-5    0.922749\n",
       "1113_swin_large_bert_384             0.828421\n",
       "9006_1103+1106+1109                  0.786956\n",
       "9007_1109+1113                       0.859471\n",
       "Name: levenshtein, dtype: float64"
      ]
     },
     "execution_count": 6,
     "metadata": {},
     "output_type": "execute_result"
    }
   ],
   "source": [
    "sort_keys = dict(\n",
    "    image_id=True,\n",
    "    is_valid=False,\n",
    "    normed_score=True,\n",
    ")\n",
    "valid_ensembled_df = valid_df.sort_values(\n",
    "    by=list(sort_keys.keys()),\n",
    "    ascending=list(sort_keys.values()),\n",
    ").groupby([\"image_id\", \"model\"]).first()\n",
    "valid_ensembled_df.groupby(\"model\").levenshtein.mean()"
   ]
  },
  {
   "cell_type": "code",
   "execution_count": 7,
   "id": "f9903fc6-1015-47bc-9736-7d7f9d6b0424",
   "metadata": {},
   "outputs": [
    {
     "name": "stdout",
     "output_type": "stream",
     "text": [
      "Levenshtein: 0.7415837867493884\n",
      "Levenshtein (lower): 0.12317928875211927\n"
     ]
    }
   ],
   "source": [
    "base_score = valid_df.sort_values(\n",
    "    by=list(sort_keys.keys()),\n",
    "    ascending=list(sort_keys.values()),\n",
    ").groupby(\"image_id\").first().levenshtein.mean()\n",
    "lower_score = valid_df.groupby(\"image_id\").levenshtein.min().mean()\n",
    "\n",
    "print(f\"Levenshtein: {base_score}\")\n",
    "print(f\"Levenshtein (lower): {lower_score}\")"
   ]
  },
  {
   "cell_type": "code",
   "execution_count": 9,
   "id": "a935df84-44a1-4edf-8b0f-f59c21fa94de",
   "metadata": {},
   "outputs": [
    {
     "name": "stdout",
     "output_type": "stream",
     "text": [
      "Levenshtein: 0.7472475342279277\n",
      "Levenshtein (lower): 0.17425201819989358\n"
     ]
    }
   ],
   "source": [
    "valid_ensembled_df = valid_df.groupby([\"image_id\", \"normed_InChI\"]).mean()\n",
    "base_score = valid_ensembled_df.sort_values(\n",
    "    by=list(sort_keys.keys()),\n",
    "    ascending=list(sort_keys.values()),\n",
    ").groupby(\"image_id\").first().levenshtein.mean()\n",
    "lower_score = valid_df.groupby(\"image_id\").levenshtein.min().mean()\n",
    "\n",
    "print(f\"Levenshtein: {base_score}\")\n",
    "print(f\"Levenshtein (lower): {lower_score}\")"
   ]
  },
  {
   "cell_type": "code",
   "execution_count": 11,
   "id": "1ba836f6-d543-40b0-81e6-fde4574bdb19",
   "metadata": {},
   "outputs": [
    {
     "name": "stderr",
     "output_type": "stream",
     "text": [
      "\u001b[32m[I 2021-05-21 19:05:13,038]\u001b[0m A new study created in memory with name: no-name-1c93b82b-4d37-46b0-ab9b-1dbf4e6b3264\u001b[0m\n"
     ]
    },
    {
     "data": {
      "application/vnd.jupyter.widget-view+json": {
       "model_id": "2b9a243e82dd413b866fe4203affd34b",
       "version_major": 2,
       "version_minor": 0
      },
      "text/plain": [
       "HBox(children=(HTML(value=''), FloatProgress(value=0.0), HTML(value='')))"
      ]
     },
     "metadata": {},
     "output_type": "display_data"
    },
    {
     "name": "stdout",
     "output_type": "stream",
     "text": [
      "\u001b[32m[I 2021-05-21 19:05:26,086]\u001b[0m Trial 0 finished with value: 0.7476889187728685 and parameters: {'1113_swin_large_bert_384': 6, '1106_swin_bert_384': 7, '1109_vtnt_bert_512-1024-denoise-5': 6}. Best is trial 0 with value: 0.7476889187728685.\u001b[0m\n",
      "\u001b[32m[I 2021-05-21 19:05:38,967]\u001b[0m Trial 1 finished with value: 0.7466535213823999 and parameters: {'1113_swin_large_bert_384': 5, '1106_swin_bert_384': 4, '1109_vtnt_bert_512-1024-denoise-5': 7}. Best is trial 1 with value: 0.7466535213823999.\u001b[0m\n",
      "\u001b[32m[I 2021-05-21 19:05:51,892]\u001b[0m Trial 2 finished with value: 0.7525606491240373 and parameters: {'1113_swin_large_bert_384': 4, '1106_swin_bert_384': 9, '1109_vtnt_bert_512-1024-denoise-5': 10}. Best is trial 1 with value: 0.7466535213823999.\u001b[0m\n",
      "\u001b[32m[I 2021-05-21 19:06:04,786]\u001b[0m Trial 3 finished with value: 0.7511292431698835 and parameters: {'1113_swin_large_bert_384': 4, '1106_swin_bert_384': 8, '1109_vtnt_bert_512-1024-denoise-5': 5}. Best is trial 1 with value: 0.7466535213823999.\u001b[0m\n",
      "\u001b[32m[I 2021-05-21 19:06:17,388]\u001b[0m Trial 4 finished with value: 0.7693580123670174 and parameters: {'1113_swin_large_bert_384': 6, '1106_swin_bert_384': 10, '1109_vtnt_bert_512-1024-denoise-5': 0}. Best is trial 1 with value: 0.7466535213823999.\u001b[0m\n",
      "\u001b[32m[I 2021-05-21 19:06:29,832]\u001b[0m Trial 5 finished with value: 0.8261976165234574 and parameters: {'1113_swin_large_bert_384': 0, '1106_swin_bert_384': 0, '1109_vtnt_bert_512-1024-denoise-5': 9}. Best is trial 1 with value: 0.7466535213823999.\u001b[0m\n",
      "\u001b[32m[I 2021-05-21 19:06:42,708]\u001b[0m Trial 6 finished with value: 0.7492688279384042 and parameters: {'1113_swin_large_bert_384': 8, '1106_swin_bert_384': 9, '1109_vtnt_bert_512-1024-denoise-5': 10}. Best is trial 1 with value: 0.7466535213823999.\u001b[0m\n",
      "\u001b[32m[I 2021-05-21 19:06:55,549]\u001b[0m Trial 7 finished with value: 0.745283991766322 and parameters: {'1113_swin_large_bert_384': 8, '1106_swin_bert_384': 5, '1109_vtnt_bert_512-1024-denoise-5': 8}. Best is trial 7 with value: 0.745283991766322.\u001b[0m\n",
      "\u001b[32m[I 2021-05-21 19:07:08,363]\u001b[0m Trial 8 finished with value: 0.7855861132997001 and parameters: {'1113_swin_large_bert_384': 1, '1106_swin_bert_384': 7, '1109_vtnt_bert_512-1024-denoise-5': 1}. Best is trial 7 with value: 0.745283991766322.\u001b[0m\n",
      "\u001b[32m[I 2021-05-21 19:07:21,219]\u001b[0m Trial 9 finished with value: 0.7437370833144267 and parameters: {'1113_swin_large_bert_384': 10, '1106_swin_bert_384': 5, '1109_vtnt_bert_512-1024-denoise-5': 4}. Best is trial 9 with value: 0.7437370833144267.\u001b[0m\n",
      "\u001b[32m[I 2021-05-21 19:07:34,099]\u001b[0m Trial 10 finished with value: 0.7564176075307628 and parameters: {'1113_swin_large_bert_384': 2, '1106_swin_bert_384': 8, '1109_vtnt_bert_512-1024-denoise-5': 5}. Best is trial 9 with value: 0.7437370833144267.\u001b[0m\n",
      "\u001b[32m[I 2021-05-21 19:07:46,636]\u001b[0m Trial 11 finished with value: 0.7407340183731473 and parameters: {'1113_swin_large_bert_384': 6, '1106_swin_bert_384': 0, '1109_vtnt_bert_512-1024-denoise-5': 6}. Best is trial 11 with value: 0.7407340183731473.\u001b[0m\n",
      "\u001b[32m[I 2021-05-21 19:07:59,502]\u001b[0m Trial 12 finished with value: 0.7477837958245847 and parameters: {'1113_swin_large_bert_384': 6, '1106_swin_bert_384': 6, '1109_vtnt_bert_512-1024-denoise-5': 10}. Best is trial 11 with value: 0.7407340183731473.\u001b[0m\n",
      "\u001b[32m[I 2021-05-21 19:08:12,348]\u001b[0m Trial 13 finished with value: 0.7413115308618549 and parameters: {'1113_swin_large_bert_384': 7, '1106_swin_bert_384': 3, '1109_vtnt_bert_512-1024-denoise-5': 4}. Best is trial 11 with value: 0.7407340183731473.\u001b[0m\n",
      "\u001b[32m[I 2021-05-21 19:08:24,919]\u001b[0m Trial 14 finished with value: 0.7407340183731473 and parameters: {'1113_swin_large_bert_384': 7, '1106_swin_bert_384': 0, '1109_vtnt_bert_512-1024-denoise-5': 7}. Best is trial 11 with value: 0.7407340183731473.\u001b[0m\n",
      "\u001b[32m[I 2021-05-21 19:08:37,759]\u001b[0m Trial 15 finished with value: 0.7550274524686597 and parameters: {'1113_swin_large_bert_384': 7, '1106_swin_bert_384': 2, '1109_vtnt_bert_512-1024-denoise-5': 1}. Best is trial 11 with value: 0.7407340183731473.\u001b[0m\n",
      "\u001b[32m[I 2021-05-21 19:08:50,606]\u001b[0m Trial 16 finished with value: 0.7503826020237687 and parameters: {'1113_swin_large_bert_384': 3, '1106_swin_bert_384': 4, '1109_vtnt_bert_512-1024-denoise-5': 6}. Best is trial 11 with value: 0.7407340183731473.\u001b[0m\n",
      "\u001b[32m[I 2021-05-21 19:09:03,489]\u001b[0m Trial 17 finished with value: 0.771762939373564 and parameters: {'1113_swin_large_bert_384': 4, '1106_swin_bert_384': 10, '1109_vtnt_bert_512-1024-denoise-5': 1}. Best is trial 11 with value: 0.7407340183731473.\u001b[0m\n",
      "\u001b[32m[I 2021-05-21 19:09:16,336]\u001b[0m Trial 18 finished with value: 0.7631415029350009 and parameters: {'1113_swin_large_bert_384': 2, '1106_swin_bert_384': 1, '1109_vtnt_bert_512-1024-denoise-5': 7}. Best is trial 11 with value: 0.7407340183731473.\u001b[0m\n",
      "\u001b[32m[I 2021-05-21 19:09:29,203]\u001b[0m Trial 19 finished with value: 0.7583728998139585 and parameters: {'1113_swin_large_bert_384': 2, '1106_swin_bert_384': 5, '1109_vtnt_bert_512-1024-denoise-5': 2}. Best is trial 11 with value: 0.7407340183731473.\u001b[0m\n",
      "\u001b[32m[I 2021-05-21 19:09:42,047]\u001b[0m Trial 20 finished with value: 0.7763665389264043 and parameters: {'1113_swin_large_bert_384': 1, '1106_swin_bert_384': 1, '1109_vtnt_bert_512-1024-denoise-5': 7}. Best is trial 11 with value: 0.7407340183731473.\u001b[0m\n",
      "\u001b[32m[I 2021-05-21 19:09:54,927]\u001b[0m Trial 21 finished with value: 0.7565619856529398 and parameters: {'1113_swin_large_bert_384': 1, '1106_swin_bert_384': 2, '1109_vtnt_bert_512-1024-denoise-5': 4}. Best is trial 11 with value: 0.7407340183731473.\u001b[0m\n",
      "\u001b[32m[I 2021-05-21 19:10:07,767]\u001b[0m Trial 22 finished with value: 0.7393644887570694 and parameters: {'1113_swin_large_bert_384': 9, '1106_swin_bert_384': 1, '1109_vtnt_bert_512-1024-denoise-5': 9}. Best is trial 22 with value: 0.7393644887570694.\u001b[0m\n",
      "\u001b[32m[I 2021-05-21 19:10:20,671]\u001b[0m Trial 23 finished with value: 0.7670892133042377 and parameters: {'1113_swin_large_bert_384': 1, '1106_swin_bert_384': 10, '1109_vtnt_bert_512-1024-denoise-5': 5}. Best is trial 22 with value: 0.7393644887570694.\u001b[0m\n",
      "\u001b[32m[I 2021-05-21 19:10:33,575]\u001b[0m Trial 24 finished with value: 0.7430440683279776 and parameters: {'1113_swin_large_bert_384': 10, '1106_swin_bert_384': 6, '1109_vtnt_bert_512-1024-denoise-5': 8}. Best is trial 22 with value: 0.7393644887570694.\u001b[0m\n",
      "\u001b[32m[I 2021-05-21 19:10:46,124]\u001b[0m Trial 25 finished with value: 0.7827233013913926 and parameters: {'1113_swin_large_bert_384': 0, '1106_swin_bert_384': 3, '1109_vtnt_bert_512-1024-denoise-5': 1}. Best is trial 22 with value: 0.7393644887570694.\u001b[0m\n",
      "\u001b[32m[I 2021-05-21 19:10:59,017]\u001b[0m Trial 26 finished with value: 0.7415054100544924 and parameters: {'1113_swin_large_bert_384': 3, '1106_swin_bert_384': 1, '1109_vtnt_bert_512-1024-denoise-5': 3}. Best is trial 22 with value: 0.7393644887570694.\u001b[0m\n",
      "\u001b[32m[I 2021-05-21 19:11:11,577]\u001b[0m Trial 27 finished with value: 0.7502010980987464 and parameters: {'1113_swin_large_bert_384': 4, '1106_swin_bert_384': 0, '1109_vtnt_bert_512-1024-denoise-5': 7}. Best is trial 22 with value: 0.7393644887570694.\u001b[0m\n",
      "\u001b[32m[I 2021-05-21 19:11:24,457]\u001b[0m Trial 28 finished with value: 0.7396491199122182 and parameters: {'1113_swin_large_bert_384': 6, '1106_swin_bert_384': 2, '1109_vtnt_bert_512-1024-denoise-5': 5}. Best is trial 22 with value: 0.7393644887570694.\u001b[0m\n",
      "\u001b[32m[I 2021-05-21 19:11:37,359]\u001b[0m Trial 29 finished with value: 0.7664333241206341 and parameters: {'1113_swin_large_bert_384': 1, '1106_swin_bert_384': 6, '1109_vtnt_bert_512-1024-denoise-5': 10}. Best is trial 22 with value: 0.7393644887570694.\u001b[0m\n",
      "\u001b[32m[I 2021-05-21 19:11:50,223]\u001b[0m Trial 30 finished with value: 0.7683968665822398 and parameters: {'1113_swin_large_bert_384': 3, '1106_swin_bert_384': 7, '1109_vtnt_bert_512-1024-denoise-5': 1}. Best is trial 22 with value: 0.7393644887570694.\u001b[0m\n",
      "\u001b[32m[I 2021-05-21 19:12:03,073]\u001b[0m Trial 31 finished with value: 0.7475940417211522 and parameters: {'1113_swin_large_bert_384': 7, '1106_swin_bert_384': 3, '1109_vtnt_bert_512-1024-denoise-5': 2}. Best is trial 22 with value: 0.7393644887570694.\u001b[0m\n",
      "\u001b[32m[I 2021-05-21 19:12:15,631]\u001b[0m Trial 32 finished with value: 0.7471031561057507 and parameters: {'1113_swin_large_bert_384': 6, '1106_swin_bert_384': 0, '1109_vtnt_bert_512-1024-denoise-5': 9}. Best is trial 22 with value: 0.7393644887570694.\u001b[0m\n",
      "\u001b[32m[I 2021-05-21 19:12:28,156]\u001b[0m Trial 33 finished with value: 0.7851653542007846 and parameters: {'1113_swin_large_bert_384': 0, '1106_swin_bert_384': 7, '1109_vtnt_bert_512-1024-denoise-5': 2}. Best is trial 22 with value: 0.7393644887570694.\u001b[0m\n",
      "\u001b[32m[I 2021-05-21 19:12:41,096]\u001b[0m Trial 34 finished with value: 0.7545819428345137 and parameters: {'1113_swin_large_bert_384': 8, '1106_swin_bert_384': 10, '1109_vtnt_bert_512-1024-denoise-5': 2}. Best is trial 22 with value: 0.7393644887570694.\u001b[0m\n",
      "\u001b[32m[I 2021-05-21 19:12:54,043]\u001b[0m Trial 35 finished with value: 0.7472475342279277 and parameters: {'1113_swin_large_bert_384': 6, '1106_swin_bert_384': 6, '1109_vtnt_bert_512-1024-denoise-5': 6}. Best is trial 22 with value: 0.7393644887570694.\u001b[0m\n",
      "\u001b[32m[I 2021-05-21 19:13:07,569]\u001b[0m Trial 36 finished with value: 0.76611981734105 and parameters: {'1113_swin_large_bert_384': 2, '1106_swin_bert_384': 10, '1109_vtnt_bert_512-1024-denoise-5': 4}. Best is trial 22 with value: 0.7393644887570694.\u001b[0m\n",
      "\u001b[32m[I 2021-05-21 19:13:21,130]\u001b[0m Trial 37 finished with value: 0.7481261782286042 and parameters: {'1113_swin_large_bert_384': 9, '1106_swin_bert_384': 7, '1109_vtnt_bert_512-1024-denoise-5': 3}. Best is trial 22 with value: 0.7393644887570694.\u001b[0m\n",
      "\u001b[32m[I 2021-05-21 19:13:34,837]\u001b[0m Trial 38 finished with value: 0.7426026837830368 and parameters: {'1113_swin_large_bert_384': 8, '1106_swin_bert_384': 4, '1109_vtnt_bert_512-1024-denoise-5': 9}. Best is trial 22 with value: 0.7393644887570694.\u001b[0m\n",
      "\u001b[32m[I 2021-05-21 19:13:48,384]\u001b[0m Trial 39 finished with value: 0.7483778086701125 and parameters: {'1113_swin_large_bert_384': 6, '1106_swin_bert_384': 9, '1109_vtnt_bert_512-1024-denoise-5': 7}. Best is trial 22 with value: 0.7393644887570694.\u001b[0m\n",
      "\u001b[32m[I 2021-05-21 19:14:01,791]\u001b[0m Trial 40 finished with value: 0.7443022205355191 and parameters: {'1113_swin_large_bert_384': 7, '1106_swin_bert_384': 5, '1109_vtnt_bert_512-1024-denoise-5': 10}. Best is trial 22 with value: 0.7393644887570694.\u001b[0m\n",
      "\u001b[32m[I 2021-05-21 19:14:15,235]\u001b[0m Trial 41 finished with value: 0.7431760711825394 and parameters: {'1113_swin_large_bert_384': 7, '1106_swin_bert_384': 4, '1109_vtnt_bert_512-1024-denoise-5': 6}. Best is trial 22 with value: 0.7393644887570694.\u001b[0m\n",
      "\u001b[32m[I 2021-05-21 19:14:28,356]\u001b[0m Trial 42 finished with value: 0.7794851063654251 and parameters: {'1113_swin_large_bert_384': 0, '1106_swin_bert_384': 3, '1109_vtnt_bert_512-1024-denoise-5': 7}. Best is trial 22 with value: 0.7393644887570694.\u001b[0m\n",
      "\u001b[32m[I 2021-05-21 19:14:41,711]\u001b[0m Trial 43 finished with value: 0.750477479075485 and parameters: {'1113_swin_large_bert_384': 3, '1106_swin_bert_384': 6, '1109_vtnt_bert_512-1024-denoise-5': 4}. Best is trial 22 with value: 0.7393644887570694.\u001b[0m\n",
      "\u001b[32m[I 2021-05-21 19:14:55,096]\u001b[0m Trial 44 finished with value: 0.7627991205309815 and parameters: {'1113_swin_large_bert_384': 1, '1106_swin_bert_384': 3, '1109_vtnt_bert_512-1024-denoise-5': 6}. Best is trial 22 with value: 0.7393644887570694.\u001b[0m\n",
      "\u001b[32m[I 2021-05-21 19:15:08,602]\u001b[0m Trial 45 finished with value: 0.7480478015337082 and parameters: {'1113_swin_large_bert_384': 6, '1106_swin_bert_384': 6, '1109_vtnt_bert_512-1024-denoise-5': 7}. Best is trial 22 with value: 0.7393644887570694.\u001b[0m\n",
      "\u001b[32m[I 2021-05-21 19:15:22,060]\u001b[0m Trial 46 finished with value: 0.7423345529847083 and parameters: {'1113_swin_large_bert_384': 7, '1106_swin_bert_384': 4, '1109_vtnt_bert_512-1024-denoise-5': 9}. Best is trial 22 with value: 0.7393644887570694.\u001b[0m\n",
      "\u001b[32m[I 2021-05-21 19:15:35,491]\u001b[0m Trial 47 finished with value: 0.7488233183042583 and parameters: {'1113_swin_large_bert_384': 4, '1106_swin_bert_384': 4, '1109_vtnt_bert_512-1024-denoise-5': 9}. Best is trial 22 with value: 0.7393644887570694.\u001b[0m\n",
      "\u001b[32m[I 2021-05-21 19:15:48,808]\u001b[0m Trial 48 finished with value: 0.7569868698410603 and parameters: {'1113_swin_large_bert_384': 8, '1106_swin_bert_384': 7, '1109_vtnt_bert_512-1024-denoise-5': 1}. Best is trial 22 with value: 0.7393644887570694.\u001b[0m\n",
      "\u001b[32m[I 2021-05-21 19:16:02,280]\u001b[0m Trial 49 finished with value: 0.7453706186396281 and parameters: {'1113_swin_large_bert_384': 10, '1106_swin_bert_384': 7, '1109_vtnt_bert_512-1024-denoise-5': 10}. Best is trial 22 with value: 0.7393644887570694.\u001b[0m\n",
      "\u001b[32m[I 2021-05-21 19:16:15,812]\u001b[0m Trial 50 finished with value: 0.7940837970621115 and parameters: {'1113_swin_large_bert_384': 1, '1106_swin_bert_384': 9, '1109_vtnt_bert_512-1024-denoise-5': 1}. Best is trial 22 with value: 0.7393644887570694.\u001b[0m\n",
      "\u001b[32m[I 2021-05-21 19:16:29,212]\u001b[0m Trial 51 finished with value: 0.744524975352592 and parameters: {'1113_swin_large_bert_384': 6, '1106_swin_bert_384': 1, '1109_vtnt_bert_512-1024-denoise-5': 9}. Best is trial 22 with value: 0.7393644887570694.\u001b[0m\n",
      "\u001b[32m[I 2021-05-21 19:16:42,608]\u001b[0m Trial 52 finished with value: 0.7470206543216497 and parameters: {'1113_swin_large_bert_384': 8, '1106_swin_bert_384': 6, '1109_vtnt_bert_512-1024-denoise-5': 4}. Best is trial 22 with value: 0.7393644887570694.\u001b[0m\n",
      "\u001b[32m[I 2021-05-21 19:16:55,701]\u001b[0m Trial 53 finished with value: 0.7707522925183257 and parameters: {'1113_swin_large_bert_384': 0, '1106_swin_bert_384': 7, '1109_vtnt_bert_512-1024-denoise-5': 4}. Best is trial 22 with value: 0.7393644887570694.\u001b[0m\n",
      "\u001b[32m[I 2021-05-21 19:17:09,048]\u001b[0m Trial 54 finished with value: 0.7498133397134713 and parameters: {'1113_swin_large_bert_384': 7, '1106_swin_bert_384': 9, '1109_vtnt_bert_512-1024-denoise-5': 10}. Best is trial 22 with value: 0.7393644887570694.\u001b[0m\n",
      "\u001b[32m[I 2021-05-21 19:17:22,113]\u001b[0m Trial 55 finished with value: 0.7544581901583621 and parameters: {'1113_swin_large_bert_384': 9, '1106_swin_bert_384': 0, '1109_vtnt_bert_512-1024-denoise-5': 3}. Best is trial 22 with value: 0.7393644887570694.\u001b[0m\n",
      "\u001b[32m[I 2021-05-21 19:17:35,642]\u001b[0m Trial 56 finished with value: 0.7404700126640239 and parameters: {'1113_swin_large_bert_384': 8, '1106_swin_bert_384': 1, '1109_vtnt_bert_512-1024-denoise-5': 5}. Best is trial 22 with value: 0.7393644887570694.\u001b[0m\n",
      "\u001b[32m[I 2021-05-21 19:17:48,509]\u001b[0m Trial 57 finished with value: 0.8249683399403512 and parameters: {'1113_swin_large_bert_384': 0, '1106_swin_bert_384': 2, '1109_vtnt_bert_512-1024-denoise-5': 0}. Best is trial 22 with value: 0.7393644887570694.\u001b[0m\n",
      "\u001b[32m[I 2021-05-21 19:18:01,972]\u001b[0m Trial 58 finished with value: 0.745977006752771 and parameters: {'1113_swin_large_bert_384': 8, '1106_swin_bert_384': 2, '1109_vtnt_bert_512-1024-denoise-5': 3}. Best is trial 22 with value: 0.7393644887570694.\u001b[0m\n",
      "\u001b[32m[I 2021-05-21 19:18:15,140]\u001b[0m Trial 59 finished with value: 0.7615863443046956 and parameters: {'1113_swin_large_bert_384': 10, '1106_swin_bert_384': 7, '1109_vtnt_bert_512-1024-denoise-5': 0}. Best is trial 22 with value: 0.7393644887570694.\u001b[0m\n",
      "\u001b[32m[I 2021-05-21 19:18:28,521]\u001b[0m Trial 60 finished with value: 0.7635333864094811 and parameters: {'1113_swin_large_bert_384': 1, '1106_swin_bert_384': 6, '1109_vtnt_bert_512-1024-denoise-5': 6}. Best is trial 22 with value: 0.7393644887570694.\u001b[0m\n",
      "\u001b[32m[I 2021-05-21 19:18:41,919]\u001b[0m Trial 61 finished with value: 0.7597383043408313 and parameters: {'1113_swin_large_bert_384': 2, '1106_swin_bert_384': 10, '1109_vtnt_bert_512-1024-denoise-5': 6}. Best is trial 22 with value: 0.7393644887570694.\u001b[0m\n",
      "\u001b[32m[I 2021-05-21 19:18:55,323]\u001b[0m Trial 62 finished with value: 0.7498050895350612 and parameters: {'1113_swin_large_bert_384': 5, '1106_swin_bert_384': 6, '1109_vtnt_bert_512-1024-denoise-5': 8}. Best is trial 22 with value: 0.7393644887570694.\u001b[0m\n",
      "\u001b[32m[I 2021-05-21 19:19:08,704]\u001b[0m Trial 63 finished with value: 0.749029572764511 and parameters: {'1113_swin_large_bert_384': 3, '1106_swin_bert_384': 4, '1109_vtnt_bert_512-1024-denoise-5': 2}. Best is trial 22 with value: 0.7393644887570694.\u001b[0m\n",
      "\u001b[32m[I 2021-05-21 19:19:22,132]\u001b[0m Trial 64 finished with value: 0.7611325844921396 and parameters: {'1113_swin_large_bert_384': 2, '1106_swin_bert_384': 10, '1109_vtnt_bert_512-1024-denoise-5': 8}. Best is trial 22 with value: 0.7393644887570694.\u001b[0m\n",
      "\u001b[32m[I 2021-05-21 19:19:35,487]\u001b[0m Trial 65 finished with value: 0.7440217144695754 and parameters: {'1113_swin_large_bert_384': 5, '1106_swin_bert_384': 2, '1109_vtnt_bert_512-1024-denoise-5': 2}. Best is trial 22 with value: 0.7393644887570694.\u001b[0m\n",
      "\u001b[32m[I 2021-05-21 19:19:48,564]\u001b[0m Trial 66 finished with value: 0.770236656367694 and parameters: {'1113_swin_large_bert_384': 0, '1106_swin_bert_384': 4, '1109_vtnt_bert_512-1024-denoise-5': 3}. Best is trial 22 with value: 0.7393644887570694.\u001b[0m\n",
      "\u001b[32m[I 2021-05-21 19:20:01,782]\u001b[0m Trial 67 finished with value: 0.7528535304575962 and parameters: {'1113_swin_large_bert_384': 7, '1106_swin_bert_384': 4, '1109_vtnt_bert_512-1024-denoise-5': 1}. Best is trial 22 with value: 0.7393644887570694.\u001b[0m\n",
      "\u001b[32m[I 2021-05-21 19:20:14,702]\u001b[0m Trial 68 finished with value: 0.8261976165234574 and parameters: {'1113_swin_large_bert_384': 0, '1106_swin_bert_384': 0, '1109_vtnt_bert_512-1024-denoise-5': 7}. Best is trial 22 with value: 0.7393644887570694.\u001b[0m\n",
      "\u001b[32m[I 2021-05-21 19:20:28,059]\u001b[0m Trial 69 finished with value: 0.7494297064174013 and parameters: {'1113_swin_large_bert_384': 4, '1106_swin_bert_384': 5, '1109_vtnt_bert_512-1024-denoise-5': 9}. Best is trial 22 with value: 0.7393644887570694.\u001b[0m\n",
      "\u001b[32m[I 2021-05-21 19:20:41,414]\u001b[0m Trial 70 finished with value: 0.7402596331145661 and parameters: {'1113_swin_large_bert_384': 10, '1106_swin_bert_384': 2, '1109_vtnt_bert_512-1024-denoise-5': 7}. Best is trial 22 with value: 0.7393644887570694.\u001b[0m\n",
      "\u001b[32m[I 2021-05-21 19:20:54,496]\u001b[0m Trial 71 finished with value: 0.7746092509250513 and parameters: {'1113_swin_large_bert_384': 2, '1106_swin_bert_384': 0, '1109_vtnt_bert_512-1024-denoise-5': 8}. Best is trial 22 with value: 0.7393644887570694.\u001b[0m\n",
      "\u001b[32m[I 2021-05-21 19:21:07,871]\u001b[0m Trial 72 finished with value: 0.7503826020237687 and parameters: {'1113_swin_large_bert_384': 3, '1106_swin_bert_384': 4, '1109_vtnt_bert_512-1024-denoise-5': 6}. Best is trial 22 with value: 0.7393644887570694.\u001b[0m\n",
      "\u001b[32m[I 2021-05-21 19:21:21,344]\u001b[0m Trial 73 finished with value: 0.7447394799912548 and parameters: {'1113_swin_large_bert_384': 9, '1106_swin_bert_384': 6, '1109_vtnt_bert_512-1024-denoise-5': 9}. Best is trial 22 with value: 0.7393644887570694.\u001b[0m\n",
      "\u001b[32m[I 2021-05-21 19:21:34,747]\u001b[0m Trial 74 finished with value: 0.7656990582421345 and parameters: {'1113_swin_large_bert_384': 3, '1106_swin_bert_384': 8, '1109_vtnt_bert_512-1024-denoise-5': 2}. Best is trial 22 with value: 0.7393644887570694.\u001b[0m\n",
      "\u001b[32m[I 2021-05-21 19:21:48,148]\u001b[0m Trial 75 finished with value: 0.75124062057842 and parameters: {'1113_swin_large_bert_384': 10, '1106_swin_bert_384': 7, '1109_vtnt_bert_512-1024-denoise-5': 2}. Best is trial 22 with value: 0.7393644887570694.\u001b[0m\n",
      "\u001b[32m[I 2021-05-21 19:22:01,573]\u001b[0m Trial 76 finished with value: 0.752078013687046 and parameters: {'1113_swin_large_bert_384': 10, '1106_swin_bert_384': 8, '1109_vtnt_bert_512-1024-denoise-5': 2}. Best is trial 22 with value: 0.7393644887570694.\u001b[0m\n",
      "\u001b[32m[I 2021-05-21 19:22:14,736]\u001b[0m Trial 77 finished with value: 0.7799429912671861 and parameters: {'1113_swin_large_bert_384': 2, '1106_swin_bert_384': 5, '1109_vtnt_bert_512-1024-denoise-5': 0}. Best is trial 22 with value: 0.7393644887570694.\u001b[0m\n",
      "\u001b[32m[I 2021-05-21 19:22:28,151]\u001b[0m Trial 78 finished with value: 0.7518222581563326 and parameters: {'1113_swin_large_bert_384': 2, '1106_swin_bert_384': 4, '1109_vtnt_bert_512-1024-denoise-5': 4}. Best is trial 22 with value: 0.7393644887570694.\u001b[0m\n",
      "\u001b[32m[I 2021-05-21 19:22:41,622]\u001b[0m Trial 79 finished with value: 0.742846064046135 and parameters: {'1113_swin_large_bert_384': 5, '1106_swin_bert_384': 3, '1109_vtnt_bert_512-1024-denoise-5': 6}. Best is trial 22 with value: 0.7393644887570694.\u001b[0m\n",
      "\u001b[32m[I 2021-05-21 19:22:55,121]\u001b[0m Trial 80 finished with value: 0.7419261691534079 and parameters: {'1113_swin_large_bert_384': 9, '1106_swin_bert_384': 1, '1109_vtnt_bert_512-1024-denoise-5': 5}. Best is trial 22 with value: 0.7393644887570694.\u001b[0m\n",
      "\u001b[32m[I 2021-05-21 19:23:08,570]\u001b[0m Trial 81 finished with value: 0.7643749046073122 and parameters: {'1113_swin_large_bert_384': 1, '1106_swin_bert_384': 7, '1109_vtnt_bert_512-1024-denoise-5': 4}. Best is trial 22 with value: 0.7393644887570694.\u001b[0m\n",
      "\u001b[32m[I 2021-05-21 19:23:22,004]\u001b[0m Trial 82 finished with value: 0.7520821387762511 and parameters: {'1113_swin_large_bert_384': 6, '1106_swin_bert_384': 2, '1109_vtnt_bert_512-1024-denoise-5': 1}. Best is trial 22 with value: 0.7393644887570694.\u001b[0m\n",
      "\u001b[32m[I 2021-05-21 19:23:35,417]\u001b[0m Trial 83 finished with value: 0.7463276393352006 and parameters: {'1113_swin_large_bert_384': 5, '1106_swin_bert_384': 3, '1109_vtnt_bert_512-1024-denoise-5': 10}. Best is trial 22 with value: 0.7393644887570694.\u001b[0m\n",
      "\u001b[32m[I 2021-05-21 19:23:48,819]\u001b[0m Trial 84 finished with value: 0.7476889187728685 and parameters: {'1113_swin_large_bert_384': 8, '1106_swin_bert_384': 8, '1109_vtnt_bert_512-1024-denoise-5': 9}. Best is trial 22 with value: 0.7393644887570694.\u001b[0m\n",
      "\u001b[32m[I 2021-05-21 19:24:01,936]\u001b[0m Trial 85 finished with value: 0.7714700580400051 and parameters: {'1113_swin_large_bert_384': 0, '1106_swin_bert_384': 6, '1109_vtnt_bert_512-1024-denoise-5': 6}. Best is trial 22 with value: 0.7393644887570694.\u001b[0m\n",
      "\u001b[32m[I 2021-05-21 19:24:15,385]\u001b[0m Trial 86 finished with value: 0.7511168679022684 and parameters: {'1113_swin_large_bert_384': 10, '1106_swin_bert_384': 3, '1109_vtnt_bert_512-1024-denoise-5': 2}. Best is trial 22 with value: 0.7393644887570694.\u001b[0m\n",
      "\u001b[32m[I 2021-05-21 19:24:28,597]\u001b[0m Trial 87 finished with value: 0.8010139469266023 and parameters: {'1113_swin_large_bert_384': 1, '1106_swin_bert_384': 0, '1109_vtnt_bert_512-1024-denoise-5': 10}. Best is trial 22 with value: 0.7393644887570694.\u001b[0m\n",
      "\u001b[32m[I 2021-05-21 19:24:42,034]\u001b[0m Trial 88 finished with value: 0.750015469084519 and parameters: {'1113_swin_large_bert_384': 7, '1106_swin_bert_384': 8, '1109_vtnt_bert_512-1024-denoise-5': 3}. Best is trial 22 with value: 0.7393644887570694.\u001b[0m\n",
      "\u001b[32m[I 2021-05-21 19:24:55,141]\u001b[0m Trial 89 finished with value: 0.7410557753311415 and parameters: {'1113_swin_large_bert_384': 6, '1106_swin_bert_384': 0, '1109_vtnt_bert_512-1024-denoise-5': 5}. Best is trial 22 with value: 0.7393644887570694.\u001b[0m\n",
      "\u001b[32m[I 2021-05-21 19:25:08,588]\u001b[0m Trial 90 finished with value: 0.7504238529158193 and parameters: {'1113_swin_large_bert_384': 10, '1106_swin_bert_384': 9, '1109_vtnt_bert_512-1024-denoise-5': 3}. Best is trial 22 with value: 0.7393644887570694.\u001b[0m\n",
      "\u001b[32m[I 2021-05-21 19:25:23,166]\u001b[0m Trial 91 finished with value: 0.7398925001753163 and parameters: {'1113_swin_large_bert_384': 10, '1106_swin_bert_384': 2, '1109_vtnt_bert_512-1024-denoise-5': 10}. Best is trial 22 with value: 0.7393644887570694.\u001b[0m\n",
      "\u001b[32m[I 2021-05-21 19:25:40,701]\u001b[0m Trial 92 finished with value: 0.7464225163869168 and parameters: {'1113_swin_large_bert_384': 10, '1106_swin_bert_384': 8, '1109_vtnt_bert_512-1024-denoise-5': 6}. Best is trial 22 with value: 0.7393644887570694.\u001b[0m\n",
      "\u001b[32m[I 2021-05-21 19:25:57,961]\u001b[0m Trial 93 finished with value: 0.7415054100544924 and parameters: {'1113_swin_large_bert_384': 9, '1106_swin_bert_384': 3, '1109_vtnt_bert_512-1024-denoise-5': 9}. Best is trial 22 with value: 0.7393644887570694.\u001b[0m\n",
      "\u001b[32m[I 2021-05-21 19:26:14,769]\u001b[0m Trial 94 finished with value: 0.7475239152046663 and parameters: {'1113_swin_large_bert_384': 6, '1106_swin_bert_384': 0, '1109_vtnt_bert_512-1024-denoise-5': 3}. Best is trial 22 with value: 0.7393644887570694.\u001b[0m\n",
      "\u001b[32m[I 2021-05-21 19:26:31,153]\u001b[0m Trial 95 finished with value: 0.7670892133042377 and parameters: {'1113_swin_large_bert_384': 1, '1106_swin_bert_384': 10, '1109_vtnt_bert_512-1024-denoise-5': 5}. Best is trial 22 with value: 0.7393644887570694.\u001b[0m\n",
      "\u001b[32m[I 2021-05-21 19:26:46,674]\u001b[0m Trial 96 finished with value: 0.749561709271963 and parameters: {'1113_swin_large_bert_384': 5, '1106_swin_bert_384': 7, '1109_vtnt_bert_512-1024-denoise-5': 4}. Best is trial 22 with value: 0.7393644887570694.\u001b[0m\n",
      "\u001b[32m[I 2021-05-21 19:27:02,484]\u001b[0m Trial 97 finished with value: 0.7805493793803291 and parameters: {'1113_swin_large_bert_384': 1, '1106_swin_bert_384': 9, '1109_vtnt_bert_512-1024-denoise-5': 2}. Best is trial 22 with value: 0.7393644887570694.\u001b[0m\n",
      "\u001b[32m[I 2021-05-21 19:27:18,305]\u001b[0m Trial 98 finished with value: 0.7497720888214208 and parameters: {'1113_swin_large_bert_384': 5, '1106_swin_bert_384': 2, '1109_vtnt_bert_512-1024-denoise-5': 1}. Best is trial 22 with value: 0.7393644887570694.\u001b[0m\n",
      "\u001b[32m[I 2021-05-21 19:27:36,056]\u001b[0m Trial 99 finished with value: 0.7487779423230028 and parameters: {'1113_swin_large_bert_384': 9, '1106_swin_bert_384': 10, '1109_vtnt_bert_512-1024-denoise-5': 10}. Best is trial 22 with value: 0.7393644887570694.\u001b[0m\n",
      "\n"
     ]
    },
    {
     "data": {
      "text/plain": [
       "0.7393644887570694"
      ]
     },
     "metadata": {},
     "output_type": "display_data"
    },
    {
     "data": {
      "text/plain": [
       "{'1113_swin_large_bert_384': 9,\n",
       " '1106_swin_bert_384': 1,\n",
       " '1109_vtnt_bert_512-1024-denoise-5': 9}"
      ]
     },
     "metadata": {},
     "output_type": "display_data"
    }
   ],
   "source": [
    "MODELS = valid_df.model.unique()\n",
    "\n",
    "def objective(trial):\n",
    "    df = valid_df.copy()\n",
    "    weights = {\n",
    "        model: trial.suggest_int(model, 0, 10)\n",
    "        for model in MODELS\n",
    "    }\n",
    "    normed_weights = {\n",
    "        k: v / sum(weights.values())\n",
    "        for k, v in weights.items()\n",
    "    }\n",
    "    df[\"normed_score\"] = df.model.map(normed_weights) * df.normed_score\n",
    "    df = df.groupby([\"image_id\", \"normed_InChI\"]).mean()\n",
    "    df = df.sort_values(\n",
    "        by=list(sort_keys.keys()),\n",
    "        ascending=list(sort_keys.values()),\n",
    "    ).groupby(\"image_id\").first()\n",
    "    return df.levenshtein.mean()\n",
    "\n",
    "study = optuna.create_study(sampler=optuna.samplers.RandomSampler(seed=0))\n",
    "study.optimize(objective, n_trials=100, show_progress_bar=True)\n",
    "display(study.best_value)\n",
    "display(study.best_params)"
   ]
  },
  {
   "cell_type": "code",
   "execution_count": null,
   "id": "823ae367-68e4-416a-922c-c4fedf33526c",
   "metadata": {},
   "outputs": [],
   "source": []
  }
 ],
 "metadata": {
  "kernelspec": {
   "display_name": "Python 3",
   "language": "python",
   "name": "python3"
  },
  "language_info": {
   "codemirror_mode": {
    "name": "ipython",
    "version": 3
   },
   "file_extension": ".py",
   "mimetype": "text/x-python",
   "name": "python",
   "nbconvert_exporter": "python",
   "pygments_lexer": "ipython3",
   "version": "3.8.5"
  }
 },
 "nbformat": 4,
 "nbformat_minor": 5
}
