{
 "cells": [
  {
   "cell_type": "code",
   "execution_count": 1,
   "id": "f4b44b5d-b1e7-4bf2-840d-f87271407b67",
   "metadata": {},
   "outputs": [
    {
     "name": "stderr",
     "output_type": "stream",
     "text": [
      "/opt/miniconda/lib/python3.8/site-packages/tqdm/std.py:703: FutureWarning: The Panel class is removed from pandas. Accessing it from the top-level namespace will also be removed in the next version\n",
      "  from pandas import Panel\n"
     ]
    }
   ],
   "source": [
    "import cv2\n",
    "import Levenshtein\n",
    "import optuna\n",
    "import numpy as np\n",
    "import pandas as pd\n",
    "import plotly.express as px\n",
    "import sklearn.metrics\n",
    "import ipywidgets\n",
    "import matplotlib.pyplot as plt\n",
    "import multiprocessing as mp\n",
    "from tqdm.auto import tqdm\n",
    "from pathlib import Path\n",
    "tqdm.pandas()"
   ]
  },
  {
   "cell_type": "code",
   "execution_count": 2,
   "id": "d4827ead-2994-4cc5-8a88-e3f453489a48",
   "metadata": {},
   "outputs": [],
   "source": [
    "%load_ext autoreload\n",
    "%autoreload 2\n",
    "from nncomp_molecule import constants"
   ]
  },
  {
   "cell_type": "code",
   "execution_count": 3,
   "id": "8acc03be-c2c8-4a3e-98f2-33a730933557",
   "metadata": {},
   "outputs": [],
   "source": [
    "# train_df = pd.read_pickle(\"/work/input/kfujikawa/bms-preprocess-v2/train.pkl\").set_index(\"image_id\")\n",
    "# train_df.head()"
   ]
  },
  {
   "cell_type": "code",
   "execution_count": 4,
   "id": "39feefe8-0eaa-4aaf-a486-4c8b61afea1f",
   "metadata": {},
   "outputs": [],
   "source": [
    "CANDIDATES_DIR = constants.INPUTDIR / \"kfujikawa/kf-bms-candidates-0523\"\n",
    "valid_candidates_df = pd.read_csv(CANDIDATES_DIR / \"valid_candidates.csv\")\n",
    "test_candidates_df = pd.read_csv(CANDIDATES_DIR / \"test_candidates.csv\")"
   ]
  },
  {
   "cell_type": "code",
   "execution_count": 5,
   "id": "d12b48ad-f5f7-44cd-b22a-d930c8095c8a",
   "metadata": {},
   "outputs": [
    {
     "data": {
      "application/vnd.jupyter.widget-view+json": {
       "model_id": "a1903f4511704b0d83bfe70010cd69b9",
       "version_major": 2,
       "version_minor": 0
      },
      "text/plain": [
       "HBox(children=(HTML(value=''), FloatProgress(value=0.0, max=3.0), HTML(value='')))"
      ]
     },
     "metadata": {},
     "output_type": "display_data"
    },
    {
     "name": "stdout",
     "output_type": "stream",
     "text": [
      "\n"
     ]
    },
    {
     "data": {
      "text/html": [
       "<div>\n",
       "<style scoped>\n",
       "    .dataframe tbody tr th:only-of-type {\n",
       "        vertical-align: middle;\n",
       "    }\n",
       "\n",
       "    .dataframe tbody tr th {\n",
       "        vertical-align: top;\n",
       "    }\n",
       "\n",
       "    .dataframe thead th {\n",
       "        text-align: right;\n",
       "    }\n",
       "</style>\n",
       "<table border=\"1\" class=\"dataframe\">\n",
       "  <thead>\n",
       "    <tr style=\"text-align: right;\">\n",
       "      <th></th>\n",
       "      <th>image_id</th>\n",
       "      <th>normed_InChI</th>\n",
       "      <th>normed_score</th>\n",
       "    </tr>\n",
       "  </thead>\n",
       "  <tbody>\n",
       "    <tr>\n",
       "      <th>0</th>\n",
       "      <td>a3c096ab64e7</td>\n",
       "      <td>InChI=1S/C56H90O6/c1-4-7-10-13-16-19-22-25-26-...</td>\n",
       "      <td>0.033260</td>\n",
       "    </tr>\n",
       "    <tr>\n",
       "      <th>1</th>\n",
       "      <td>01d9b7ce6ba1</td>\n",
       "      <td>InChI=1S/C61H104O6/c1-4-7-10-13-16-19-22-24-26...</td>\n",
       "      <td>0.013260</td>\n",
       "    </tr>\n",
       "    <tr>\n",
       "      <th>2</th>\n",
       "      <td>75c32fbd3779</td>\n",
       "      <td>InChI=1S/C72H135NO5/c1-3-5-7-9-11-13-15-17-19-...</td>\n",
       "      <td>0.035122</td>\n",
       "    </tr>\n",
       "    <tr>\n",
       "      <th>3</th>\n",
       "      <td>b440ab35d6a0</td>\n",
       "      <td>InChI=1S/C57H92O6/c1-4-7-10-13-16-19-22-25-27-...</td>\n",
       "      <td>0.032751</td>\n",
       "    </tr>\n",
       "    <tr>\n",
       "      <th>4</th>\n",
       "      <td>807b043f3c86</td>\n",
       "      <td>InChI=1S/C55H88O6/c1-4-7-10-13-16-19-22-25-27-...</td>\n",
       "      <td>0.027721</td>\n",
       "    </tr>\n",
       "  </tbody>\n",
       "</table>\n",
       "</div>"
      ],
      "text/plain": [
       "       image_id                                       normed_InChI  \\\n",
       "0  a3c096ab64e7  InChI=1S/C56H90O6/c1-4-7-10-13-16-19-22-25-26-...   \n",
       "1  01d9b7ce6ba1  InChI=1S/C61H104O6/c1-4-7-10-13-16-19-22-24-26...   \n",
       "2  75c32fbd3779  InChI=1S/C72H135NO5/c1-3-5-7-9-11-13-15-17-19-...   \n",
       "3  b440ab35d6a0  InChI=1S/C57H92O6/c1-4-7-10-13-16-19-22-25-27-...   \n",
       "4  807b043f3c86  InChI=1S/C55H88O6/c1-4-7-10-13-16-19-22-25-27-...   \n",
       "\n",
       "   normed_score  \n",
       "0      0.033260  \n",
       "1      0.013260  \n",
       "2      0.035122  \n",
       "3      0.032751  \n",
       "4      0.027721  "
      ]
     },
     "execution_count": 5,
     "metadata": {},
     "output_type": "execute_result"
    }
   ],
   "source": [
    "COLUMNS = [\n",
    "    \"image_id\", \"normed_InChI\", \"normed_score\"\n",
    "]\n",
    "MODEL = \"1113_swin_large_bert_384\"\n",
    "VALID_CSVs = [\n",
    "    constants.OUTPUTDIR / MODEL / \"valid_beam=1.csv\",\n",
    "    constants.OUTPUTDIR / MODEL / \"valid_beam=4.csv\",\n",
    "    constants.OUTPUTDIR / MODEL / \"candidate_0521_1113_swin_large_bert_384.csv\",\n",
    "]\n",
    "valid_predictions_df = pd.concat([\n",
    "    pd.read_csv(filename, usecols=COLUMNS)\n",
    "    for filename in tqdm(VALID_CSVs)\n",
    "], ignore_index=True)\n",
    "valid_predictions_df = valid_predictions_df.drop_duplicates(subset=[\"image_id\", \"normed_InChI\"])\n",
    "valid_predictions_df.head()"
   ]
  },
  {
   "cell_type": "code",
   "execution_count": 6,
   "id": "f97f2d5d-a2f6-4299-aa1e-0896207bd352",
   "metadata": {},
   "outputs": [],
   "source": [
    "valid_presets_df = valid_candidates_df.merge(valid_predictions_df)\n",
    "valid_presets_df.to_csv(constants.OUTPUTDIR / MODEL / f\"valid_candidates_{CANDIDATES_DIR.name}.csv\", index=False)"
   ]
  },
  {
   "cell_type": "code",
   "execution_count": 7,
   "id": "0e15f326-7c11-4f52-9161-7651a7d20a6d",
   "metadata": {},
   "outputs": [
    {
     "data": {
      "application/vnd.jupyter.widget-view+json": {
       "model_id": "e419354695de43e7acfdbb209f880ba4",
       "version_major": 2,
       "version_minor": 0
      },
      "text/plain": [
       "HBox(children=(HTML(value=''), FloatProgress(value=0.0, max=2.0), HTML(value='')))"
      ]
     },
     "metadata": {},
     "output_type": "display_data"
    },
    {
     "name": "stdout",
     "output_type": "stream",
     "text": [
      "\n"
     ]
    },
    {
     "data": {
      "text/html": [
       "<div>\n",
       "<style scoped>\n",
       "    .dataframe tbody tr th:only-of-type {\n",
       "        vertical-align: middle;\n",
       "    }\n",
       "\n",
       "    .dataframe tbody tr th {\n",
       "        vertical-align: top;\n",
       "    }\n",
       "\n",
       "    .dataframe thead th {\n",
       "        text-align: right;\n",
       "    }\n",
       "</style>\n",
       "<table border=\"1\" class=\"dataframe\">\n",
       "  <thead>\n",
       "    <tr style=\"text-align: right;\">\n",
       "      <th></th>\n",
       "      <th>image_id</th>\n",
       "      <th>normed_InChI</th>\n",
       "      <th>normed_score</th>\n",
       "    </tr>\n",
       "  </thead>\n",
       "  <tbody>\n",
       "    <tr>\n",
       "      <th>0</th>\n",
       "      <td>c23b605c64d9</td>\n",
       "      <td>InChI=1S/C42H84O15/c1-3-42(43)57-41-15-5-23-49...</td>\n",
       "      <td>0.128493</td>\n",
       "    </tr>\n",
       "    <tr>\n",
       "      <th>1</th>\n",
       "      <td>f5ecb39ddbc8</td>\n",
       "      <td>InChI=1S/C62H120O22/c1-63-6-7-65-8-9-66-10-11-...</td>\n",
       "      <td>0.248977</td>\n",
       "    </tr>\n",
       "    <tr>\n",
       "      <th>2</th>\n",
       "      <td>30153e0d3737</td>\n",
       "      <td>InChI=1S/C63H116O6/c1-4-7-10-13-16-19-22-25-28...</td>\n",
       "      <td>0.031166</td>\n",
       "    </tr>\n",
       "    <tr>\n",
       "      <th>3</th>\n",
       "      <td>ce3b82556a4f</td>\n",
       "      <td>InChI=1S/C42H84O21/c1-4-42(2,3)41(44)63-40-39-...</td>\n",
       "      <td>0.048358</td>\n",
       "    </tr>\n",
       "    <tr>\n",
       "      <th>4</th>\n",
       "      <td>a81b9e381215</td>\n",
       "      <td>InChI=1S/C60H125NO5/c1-3-5-7-9-11-13-15-17-19-...</td>\n",
       "      <td>0.022294</td>\n",
       "    </tr>\n",
       "  </tbody>\n",
       "</table>\n",
       "</div>"
      ],
      "text/plain": [
       "       image_id                                       normed_InChI  \\\n",
       "0  c23b605c64d9  InChI=1S/C42H84O15/c1-3-42(43)57-41-15-5-23-49...   \n",
       "1  f5ecb39ddbc8  InChI=1S/C62H120O22/c1-63-6-7-65-8-9-66-10-11-...   \n",
       "2  30153e0d3737  InChI=1S/C63H116O6/c1-4-7-10-13-16-19-22-25-28...   \n",
       "3  ce3b82556a4f  InChI=1S/C42H84O21/c1-4-42(2,3)41(44)63-40-39-...   \n",
       "4  a81b9e381215  InChI=1S/C60H125NO5/c1-3-5-7-9-11-13-15-17-19-...   \n",
       "\n",
       "   normed_score  \n",
       "0      0.128493  \n",
       "1      0.248977  \n",
       "2      0.031166  \n",
       "3      0.048358  \n",
       "4      0.022294  "
      ]
     },
     "execution_count": 7,
     "metadata": {},
     "output_type": "execute_result"
    }
   ],
   "source": [
    "TEST_CSVs = [\n",
    "    constants.OUTPUTDIR / MODEL / \"test_beam=1.csv\",\n",
    "    constants.OUTPUTDIR / MODEL / \"test_beam=4.csv\",\n",
    "]\n",
    "test_predictions_df = pd.concat([\n",
    "    pd.read_csv(filename, usecols=COLUMNS)\n",
    "    for filename in tqdm(TEST_CSVs)\n",
    "], ignore_index=True)\n",
    "test_predictions_df = test_predictions_df.drop_duplicates(subset=[\"image_id\", \"normed_InChI\"])\n",
    "test_predictions_df.head()"
   ]
  },
  {
   "cell_type": "code",
   "execution_count": 8,
   "id": "24180d8b-eaac-46b9-b15c-e4278b52b888",
   "metadata": {},
   "outputs": [],
   "source": [
    "test_presets_df = test_candidates_df.merge(test_predictions_df)\n",
    "test_presets_df.to_csv(constants.OUTPUTDIR / MODEL / f\"test_candidates_{CANDIDATES_DIR.name}.csv\", index=False)"
   ]
  },
  {
   "cell_type": "code",
   "execution_count": 9,
   "id": "c099b792-a950-43ee-b5c2-5ad2410ae513",
   "metadata": {},
   "outputs": [
    {
     "data": {
      "text/html": [
       "<div>\n",
       "<style scoped>\n",
       "    .dataframe tbody tr th:only-of-type {\n",
       "        vertical-align: middle;\n",
       "    }\n",
       "\n",
       "    .dataframe tbody tr th {\n",
       "        vertical-align: top;\n",
       "    }\n",
       "\n",
       "    .dataframe thead th {\n",
       "        text-align: right;\n",
       "    }\n",
       "</style>\n",
       "<table border=\"1\" class=\"dataframe\">\n",
       "  <thead>\n",
       "    <tr style=\"text-align: right;\">\n",
       "      <th></th>\n",
       "      <th>image_id</th>\n",
       "      <th>normed_InChI</th>\n",
       "      <th>is_valid</th>\n",
       "      <th>normed_score</th>\n",
       "    </tr>\n",
       "  </thead>\n",
       "  <tbody>\n",
       "    <tr>\n",
       "      <th>0</th>\n",
       "      <td>c23b605c64d9</td>\n",
       "      <td>InChI=1S/C42H84O15/c1-3-42(43)57-41-15-5-23-49...</td>\n",
       "      <td>False</td>\n",
       "      <td>0.128493</td>\n",
       "    </tr>\n",
       "    <tr>\n",
       "      <th>1</th>\n",
       "      <td>f5ecb39ddbc8</td>\n",
       "      <td>InChI=1S/C62H120O22/c1-63-6-7-65-8-9-66-10-11-...</td>\n",
       "      <td>False</td>\n",
       "      <td>0.248977</td>\n",
       "    </tr>\n",
       "    <tr>\n",
       "      <th>2</th>\n",
       "      <td>30153e0d3737</td>\n",
       "      <td>InChI=1S/C63H116O6/c1-4-7-10-13-16-19-22-25-28...</td>\n",
       "      <td>False</td>\n",
       "      <td>0.031166</td>\n",
       "    </tr>\n",
       "    <tr>\n",
       "      <th>3</th>\n",
       "      <td>ce3b82556a4f</td>\n",
       "      <td>InChI=1S/C42H84O21/c1-4-42(2,3)41(44)63-40-39-...</td>\n",
       "      <td>False</td>\n",
       "      <td>0.048358</td>\n",
       "    </tr>\n",
       "    <tr>\n",
       "      <th>4</th>\n",
       "      <td>a81b9e381215</td>\n",
       "      <td>InChI=1S/C60H125NO5/c1-3-5-7-9-11-13-15-17-19-...</td>\n",
       "      <td>False</td>\n",
       "      <td>0.022294</td>\n",
       "    </tr>\n",
       "    <tr>\n",
       "      <th>...</th>\n",
       "      <td>...</td>\n",
       "      <td>...</td>\n",
       "      <td>...</td>\n",
       "      <td>...</td>\n",
       "    </tr>\n",
       "    <tr>\n",
       "      <th>6328503</th>\n",
       "      <td>809c403155f7</td>\n",
       "      <td>InChI=1S/C3HF3O2/c4-2(5)1(8)9-3(2,6)7</td>\n",
       "      <td>False</td>\n",
       "      <td>0.198270</td>\n",
       "    </tr>\n",
       "    <tr>\n",
       "      <th>6328504</th>\n",
       "      <td>809c403155f7</td>\n",
       "      <td>InChI=1S/C3F4O2/c4-2(5)1(9)10-3(2,6)7/b8</td>\n",
       "      <td>False</td>\n",
       "      <td>0.265043</td>\n",
       "    </tr>\n",
       "    <tr>\n",
       "      <th>6328505</th>\n",
       "      <td>c2d86f19e139</td>\n",
       "      <td>InChI=1S/C3F3NS/c4-1-2(5)8-3(6)7-1</td>\n",
       "      <td>True</td>\n",
       "      <td>0.124100</td>\n",
       "    </tr>\n",
       "    <tr>\n",
       "      <th>6328506</th>\n",
       "      <td>c2d86f19e139</td>\n",
       "      <td>InChI=1S/C3Cl3NS/c4-1-2(5)8-3(6)7-1/h(H,7,8)</td>\n",
       "      <td>False</td>\n",
       "      <td>0.147435</td>\n",
       "    </tr>\n",
       "    <tr>\n",
       "      <th>6328507</th>\n",
       "      <td>c2d86f19e139</td>\n",
       "      <td>InChI=1S/C3Cl3NS/c4-1-2(5)8-3(6)7-1/h(H,7,9)</td>\n",
       "      <td>False</td>\n",
       "      <td>0.150653</td>\n",
       "    </tr>\n",
       "  </tbody>\n",
       "</table>\n",
       "<p>6328508 rows × 4 columns</p>\n",
       "</div>"
      ],
      "text/plain": [
       "             image_id                                       normed_InChI  \\\n",
       "0        c23b605c64d9  InChI=1S/C42H84O15/c1-3-42(43)57-41-15-5-23-49...   \n",
       "1        f5ecb39ddbc8  InChI=1S/C62H120O22/c1-63-6-7-65-8-9-66-10-11-...   \n",
       "2        30153e0d3737  InChI=1S/C63H116O6/c1-4-7-10-13-16-19-22-25-28...   \n",
       "3        ce3b82556a4f  InChI=1S/C42H84O21/c1-4-42(2,3)41(44)63-40-39-...   \n",
       "4        a81b9e381215  InChI=1S/C60H125NO5/c1-3-5-7-9-11-13-15-17-19-...   \n",
       "...               ...                                                ...   \n",
       "6328503  809c403155f7              InChI=1S/C3HF3O2/c4-2(5)1(8)9-3(2,6)7   \n",
       "6328504  809c403155f7           InChI=1S/C3F4O2/c4-2(5)1(9)10-3(2,6)7/b8   \n",
       "6328505  c2d86f19e139                 InChI=1S/C3F3NS/c4-1-2(5)8-3(6)7-1   \n",
       "6328506  c2d86f19e139       InChI=1S/C3Cl3NS/c4-1-2(5)8-3(6)7-1/h(H,7,8)   \n",
       "6328507  c2d86f19e139       InChI=1S/C3Cl3NS/c4-1-2(5)8-3(6)7-1/h(H,7,9)   \n",
       "\n",
       "         is_valid  normed_score  \n",
       "0           False      0.128493  \n",
       "1           False      0.248977  \n",
       "2           False      0.031166  \n",
       "3           False      0.048358  \n",
       "4           False      0.022294  \n",
       "...           ...           ...  \n",
       "6328503     False      0.198270  \n",
       "6328504     False      0.265043  \n",
       "6328505      True      0.124100  \n",
       "6328506     False      0.147435  \n",
       "6328507     False      0.150653  \n",
       "\n",
       "[6328508 rows x 4 columns]"
      ]
     },
     "execution_count": 9,
     "metadata": {},
     "output_type": "execute_result"
    }
   ],
   "source": [
    "test_presets_df"
   ]
  },
  {
   "cell_type": "code",
   "execution_count": null,
   "id": "55bbfc1d-2c24-464b-809a-a18c418146e6",
   "metadata": {},
   "outputs": [],
   "source": []
  }
 ],
 "metadata": {
  "kernelspec": {
   "display_name": "Python 3",
   "language": "python",
   "name": "python3"
  },
  "language_info": {
   "codemirror_mode": {
    "name": "ipython",
    "version": 3
   },
   "file_extension": ".py",
   "mimetype": "text/x-python",
   "name": "python",
   "nbconvert_exporter": "python",
   "pygments_lexer": "ipython3",
   "version": "3.8.5"
  }
 },
 "nbformat": 4,
 "nbformat_minor": 5
}
