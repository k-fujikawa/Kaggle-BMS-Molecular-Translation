{
 "cells": [
  {
   "cell_type": "code",
   "execution_count": 1,
   "id": "fiscal-revision",
   "metadata": {},
   "outputs": [
    {
     "name": "stdout",
     "output_type": "stream",
     "text": [
      "INFO: Pandarallel will run on 8 workers.\n",
      "INFO: Pandarallel will use Memory file system to transfer data between the main process and workers.\n"
     ]
    }
   ],
   "source": [
    "import re\n",
    "import numpy as np\n",
    "import pandas as pd\n",
    "from rdkit import Chem\n",
    "from tqdm.auto import tqdm\n",
    "from pandarallel import pandarallel\n",
    "\n",
    "from nncomp_molecule import constants\n",
    "\n",
    "tqdm.pandas()\n",
    "pandarallel.initialize(progress_bar=True)"
   ]
  },
  {
   "cell_type": "code",
   "execution_count": 2,
   "id": "purple-symphony",
   "metadata": {},
   "outputs": [
    {
     "data": {
      "text/html": [
       "<div>\n",
       "<style scoped>\n",
       "    .dataframe tbody tr th:only-of-type {\n",
       "        vertical-align: middle;\n",
       "    }\n",
       "\n",
       "    .dataframe tbody tr th {\n",
       "        vertical-align: top;\n",
       "    }\n",
       "\n",
       "    .dataframe thead th {\n",
       "        text-align: right;\n",
       "    }\n",
       "</style>\n",
       "<table border=\"1\" class=\"dataframe\">\n",
       "  <thead>\n",
       "    <tr style=\"text-align: right;\">\n",
       "      <th></th>\n",
       "      <th>image_id</th>\n",
       "      <th>InChI</th>\n",
       "    </tr>\n",
       "  </thead>\n",
       "  <tbody>\n",
       "    <tr>\n",
       "      <th>0</th>\n",
       "      <td>000011a64c74</td>\n",
       "      <td>InChI=1S/C13H20OS/c1-9(2)8-15-13-6-5-10(3)7-12...</td>\n",
       "    </tr>\n",
       "    <tr>\n",
       "      <th>1</th>\n",
       "      <td>000019cc0cd2</td>\n",
       "      <td>InChI=1S/C21H30O4/c1-12(22)25-14-6-8-20(2)13(1...</td>\n",
       "    </tr>\n",
       "    <tr>\n",
       "      <th>2</th>\n",
       "      <td>0000252b6d2b</td>\n",
       "      <td>InChI=1S/C24H23N5O4/c1-14-13-15(7-8-17(14)28-1...</td>\n",
       "    </tr>\n",
       "    <tr>\n",
       "      <th>3</th>\n",
       "      <td>000026b49b7e</td>\n",
       "      <td>InChI=1S/C17H24N2O4S/c1-12(20)18-13(14-7-6-10-...</td>\n",
       "    </tr>\n",
       "    <tr>\n",
       "      <th>4</th>\n",
       "      <td>000026fc6c36</td>\n",
       "      <td>InChI=1S/C10H19N3O2S/c1-15-10(14)12-8-4-6-13(7...</td>\n",
       "    </tr>\n",
       "  </tbody>\n",
       "</table>\n",
       "</div>"
      ],
      "text/plain": [
       "       image_id                                              InChI\n",
       "0  000011a64c74  InChI=1S/C13H20OS/c1-9(2)8-15-13-6-5-10(3)7-12...\n",
       "1  000019cc0cd2  InChI=1S/C21H30O4/c1-12(22)25-14-6-8-20(2)13(1...\n",
       "2  0000252b6d2b  InChI=1S/C24H23N5O4/c1-14-13-15(7-8-17(14)28-1...\n",
       "3  000026b49b7e  InChI=1S/C17H24N2O4S/c1-12(20)18-13(14-7-6-10-...\n",
       "4  000026fc6c36  InChI=1S/C10H19N3O2S/c1-15-10(14)12-8-4-6-13(7..."
      ]
     },
     "metadata": {},
     "output_type": "display_data"
    },
    {
     "data": {
      "text/html": [
       "<div>\n",
       "<style scoped>\n",
       "    .dataframe tbody tr th:only-of-type {\n",
       "        vertical-align: middle;\n",
       "    }\n",
       "\n",
       "    .dataframe tbody tr th {\n",
       "        vertical-align: top;\n",
       "    }\n",
       "\n",
       "    .dataframe thead th {\n",
       "        text-align: right;\n",
       "    }\n",
       "</style>\n",
       "<table border=\"1\" class=\"dataframe\">\n",
       "  <thead>\n",
       "    <tr style=\"text-align: right;\">\n",
       "      <th></th>\n",
       "      <th>image_id</th>\n",
       "      <th>InChI</th>\n",
       "    </tr>\n",
       "  </thead>\n",
       "  <tbody>\n",
       "    <tr>\n",
       "      <th>0</th>\n",
       "      <td>00000d2a601c</td>\n",
       "      <td>InChI=1S/H2O/h1H2</td>\n",
       "    </tr>\n",
       "    <tr>\n",
       "      <th>1</th>\n",
       "      <td>00001f7fc849</td>\n",
       "      <td>InChI=1S/H2O/h1H2</td>\n",
       "    </tr>\n",
       "    <tr>\n",
       "      <th>2</th>\n",
       "      <td>000037687605</td>\n",
       "      <td>InChI=1S/H2O/h1H2</td>\n",
       "    </tr>\n",
       "    <tr>\n",
       "      <th>3</th>\n",
       "      <td>00004b6d55b6</td>\n",
       "      <td>InChI=1S/H2O/h1H2</td>\n",
       "    </tr>\n",
       "    <tr>\n",
       "      <th>4</th>\n",
       "      <td>00004df0fe53</td>\n",
       "      <td>InChI=1S/H2O/h1H2</td>\n",
       "    </tr>\n",
       "  </tbody>\n",
       "</table>\n",
       "</div>"
      ],
      "text/plain": [
       "       image_id              InChI\n",
       "0  00000d2a601c  InChI=1S/H2O/h1H2\n",
       "1  00001f7fc849  InChI=1S/H2O/h1H2\n",
       "2  000037687605  InChI=1S/H2O/h1H2\n",
       "3  00004b6d55b6  InChI=1S/H2O/h1H2\n",
       "4  00004df0fe53  InChI=1S/H2O/h1H2"
      ]
     },
     "metadata": {},
     "output_type": "display_data"
    }
   ],
   "source": [
    "train_df = pd.read_csv(constants.COMPETITION_DATADIR / \"train_labels.csv\")\n",
    "submission_df = pd.read_csv(constants.COMPETITION_DATADIR / \"sample_submission.csv\")\n",
    "\n",
    "display(train_df.head())\n",
    "display(submission_df.head())"
   ]
  },
  {
   "cell_type": "code",
   "execution_count": 3,
   "id": "electric-custom",
   "metadata": {},
   "outputs": [
    {
     "data": {
      "text/plain": [
       "<AxesSubplot:>"
      ]
     },
     "execution_count": 3,
     "metadata": {},
     "output_type": "execute_result"
    },
    {
     "data": {
      "image/png": "[encoded data removed]",
      "text/plain": [
       "<Figure size 432x288 with 1 Axes>"
      ]
     },
     "metadata": {
      "needs_background": "light"
     },
     "output_type": "display_data"
    }
   ],
   "source": [
    "train_df.InChI.apply(len).hist()"
   ]
  },
  {
   "cell_type": "code",
   "execution_count": 4,
   "id": "sunset-developer",
   "metadata": {},
   "outputs": [
    {
     "data": {
      "text/plain": [
       "{'InChI_atoms': 'C15H14N2O',\n",
       " 'InChI_c': 'c1-17-14(11-7-3-2-4-8-11)16-13-10-6-5-9-12(13)15(17)18',\n",
       " 'InChI_h': 'h2-10,14,16H,1H3',\n",
       " 'InChI_sub': 'i/hD'}"
      ]
     },
     "execution_count": 4,
     "metadata": {},
     "output_type": "execute_result"
    }
   ],
   "source": [
    "def parse_inchi(inchi):\n",
    "    inchi_layers = inchi.split(\"/\")\n",
    "    inchi_h = \"\"\n",
    "    inchi_sublayers = []\n",
    "    if len(inchi_layers) > 3:\n",
    "        if inchi_layers[3].startswith(\"h\"):\n",
    "            inchi_h = inchi_layers[3]\n",
    "        else:\n",
    "            inchi_sublayers.append(inchi_layers[3])\n",
    "    if len(inchi_layers) > 4:\n",
    "        inchi_sublayers.extend(inchi_layers[4:])\n",
    "    return {\n",
    "        \"InChI_atoms\": inchi_layers[1],\n",
    "        \"InChI_c\": inchi_layers[2],\n",
    "        \"InChI_h\": inchi_h,\n",
    "        \"InChI_sub\": \"/\".join(inchi_sublayers),\n",
    "    }\n",
    "\n",
    "\n",
    "parse_inchi(train_df.InChI[3476])"
   ]
  },
  {
   "cell_type": "code",
   "execution_count": 5,
   "id": "elder-potter",
   "metadata": {},
   "outputs": [
    {
     "data": {
      "application/vnd.jupyter.widget-view+json": {
       "model_id": "2ec92aa4cd00491f963733a481d28038",
       "version_major": 2,
       "version_minor": 0
      },
      "text/plain": [
       "VBox(children=(HBox(children=(IntProgress(value=0, description='0.00%', max=303024), Label(value='0 / 303024')…"
      ]
     },
     "metadata": {},
     "output_type": "display_data"
    }
   ],
   "source": [
    "inchi_layers_df = train_df.InChI.parallel_apply(parse_inchi)\n",
    "inchi_layers_df = pd.DataFrame(inchi_layers_df.tolist())\n",
    "train_df = train_df.assign(**inchi_layers_df)"
   ]
  },
  {
   "cell_type": "code",
   "execution_count": 6,
   "id": "heated-tactics",
   "metadata": {},
   "outputs": [
    {
     "data": {
      "application/vnd.jupyter.widget-view+json": {
       "model_id": "cb4515b0b4694a2f8f5310e3d92efca6",
       "version_major": 2,
       "version_minor": 0
      },
      "text/plain": [
       "HBox(children=(HTML(value=''), FloatProgress(value=0.0, max=2424186.0), HTML(value='')))"
      ]
     },
     "metadata": {},
     "output_type": "display_data"
    },
    {
     "name": "stdout",
     "output_type": "stream",
     "text": [
      "\n"
     ]
    },
    {
     "data": {
      "text/plain": [
       "0"
      ]
     },
     "execution_count": 6,
     "metadata": {},
     "output_type": "execute_result"
    }
   ],
   "source": [
    "def decode_inchi(row):\n",
    "    inchi = \"InChI=1S/\" + row.InChI_atoms\n",
    "    inchi += \"/\" + row.InChI_c\n",
    "    if row.InChI_h != \"\":\n",
    "        inchi += \"/\" + row.InChI_h\n",
    "    if row.InChI_sub != \"\":\n",
    "        inchi += \"/\" + row.InChI_sub\n",
    "    return inchi\n",
    "\n",
    "\n",
    "train_df[\"decoded_InChI\"] = train_df.progress_apply(decode_inchi, axis=1)\n",
    "train_df[\"is_reproduced\"] = (train_df.decoded_InChI == train_df.InChI)\n",
    "len(train_df.query(\"~is_reproduced\"))"
   ]
  },
  {
   "cell_type": "code",
   "execution_count": 7,
   "id": "revised-thursday",
   "metadata": {},
   "outputs": [
    {
     "data": {
      "text/plain": [
       "(139, 267, 92)"
      ]
     },
     "execution_count": 7,
     "metadata": {},
     "output_type": "execute_result"
    }
   ],
   "source": [
    "train_df[\"InChI_h_len\"] = train_df.InChI_h.apply(len)\n",
    "train_df[\"InChI_c_len\"] = train_df.InChI_c.apply(len)\n",
    "train_df[\"InChI_sub_len\"] = train_df.InChI_sub.apply(len)\n",
    "train_df.InChI_h_len.max(), train_df.InChI_c_len.max(), train_df.InChI_sub_len.max()"
   ]
  },
  {
   "cell_type": "code",
   "execution_count": 32,
   "id": "practical-cover",
   "metadata": {},
   "outputs": [
    {
     "data": {
      "application/vnd.jupyter.widget-view+json": {
       "model_id": "cff64a9115484b0fbbcbdd6d519e2b33",
       "version_major": 2,
       "version_minor": 0
      },
      "text/plain": [
       "HBox(children=(HTML(value=''), FloatProgress(value=0.0, max=2424186.0), HTML(value='')))"
      ]
     },
     "metadata": {},
     "output_type": "display_data"
    },
    {
     "name": "stdout",
     "output_type": "stream",
     "text": [
      "\n"
     ]
    },
    {
     "data": {
      "text/plain": [
       "Counter({'C': 43578389,\n",
       "         'O': 5999833,\n",
       "         'S': 930321,\n",
       "         'N': 6388664,\n",
       "         'Br': 213052,\n",
       "         'F': 934721,\n",
       "         'Cl': 537676,\n",
       "         'P': 19716,\n",
       "         'Si': 22882,\n",
       "         'B': 7182,\n",
       "         'I': 29476,\n",
       "         'H': 6766})"
      ]
     },
     "execution_count": 32,
     "metadata": {},
     "output_type": "execute_result"
    }
   ],
   "source": [
    "from collections import Counter\n",
    "\n",
    "counter = Counter()\n",
    "train_df.mol.progress_apply(\n",
    "    lambda mol:\n",
    "    counter.update([atom.GetSymbol() for atom in mol.GetAtoms()])\n",
    ")\n",
    "counter"
   ]
  },
  {
   "cell_type": "code",
   "execution_count": 33,
   "id": "upset-bathroom",
   "metadata": {},
   "outputs": [
    {
     "data": {
      "text/plain": [
       "'InChI=1S/C13H20OS/c1-9(2)8-15-13-6-5-10(3)7-12(13)11(4)14/h5-7,9,11,14H,8H2,1-4H3'"
      ]
     },
     "execution_count": 33,
     "metadata": {},
     "output_type": "execute_result"
    }
   ],
   "source": [
    "train_df.InChI[0]"
   ]
  },
  {
   "cell_type": "code",
   "execution_count": null,
   "id": "increasing-vector",
   "metadata": {},
   "outputs": [],
   "source": []
  }
 ],
 "metadata": {
  "kernelspec": {
   "display_name": "Python 3",
   "language": "python",
   "name": "python3"
  },
  "language_info": {
   "codemirror_mode": {
    "name": "ipython",
    "version": 3
   },
   "file_extension": ".py",
   "mimetype": "text/x-python",
   "name": "python",
   "nbconvert_exporter": "python",
   "pygments_lexer": "ipython3",
   "version": "3.8.5"
  }
 },
 "nbformat": 4,
 "nbformat_minor": 5
}
