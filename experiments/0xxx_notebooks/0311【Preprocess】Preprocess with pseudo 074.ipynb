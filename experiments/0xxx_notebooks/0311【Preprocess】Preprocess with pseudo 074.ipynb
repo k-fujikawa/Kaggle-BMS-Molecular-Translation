{
 "cells": [
  {
   "cell_type": "markdown",
   "id": "labeled-airport",
   "metadata": {},
   "source": [
    "# Preprocess w/ pseudo (LB: 0.74)"
   ]
  },
  {
   "cell_type": "code",
   "execution_count": 1,
   "id": "behind-departure",
   "metadata": {},
   "outputs": [
    {
     "name": "stderr",
     "output_type": "stream",
     "text": [
      "/opt/miniconda/lib/python3.8/site-packages/tqdm/std.py:703: FutureWarning: The Panel class is removed from pandas. Accessing it from the top-level namespace will also be removed in the next version\n",
      "  from pandas import Panel\n"
     ]
    }
   ],
   "source": [
    "import re\n",
    "import shutil\n",
    "import multiprocessing as mp\n",
    "\n",
    "import cv2\n",
    "import pandas as pd\n",
    "import tokenizers\n",
    "from dataclasses import dataclass\n",
    "from pathlib import Path\n",
    "from rdkit import Chem\n",
    "from tqdm.auto import tqdm\n",
    "\n",
    "tqdm.pandas()"
   ]
  },
  {
   "cell_type": "code",
   "execution_count": 2,
   "id": "coordinate-wildlife",
   "metadata": {},
   "outputs": [],
   "source": [
    "%load_ext autoreload\n",
    "%autoreload 2\n",
    "from nncomp_molecule import constants\n",
    "from nncomp_molecule.preprocessors import normalize_inchi_batch, disable_rdlogger"
   ]
  },
  {
   "cell_type": "markdown",
   "id": "matched-humanity",
   "metadata": {},
   "source": [
    "## Config"
   ]
  },
  {
   "cell_type": "code",
   "execution_count": 3,
   "id": "banner-midwest",
   "metadata": {},
   "outputs": [],
   "source": [
    "NOTEBOOK_ID = \"bms-preprocess-with-pseudo-lb074\"\n",
    "KFOLD_PATH = constants.INPUTDIR / \"kfujikawa\" / \"bms-kfold\" / \"10fold.csv\"\n",
    "OUTDIR = constants.INPUTDIR / \"kfujikawa\" / NOTEBOOK_ID"
   ]
  },
  {
   "cell_type": "markdown",
   "id": "incomplete-throat",
   "metadata": {
    "tags": []
   },
   "source": [
    "## Preprocess"
   ]
  },
  {
   "cell_type": "code",
   "execution_count": 4,
   "id": "coordinate-saskatchewan",
   "metadata": {},
   "outputs": [
    {
     "name": "stdout",
     "output_type": "stream",
     "text": [
      "/work/input/kfujikawa/bms-preprocess-with-pseudo-lb074/train.pkl: False\n",
      "/work/input/kfujikawa/bms-preprocess-with-pseudo-lb074/test.pkl: False\n"
     ]
    }
   ],
   "source": [
    "OUTDIR.mkdir(parents=True, exist_ok=True)\n",
    "print(f\"{OUTDIR / 'train.pkl'}: {(OUTDIR / 'train.pkl').exists()}\")\n",
    "print(f\"{OUTDIR / 'test.pkl'}: {(OUTDIR / 'test.pkl').exists()}\")"
   ]
  },
  {
   "cell_type": "markdown",
   "id": "practical-topic",
   "metadata": {},
   "source": [
    "### Preprocess train dataset"
   ]
  },
  {
   "cell_type": "code",
   "execution_count": 5,
   "id": "adjusted-plant",
   "metadata": {},
   "outputs": [
    {
     "data": {
      "application/vnd.jupyter.widget-view+json": {
       "model_id": "4f69e8f14d5645f6bc71294fe899e0f3",
       "version_major": 2,
       "version_minor": 0
      },
      "text/plain": [
       "HBox(children=(HTML(value=''), FloatProgress(value=0.0, max=2424186.0), HTML(value='')))"
      ]
     },
     "metadata": {},
     "output_type": "display_data"
    },
    {
     "name": "stdout",
     "output_type": "stream",
     "text": [
      "\n"
     ]
    },
    {
     "data": {
      "text/html": [
       "<div>\n",
       "<style scoped>\n",
       "    .dataframe tbody tr th:only-of-type {\n",
       "        vertical-align: middle;\n",
       "    }\n",
       "\n",
       "    .dataframe tbody tr th {\n",
       "        vertical-align: top;\n",
       "    }\n",
       "\n",
       "    .dataframe thead th {\n",
       "        text-align: right;\n",
       "    }\n",
       "</style>\n",
       "<table border=\"1\" class=\"dataframe\">\n",
       "  <thead>\n",
       "    <tr style=\"text-align: right;\">\n",
       "      <th></th>\n",
       "      <th>image_id</th>\n",
       "      <th>InChI</th>\n",
       "      <th>image_path</th>\n",
       "      <th>InChI_length</th>\n",
       "      <th>is_pseudo</th>\n",
       "    </tr>\n",
       "  </thead>\n",
       "  <tbody>\n",
       "    <tr>\n",
       "      <th>0</th>\n",
       "      <td>4435736fd10b</td>\n",
       "      <td>InChI=1S/C65H110O6/c1-4-7-10-13-16-19-22-25-28...</td>\n",
       "      <td>/work/input/bms-molecular-translation/train/4/...</td>\n",
       "      <td>403</td>\n",
       "      <td>False</td>\n",
       "    </tr>\n",
       "    <tr>\n",
       "      <th>1</th>\n",
       "      <td>8c0e35ce3f1f</td>\n",
       "      <td>InChI=1S/C60H98O6/c1-4-7-10-13-16-19-22-25-27-...</td>\n",
       "      <td>/work/input/bms-molecular-translation/train/8/...</td>\n",
       "      <td>398</td>\n",
       "      <td>False</td>\n",
       "    </tr>\n",
       "    <tr>\n",
       "      <th>2</th>\n",
       "      <td>934593ad3cae</td>\n",
       "      <td>InChI=1S/C63H106O6/c1-4-7-10-13-16-19-22-25-27...</td>\n",
       "      <td>/work/input/bms-molecular-translation/train/9/...</td>\n",
       "      <td>397</td>\n",
       "      <td>False</td>\n",
       "    </tr>\n",
       "    <tr>\n",
       "      <th>3</th>\n",
       "      <td>c963808e309d</td>\n",
       "      <td>InChI=1S/C59H92O6/c1-4-7-10-13-16-19-22-25-28-...</td>\n",
       "      <td>/work/input/bms-molecular-translation/train/c/...</td>\n",
       "      <td>393</td>\n",
       "      <td>False</td>\n",
       "    </tr>\n",
       "    <tr>\n",
       "      <th>4</th>\n",
       "      <td>0aa425d5f5ac</td>\n",
       "      <td>InChI=1S/C62H106O6/c1-4-7-10-13-16-19-22-25-27...</td>\n",
       "      <td>/work/input/bms-molecular-translation/train/0/...</td>\n",
       "      <td>393</td>\n",
       "      <td>False</td>\n",
       "    </tr>\n",
       "  </tbody>\n",
       "</table>\n",
       "</div>"
      ],
      "text/plain": [
       "       image_id                                              InChI  \\\n",
       "0  4435736fd10b  InChI=1S/C65H110O6/c1-4-7-10-13-16-19-22-25-28...   \n",
       "1  8c0e35ce3f1f  InChI=1S/C60H98O6/c1-4-7-10-13-16-19-22-25-27-...   \n",
       "2  934593ad3cae  InChI=1S/C63H106O6/c1-4-7-10-13-16-19-22-25-27...   \n",
       "3  c963808e309d  InChI=1S/C59H92O6/c1-4-7-10-13-16-19-22-25-28-...   \n",
       "4  0aa425d5f5ac  InChI=1S/C62H106O6/c1-4-7-10-13-16-19-22-25-27...   \n",
       "\n",
       "                                          image_path  InChI_length  is_pseudo  \n",
       "0  /work/input/bms-molecular-translation/train/4/...           403      False  \n",
       "1  /work/input/bms-molecular-translation/train/8/...           398      False  \n",
       "2  /work/input/bms-molecular-translation/train/9/...           397      False  \n",
       "3  /work/input/bms-molecular-translation/train/c/...           393      False  \n",
       "4  /work/input/bms-molecular-translation/train/0/...           393      False  "
      ]
     },
     "execution_count": 5,
     "metadata": {},
     "output_type": "execute_result"
    }
   ],
   "source": [
    "train_df = pd.read_csv(constants.COMPETITION_DATADIR / \"train_labels.csv\")\n",
    "train_df[\"image_path\"] = train_df.image_id.progress_apply(\n",
    "    lambda x: str(constants.COMPETITION_DATADIR / f\"train/{x[0]}/{x[1]}/{x[2]}/{x}.png\")\n",
    ")\n",
    "train_df[\"InChI_length\"] = train_df.InChI.apply(len)\n",
    "train_df[\"is_pseudo\"] = False\n",
    "train_df = train_df.sort_values(\"InChI_length\", ascending=False).reset_index(drop=True)\n",
    "train_df.head()"
   ]
  },
  {
   "cell_type": "code",
   "execution_count": 6,
   "id": "1c31b6ae-17b4-4e6a-b43a-a5592ba69864",
   "metadata": {},
   "outputs": [
    {
     "data": {
      "application/vnd.jupyter.widget-view+json": {
       "model_id": "4fc3aa3d4f43484f8565344b4191f893",
       "version_major": 2,
       "version_minor": 0
      },
      "text/plain": [
       "HBox(children=(HTML(value=''), FloatProgress(value=0.0, max=1544273.0), HTML(value='')))"
      ]
     },
     "metadata": {},
     "output_type": "display_data"
    },
    {
     "name": "stdout",
     "output_type": "stream",
     "text": [
      "\n"
     ]
    },
    {
     "data": {
      "text/html": [
       "<div>\n",
       "<style scoped>\n",
       "    .dataframe tbody tr th:only-of-type {\n",
       "        vertical-align: middle;\n",
       "    }\n",
       "\n",
       "    .dataframe tbody tr th {\n",
       "        vertical-align: top;\n",
       "    }\n",
       "\n",
       "    .dataframe thead th {\n",
       "        text-align: right;\n",
       "    }\n",
       "</style>\n",
       "<table border=\"1\" class=\"dataframe\">\n",
       "  <thead>\n",
       "    <tr style=\"text-align: right;\">\n",
       "      <th></th>\n",
       "      <th>image_id</th>\n",
       "      <th>InChI</th>\n",
       "      <th>InChI_length</th>\n",
       "      <th>is_pseudo</th>\n",
       "      <th>image_path</th>\n",
       "    </tr>\n",
       "  </thead>\n",
       "  <tbody>\n",
       "    <tr>\n",
       "      <th>0</th>\n",
       "      <td>00000d2a601c</td>\n",
       "      <td>InChI=1S/C10H14BrN5S/c1-6-10(11)9(16(3)14-6)4-...</td>\n",
       "      <td>86</td>\n",
       "      <td>True</td>\n",
       "      <td>/work/input/bms-molecular-translation/test/0/0...</td>\n",
       "    </tr>\n",
       "    <tr>\n",
       "      <th>1</th>\n",
       "      <td>00001f7fc849</td>\n",
       "      <td>InChI=1S/C14H18ClN3/c1-2-7-16-9-13-10-17-14(18...</td>\n",
       "      <td>105</td>\n",
       "      <td>True</td>\n",
       "      <td>/work/input/bms-molecular-translation/test/0/0...</td>\n",
       "    </tr>\n",
       "    <tr>\n",
       "      <th>2</th>\n",
       "      <td>000037687605</td>\n",
       "      <td>InChI=1S/C16H13BrN2O/c1-11(20)12-6-7-13(9-18)1...</td>\n",
       "      <td>96</td>\n",
       "      <td>True</td>\n",
       "      <td>/work/input/bms-molecular-translation/test/0/0...</td>\n",
       "    </tr>\n",
       "    <tr>\n",
       "      <th>3</th>\n",
       "      <td>00004b6d55b6</td>\n",
       "      <td>InChI=1S/C14H19FN4O/c1-14(2,3)12-13(16)17-18-1...</td>\n",
       "      <td>95</td>\n",
       "      <td>True</td>\n",
       "      <td>/work/input/bms-molecular-translation/test/0/0...</td>\n",
       "    </tr>\n",
       "    <tr>\n",
       "      <th>4</th>\n",
       "      <td>000085dab281</td>\n",
       "      <td>InChI=1S/C20H38O/c1-20(2)18-16-14-12-10-8-6-4-...</td>\n",
       "      <td>95</td>\n",
       "      <td>True</td>\n",
       "      <td>/work/input/bms-molecular-translation/test/0/0...</td>\n",
       "    </tr>\n",
       "  </tbody>\n",
       "</table>\n",
       "</div>"
      ],
      "text/plain": [
       "       image_id                                              InChI  \\\n",
       "0  00000d2a601c  InChI=1S/C10H14BrN5S/c1-6-10(11)9(16(3)14-6)4-...   \n",
       "1  00001f7fc849  InChI=1S/C14H18ClN3/c1-2-7-16-9-13-10-17-14(18...   \n",
       "2  000037687605  InChI=1S/C16H13BrN2O/c1-11(20)12-6-7-13(9-18)1...   \n",
       "3  00004b6d55b6  InChI=1S/C14H19FN4O/c1-14(2,3)12-13(16)17-18-1...   \n",
       "4  000085dab281  InChI=1S/C20H38O/c1-20(2)18-16-14-12-10-8-6-4-...   \n",
       "\n",
       "   InChI_length  is_pseudo                                         image_path  \n",
       "0            86       True  /work/input/bms-molecular-translation/test/0/0...  \n",
       "1           105       True  /work/input/bms-molecular-translation/test/0/0...  \n",
       "2            96       True  /work/input/bms-molecular-translation/test/0/0...  \n",
       "3            95       True  /work/input/bms-molecular-translation/test/0/0...  \n",
       "4            95       True  /work/input/bms-molecular-translation/test/0/0...  "
      ]
     },
     "execution_count": 6,
     "metadata": {},
     "output_type": "execute_result"
    }
   ],
   "source": [
    "pseudo_df = pd.read_csv(constants.INPUTDIR / \"kfujikawa/bms-pseudo-labels-lb074/pseudo_labels.csv\")\n",
    "pseudo_df[\"InChI_length\"] = pseudo_df.InChI.apply(len)\n",
    "pseudo_df[\"is_pseudo\"] = True\n",
    "pseudo_df[\"image_path\"] = pseudo_df.image_id.progress_apply(\n",
    "    lambda x: str(constants.COMPETITION_DATADIR / f\"test/{x[0]}/{x[1]}/{x[2]}/{x}.png\")\n",
    ")\n",
    "pseudo_df.head()"
   ]
  },
  {
   "cell_type": "code",
   "execution_count": 7,
   "id": "d229a16b-39c7-4715-b3af-c100bfc53650",
   "metadata": {},
   "outputs": [
    {
     "data": {
      "text/html": [
       "<div>\n",
       "<style scoped>\n",
       "    .dataframe tbody tr th:only-of-type {\n",
       "        vertical-align: middle;\n",
       "    }\n",
       "\n",
       "    .dataframe tbody tr th {\n",
       "        vertical-align: top;\n",
       "    }\n",
       "\n",
       "    .dataframe thead th {\n",
       "        text-align: right;\n",
       "    }\n",
       "</style>\n",
       "<table border=\"1\" class=\"dataframe\">\n",
       "  <thead>\n",
       "    <tr style=\"text-align: right;\">\n",
       "      <th></th>\n",
       "      <th>image_id</th>\n",
       "      <th>InChI</th>\n",
       "      <th>image_path</th>\n",
       "      <th>InChI_length</th>\n",
       "      <th>is_pseudo</th>\n",
       "    </tr>\n",
       "  </thead>\n",
       "  <tbody>\n",
       "    <tr>\n",
       "      <th>0</th>\n",
       "      <td>4435736fd10b</td>\n",
       "      <td>InChI=1S/C65H110O6/c1-4-7-10-13-16-19-22-25-28...</td>\n",
       "      <td>/work/input/bms-molecular-translation/train/4/...</td>\n",
       "      <td>403</td>\n",
       "      <td>False</td>\n",
       "    </tr>\n",
       "    <tr>\n",
       "      <th>1</th>\n",
       "      <td>8c0e35ce3f1f</td>\n",
       "      <td>InChI=1S/C60H98O6/c1-4-7-10-13-16-19-22-25-27-...</td>\n",
       "      <td>/work/input/bms-molecular-translation/train/8/...</td>\n",
       "      <td>398</td>\n",
       "      <td>False</td>\n",
       "    </tr>\n",
       "    <tr>\n",
       "      <th>2</th>\n",
       "      <td>934593ad3cae</td>\n",
       "      <td>InChI=1S/C63H106O6/c1-4-7-10-13-16-19-22-25-27...</td>\n",
       "      <td>/work/input/bms-molecular-translation/train/9/...</td>\n",
       "      <td>397</td>\n",
       "      <td>False</td>\n",
       "    </tr>\n",
       "    <tr>\n",
       "      <th>3</th>\n",
       "      <td>c963808e309d</td>\n",
       "      <td>InChI=1S/C59H92O6/c1-4-7-10-13-16-19-22-25-28-...</td>\n",
       "      <td>/work/input/bms-molecular-translation/train/c/...</td>\n",
       "      <td>393</td>\n",
       "      <td>False</td>\n",
       "    </tr>\n",
       "    <tr>\n",
       "      <th>4</th>\n",
       "      <td>0aa425d5f5ac</td>\n",
       "      <td>InChI=1S/C62H106O6/c1-4-7-10-13-16-19-22-25-27...</td>\n",
       "      <td>/work/input/bms-molecular-translation/train/0/...</td>\n",
       "      <td>393</td>\n",
       "      <td>False</td>\n",
       "    </tr>\n",
       "    <tr>\n",
       "      <th>...</th>\n",
       "      <td>...</td>\n",
       "      <td>...</td>\n",
       "      <td>...</td>\n",
       "      <td>...</td>\n",
       "      <td>...</td>\n",
       "    </tr>\n",
       "    <tr>\n",
       "      <th>3968454</th>\n",
       "      <td>ffffcdb2e39e</td>\n",
       "      <td>InChI=1S/C21H28N2O2/c1-15(2)14-25-19-10-8-17(9...</td>\n",
       "      <td>/work/input/bms-molecular-translation/test/f/f...</td>\n",
       "      <td>156</td>\n",
       "      <td>True</td>\n",
       "    </tr>\n",
       "    <tr>\n",
       "      <th>3968455</th>\n",
       "      <td>ffffcfddd770</td>\n",
       "      <td>InChI=1S/C24H28N2O5/c1-5-30-19-9-8-17(13-16(19...</td>\n",
       "      <td>/work/input/bms-molecular-translation/test/f/f...</td>\n",
       "      <td>156</td>\n",
       "      <td>True</td>\n",
       "    </tr>\n",
       "    <tr>\n",
       "      <th>3968456</th>\n",
       "      <td>ffffe4ab06b2</td>\n",
       "      <td>InChI=1S/C17H17NO3/c19-12-6-7-14-13(10-12)16-1...</td>\n",
       "      <td>/work/input/bms-molecular-translation/test/f/f...</td>\n",
       "      <td>106</td>\n",
       "      <td>True</td>\n",
       "    </tr>\n",
       "    <tr>\n",
       "      <th>3968457</th>\n",
       "      <td>ffffec4033ec</td>\n",
       "      <td>InChI=1S/C12H14F3NO3S/c1-2-3-4-9-16-20(17,18)1...</td>\n",
       "      <td>/work/input/bms-molecular-translation/test/f/f...</td>\n",
       "      <td>105</td>\n",
       "      <td>True</td>\n",
       "    </tr>\n",
       "    <tr>\n",
       "      <th>3968458</th>\n",
       "      <td>fffffbebd4f5</td>\n",
       "      <td>InChI=1S/C19H28F3NO3/c1-3-13-26-17-15(7-5-8-16...</td>\n",
       "      <td>/work/input/bms-molecular-translation/test/f/f...</td>\n",
       "      <td>126</td>\n",
       "      <td>True</td>\n",
       "    </tr>\n",
       "  </tbody>\n",
       "</table>\n",
       "<p>3968459 rows × 5 columns</p>\n",
       "</div>"
      ],
      "text/plain": [
       "             image_id                                              InChI  \\\n",
       "0        4435736fd10b  InChI=1S/C65H110O6/c1-4-7-10-13-16-19-22-25-28...   \n",
       "1        8c0e35ce3f1f  InChI=1S/C60H98O6/c1-4-7-10-13-16-19-22-25-27-...   \n",
       "2        934593ad3cae  InChI=1S/C63H106O6/c1-4-7-10-13-16-19-22-25-27...   \n",
       "3        c963808e309d  InChI=1S/C59H92O6/c1-4-7-10-13-16-19-22-25-28-...   \n",
       "4        0aa425d5f5ac  InChI=1S/C62H106O6/c1-4-7-10-13-16-19-22-25-27...   \n",
       "...               ...                                                ...   \n",
       "3968454  ffffcdb2e39e  InChI=1S/C21H28N2O2/c1-15(2)14-25-19-10-8-17(9...   \n",
       "3968455  ffffcfddd770  InChI=1S/C24H28N2O5/c1-5-30-19-9-8-17(13-16(19...   \n",
       "3968456  ffffe4ab06b2  InChI=1S/C17H17NO3/c19-12-6-7-14-13(10-12)16-1...   \n",
       "3968457  ffffec4033ec  InChI=1S/C12H14F3NO3S/c1-2-3-4-9-16-20(17,18)1...   \n",
       "3968458  fffffbebd4f5  InChI=1S/C19H28F3NO3/c1-3-13-26-17-15(7-5-8-16...   \n",
       "\n",
       "                                                image_path  InChI_length  \\\n",
       "0        /work/input/bms-molecular-translation/train/4/...           403   \n",
       "1        /work/input/bms-molecular-translation/train/8/...           398   \n",
       "2        /work/input/bms-molecular-translation/train/9/...           397   \n",
       "3        /work/input/bms-molecular-translation/train/c/...           393   \n",
       "4        /work/input/bms-molecular-translation/train/0/...           393   \n",
       "...                                                    ...           ...   \n",
       "3968454  /work/input/bms-molecular-translation/test/f/f...           156   \n",
       "3968455  /work/input/bms-molecular-translation/test/f/f...           156   \n",
       "3968456  /work/input/bms-molecular-translation/test/f/f...           106   \n",
       "3968457  /work/input/bms-molecular-translation/test/f/f...           105   \n",
       "3968458  /work/input/bms-molecular-translation/test/f/f...           126   \n",
       "\n",
       "         is_pseudo  \n",
       "0            False  \n",
       "1            False  \n",
       "2            False  \n",
       "3            False  \n",
       "4            False  \n",
       "...            ...  \n",
       "3968454       True  \n",
       "3968455       True  \n",
       "3968456       True  \n",
       "3968457       True  \n",
       "3968458       True  \n",
       "\n",
       "[3968459 rows x 5 columns]"
      ]
     },
     "execution_count": 7,
     "metadata": {},
     "output_type": "execute_result"
    }
   ],
   "source": [
    "train_df = pd.concat([train_df, pseudo_df], ignore_index=True)[train_df.columns]\n",
    "train_df"
   ]
  },
  {
   "cell_type": "markdown",
   "id": "7789076b-0b57-4844-bb32-984b9d55d67d",
   "metadata": {},
   "source": [
    "### Load predicted InChi_length"
   ]
  },
  {
   "cell_type": "code",
   "execution_count": 8,
   "id": "personal-november",
   "metadata": {},
   "outputs": [
    {
     "name": "stdout",
     "output_type": "stream",
     "text": [
      "1616107\n"
     ]
    },
    {
     "data": {
      "text/html": [
       "<div>\n",
       "<style scoped>\n",
       "    .dataframe tbody tr th:only-of-type {\n",
       "        vertical-align: middle;\n",
       "    }\n",
       "\n",
       "    .dataframe tbody tr th {\n",
       "        vertical-align: top;\n",
       "    }\n",
       "\n",
       "    .dataframe thead th {\n",
       "        text-align: right;\n",
       "    }\n",
       "</style>\n",
       "<table border=\"1\" class=\"dataframe\">\n",
       "  <thead>\n",
       "    <tr style=\"text-align: right;\">\n",
       "      <th></th>\n",
       "      <th>image_id</th>\n",
       "      <th>InChI</th>\n",
       "      <th>InChI_length</th>\n",
       "    </tr>\n",
       "  </thead>\n",
       "  <tbody>\n",
       "    <tr>\n",
       "      <th>0</th>\n",
       "      <td>00000d2a601c</td>\n",
       "      <td>InChI=1S/C10H14BrN5S/c1-6-10(11)9(16(3)14-6)4-...</td>\n",
       "      <td>86</td>\n",
       "    </tr>\n",
       "    <tr>\n",
       "      <th>1</th>\n",
       "      <td>00001f7fc849</td>\n",
       "      <td>InChI=1S/C14H18ClN3/c1-2-7-16-9-13-10-17-14(18...</td>\n",
       "      <td>105</td>\n",
       "    </tr>\n",
       "    <tr>\n",
       "      <th>2</th>\n",
       "      <td>000037687605</td>\n",
       "      <td>InChI=1S/C16H13BrN2O/c1-11(20)12-6-7-13(9-18)1...</td>\n",
       "      <td>96</td>\n",
       "    </tr>\n",
       "    <tr>\n",
       "      <th>3</th>\n",
       "      <td>00004b6d55b6</td>\n",
       "      <td>InChI=1S/C14H19FN4O/c1-14(2,3)12-13(16)17-18-1...</td>\n",
       "      <td>95</td>\n",
       "    </tr>\n",
       "    <tr>\n",
       "      <th>4</th>\n",
       "      <td>00004df0fe53</td>\n",
       "      <td>InChI=1S/C9H12O2/c1-4-5-2-6-7(3-4)11-9(10)8(5)...</td>\n",
       "      <td>85</td>\n",
       "    </tr>\n",
       "  </tbody>\n",
       "</table>\n",
       "</div>"
      ],
      "text/plain": [
       "       image_id                                              InChI  \\\n",
       "0  00000d2a601c  InChI=1S/C10H14BrN5S/c1-6-10(11)9(16(3)14-6)4-...   \n",
       "1  00001f7fc849  InChI=1S/C14H18ClN3/c1-2-7-16-9-13-10-17-14(18...   \n",
       "2  000037687605  InChI=1S/C16H13BrN2O/c1-11(20)12-6-7-13(9-18)1...   \n",
       "3  00004b6d55b6  InChI=1S/C14H19FN4O/c1-14(2,3)12-13(16)17-18-1...   \n",
       "4  00004df0fe53  InChI=1S/C9H12O2/c1-4-5-2-6-7(3-4)11-9(10)8(5)...   \n",
       "\n",
       "   InChI_length  \n",
       "0            86  \n",
       "1           105  \n",
       "2            96  \n",
       "3            95  \n",
       "4            85  "
      ]
     },
     "execution_count": 8,
     "metadata": {},
     "output_type": "execute_result"
    }
   ],
   "source": [
    "prediction_df = pd.read_csv(\"/work/output/1003_effnet_b5/test_beam=1.csv\")\n",
    "prediction_df[\"InChI_length\"] = prediction_df.InChI.apply(len)\n",
    "print(len(prediction_df))\n",
    "prediction_df.head()"
   ]
  },
  {
   "cell_type": "markdown",
   "id": "moved-scenario",
   "metadata": {},
   "source": [
    "### Preprocess test dataset"
   ]
  },
  {
   "cell_type": "code",
   "execution_count": 9,
   "id": "endless-pacific",
   "metadata": {},
   "outputs": [
    {
     "data": {
      "application/vnd.jupyter.widget-view+json": {
       "model_id": "690ec20a1c3d4e2993095ef18e2d70c6",
       "version_major": 2,
       "version_minor": 0
      },
      "text/plain": [
       "HBox(children=(HTML(value=''), FloatProgress(value=0.0, max=1616107.0), HTML(value='')))"
      ]
     },
     "metadata": {},
     "output_type": "display_data"
    },
    {
     "name": "stdout",
     "output_type": "stream",
     "text": [
      "\n"
     ]
    },
    {
     "data": {
      "text/html": [
       "<div>\n",
       "<style scoped>\n",
       "    .dataframe tbody tr th:only-of-type {\n",
       "        vertical-align: middle;\n",
       "    }\n",
       "\n",
       "    .dataframe tbody tr th {\n",
       "        vertical-align: top;\n",
       "    }\n",
       "\n",
       "    .dataframe thead th {\n",
       "        text-align: right;\n",
       "    }\n",
       "</style>\n",
       "<table border=\"1\" class=\"dataframe\">\n",
       "  <thead>\n",
       "    <tr style=\"text-align: right;\">\n",
       "      <th></th>\n",
       "      <th>image_id</th>\n",
       "      <th>image_path</th>\n",
       "      <th>InChI_length</th>\n",
       "    </tr>\n",
       "  </thead>\n",
       "  <tbody>\n",
       "    <tr>\n",
       "      <th>0</th>\n",
       "      <td>c23b605c64d9</td>\n",
       "      <td>/work/input/bms-molecular-translation/test/c/2...</td>\n",
       "      <td>447</td>\n",
       "    </tr>\n",
       "    <tr>\n",
       "      <th>1</th>\n",
       "      <td>f5ecb39ddbc8</td>\n",
       "      <td>/work/input/bms-molecular-translation/test/f/5...</td>\n",
       "      <td>443</td>\n",
       "    </tr>\n",
       "    <tr>\n",
       "      <th>2</th>\n",
       "      <td>30153e0d3737</td>\n",
       "      <td>/work/input/bms-molecular-translation/test/3/0...</td>\n",
       "      <td>442</td>\n",
       "    </tr>\n",
       "    <tr>\n",
       "      <th>3</th>\n",
       "      <td>ce3b82556a4f</td>\n",
       "      <td>/work/input/bms-molecular-translation/test/c/e...</td>\n",
       "      <td>428</td>\n",
       "    </tr>\n",
       "    <tr>\n",
       "      <th>4</th>\n",
       "      <td>a81b9e381215</td>\n",
       "      <td>/work/input/bms-molecular-translation/test/a/8...</td>\n",
       "      <td>419</td>\n",
       "    </tr>\n",
       "  </tbody>\n",
       "</table>\n",
       "</div>"
      ],
      "text/plain": [
       "       image_id                                         image_path  \\\n",
       "0  c23b605c64d9  /work/input/bms-molecular-translation/test/c/2...   \n",
       "1  f5ecb39ddbc8  /work/input/bms-molecular-translation/test/f/5...   \n",
       "2  30153e0d3737  /work/input/bms-molecular-translation/test/3/0...   \n",
       "3  ce3b82556a4f  /work/input/bms-molecular-translation/test/c/e...   \n",
       "4  a81b9e381215  /work/input/bms-molecular-translation/test/a/8...   \n",
       "\n",
       "   InChI_length  \n",
       "0           447  \n",
       "1           443  \n",
       "2           442  \n",
       "3           428  \n",
       "4           419  "
      ]
     },
     "execution_count": 9,
     "metadata": {},
     "output_type": "execute_result"
    }
   ],
   "source": [
    "test_df = pd.read_csv(constants.COMPETITION_DATADIR / \"sample_submission.csv\", usecols=[\"image_id\"])\n",
    "test_df[\"image_path\"] = test_df.image_id.progress_apply(\n",
    "    lambda x: str(constants.COMPETITION_DATADIR / f\"test/{x[0]}/{x[1]}/{x[2]}/{x}.png\")\n",
    ")\n",
    "assert len(test_df) == len(prediction_df)\n",
    "test_df = test_df.merge(prediction_df, on=\"image_id\", how=\"left\")\n",
    "assert len(test_df) == len(prediction_df)\n",
    "test_df = test_df.sort_values(\"InChI_length\", ascending=False).reset_index(drop=True)\n",
    "test_df = test_df[[\"image_id\", \"image_path\", \"InChI_length\"]]\n",
    "test_df.head()"
   ]
  },
  {
   "cell_type": "markdown",
   "id": "worst-statement",
   "metadata": {},
   "source": [
    "### Save files"
   ]
  },
  {
   "cell_type": "code",
   "execution_count": 10,
   "id": "romance-testing",
   "metadata": {},
   "outputs": [
    {
     "data": {
      "text/plain": [
       "[PosixPath('/work/input/kfujikawa/bms-preprocess-with-pseudo-lb074/train.debug.pkl'),\n",
       " PosixPath('/work/input/kfujikawa/bms-preprocess-with-pseudo-lb074/test.debug.pkl'),\n",
       " PosixPath('/work/input/kfujikawa/bms-preprocess-with-pseudo-lb074/train.pkl'),\n",
       " PosixPath('/work/input/kfujikawa/bms-preprocess-with-pseudo-lb074/test.pkl')]"
      ]
     },
     "execution_count": 10,
     "metadata": {},
     "output_type": "execute_result"
    }
   ],
   "source": [
    "OUTDIR.mkdir(parents=True, exist_ok=True)\n",
    "pd.concat([train_df.head(1000), train_df.tail(1000)]).reset_index(drop=True).to_pickle(OUTDIR / \"train.debug.pkl\")\n",
    "train_df.to_pickle(OUTDIR / \"train.pkl\")\n",
    "test_df.head(1000).to_pickle(OUTDIR / \"test.debug.pkl\")\n",
    "test_df.to_pickle(OUTDIR / \"test.pkl\")\n",
    "list(OUTDIR.iterdir())"
   ]
  },
  {
   "cell_type": "code",
   "execution_count": null,
   "id": "4e883a04-acea-4454-86fe-f8f110e288f8",
   "metadata": {},
   "outputs": [],
   "source": []
  }
 ],
 "metadata": {
  "kernelspec": {
   "display_name": "Python 3",
   "language": "python",
   "name": "python3"
  },
  "language_info": {
   "codemirror_mode": {
    "name": "ipython",
    "version": 3
   },
   "file_extension": ".py",
   "mimetype": "text/x-python",
   "name": "python",
   "nbconvert_exporter": "python",
   "pygments_lexer": "ipython3",
   "version": "3.8.5"
  }
 },
 "nbformat": 4,
 "nbformat_minor": 5
}
