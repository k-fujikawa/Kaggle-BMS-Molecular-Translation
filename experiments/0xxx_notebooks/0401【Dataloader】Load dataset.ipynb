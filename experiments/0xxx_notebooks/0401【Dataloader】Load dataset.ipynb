{
 "cells": [
  {
   "cell_type": "code",
   "execution_count": 1,
   "id": "finnish-pickup",
   "metadata": {},
   "outputs": [],
   "source": [
    "import torch\n",
    "import ipywidgets\n",
    "import pandas as pd\n",
    "from pathlib import Path\n",
    "from omegaconf import OmegaConf\n",
    "from tqdm.auto import tqdm"
   ]
  },
  {
   "cell_type": "code",
   "execution_count": 2,
   "id": "wound-charm",
   "metadata": {},
   "outputs": [],
   "source": [
    "%load_ext autoreload\n",
    "%autoreload 2\n",
    "import nncomp\n",
    "import nncomp_molecule"
   ]
  },
  {
   "cell_type": "code",
   "execution_count": 3,
   "id": "broadband-workstation",
   "metadata": {},
   "outputs": [],
   "source": [
    "dataset = nncomp_molecule.datasets.ImageCaptioningDataset(\n",
    "    pd.read_pickle(\"/work/input/kfujikawa/bms-molecular-translation-preprocess-v1/train.debug.pkl\"),\n",
    "    image_transforms={\n",
    "        \"class\": \"AlbumentationCompose\",\n",
    "        \"transforms\": [\n",
    "            {\n",
    "                \"class\": \"Resize\",\n",
    "                \"height\": 224,\n",
    "                \"width\": 224\n",
    "            }\n",
    "        ]\n",
    "    },\n",
    "    inchi_transforms={\n",
    "        \"class\": \"HFTokenizer\",\n",
    "        \"config\": \"/work/input/kfujikawa/bms-molecular-translation-tokenizers/inchi-atoms-numbers.json\",\n",
    "        \"out_columns\": [\"token_ids\", \"next_token_ids\"],\n",
    "    },\n",
    ")"
   ]
  },
  {
   "cell_type": "code",
   "execution_count": 4,
   "id": "preceding-bradford",
   "metadata": {},
   "outputs": [
    {
     "name": "stdout",
     "output_type": "stream",
     "text": [
      "--------------------  ------------  ------------  ------------  ------------  ------------  ------------  \n",
      "                Name    Self CPU %      Self CPU   CPU total %     CPU total  CPU time avg    # of Calls  \n",
      "--------------------  ------------  ------------  ------------  ------------  ------------  ------------  \n",
      "    image_transforms        78.42%       2.424ms        78.45%       2.425ms       2.425ms             1  \n",
      "    inchi_transforms        18.45%     570.276us        18.52%     572.338us     572.338us             1  \n",
      "         aten::zeros         2.15%      66.374us         3.03%      93.747us      46.874us             2  \n",
      "         aten::empty         0.77%      23.683us         0.77%      23.683us       5.921us             4  \n",
      "         aten::zero_         0.22%       6.690us         0.22%       6.690us       3.345us             2  \n",
      "--------------------  ------------  ------------  ------------  ------------  ------------  ------------  \n",
      "Self CPU time total: 3.091ms\n",
      "\n"
     ]
    }
   ],
   "source": [
    "with torch.autograd.profiler.profile(use_cuda=False) as prof:\n",
    "    dataset[0]\n",
    "print(prof.key_averages().table(sort_by=\"self_cpu_time_total\"))"
   ]
  },
  {
   "cell_type": "code",
   "execution_count": null,
   "id": "intelligent-opinion",
   "metadata": {},
   "outputs": [],
   "source": []
  }
 ],
 "metadata": {
  "kernelspec": {
   "display_name": "Python 3",
   "language": "python",
   "name": "python3"
  },
  "language_info": {
   "codemirror_mode": {
    "name": "ipython",
    "version": 3
   },
   "file_extension": ".py",
   "mimetype": "text/x-python",
   "name": "python",
   "nbconvert_exporter": "python",
   "pygments_lexer": "ipython3",
   "version": "3.8.5"
  }
 },
 "nbformat": 4,
 "nbformat_minor": 5
}
