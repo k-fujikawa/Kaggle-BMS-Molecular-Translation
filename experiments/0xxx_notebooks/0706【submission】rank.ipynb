{
 "cells": [
  {
   "cell_type": "code",
   "execution_count": 1,
   "metadata": {
    "tags": []
   },
   "outputs": [],
   "source": [
    "import gc\n",
    "import io\n",
    "import multiprocessing as mp\n",
    "from copy import deepcopy\n",
    "from urllib.parse import urlparse\n",
    "\n",
    "import google.cloud.storage as gcs\n",
    "import pandas as pd\n",
    "import seaborn as sns\n",
    "import Levenshtein\n",
    "from retrying import retry\n",
    "from tqdm.auto import tqdm"
   ]
  },
  {
   "cell_type": "code",
   "execution_count": 2,
   "metadata": {
    "tags": []
   },
   "outputs": [],
   "source": [
    "GCP_PROJECT = \"dena-ai-training-28-gcp\"\n",
    "\n",
    "\n",
    "@retry(stop_max_attempt_number=3)\n",
    "def download_from_gcs(path: str):\n",
    "    url = urlparse(path)\n",
    "    bucket_name = url.netloc\n",
    "    storage_client = gcs.Client(project=GCP_PROJECT)\n",
    "    bucket = storage_client.get_bucket(bucket_name)\n",
    "    blob = gcs.Blob(url.path[1:], bucket)\n",
    "    return blob.download_as_string()\n",
    "\n",
    "\n",
    "def load_prediction(path: str):\n",
    "    if path.split(\"/\")[-2] == \"kf-bms-candidates-v2\":\n",
    "        model = path.split(\"/\")[-3]\n",
    "    else:\n",
    "        model = path.split(\"/\")[-2]\n",
    "    df = pd.read_csv(io.BytesIO(download_from_gcs(path)))\\\n",
    "        .assign(model=model, filename=path.split(\"/\")[-1])\\\n",
    "        .query(\"is_valid | image_id.isin(@NO_VALID_IMAGE_IDs)\", engine=\"python\")\n",
    "    return df"
   ]
  },
  {
   "cell_type": "code",
   "execution_count": 15,
   "metadata": {},
   "outputs": [
    {
     "data": {
      "text/plain": [
       "5152"
      ]
     },
     "execution_count": 15,
     "metadata": {},
     "output_type": "execute_result"
    }
   ],
   "source": [
    "baseline_df = pd.read_csv(\"submission_LB059.csv\")\n",
    "n_valid_InChIs = pd.read_csv(io.BytesIO(download_from_gcs(\"gs://kfujikawa-kaggle-bms-molecular-generation/kfujikawa/kf-bms-candidates-v2/test_n_valid_InChIs.csv\")))\n",
    "NO_VALID_IMAGE_IDs = n_valid_InChIs.query(\"n_valid_InChIs == 0\").image_id\n",
    "len(NO_VALID_IMAGE_IDs)"
   ]
  },
  {
   "cell_type": "markdown",
   "metadata": {},
   "source": [
    "# Load predictions"
   ]
  },
  {
   "cell_type": "code",
   "execution_count": 4,
   "metadata": {
    "tags": []
   },
   "outputs": [],
   "source": [
    "TEST_FILENAMES = [\n",
    "    \"test_kf_0523.csv\",\n",
    "    \"test_kf_0525.csv\",\n",
    "    \"test_kf_0527.csv\",\n",
    "    \"test_yokoo_0527.csv\",\n",
    "    \"test_camaro_0525.csv\",\n",
    "    \"test_yokoo_0531.csv\",\n",
    "    \"test_kf_0531_renormed.csv\",\n",
    "    \"test_camaro_old_submissions.csv\",\n",
    "    \"test_kf_0531.csv\",\n",
    "    \"test_camaro_0531.csv\",\n",
    "    \"test_yokoo_0601.csv\",\n",
    "]\n",
    "KF_MODELS = [\n",
    "    \"1109_vtnt_bert_512-1024-denoise-5\",\n",
    "    \"1113_swin_large_bert_384\",\n",
    "    \"1124_swin_large_bert_384_pil_pseudo\",\n",
    "    \"1126_swin_large_bert_384_pil_pseudo_no-denoise\",\n",
    "    \"1127_vtnt_bert_512-1024_pseudo_no-denoise\",\n",
    "]\n",
    "KF_TEST_CSVs = [\n",
    "    f\"gs://kfujikawa-kaggle-bms-molecular-generation/kfujikawa/{model}/kf-bms-candidates-v2/{filename}\"\n",
    "    for model in KF_MODELS\n",
    "    for filename in TEST_FILENAMES\n",
    "]"
   ]
  },
  {
   "cell_type": "code",
   "execution_count": 7,
   "metadata": {},
   "outputs": [
    {
     "data": {
      "application/vnd.jupyter.widget-view+json": {
       "model_id": "45087c52d6924201b0fbc88bf61080ed",
       "version_major": 2,
       "version_minor": 0
      },
      "text/plain": [
       "HBox(children=(HTML(value=''), FloatProgress(value=0.0, max=55.0), HTML(value='')))"
      ]
     },
     "metadata": {},
     "output_type": "display_data"
    },
    {
     "name": "stdout",
     "output_type": "stream",
     "text": [
      "\n"
     ]
    },
    {
     "data": {
      "text/html": [
       "<div>\n",
       "<style scoped>\n",
       "    .dataframe tbody tr th:only-of-type {\n",
       "        vertical-align: middle;\n",
       "    }\n",
       "\n",
       "    .dataframe tbody tr th {\n",
       "        vertical-align: top;\n",
       "    }\n",
       "\n",
       "    .dataframe thead th {\n",
       "        text-align: right;\n",
       "    }\n",
       "</style>\n",
       "<table border=\"1\" class=\"dataframe\">\n",
       "  <thead>\n",
       "    <tr style=\"text-align: right;\">\n",
       "      <th></th>\n",
       "      <th>image_id</th>\n",
       "      <th>InChI</th>\n",
       "      <th>levenshtein</th>\n",
       "      <th>is_valid</th>\n",
       "      <th>normed_score</th>\n",
       "      <th>model</th>\n",
       "      <th>filename</th>\n",
       "    </tr>\n",
       "  </thead>\n",
       "  <tbody>\n",
       "    <tr>\n",
       "      <th>0</th>\n",
       "      <td>00073e401fa1</td>\n",
       "      <td>InChI=1S/C20H27NO9S/c1-12(22)26-11-14-16-18(28...</td>\n",
       "      <td>NaN</td>\n",
       "      <td>True</td>\n",
       "      <td>0.04187</td>\n",
       "      <td>1109_vtnt_bert_512-1024-denoise-5</td>\n",
       "      <td>test_camaro_0531.csv</td>\n",
       "    </tr>\n",
       "  </tbody>\n",
       "</table>\n",
       "</div>"
      ],
      "text/plain": [
       "       image_id                                              InChI  \\\n",
       "0  00073e401fa1  InChI=1S/C20H27NO9S/c1-12(22)26-11-14-16-18(28...   \n",
       "\n",
       "   levenshtein  is_valid  normed_score                              model  \\\n",
       "0          NaN      True       0.04187  1109_vtnt_bert_512-1024-denoise-5   \n",
       "\n",
       "               filename  \n",
       "0  test_camaro_0531.csv  "
      ]
     },
     "metadata": {},
     "output_type": "display_data"
    },
    {
     "data": {
      "text/plain": [
       "model\n",
       "1109_vtnt_bert_512-1024-denoise-5                 5811688\n",
       "1113_swin_large_bert_384                          5811688\n",
       "1124_swin_large_bert_384_pil_pseudo               5811688\n",
       "1126_swin_large_bert_384_pil_pseudo_no-denoise    5811688\n",
       "1127_vtnt_bert_512-1024_pseudo_no-denoise         5811688\n",
       "Name: image_id, dtype: int64"
      ]
     },
     "metadata": {},
     "output_type": "display_data"
    }
   ],
   "source": [
    "with mp.Pool() as pool:\n",
    "    total = len(KF_TEST_CSVs)\n",
    "    iterator = pool.imap_unordered(load_prediction, KF_TEST_CSVs)\n",
    "    kf_df = pd.concat(list(tqdm(iterator, total=total)), ignore_index=True)\n",
    "kf_df = kf_df.drop_duplicates(subset=[\"model\", \"image_id\", \"InChI\"])\n",
    "display(kf_df.head(1))\n",
    "display(kf_df.groupby(\"model\").image_id.count())\n",
    "# with pd.option_context(\"display.float_format\", '{:.4f}'.format, \"display.max_columns\", None):\n",
    "#     display(kf_df.groupby([\"filename\", \"model\"]).describe().T)"
   ]
  },
  {
   "cell_type": "code",
   "execution_count": 8,
   "metadata": {
    "tags": []
   },
   "outputs": [],
   "source": [
    "LYAKAAP_TEST_CSVs = \"\"\"\n",
    "gs://kfujikawa-kaggle-bms-molecular-generation/yokoo/v52/test_yokoo_0527.csv\n",
    "gs://kfujikawa-kaggle-bms-molecular-generation/yokoo/v52/test_kf_0523.csv\n",
    "gs://kfujikawa-kaggle-bms-molecular-generation/yokoo/v52/test_kf_0525.csv\n",
    "gs://kfujikawa-kaggle-bms-molecular-generation/yokoo/v52/test_kf_0527.csv\n",
    "gs://kfujikawa-kaggle-bms-molecular-generation/yokoo/v52/test_camaro_0525.csv\n",
    "gs://kfujikawa-kaggle-bms-molecular-generation/yokoo/v52/test_camaro_old_submissions.csv\n",
    "gs://kfujikawa-kaggle-bms-molecular-generation/yokoo/v52/test_kf_0531_renormed.csv\n",
    "gs://kfujikawa-kaggle-bms-molecular-generation/yokoo/v52/test_yokoo_0531.csv\n",
    "gs://kfujikawa-kaggle-bms-molecular-generation/yokoo/v52/test_kf_0531.csv\n",
    "gs://kfujikawa-kaggle-bms-molecular-generation/yokoo/v52/test_camaro_0531.csv\n",
    "gs://kfujikawa-kaggle-bms-molecular-generation/yokoo/v52/test_yokoo_0601.csv\n",
    "\"\"\".strip().split()"
   ]
  },
  {
   "cell_type": "code",
   "execution_count": 9,
   "metadata": {},
   "outputs": [
    {
     "data": {
      "application/vnd.jupyter.widget-view+json": {
       "model_id": "f17dcc1542c94fc8a9f785a6a13d62eb",
       "version_major": 2,
       "version_minor": 0
      },
      "text/plain": [
       "HBox(children=(HTML(value=''), FloatProgress(value=0.0, max=11.0), HTML(value='')))"
      ]
     },
     "metadata": {},
     "output_type": "display_data"
    },
    {
     "name": "stdout",
     "output_type": "stream",
     "text": [
      "\n"
     ]
    },
    {
     "data": {
      "text/html": [
       "<div>\n",
       "<style scoped>\n",
       "    .dataframe tbody tr th:only-of-type {\n",
       "        vertical-align: middle;\n",
       "    }\n",
       "\n",
       "    .dataframe tbody tr th {\n",
       "        vertical-align: top;\n",
       "    }\n",
       "\n",
       "    .dataframe thead th {\n",
       "        text-align: right;\n",
       "    }\n",
       "</style>\n",
       "<table border=\"1\" class=\"dataframe\">\n",
       "  <thead>\n",
       "    <tr style=\"text-align: right;\">\n",
       "      <th></th>\n",
       "      <th>image_id</th>\n",
       "      <th>InChI</th>\n",
       "      <th>levenshtein</th>\n",
       "      <th>is_valid</th>\n",
       "      <th>normed_score</th>\n",
       "      <th>model</th>\n",
       "      <th>filename</th>\n",
       "    </tr>\n",
       "  </thead>\n",
       "  <tbody>\n",
       "    <tr>\n",
       "      <th>0</th>\n",
       "      <td>007706c43e8d</td>\n",
       "      <td>InChI=1S/C16H32O6/c1-5-17-11-13-21-9-3-7-19-15...</td>\n",
       "      <td>NaN</td>\n",
       "      <td>False</td>\n",
       "      <td>0.044922</td>\n",
       "      <td>v52</td>\n",
       "      <td>test_yokoo_0527.csv</td>\n",
       "    </tr>\n",
       "  </tbody>\n",
       "</table>\n",
       "</div>"
      ],
      "text/plain": [
       "       image_id                                              InChI  \\\n",
       "0  007706c43e8d  InChI=1S/C16H32O6/c1-5-17-11-13-21-9-3-7-19-15...   \n",
       "\n",
       "   levenshtein  is_valid  normed_score model             filename  \n",
       "0          NaN     False      0.044922   v52  test_yokoo_0527.csv  "
      ]
     },
     "metadata": {},
     "output_type": "display_data"
    },
    {
     "data": {
      "text/plain": [
       "model\n",
       "v52    5811688\n",
       "Name: image_id, dtype: int64"
      ]
     },
     "metadata": {},
     "output_type": "display_data"
    },
    {
     "data": {
      "text/html": [
       "<div>\n",
       "<style scoped>\n",
       "    .dataframe tbody tr th:only-of-type {\n",
       "        vertical-align: middle;\n",
       "    }\n",
       "\n",
       "    .dataframe tbody tr th {\n",
       "        vertical-align: top;\n",
       "    }\n",
       "\n",
       "    .dataframe thead tr th {\n",
       "        text-align: left;\n",
       "    }\n",
       "</style>\n",
       "<table border=\"1\" class=\"dataframe\">\n",
       "  <thead>\n",
       "    <tr>\n",
       "      <th></th>\n",
       "      <th>filename</th>\n",
       "      <th>test_camaro_0525.csv</th>\n",
       "      <th>test_camaro_0531.csv</th>\n",
       "      <th>test_camaro_old_submissions.csv</th>\n",
       "      <th>test_kf_0523.csv</th>\n",
       "      <th>test_kf_0525.csv</th>\n",
       "      <th>test_kf_0527.csv</th>\n",
       "      <th>test_kf_0531.csv</th>\n",
       "      <th>test_kf_0531_renormed.csv</th>\n",
       "      <th>test_yokoo_0527.csv</th>\n",
       "      <th>test_yokoo_0531.csv</th>\n",
       "      <th>test_yokoo_0601.csv</th>\n",
       "    </tr>\n",
       "    <tr>\n",
       "      <th></th>\n",
       "      <th>model</th>\n",
       "      <th>v52</th>\n",
       "      <th>v52</th>\n",
       "      <th>v52</th>\n",
       "      <th>v52</th>\n",
       "      <th>v52</th>\n",
       "      <th>v52</th>\n",
       "      <th>v52</th>\n",
       "      <th>v52</th>\n",
       "      <th>v52</th>\n",
       "      <th>v52</th>\n",
       "      <th>v52</th>\n",
       "    </tr>\n",
       "  </thead>\n",
       "  <tbody>\n",
       "    <tr>\n",
       "      <th rowspan=\"8\" valign=\"top\">levenshtein</th>\n",
       "      <th>count</th>\n",
       "      <td>0.0000</td>\n",
       "      <td>0.0000</td>\n",
       "      <td>0.0000</td>\n",
       "      <td>0.0000</td>\n",
       "      <td>0.0000</td>\n",
       "      <td>0.0000</td>\n",
       "      <td>0.0000</td>\n",
       "      <td>0.0000</td>\n",
       "      <td>0.0000</td>\n",
       "      <td>0.0000</td>\n",
       "      <td>0.0000</td>\n",
       "    </tr>\n",
       "    <tr>\n",
       "      <th>mean</th>\n",
       "      <td>nan</td>\n",
       "      <td>nan</td>\n",
       "      <td>nan</td>\n",
       "      <td>nan</td>\n",
       "      <td>nan</td>\n",
       "      <td>nan</td>\n",
       "      <td>nan</td>\n",
       "      <td>nan</td>\n",
       "      <td>nan</td>\n",
       "      <td>nan</td>\n",
       "      <td>nan</td>\n",
       "    </tr>\n",
       "    <tr>\n",
       "      <th>std</th>\n",
       "      <td>nan</td>\n",
       "      <td>nan</td>\n",
       "      <td>nan</td>\n",
       "      <td>nan</td>\n",
       "      <td>nan</td>\n",
       "      <td>nan</td>\n",
       "      <td>nan</td>\n",
       "      <td>nan</td>\n",
       "      <td>nan</td>\n",
       "      <td>nan</td>\n",
       "      <td>nan</td>\n",
       "    </tr>\n",
       "    <tr>\n",
       "      <th>min</th>\n",
       "      <td>nan</td>\n",
       "      <td>nan</td>\n",
       "      <td>nan</td>\n",
       "      <td>nan</td>\n",
       "      <td>nan</td>\n",
       "      <td>nan</td>\n",
       "      <td>nan</td>\n",
       "      <td>nan</td>\n",
       "      <td>nan</td>\n",
       "      <td>nan</td>\n",
       "      <td>nan</td>\n",
       "    </tr>\n",
       "    <tr>\n",
       "      <th>25%</th>\n",
       "      <td>nan</td>\n",
       "      <td>nan</td>\n",
       "      <td>nan</td>\n",
       "      <td>nan</td>\n",
       "      <td>nan</td>\n",
       "      <td>nan</td>\n",
       "      <td>nan</td>\n",
       "      <td>nan</td>\n",
       "      <td>nan</td>\n",
       "      <td>nan</td>\n",
       "      <td>nan</td>\n",
       "    </tr>\n",
       "    <tr>\n",
       "      <th>50%</th>\n",
       "      <td>nan</td>\n",
       "      <td>nan</td>\n",
       "      <td>nan</td>\n",
       "      <td>nan</td>\n",
       "      <td>nan</td>\n",
       "      <td>nan</td>\n",
       "      <td>nan</td>\n",
       "      <td>nan</td>\n",
       "      <td>nan</td>\n",
       "      <td>nan</td>\n",
       "      <td>nan</td>\n",
       "    </tr>\n",
       "    <tr>\n",
       "      <th>75%</th>\n",
       "      <td>nan</td>\n",
       "      <td>nan</td>\n",
       "      <td>nan</td>\n",
       "      <td>nan</td>\n",
       "      <td>nan</td>\n",
       "      <td>nan</td>\n",
       "      <td>nan</td>\n",
       "      <td>nan</td>\n",
       "      <td>nan</td>\n",
       "      <td>nan</td>\n",
       "      <td>nan</td>\n",
       "    </tr>\n",
       "    <tr>\n",
       "      <th>max</th>\n",
       "      <td>nan</td>\n",
       "      <td>nan</td>\n",
       "      <td>nan</td>\n",
       "      <td>nan</td>\n",
       "      <td>nan</td>\n",
       "      <td>nan</td>\n",
       "      <td>nan</td>\n",
       "      <td>nan</td>\n",
       "      <td>nan</td>\n",
       "      <td>nan</td>\n",
       "      <td>nan</td>\n",
       "    </tr>\n",
       "    <tr>\n",
       "      <th rowspan=\"8\" valign=\"top\">normed_score</th>\n",
       "      <th>count</th>\n",
       "      <td>30694.0000</td>\n",
       "      <td>11367.0000</td>\n",
       "      <td>42624.0000</td>\n",
       "      <td>3753511.0000</td>\n",
       "      <td>304700.0000</td>\n",
       "      <td>906933.0000</td>\n",
       "      <td>24209.0000</td>\n",
       "      <td>64239.0000</td>\n",
       "      <td>8605.0000</td>\n",
       "      <td>412767.0000</td>\n",
       "      <td>252039.0000</td>\n",
       "    </tr>\n",
       "    <tr>\n",
       "      <th>mean</th>\n",
       "      <td>0.2172</td>\n",
       "      <td>0.1696</td>\n",
       "      <td>0.2346</td>\n",
       "      <td>0.0860</td>\n",
       "      <td>0.2265</td>\n",
       "      <td>0.2112</td>\n",
       "      <td>0.1658</td>\n",
       "      <td>0.1721</td>\n",
       "      <td>0.0355</td>\n",
       "      <td>0.1251</td>\n",
       "      <td>0.0881</td>\n",
       "    </tr>\n",
       "    <tr>\n",
       "      <th>std</th>\n",
       "      <td>0.2644</td>\n",
       "      <td>0.2336</td>\n",
       "      <td>0.2787</td>\n",
       "      <td>0.1239</td>\n",
       "      <td>0.1350</td>\n",
       "      <td>0.1404</td>\n",
       "      <td>0.1875</td>\n",
       "      <td>0.0888</td>\n",
       "      <td>0.0411</td>\n",
       "      <td>0.1295</td>\n",
       "      <td>0.1093</td>\n",
       "    </tr>\n",
       "    <tr>\n",
       "      <th>min</th>\n",
       "      <td>0.0000</td>\n",
       "      <td>0.0048</td>\n",
       "      <td>0.0061</td>\n",
       "      <td>0.0000</td>\n",
       "      <td>0.0001</td>\n",
       "      <td>0.0049</td>\n",
       "      <td>0.0000</td>\n",
       "      <td>0.0000</td>\n",
       "      <td>0.0000</td>\n",
       "      <td>0.0054</td>\n",
       "      <td>0.0007</td>\n",
       "    </tr>\n",
       "    <tr>\n",
       "      <th>25%</th>\n",
       "      <td>0.0296</td>\n",
       "      <td>0.0337</td>\n",
       "      <td>0.0387</td>\n",
       "      <td>0.0000</td>\n",
       "      <td>0.1489</td>\n",
       "      <td>0.1310</td>\n",
       "      <td>0.0411</td>\n",
       "      <td>0.1142</td>\n",
       "      <td>0.0159</td>\n",
       "      <td>0.0475</td>\n",
       "      <td>0.0309</td>\n",
       "    </tr>\n",
       "    <tr>\n",
       "      <th>50%</th>\n",
       "      <td>0.1043</td>\n",
       "      <td>0.0533</td>\n",
       "      <td>0.1226</td>\n",
       "      <td>0.0164</td>\n",
       "      <td>0.2140</td>\n",
       "      <td>0.2001</td>\n",
       "      <td>0.0964</td>\n",
       "      <td>0.1539</td>\n",
       "      <td>0.0242</td>\n",
       "      <td>0.0780</td>\n",
       "      <td>0.0409</td>\n",
       "    </tr>\n",
       "    <tr>\n",
       "      <th>75%</th>\n",
       "      <td>0.3176</td>\n",
       "      <td>0.2142</td>\n",
       "      <td>0.3301</td>\n",
       "      <td>0.1569</td>\n",
       "      <td>0.2852</td>\n",
       "      <td>0.2727</td>\n",
       "      <td>0.2225</td>\n",
       "      <td>0.2189</td>\n",
       "      <td>0.0395</td>\n",
       "      <td>0.1494</td>\n",
       "      <td>0.1148</td>\n",
       "    </tr>\n",
       "    <tr>\n",
       "      <th>max</th>\n",
       "      <td>3.0664</td>\n",
       "      <td>3.1641</td>\n",
       "      <td>4.2812</td>\n",
       "      <td>3.9453</td>\n",
       "      <td>3.9141</td>\n",
       "      <td>3.2871</td>\n",
       "      <td>2.7734</td>\n",
       "      <td>0.9561</td>\n",
       "      <td>1.2422</td>\n",
       "      <td>3.3594</td>\n",
       "      <td>2.0234</td>\n",
       "    </tr>\n",
       "  </tbody>\n",
       "</table>\n",
       "</div>"
      ],
      "text/plain": [
       "filename           test_camaro_0525.csv test_camaro_0531.csv  \\\n",
       "model                               v52                  v52   \n",
       "levenshtein  count               0.0000               0.0000   \n",
       "             mean                   nan                  nan   \n",
       "             std                    nan                  nan   \n",
       "             min                    nan                  nan   \n",
       "             25%                    nan                  nan   \n",
       "             50%                    nan                  nan   \n",
       "             75%                    nan                  nan   \n",
       "             max                    nan                  nan   \n",
       "normed_score count           30694.0000           11367.0000   \n",
       "             mean                0.2172               0.1696   \n",
       "             std                 0.2644               0.2336   \n",
       "             min                 0.0000               0.0048   \n",
       "             25%                 0.0296               0.0337   \n",
       "             50%                 0.1043               0.0533   \n",
       "             75%                 0.3176               0.2142   \n",
       "             max                 3.0664               3.1641   \n",
       "\n",
       "filename           test_camaro_old_submissions.csv test_kf_0523.csv  \\\n",
       "model                                          v52              v52   \n",
       "levenshtein  count                          0.0000           0.0000   \n",
       "             mean                              nan              nan   \n",
       "             std                               nan              nan   \n",
       "             min                               nan              nan   \n",
       "             25%                               nan              nan   \n",
       "             50%                               nan              nan   \n",
       "             75%                               nan              nan   \n",
       "             max                               nan              nan   \n",
       "normed_score count                      42624.0000     3753511.0000   \n",
       "             mean                           0.2346           0.0860   \n",
       "             std                            0.2787           0.1239   \n",
       "             min                            0.0061           0.0000   \n",
       "             25%                            0.0387           0.0000   \n",
       "             50%                            0.1226           0.0164   \n",
       "             75%                            0.3301           0.1569   \n",
       "             max                            4.2812           3.9453   \n",
       "\n",
       "filename           test_kf_0525.csv test_kf_0527.csv test_kf_0531.csv  \\\n",
       "model                           v52              v52              v52   \n",
       "levenshtein  count           0.0000           0.0000           0.0000   \n",
       "             mean               nan              nan              nan   \n",
       "             std                nan              nan              nan   \n",
       "             min                nan              nan              nan   \n",
       "             25%                nan              nan              nan   \n",
       "             50%                nan              nan              nan   \n",
       "             75%                nan              nan              nan   \n",
       "             max                nan              nan              nan   \n",
       "normed_score count      304700.0000      906933.0000       24209.0000   \n",
       "             mean            0.2265           0.2112           0.1658   \n",
       "             std             0.1350           0.1404           0.1875   \n",
       "             min             0.0001           0.0049           0.0000   \n",
       "             25%             0.1489           0.1310           0.0411   \n",
       "             50%             0.2140           0.2001           0.0964   \n",
       "             75%             0.2852           0.2727           0.2225   \n",
       "             max             3.9141           3.2871           2.7734   \n",
       "\n",
       "filename           test_kf_0531_renormed.csv test_yokoo_0527.csv  \\\n",
       "model                                    v52                 v52   \n",
       "levenshtein  count                    0.0000              0.0000   \n",
       "             mean                        nan                 nan   \n",
       "             std                         nan                 nan   \n",
       "             min                         nan                 nan   \n",
       "             25%                         nan                 nan   \n",
       "             50%                         nan                 nan   \n",
       "             75%                         nan                 nan   \n",
       "             max                         nan                 nan   \n",
       "normed_score count                64239.0000           8605.0000   \n",
       "             mean                     0.1721              0.0355   \n",
       "             std                      0.0888              0.0411   \n",
       "             min                      0.0000              0.0000   \n",
       "             25%                      0.1142              0.0159   \n",
       "             50%                      0.1539              0.0242   \n",
       "             75%                      0.2189              0.0395   \n",
       "             max                      0.9561              1.2422   \n",
       "\n",
       "filename           test_yokoo_0531.csv test_yokoo_0601.csv  \n",
       "model                              v52                 v52  \n",
       "levenshtein  count              0.0000              0.0000  \n",
       "             mean                  nan                 nan  \n",
       "             std                   nan                 nan  \n",
       "             min                   nan                 nan  \n",
       "             25%                   nan                 nan  \n",
       "             50%                   nan                 nan  \n",
       "             75%                   nan                 nan  \n",
       "             max                   nan                 nan  \n",
       "normed_score count         412767.0000         252039.0000  \n",
       "             mean               0.1251              0.0881  \n",
       "             std                0.1295              0.1093  \n",
       "             min                0.0054              0.0007  \n",
       "             25%                0.0475              0.0309  \n",
       "             50%                0.0780              0.0409  \n",
       "             75%                0.1494              0.1148  \n",
       "             max                3.3594              2.0234  "
      ]
     },
     "metadata": {},
     "output_type": "display_data"
    }
   ],
   "source": [
    "with mp.Pool() as pool:\n",
    "    total = len(LYAKAAP_TEST_CSVs)\n",
    "    iterator = pool.imap_unordered(load_prediction, LYAKAAP_TEST_CSVs)\n",
    "    lyakaap_df = pd.concat(list(tqdm(iterator, total=total)), ignore_index=True)\n",
    "lyakaap_df = lyakaap_df.drop_duplicates(subset=[\"model\", \"image_id\", \"InChI\"])\n",
    "display(lyakaap_df.head(1))\n",
    "display(lyakaap_df.groupby(\"model\").image_id.count())\n",
    "# with pd.option_context(\"display.float_format\", '{:.4f}'.format, \"display.max_columns\", None):\n",
    "#     display(lyakaap_df.groupby([\"filename\", \"model\"]).describe().T)"
   ]
  },
  {
   "cell_type": "markdown",
   "metadata": {},
   "source": [
    "# Camaro"
   ]
  },
  {
   "cell_type": "code",
   "execution_count": 10,
   "metadata": {},
   "outputs": [],
   "source": [
    "CAMARO_TEST_CSVs = \"\"\"\n",
    "gs://kfujikawa-kaggle-bms-molecular-generation/camaro/exp084/test_kf_0523.csv\n",
    "gs://kfujikawa-kaggle-bms-molecular-generation/camaro/exp084/test_kf_0525.csv\n",
    "gs://kfujikawa-kaggle-bms-molecular-generation/camaro/exp084/test_kf_0527.csv\n",
    "gs://kfujikawa-kaggle-bms-molecular-generation/camaro/exp084/test_yokoo_0527.csv\n",
    "gs://kfujikawa-kaggle-bms-molecular-generation/camaro/exp084/test_yokoo_0531.csv\n",
    "gs://kfujikawa-kaggle-bms-molecular-generation/camaro/exp084/test_yokoo_0601.csv\n",
    "\"\"\".strip().split()"
   ]
  },
  {
   "cell_type": "code",
   "execution_count": 11,
   "metadata": {
    "tags": []
   },
   "outputs": [
    {
     "data": {
      "application/vnd.jupyter.widget-view+json": {
       "model_id": "580e718919db4460b0f7cf77956890b5",
       "version_major": 2,
       "version_minor": 0
      },
      "text/plain": [
       "HBox(children=(HTML(value=''), FloatProgress(value=0.0, max=6.0), HTML(value='')))"
      ]
     },
     "metadata": {},
     "output_type": "display_data"
    },
    {
     "name": "stdout",
     "output_type": "stream",
     "text": [
      "\n"
     ]
    },
    {
     "data": {
      "text/html": [
       "<div>\n",
       "<style scoped>\n",
       "    .dataframe tbody tr th:only-of-type {\n",
       "        vertical-align: middle;\n",
       "    }\n",
       "\n",
       "    .dataframe tbody tr th {\n",
       "        vertical-align: top;\n",
       "    }\n",
       "\n",
       "    .dataframe thead th {\n",
       "        text-align: right;\n",
       "    }\n",
       "</style>\n",
       "<table border=\"1\" class=\"dataframe\">\n",
       "  <thead>\n",
       "    <tr style=\"text-align: right;\">\n",
       "      <th></th>\n",
       "      <th>image_id</th>\n",
       "      <th>InChI</th>\n",
       "      <th>levenshtein</th>\n",
       "      <th>is_valid</th>\n",
       "      <th>focal_score</th>\n",
       "      <th>ce_score</th>\n",
       "      <th>model</th>\n",
       "      <th>filename</th>\n",
       "    </tr>\n",
       "  </thead>\n",
       "  <tbody>\n",
       "    <tr>\n",
       "      <th>0</th>\n",
       "      <td>007706c43e8d</td>\n",
       "      <td>InChI=1S/C16H32O6/c1-5-17-11-13-21-9-3-7-19-15...</td>\n",
       "      <td>NaN</td>\n",
       "      <td>False</td>\n",
       "      <td>0.18025</td>\n",
       "      <td>0.521818</td>\n",
       "      <td>exp084</td>\n",
       "      <td>test_yokoo_0527.csv</td>\n",
       "    </tr>\n",
       "  </tbody>\n",
       "</table>\n",
       "</div>"
      ],
      "text/plain": [
       "       image_id                                              InChI  \\\n",
       "0  007706c43e8d  InChI=1S/C16H32O6/c1-5-17-11-13-21-9-3-7-19-15...   \n",
       "\n",
       "   levenshtein  is_valid  focal_score  ce_score   model             filename  \n",
       "0          NaN     False      0.18025  0.521818  exp084  test_yokoo_0527.csv  "
      ]
     },
     "metadata": {},
     "output_type": "display_data"
    },
    {
     "data": {
      "text/plain": [
       "model\n",
       "exp084    5639758\n",
       "Name: image_id, dtype: int64"
      ]
     },
     "metadata": {},
     "output_type": "display_data"
    }
   ],
   "source": [
    "with mp.Pool() as pool:\n",
    "    total = len(CAMARO_TEST_CSVs)\n",
    "    iterator = pool.imap_unordered(load_prediction, CAMARO_TEST_CSVs)\n",
    "    camaro_df = pd.concat(list(tqdm(iterator, total=total)), ignore_index=True)\n",
    "camaro_df = camaro_df.drop_duplicates(subset=[\"model\", \"image_id\", \"InChI\"])\n",
    "display(camaro_df.head(1))\n",
    "display(camaro_df.groupby(\"model\").image_id.count())"
   ]
  },
  {
   "cell_type": "code",
   "execution_count": 36,
   "metadata": {},
   "outputs": [],
   "source": [
    "camaro_df[\"score_rank\"] = camaro_df.focal_score.rank() / len(camaro_df)"
   ]
  },
  {
   "cell_type": "markdown",
   "metadata": {},
   "source": [
    "# Blend"
   ]
  },
  {
   "cell_type": "code",
   "execution_count": 12,
   "metadata": {},
   "outputs": [],
   "source": [
    "kf_ensembled_df = kf_df.groupby([\"image_id\", \"InChI\"])[[\"normed_score\", \"is_valid\"]].mean().reset_index()"
   ]
  },
  {
   "cell_type": "code",
   "execution_count": 37,
   "metadata": {},
   "outputs": [],
   "source": [
    "kf_ensembled_df[\"score_rank\"] = kf_ensembled_df.normed_score.rank() / len(kf_ensembled_df)\n",
    "lyakaap_df[\"score_rank\"] = lyakaap_df.normed_score.rank() / len(lyakaap_df)\n",
    "camaro_df[\"score_rank\"] = camaro_df.focal_score.rank() / len(camaro_df)"
   ]
  },
  {
   "cell_type": "code",
   "execution_count": 38,
   "metadata": {},
   "outputs": [],
   "source": [
    "sort_keys = dict(\n",
    "    image_id=True,\n",
    "    is_valid=False,\n",
    "    score_rank=True,\n",
    ")\n",
    "merged_df = pd.concat([\n",
    "    kf_ensembled_df,\n",
    "    lyakaap_df,\n",
    "    camaro_df,\n",
    "], ignore_index=True)\n",
    "merged_ensembled_df = merged_df.groupby([\"image_id\", \"InChI\"])[[\"score_rank\", \"is_valid\"]].mean().reset_index()\n",
    "merged_ensembled_df = merged_ensembled_df.sort_values(\n",
    "    by=list(sort_keys.keys()),\n",
    "    ascending=list(sort_keys.values()),\n",
    ").groupby(\"image_id\").first().reset_index()"
   ]
  },
  {
   "cell_type": "code",
   "execution_count": 39,
   "metadata": {},
   "outputs": [
    {
     "data": {
      "application/vnd.jupyter.widget-view+json": {
       "model_id": "a6a1c73f644c44c69f82d5bc8ccd3b90",
       "version_major": 2,
       "version_minor": 0
      },
      "text/plain": [
       "HBox(children=(HTML(value=''), FloatProgress(value=0.0, max=1616107.0), HTML(value='')))"
      ]
     },
     "metadata": {},
     "output_type": "display_data"
    },
    {
     "name": "stdout",
     "output_type": "stream",
     "text": [
      "\n",
      "(29393, 6)\n",
      "0.2280115116140206\n"
     ]
    }
   ],
   "source": [
    "merged_ensembled_df = merged_ensembled_df.merge(baseline_df, on=\"image_id\")\n",
    "merged_ensembled_df[\"levenshtein\"] = [\n",
    "    Levenshtein.distance(x, y)\n",
    "    for x, y in tqdm(merged_ensembled_df[[\"InChI_x\", \"InChI_y\"]].values)\n",
    "]\n",
    "print(merged_ensembled_df.query(\"InChI_x != InChI_y\").shape)\n",
    "print(merged_ensembled_df.levenshtein.mean())"
   ]
  },
  {
   "cell_type": "code",
   "execution_count": null,
   "metadata": {},
   "outputs": [],
   "source": [
    "submission_df = merged_ensembled_df[[\"image_id\", \"InChI\"]]\n",
    "assert len(submission_df) == 1616107\n",
    "submission_df.to_csv(\"submission_0705_1109+1113+084_0601.csv\", index=False)\n",
    "!head submission_0702_kyakaap+084_0601.csv\n",
    "!wc submission_0702_kyakaap+084_0601.csv"
   ]
  },
  {
   "cell_type": "code",
   "execution_count": null,
   "metadata": {},
   "outputs": [],
   "source": []
  }
 ],
 "metadata": {
  "kernelspec": {
   "display_name": "Python 3",
   "language": "python",
   "name": "python3"
  },
  "language_info": {
   "codemirror_mode": {
    "name": "ipython",
    "version": 3
   },
   "file_extension": ".py",
   "mimetype": "text/x-python",
   "name": "python",
   "nbconvert_exporter": "python",
   "pygments_lexer": "ipython3",
   "version": "3.8.5"
  }
 },
 "nbformat": 4,
 "nbformat_minor": 4
}
