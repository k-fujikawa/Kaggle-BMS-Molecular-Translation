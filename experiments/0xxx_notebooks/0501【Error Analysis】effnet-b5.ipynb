{
 "cells": [
  {
   "cell_type": "code",
   "execution_count": 13,
   "id": "medium-nitrogen",
   "metadata": {},
   "outputs": [],
   "source": [
    "import cv2\n",
    "import pandas as pd\n",
    "import plotly.express as px\n",
    "from nncomp_molecule import constants"
   ]
  },
  {
   "cell_type": "code",
   "execution_count": 2,
   "id": "architectural-flash",
   "metadata": {},
   "outputs": [
    {
     "data": {
      "text/html": [
       "<div>\n",
       "<style scoped>\n",
       "    .dataframe tbody tr th:only-of-type {\n",
       "        vertical-align: middle;\n",
       "    }\n",
       "\n",
       "    .dataframe tbody tr th {\n",
       "        vertical-align: top;\n",
       "    }\n",
       "\n",
       "    .dataframe thead th {\n",
       "        text-align: right;\n",
       "    }\n",
       "</style>\n",
       "<table border=\"1\" class=\"dataframe\">\n",
       "  <thead>\n",
       "    <tr style=\"text-align: right;\">\n",
       "      <th></th>\n",
       "      <th>image_id</th>\n",
       "      <th>InChI</th>\n",
       "      <th>InChI_GT</th>\n",
       "      <th>score</th>\n",
       "      <th>levenshtein</th>\n",
       "    </tr>\n",
       "  </thead>\n",
       "  <tbody>\n",
       "    <tr>\n",
       "      <th>0</th>\n",
       "      <td>000011a64c74</td>\n",
       "      <td>InChI=1S/C13H20OS/c1-9(2)8-15-13-6-5-10(3)7-12...</td>\n",
       "      <td>InChI=1S/C13H20OS/c1-9(2)8-15-13-6-5-10(3)7-12...</td>\n",
       "      <td>-5.960409e-07</td>\n",
       "      <td>0</td>\n",
       "    </tr>\n",
       "    <tr>\n",
       "      <th>1</th>\n",
       "      <td>000011a64c74</td>\n",
       "      <td>InChI=1S/C13H19OS/c1-9(2)8-15-13-6-5-10(3)7-12...</td>\n",
       "      <td>InChI=1S/C13H20OS/c1-9(2)8-15-13-6-5-10(3)7-12...</td>\n",
       "      <td>-1.951246e-01</td>\n",
       "      <td>2</td>\n",
       "    </tr>\n",
       "    <tr>\n",
       "      <th>2</th>\n",
       "      <td>000011a64c74</td>\n",
       "      <td>InChI=1S/C13H18OS/c1-9(2)8-15-13-6-5-10(3)7-12...</td>\n",
       "      <td>InChI=1S/C13H20OS/c1-9(2)8-15-13-6-5-10(3)7-12...</td>\n",
       "      <td>-1.994168e-01</td>\n",
       "      <td>5</td>\n",
       "    </tr>\n",
       "    <tr>\n",
       "      <th>3</th>\n",
       "      <td>000011a64c74</td>\n",
       "      <td>InChI=1S/C13H18OS/c1-9(2)8-15-13-6-5-10(3)7-12...</td>\n",
       "      <td>InChI=1S/C13H20OS/c1-9(2)8-15-13-6-5-10(3)7-12...</td>\n",
       "      <td>-2.005658e-01</td>\n",
       "      <td>2</td>\n",
       "    </tr>\n",
       "    <tr>\n",
       "      <th>4</th>\n",
       "      <td>0000252b6d2b</td>\n",
       "      <td>InChI=1S/C24H23N5O4/c1-14-13-15(7-8-17(14)27-1...</td>\n",
       "      <td>InChI=1S/C24H23N5O4/c1-14-13-15(7-8-17(14)28-1...</td>\n",
       "      <td>-1.512850e-03</td>\n",
       "      <td>6</td>\n",
       "    </tr>\n",
       "  </tbody>\n",
       "</table>\n",
       "</div>"
      ],
      "text/plain": [
       "       image_id                                              InChI  \\\n",
       "0  000011a64c74  InChI=1S/C13H20OS/c1-9(2)8-15-13-6-5-10(3)7-12...   \n",
       "1  000011a64c74  InChI=1S/C13H19OS/c1-9(2)8-15-13-6-5-10(3)7-12...   \n",
       "2  000011a64c74  InChI=1S/C13H18OS/c1-9(2)8-15-13-6-5-10(3)7-12...   \n",
       "3  000011a64c74  InChI=1S/C13H18OS/c1-9(2)8-15-13-6-5-10(3)7-12...   \n",
       "4  0000252b6d2b  InChI=1S/C24H23N5O4/c1-14-13-15(7-8-17(14)27-1...   \n",
       "\n",
       "                                            InChI_GT         score  \\\n",
       "0  InChI=1S/C13H20OS/c1-9(2)8-15-13-6-5-10(3)7-12... -5.960409e-07   \n",
       "1  InChI=1S/C13H20OS/c1-9(2)8-15-13-6-5-10(3)7-12... -1.951246e-01   \n",
       "2  InChI=1S/C13H20OS/c1-9(2)8-15-13-6-5-10(3)7-12... -1.994168e-01   \n",
       "3  InChI=1S/C13H20OS/c1-9(2)8-15-13-6-5-10(3)7-12... -2.005658e-01   \n",
       "4  InChI=1S/C24H23N5O4/c1-14-13-15(7-8-17(14)28-1... -1.512850e-03   \n",
       "\n",
       "   levenshtein  \n",
       "0            0  \n",
       "1            2  \n",
       "2            5  \n",
       "3            2  \n",
       "4            6  "
      ]
     },
     "execution_count": 2,
     "metadata": {},
     "output_type": "execute_result"
    }
   ],
   "source": [
    "df = pd.read_csv(\"/work/output/1003_effnet_b5/valid_fold=0_beam=4.csv\")\n",
    "df.head()"
   ]
  },
  {
   "cell_type": "code",
   "execution_count": 4,
   "id": "affiliated-simpson",
   "metadata": {},
   "outputs": [
    {
     "data": {
      "text/plain": [
       "1.7629723742775938"
      ]
     },
     "execution_count": 4,
     "metadata": {},
     "output_type": "execute_result"
    }
   ],
   "source": [
    "idx = df.groupby(\"image_id\").levenshtein.idxmin()\n",
    "lower_df = df.loc[idx]\n",
    "lower_df.levenshtein.mean()"
   ]
  },
  {
   "cell_type": "code",
   "execution_count": 5,
   "id": "shaped-israeli",
   "metadata": {},
   "outputs": [
    {
     "data": {
      "text/plain": [
       "<AxesSubplot:>"
      ]
     },
     "execution_count": 5,
     "metadata": {},
     "output_type": "execute_result"
    },
    {
     "data": {
      "image/png": "[encoded data removed]",
      "text/plain": [
       "<Figure size 432x288 with 1 Axes>"
      ]
     },
     "metadata": {
      "needs_background": "light"
     },
     "output_type": "display_data"
    }
   ],
   "source": [
    "lower_df.levenshtein.hist(bins=20)"
   ]
  },
  {
   "cell_type": "code",
   "execution_count": 13,
   "id": "blocked-innocent",
   "metadata": {},
   "outputs": [
    {
     "data": {
      "text/plain": [
       "0      436947\n",
       "1        5101\n",
       "2        6118\n",
       "3        3869\n",
       "4        3302\n",
       "        ...  \n",
       "176         1\n",
       "177         1\n",
       "178         1\n",
       "183         1\n",
       "232         1\n",
       "Name: levenshtein, Length: 170, dtype: int64"
      ]
     },
     "execution_count": 13,
     "metadata": {},
     "output_type": "execute_result"
    }
   ],
   "source": [
    "lower_df.levenshtein.value_counts(sort=False)"
   ]
  },
  {
   "cell_type": "code",
   "execution_count": 18,
   "id": "individual-destiny",
   "metadata": {},
   "outputs": [
    {
     "data": {
      "text/html": [
       "<div>\n",
       "<style scoped>\n",
       "    .dataframe tbody tr th:only-of-type {\n",
       "        vertical-align: middle;\n",
       "    }\n",
       "\n",
       "    .dataframe tbody tr th {\n",
       "        vertical-align: top;\n",
       "    }\n",
       "\n",
       "    .dataframe thead th {\n",
       "        text-align: right;\n",
       "    }\n",
       "</style>\n",
       "<table border=\"1\" class=\"dataframe\">\n",
       "  <thead>\n",
       "    <tr style=\"text-align: right;\">\n",
       "      <th></th>\n",
       "      <th>image_id</th>\n",
       "      <th>InChI</th>\n",
       "      <th>InChI_GT</th>\n",
       "      <th>score</th>\n",
       "      <th>levenshtein</th>\n",
       "    </tr>\n",
       "  </thead>\n",
       "  <tbody>\n",
       "    <tr>\n",
       "      <th>0</th>\n",
       "      <td>000011a64c74</td>\n",
       "      <td>InChI=1S/C13H20OS/c1-9(2)8-15-13-6-5-10(3)7-12(13)11(4)14/h5-7,9,11,14H,8H2,1-4H3</td>\n",
       "      <td>InChI=1S/C13H20OS/c1-9(2)8-15-13-6-5-10(3)7-12(13)11(4)14/h5-7,9,11,14H,8H2,1-4H3</td>\n",
       "      <td>-5.960409e-07</td>\n",
       "      <td>0</td>\n",
       "    </tr>\n",
       "    <tr>\n",
       "      <th>1259808</th>\n",
       "      <td>a6816c1e0776</td>\n",
       "      <td>InChI=1S/C20H20ClN3O2/c1-13-10-17(14(2)9-16(13)21)22-20-23-19(25)18(26-3)12-24(20)11-15-7-5-4-6-8-15/h4-10,12H,11H2,1-3H3,(H,22,23,25)</td>\n",
       "      <td>InChI=1S/C20H20ClN3O2/c1-13-10-17(14(2)9-16(13)21)22-20-23-19(25)18(26-3)12-24(20)11-15-7-5-4-6-8-15/h4-10,12H,11H2,1-3H3,(H,22,23,25)</td>\n",
       "      <td>-5.559720e-04</td>\n",
       "      <td>0</td>\n",
       "    </tr>\n",
       "    <tr>\n",
       "      <th>1259804</th>\n",
       "      <td>a68169c545bb</td>\n",
       "      <td>InChI=1S/C9H5BrClNO2/c10-3-5-1-6(4-12)7(9(13)14)2-8(5)11/h1-2H,3H2,(H,13,14)</td>\n",
       "      <td>InChI=1S/C9H5BrClNO2/c10-3-5-1-6(4-12)7(9(13)14)2-8(5)11/h1-2H,3H2,(H,13,14)</td>\n",
       "      <td>-1.692058e-05</td>\n",
       "      <td>0</td>\n",
       "    </tr>\n",
       "    <tr>\n",
       "      <th>1259800</th>\n",
       "      <td>a6816869fcc0</td>\n",
       "      <td>InChI=1S/C15H16ClNO2S/c1-2-11-8-12(5-6-14(11)16)19-10-15(18)17-9-13-4-3-7-20-13/h3-8H,2,9-10H2,1H3,(H,17,18)</td>\n",
       "      <td>InChI=1S/C15H16ClNO2S/c1-2-11-8-12(5-6-14(11)16)19-10-15(18)17-9-13-4-3-7-20-13/h3-8H,2,9-10H2,1H3,(H,17,18)</td>\n",
       "      <td>-7.384663e-04</td>\n",
       "      <td>0</td>\n",
       "    </tr>\n",
       "    <tr>\n",
       "      <th>1259796</th>\n",
       "      <td>a6816845c6a5</td>\n",
       "      <td>InChI=1S/C21H18ClN5O2S/c22-17-4-6-18(7-5-17)29-11-20-26-19(12-30-20)21(28)24-9-15-2-1-3-16(8-15)10-27-14-23-13-25-27/h1-8,12-14H,9-11H2,(H,24,28)</td>\n",
       "      <td>InChI=1S/C21H18ClN5O2S/c22-17-4-6-18(7-5-17)29-11-20-26-19(12-30-20)21(28)24-9-15-2-1-3-16(8-15)10-27-14-23-13-25-27/h1-8,12-14H,9-11H2,(H,24,28)</td>\n",
       "      <td>-1.383642e-04</td>\n",
       "      <td>0</td>\n",
       "    </tr>\n",
       "    <tr>\n",
       "      <th>...</th>\n",
       "      <td>...</td>\n",
       "      <td>...</td>\n",
       "      <td>...</td>\n",
       "      <td>...</td>\n",
       "      <td>...</td>\n",
       "    </tr>\n",
       "    <tr>\n",
       "      <th>1477825</th>\n",
       "      <td>c33f77426ef5</td>\n",
       "      <td>InChI=1S/C58H117N15/c1-2-3-4-5-6-7-8-9-10-11-12-13-14-15-16-17-18-19-20-21-22-23-24-25-26-27-28-31-34-37-40-43-46-50-58(63)64-53-56(65)59-66-54-51-47-44-41-38-35-32-29-30-33-36-39-45-48-55-66-59(61)62-54-53-50-47-42-39-40-41-38-37-36-38-39-40-42-49-55/h59-60H,2-55H2,1H3,(H,59,60)(H,61,62)</td>\n",
       "      <td>InChI=1S/C62H156N30/c1-3-4-64-7-8-66-11-12-68-15-16-70-19-20-72-23-24-74-27-28-76-31-32-78-35-36-80-39-40-82-43-44-84-47-48-86-51-52-88-55-56-90-59-60-92-62-61-91-58-57-89-54-53-87-50-49-85-46-45-83-42-41-81-38-37-79-34-33-77-30-29-75-26-25-73-22-21-71-18-17-69-14-13-67-10-9-65-6-5-63-2/h63-92H,3-62H2,1-2H3</td>\n",
       "      <td>-3.597671e-01</td>\n",
       "      <td>176</td>\n",
       "    </tr>\n",
       "    <tr>\n",
       "      <th>712216</th>\n",
       "      <td>5e0c7d9e41d5</td>\n",
       "      <td>InChI=1S/C55H94O11/c1-4-7-10-13-16-21-24-27-30-33-36-39-42-48(57)60-45-49(63-52(58)43-40-37-34-31-28-25-22-19-17-14-11-8-5-2)47-62-50(56)44-41-38-35-32-29-26-23-20-18-15-12-9-6-3/h18,21,25-26,33,35,50-51,54H,4-17,19-20,22-24,27-32,34,36-47H2,1-3H3/b21-18+,28-25+,29-26+,35-33+</td>\n",
       "      <td>InChI=1S/C61H114O10/c1-7-11-14-16-26-35-43-55(62)52(5)41-33-24-22-30-38-47-59(65)69-50-54(51-70-60(66)48-39-31-23-25-34-42-53(6)56(63)44-36-27-17-15-12-8-2)71-61(67)49-40-29-21-19-18-20-28-37-45-57(64)58(68-10-4)46-32-13-9-3/h26,28,35,37,52-58,62-64H,7-25,27,29-34,36,38-51H2,1-6H3/b35-26+,37-28+</td>\n",
       "      <td>-1.968023e-01</td>\n",
       "      <td>177</td>\n",
       "    </tr>\n",
       "    <tr>\n",
       "      <th>1627897</th>\n",
       "      <td>d702d93cc364</td>\n",
       "      <td>InChI=1S/C69H133NO5/c1-3-5-7-9-11-13-15-17-18-19-20-21-22-23-24-25-26-29-32-35-39-43-47-51-55-59-63-69(74)68(67-73)72-70(75)64-60-56-52-48-44-40-36-33-30-27-28-31-34-38-42-46-50-54-58-62-66-77-71(76)65-61-57-53-49-45-41-37-16-14-12-10-8-6-4-2/h24,26,60,64,69-70,74-75H,3-23,25,27-55,57-59,61-64H2,1-2H3,(H,70,73)/b26-24-,60-56+</td>\n",
       "      <td>InChI=1S/C79H156O4/c1-6-8-10-12-14-16-18-20-22-24-25-37-40-44-48-52-56-60-64-68-72-76(79(81)83-5)77(80)73-69-65-61-57-53-49-45-41-38-35-33-31-29-27-26-28-30-32-34-36-39-42-46-50-54-58-62-66-70-74-78(82-4)75(3)71-67-63-59-55-51-47-43-23-21-19-17-15-13-11-9-7-2/h34,36,75-78,80H,6-33,35,37-74H2,1-5H3/b36-34-</td>\n",
       "      <td>-5.430718e-02</td>\n",
       "      <td>178</td>\n",
       "    </tr>\n",
       "    <tr>\n",
       "      <th>391008</th>\n",
       "      <td>33c91c2956cf</td>\n",
       "      <td>InChI=1S/CH1N/c1-3-4-5-6-7-8-9-10-11-12-13-14-15-16-17-18-19-20-21-22-23-24-25-26-27-28-29-30-31-32-33-34-35-36-37-38-39-40-41-42-43-44-45-46-47-48-49-50-51-52-54-57-58-61-67-68(81)70-73-80-81-78(82)79-80-81-75(80)69-65-62-59-56-53-49-19-2/h1-60H2</td>\n",
       "      <td>InChI=1S/C19H4O/c1-2-3-4-5-6-7-8-9-10-11-12-13-14-15-16-17-18-19-20/h1,20H,19H2</td>\n",
       "      <td>-2.693424e-01</td>\n",
       "      <td>183</td>\n",
       "    </tr>\n",
       "    <tr>\n",
       "      <th>992894</th>\n",
       "      <td>82ff63114135</td>\n",
       "      <td>InChI=1S/C36H46O8S6/c1-7-31(37)41-33(39-17-35(43-9-3)49-21-47-23-49-24-47-24-48-24-48-24-48-24-48-24-48-24-48-24-50-24-50-24-50-24-50-24-50-24-49-24-50-24-47-24-48-24-49-24-50-24-47-24-48-24-49-24-50-24-50-24-47-24-46-24-47-24-49-24-51-45)32-27-11-13-29(14-12-27)42-34(36(4,5)6)20-38-30-15-8-26(10-16-30)22-46-28-19-47-25-49-18-25/h7-16,25,31-32H,1-6,17-23H2,3-4H3</td>\n",
       "      <td>InChI=1S/C37H48O8S6/c1-24(2)33(38)43-26(5)35(40-17-31-48-20-46-21-49-31)44-30-15-11-28(12-16-30)36(6,7)27-9-13-29(14-10-27)41-19-37(8,45-34(39)25(3)4)42-18-32-50-22-47-23-51-32/h9-16,26,31-32,35H,1,3,17-23H2,2,4-8H3</td>\n",
       "      <td>-3.232195e-01</td>\n",
       "      <td>232</td>\n",
       "    </tr>\n",
       "  </tbody>\n",
       "</table>\n",
       "<p>484838 rows × 5 columns</p>\n",
       "</div>"
      ],
      "text/plain": [
       "             image_id  \\\n",
       "0        000011a64c74   \n",
       "1259808  a6816c1e0776   \n",
       "1259804  a68169c545bb   \n",
       "1259800  a6816869fcc0   \n",
       "1259796  a6816845c6a5   \n",
       "...               ...   \n",
       "1477825  c33f77426ef5   \n",
       "712216   5e0c7d9e41d5   \n",
       "1627897  d702d93cc364   \n",
       "391008   33c91c2956cf   \n",
       "992894   82ff63114135   \n",
       "\n",
       "                                                                                                                                                                                                                                                                                                                                                                                InChI  \\\n",
       "0                                                                                                                                                                                                                                                                                                   InChI=1S/C13H20OS/c1-9(2)8-15-13-6-5-10(3)7-12(13)11(4)14/h5-7,9,11,14H,8H2,1-4H3   \n",
       "1259808                                                                                                                                                                                                                                        InChI=1S/C20H20ClN3O2/c1-13-10-17(14(2)9-16(13)21)22-20-23-19(25)18(26-3)12-24(20)11-15-7-5-4-6-8-15/h4-10,12H,11H2,1-3H3,(H,22,23,25)   \n",
       "1259804                                                                                                                                                                                                                                                                                                  InChI=1S/C9H5BrClNO2/c10-3-5-1-6(4-12)7(9(13)14)2-8(5)11/h1-2H,3H2,(H,13,14)   \n",
       "1259800                                                                                                                                                                                                                                                                  InChI=1S/C15H16ClNO2S/c1-2-11-8-12(5-6-14(11)16)19-10-15(18)17-9-13-4-3-7-20-13/h3-8H,2,9-10H2,1H3,(H,17,18)   \n",
       "1259796                                                                                                                                                                                                                             InChI=1S/C21H18ClN5O2S/c22-17-4-6-18(7-5-17)29-11-20-26-19(12-30-20)21(28)24-9-15-2-1-3-16(8-15)10-27-14-23-13-25-27/h1-8,12-14H,9-11H2,(H,24,28)   \n",
       "...                                                                                                                                                                                                                                                                                                                                                                               ...   \n",
       "1477825                                                                             InChI=1S/C58H117N15/c1-2-3-4-5-6-7-8-9-10-11-12-13-14-15-16-17-18-19-20-21-22-23-24-25-26-27-28-31-34-37-40-43-46-50-58(63)64-53-56(65)59-66-54-51-47-44-41-38-35-32-29-30-33-36-39-45-48-55-66-59(61)62-54-53-50-47-42-39-40-41-38-37-36-38-39-40-42-49-55/h59-60H,2-55H2,1H3,(H,59,60)(H,61,62)   \n",
       "712216                                                                                           InChI=1S/C55H94O11/c1-4-7-10-13-16-21-24-27-30-33-36-39-42-48(57)60-45-49(63-52(58)43-40-37-34-31-28-25-22-19-17-14-11-8-5-2)47-62-50(56)44-41-38-35-32-29-26-23-20-18-15-12-9-6-3/h18,21,25-26,33,35,50-51,54H,4-17,19-20,22-24,27-32,34,36-47H2,1-3H3/b21-18+,28-25+,29-26+,35-33+   \n",
       "1627897                                       InChI=1S/C69H133NO5/c1-3-5-7-9-11-13-15-17-18-19-20-21-22-23-24-25-26-29-32-35-39-43-47-51-55-59-63-69(74)68(67-73)72-70(75)64-60-56-52-48-44-40-36-33-30-27-28-31-34-38-42-46-50-54-58-62-66-77-71(76)65-61-57-53-49-45-41-37-16-14-12-10-8-6-4-2/h24,26,60,64,69-70,74-75H,3-23,25,27-55,57-59,61-64H2,1-2H3,(H,70,73)/b26-24-,60-56+   \n",
       "391008                                                                                                                        InChI=1S/CH1N/c1-3-4-5-6-7-8-9-10-11-12-13-14-15-16-17-18-19-20-21-22-23-24-25-26-27-28-29-30-31-32-33-34-35-36-37-38-39-40-41-42-43-44-45-46-47-48-49-50-51-52-54-57-58-61-67-68(81)70-73-80-81-78(82)79-80-81-75(80)69-65-62-59-56-53-49-19-2/h1-60H2   \n",
       "992894   InChI=1S/C36H46O8S6/c1-7-31(37)41-33(39-17-35(43-9-3)49-21-47-23-49-24-47-24-48-24-48-24-48-24-48-24-48-24-48-24-50-24-50-24-50-24-50-24-50-24-49-24-50-24-47-24-48-24-49-24-50-24-47-24-48-24-49-24-50-24-50-24-47-24-46-24-47-24-49-24-51-45)32-27-11-13-29(14-12-27)42-34(36(4,5)6)20-38-30-15-8-26(10-16-30)22-46-28-19-47-25-49-18-25/h7-16,25,31-32H,1-6,17-23H2,3-4H3   \n",
       "\n",
       "                                                                                                                                                                                                                                                                                                                     InChI_GT  \\\n",
       "0                                                                                                                                                                                                                                           InChI=1S/C13H20OS/c1-9(2)8-15-13-6-5-10(3)7-12(13)11(4)14/h5-7,9,11,14H,8H2,1-4H3   \n",
       "1259808                                                                                                                                                                                InChI=1S/C20H20ClN3O2/c1-13-10-17(14(2)9-16(13)21)22-20-23-19(25)18(26-3)12-24(20)11-15-7-5-4-6-8-15/h4-10,12H,11H2,1-3H3,(H,22,23,25)   \n",
       "1259804                                                                                                                                                                                                                                          InChI=1S/C9H5BrClNO2/c10-3-5-1-6(4-12)7(9(13)14)2-8(5)11/h1-2H,3H2,(H,13,14)   \n",
       "1259800                                                                                                                                                                                                          InChI=1S/C15H16ClNO2S/c1-2-11-8-12(5-6-14(11)16)19-10-15(18)17-9-13-4-3-7-20-13/h3-8H,2,9-10H2,1H3,(H,17,18)   \n",
       "1259796                                                                                                                                                                     InChI=1S/C21H18ClN5O2S/c22-17-4-6-18(7-5-17)29-11-20-26-19(12-30-20)21(28)24-9-15-2-1-3-16(8-15)10-27-14-23-13-25-27/h1-8,12-14H,9-11H2,(H,24,28)   \n",
       "...                                                                                                                                                                                                                                                                                                                       ...   \n",
       "1477825  InChI=1S/C62H156N30/c1-3-4-64-7-8-66-11-12-68-15-16-70-19-20-72-23-24-74-27-28-76-31-32-78-35-36-80-39-40-82-43-44-84-47-48-86-51-52-88-55-56-90-59-60-92-62-61-91-58-57-89-54-53-87-50-49-85-46-45-83-42-41-81-38-37-79-34-33-77-30-29-75-26-25-73-22-21-71-18-17-69-14-13-67-10-9-65-6-5-63-2/h63-92H,3-62H2,1-2H3   \n",
       "712216               InChI=1S/C61H114O10/c1-7-11-14-16-26-35-43-55(62)52(5)41-33-24-22-30-38-47-59(65)69-50-54(51-70-60(66)48-39-31-23-25-34-42-53(6)56(63)44-36-27-17-15-12-8-2)71-61(67)49-40-29-21-19-18-20-28-37-45-57(64)58(68-10-4)46-32-13-9-3/h26,28,35,37,52-58,62-64H,7-25,27,29-34,36,38-51H2,1-6H3/b35-26+,37-28+   \n",
       "1627897    InChI=1S/C79H156O4/c1-6-8-10-12-14-16-18-20-22-24-25-37-40-44-48-52-56-60-64-68-72-76(79(81)83-5)77(80)73-69-65-61-57-53-49-45-41-38-35-33-31-29-27-26-28-30-32-34-36-39-42-46-50-54-58-62-66-70-74-78(82-4)75(3)71-67-63-59-55-51-47-43-23-21-19-17-15-13-11-9-7-2/h34,36,75-78,80H,6-33,35,37-74H2,1-5H3/b36-34-   \n",
       "391008                                                                                                                                                                                                                                        InChI=1S/C19H4O/c1-2-3-4-5-6-7-8-9-10-11-12-13-14-15-16-17-18-19-20/h1,20H,19H2   \n",
       "992894                                                                                                InChI=1S/C37H48O8S6/c1-24(2)33(38)43-26(5)35(40-17-31-48-20-46-21-49-31)44-30-15-11-28(12-16-30)36(6,7)27-9-13-29(14-10-27)41-19-37(8,45-34(39)25(3)4)42-18-32-50-22-47-23-51-32/h9-16,26,31-32,35H,1,3,17-23H2,2,4-8H3   \n",
       "\n",
       "                score  levenshtein  \n",
       "0       -5.960409e-07            0  \n",
       "1259808 -5.559720e-04            0  \n",
       "1259804 -1.692058e-05            0  \n",
       "1259800 -7.384663e-04            0  \n",
       "1259796 -1.383642e-04            0  \n",
       "...               ...          ...  \n",
       "1477825 -3.597671e-01          176  \n",
       "712216  -1.968023e-01          177  \n",
       "1627897 -5.430718e-02          178  \n",
       "391008  -2.693424e-01          183  \n",
       "992894  -3.232195e-01          232  \n",
       "\n",
       "[484838 rows x 5 columns]"
      ]
     },
     "metadata": {},
     "output_type": "display_data"
    }
   ],
   "source": [
    "with pd.option_context(\"display.max_colwidth\", None):\n",
    "    display(lower_df.sort_values(\"levenshtein\"))"
   ]
  },
  {
   "cell_type": "code",
   "execution_count": 30,
   "id": "comfortable-destruction",
   "metadata": {},
   "outputs": [
    {
     "data": {
      "application/vnd.plotly.v1+json": {
       "config": {
        "plotlyServerURL": "https://plot.ly"
       },
       "data": [
        {
         "hovertemplate": "x: %{x}<br>y: %{y}<br>color: [%{z[0]}, %{z[1]}, %{z[2]}]<extra></extra>",
         "name": "0",
         "source": "data:image/png;base64,iVBORw0KGgoAAAANSUhEUgAAA4AAAAHUCAIAAADk1tHIAAAU1ElEQVR4Xu3d3ZajoLYGUN2j3v+VPRee7U6bhKDCAnHOix7VxgASf74CTc3LskwAABDlP/sFAABQkwAKAEAoARQAgFACKAAAoQRQAABCCaAAAIQSQAEACCWAAgAQSgAFACCUAAoAQCgBFACAUAIoAAChBFAAAEIJoAAAhBJAAQAIJYACABBKAAUAIJQACgBAKAEUAIBQAigAAKEEUAAAQgmgAACEEkABAAglgAIAEEoABQAglAAK9GWe53me1x/2rwGBdsdgq0Py/YTw7WduRAAFurMsy/avqws81nr4bycEZ4ORCKBAR+Z5Xi82AAxMAAW6Jo9CQ13dErOdDZwWBiCA0p0eTnP0w/4ADS3L8npLTFvb2cBpYQACKNARt3lBP3oInYxKAAX6smXQde7PJRBaaf7b4Ho22E4IzgYj8XHSHWcZABibEVAAAEIJoAAAhBJAAQAIJYACAF1r/jgUxQmgdMcTSA/nSgMwPAEUOENMBOA0AZTuSDa3YKAagNMEUAAAQgmgAACEEkABgK6552c8AigA0DXPBoxHAKU7ftMFgLEJoHTHb7oAMDYBFACAUAIo3TEF/3B2AIDhCaB0xxT8w9kBAIYngAIAEEoABejOPM/rSLDxYGBIAihAX9bQud4LuyyLDEpb9kBqEEABuvP6JJYMSiuvvwtBWQJoX7Z5t4aaN6C5Hj6F5pr3wNqAhs2wG3Si+afwzAas+/8WPZu0YdO29lXzNox3RuolgG4926p/e/ho53lelqXhaMfaCW0bMP33t+2GbWj+KWw/NGnD627QpAHTfz+F7ed/X4ywNqBVJ2zb3tDrVsf3wGqtt+3BuO4JTXaD6aUB68/7l+vYKn3dD9vukw0PxqmP3WB66YT9yyFq1Pu/s3wrW8/+XFjPum/tlkxNG/BtYSUftzeyAdOn6j62qp73BnxbWMnHuj4urORbhwe3ofluML1V996qqnbVBdc+farxY7cEe29VPR+39+PCet63N6AB75W+Lg9owKuP1X1rYSXv1X1sVT3NGzB9akMRVQrNl96q9KtFpKuI+ZgTbQhowM8qEs0rJV3FzxZeF1BF2s8GpLuoiHQV6VeLSHdC+tUi0lUE9MDOVmNk1T/r+rnCReny059RET+rSLewiHQVP1t4TqLS3UuVGvDqZxWJ1pYSUEVauhPSr5ZStRMqFp2Wv1X5ax6SX2z+mofk7z35a1ZSrwH1Ss6U34BKu8F0pOT8NQ9p3gnNGzBll5zf1NvJ7IHpyJqH5Pdt/ppHZW5a1QZMeSVnNjVHotJ0LelXT8ssNtHsi+qVnCm/AflrHpX5KVxRvYJ3J/rrxFsSzpVW9sM4UdqJt6QdLfBcv31zorQTb0k72gPTqbeUVbYTzpVWthNOlHbiLQnnSjv3ro9OfAon3pJQtrRzTvTnibekHS2weL/FNyBRQmZjMlfLlGjPNyfeknCitBNvSTvRpSfeklC2tISgajZXNqzIx9xDA6YLhVxp/6p5A6ZrhVxs/6qHBkwXCrnS/tX1BkwX3n7d9R6YLm/F9TY0b8B0rZCL7d9cbMPp964ulnDx7asrhZT6FDZHCzy6/kcXC7nSgZsrhVxs/+rWDTghrrJSG3a6nNNv3DldTpH9Y7pWzunG75Qq57TTDbjSe6+aN+CK043fOV1OqU64Us7pxr9q3oDpWjlX3rs53Qmn37hzpZwiPTBdKOf0G3eOdsLHeo8W8ur0e0+/saCPvXHC6XJOv3HndGeefuMVZbY5rVTPbo4WWKNnT7Th0Po/HS3w6Po/He3Vo+vnOLRRlRowHSnzUINznGjAdGT9HIc2qnkDpuPr/1Rjow45ukU1GnyiDYfW/+noRvXQgOnI+jl+blSi0p/vzXSonEMr5zha4NH1cxwqM/GJnHaoAdPx9UupW2vVrcr52HLWOS2z8Nqd8LPwzHaek1l4TjvPyWxAVTlbV7udP9tQtQGZhf9sZEFrk6aMVpWSs3WZHXVOTuE5jTwtpwFT/Tb8LDyznefkFJ6zzmmJHvj20rflp2UWmLnaCTk9nLPOaZmF1+uBKa/wnHXqqVh32w2L9G1Lvy0vK7GjJ14qK7GliZcKSmxp4qWCErXE9MAUWNE3iU4I9toVwd3yrbqwzklU9K1tZaUbMH15qaxvWxrWgOZ2WxrfIYmSEy+V9W2rp+RLBYVt6TeJBsT0QFqVFsRv2K7GRKdX8n60v/43QHyN794/heD2vDdgiu2T9xqDO6F5A6a3Gt+bVNv7Jr8vqep9k4Mb8O69SbXtamzegCZ6OBbWH94rDWvMeycEVLoJ28yEtj2weq20hz5ZFe6Ihhu2HWlTowZMyaM9xrqTNdm/Vz6FqYMGrHo4GFvVvqv3fUmAro6FqVEb2u4JU08NmJq2oe0R4VNo3oBVw4vCR6F7IQ8RfHaDV++73/uSGK3qfddPS2hi2wF6iyA82d9+AVzm7EZDdj94J3rSm//sFwDc3OuEl8E/mKZpWRYHAl0xAgqMZlmW5redAZAggAIDkjsBemYKHgCAUAIoAAChBFAAAEIJoAAAhBJAAQAIJYACAHTq9YuNRyKAAgB0atQvlRNAAQY36gUMuC8BFKCKfmLfqFN4wH0JoABViH0A3wigAACEEkABAAglgAIAEGru5zZ5AKCJeZYHCGUEFKAKDyFxI9InwQRQAABCGXKnpG3I59t+ZZYHwvw8HuEJHAh9MgJKMetBvizLsizzPK//NQvJY7Xd+ddf9rbjcf8yz/PM3eDjhYkeCKAUsx7h28//vgjEWdPn9l/H4zMJWysXpj797RdAadtJ0MEPrewiKU9g8JueCaBEcOWDhqSQZ9pmn1//C50wBU8x385upgJ5mt2FP9571e9LeAKfO90SQClpy6Dfwui35TCG5tFz41iD1c8LE024K4iS3O7JY/UTPTcdNomG5gffB/zkbe+WjwTgKpc3uCNHbkOm4AHOM8oI97UeuabmmxBAAc4QPWEMi++ob8HgM8BhZu5gPH6rjOQcCgDw//x6GcMUPMDeNh9nVg6exox8DDEf4B+78Q/DIfBMZuSr8qc4Af7hegNM/z4j77RQnCl4gH/spt7W+bjXJcBzLMviJFCDAAqQYgoecBIoTgAFAEgxAlqcAArwj9dnYA1/AtTgISSAvS10Sp8ANRgBBQAglAAKAEAoARQAgFACKMBnnnsFqEQABQAglAAKAJDiCzGKE0ABAFLckFOcAArwmTEPgEoEUAAAQgmgAAAp5kOKE0ABPnPXF7ByNihOAAUASDECWpwACgCQYgS0OAEUAIBQAigAQIop+OIEUACAFFPwxQmgAACEEkABAFJMwRcngAJ8Zd4NmJwKKhBAAb5alsWFB6A4ARTggy13rhlUDIUnMwVf3N9+AQDTNL1cctYf1gzqOgRwnQAK8D+JkU4xFKCU2WkUYDXP/5wSE1lztybckd2Yhux8AKkr8bcY+m05AD99PecCPEEier5KrJZ4CYCPPAUPPNQ8z/nZ8fUG0J3FVzUBHJR78gUYxpXZ8yvvBWAlgALPkj/qmVaqHIAHMgUPPEup1JieeV/n9/dLAZimSQAFnqBSHFwz6HvJ6+Bo4rZRgIfzRfTAyNb8V2rU893PkteQ+nM1gEcRQIGRxSc/cRPgJ1PwwJjMfQN0SwAFKCn9cBIAkwAKUJUZeYB3zowA5W2DoM6xAO8EUGBMhh4BumUKHgCAUAIoMCbDnwDdEkABAAglgAJj8l1IAN0SQAEACCWAAgAQSgAFACCUAAoAQCgBFACAUAIoAAChBFAAAEIJoAAAhBJAAQAIJYACABBKAAUAIJQACgBAKAEUAIBQAigAAKEEUAAAQgmgAACEEkCBAc3zvF8EQDf+9gsA7myNnsuy7F8AoBsCKDCOeZ5FT4D+mYIHRmDgE+BGBFDg3kRPgNsxBQ/clegJcFMCKHBLbvcEuC9T8MDNGPgEuDsBFLgN0RNgDAIocBuiJ8AYBFCgd/6sEcBgPIQE9MucO8CQBFCgU55zBxiVKXigR9InwMAEUAAAQgmgQI8MfwIMTACFzzx53Zb+BxiYAAqfGYEDgEoEUAAAQgmgAACEEkCBHrkFAmBgAijQIw8hAQxMAAUAIJQACgBAKAEUAIBQAijQIw8hAQxMAAV65CEkgIEJoAAAhBJAAQAIJYACABBKAAUAIJQACgBAKAEUAIBQAigAAKEEUAAAQgmgAACEEkABAAglgAIAEOpvvwCgqfWvwC/Lsn8BgFEIoEBH5nkWPQGGJ4ACXTDwCfAcAijQmOgJ8DQCKNCSOXeAB/IUPNCGgc9OrB8EQCRjD0A00RPg4UzBA3FETwAmARQI43ZPAFbuAQWqM/AJwCsjoEBFoicA7wRQoArRE4BvTMEDtUifAHwkgAIAEEoABaow/AnANwIoUIW/rwPANwIoAAChBFAAAEIJoAAAhBJAAQAIJYACABBKAAUAIJQACgBAKAEUAIBQAigAAKEEUAAAQgmgQBX+FjwA3wigAACEEkCBKuZ53i8CgGmaBFCgElPwAHwjgAJVGAEFvnF+YDZKAQBAJCOgQBVGOAD4RgAFqjC7AsA3AihQhRFQAL4RQAEACCWAAgAQSgClPXO145ln37ABwFcuEkBJ668TTiwAJPztFwCcInoCkEkABa4SPQE4RAAFLnG7JwBHCaDASQY+AThHAAUOEz0BuEIABY4x5w7ARb4HFDhG+gTgIgEU+M0fCwCgIFPwQIrbPQEoTgAFvnK7JwA1mIIHPjDwCUA9AigAAKEEUAAAQgmgAACEEkABAAglgAIAEEoABQAglAAKAPfgb5IxDAH00ZzLAG7EV/MyDAH00ZzLAIB4AigAAKEEUAAAQgmgwAduzwCgnvsFUM/NQAAHGgD13C+AGpgBALi1+wVQAEZiuB0eSAAFoCXzWvBAAigAAKEEUAAAQgmgAACEEkABAAglgAIAEEoAhS68fhPN+rPvpgFgVAIotPExX64L12+lWZbl4zoAcHcCKDSz5UtBE4BHEUChXwZBARjS334BEGX7AzDf/hLMPM/fXqrn9TaAJg0AYHgCKHShh6j3Gj1X2xBs87YBMBIBFDqyC3yRse9bAjYUCkBxLirwdPnhMn9NAEhwOYE7KTshfqK0E28BgB0BFO6nyEjklULEUACu8DVMcD/bfZn7F/Jcj4/Lsiy+IgqAs84PgQDNHY2SR9fPcWUkFYBncuWA28uJlTnrnFa1cADGI4DCIBIjkYmXChJDAcjkHlAYxJr8dvdlRobCZVkWN4YCkCFiXASI9BoBmxzgkakXgDsSQGFAMXPuAHCOKXgYkPQJQM8EUAAAQgmgAACEEkABAAglgAIAEEoABQAglAAKAEAoARQAgFACKAAAoQRQAABCCaAAAIQSQAEACCWAAgAQSgAFACCUAAoAQCgBFACAUAIoAAChBFAAAEIJoAAAhBJAAQAIJYBCSfM87xcBNOW8RIcEUChpWZbtZyd9oAev5yXohAAKJb2GTid9APhIAIXC5v/avxCobe0AkPa3XwBcsw18zvPcZBC0Vb0AkMkIKJTUQ/LroQ0AkCCAQkkN574bVg0Ah5iCh1rCRiLX6BlWHQBc5F4xuDG3ewJwR6bgIVTBB+SlTwBuygUMGrg4aX7x7QDQlgAKN2PgE4C7MwUPLeXPyG9rSp8A3J2hFGjvZ7I06gnASFzVoBcfY+jHhQBwa6bgoRdrynydkV8HPqVPAAbji+ihI68ZVO4EYFQCKPTF7Z4ADM8UPAAAoQRQAABCCaAAAIQSQAEACCWAAgAQSgCFvngEHoDhCaDQl8w/DQ8A9yWAAgAQSgAFACCUAAr9cj8oAEMSQKGuK/d0XnkvAHRLAIW6jGICwI4ACgBAKAEU+mX0FIAhCaDQL/eAAjAkARQAgFACKAAAoYoFUHOFAADkKBZAPS0BAECOYgEUAAByCKAAAIQSQAEACCWAQr/cWg3AN7d+/lsAhR6tp5Vbn1wAqOrWgxQCKPRoWRbpE4BRzbeOzzCSNXHuDsl5dpACMBrXNmjvY/R8JYYCMBJXNWgsM1z+DKkAcBdZVz6ghszo+UoMBWAAh69/QHMnkisA9MNT8BBqnufrj7evz8hfLwcAmjCOAnGKj1yakQfgjgpfDoGPwpJi8YwLAMWZgofq1lDYJBeapgegQwIoVBQ28PlNw6oB4BuzdVBFq6nw9yHPJs0AgIS//QLgslbpc/Va9XseBYDmTMEDABBKAIWhNBx5BYBMAigMxZw7AP0TQGEouxFQA6IAdEgABQAglAAKAEAoARQAgFACKAAAoQRQAABCCaAAAIQSQAEACCWAQnm+fRMAEgRQKM+fIwKABAEUAIBQAigAAKEEUAAAQgmgAACEEkABAAglgAIAEEoABQAglAAKAEAoARQAgFACKAAAoQRQAABCCaAAAIQSQKGYeZ7neZ6maVmW/WsAwH/97RcAp8zzLHcCQA4joHCVUU8AOMQIKJwnegLACQIonCF6AsBpAigc5nZPALjCPaBwwPqce/H0uY6nAsBDlL+UwpBq5E4AeCYjoPCb9AkABQmg8Jv0CQAFCaDw2fZnjQCAsjwFDx+YcweAeoyAwgfSJwDUI4ACABBKAAUAIJQACgBAKAEUAIBQAigAAKEEUAAAQgmgAACEEkABAAglgAIAEEoABQAglAAKAEAoARQAgFACKAAAoQRQAABCCaAAAIQSQAEACCWAAgAQSgAFACCUAAoAQCgBFACAUAIoAAChBFAAAEIJoAAAhOo3gM7zvF8EIex7AFBVvwF0WZb9Iqhvnmf7HgBU1W8AhSakTwCoTQAFc+4AEOpvvwCeZI2eRj0BIJIAynO53RMAmjAFzxMZ+ASAhgRQnkX0BIDmTMHzFKInAHRCAOUR3O4JAP0wBc/4pE8A6IoAyrDmeTbtDgAdEkAZ1rIsoidAMH/agxwCKABQjN/8ySGAAgAQSgAFACCUAAoAQCgBFACAUAIoAAChBFAAAEIJoAAAhBJAAQAIJYACABBKAAUAIJQACgBAKAEUgNHM87xfBPREAAVgNMuy7BcBPRFAAQAIJYACABBKAAUAIJQACgBAKAEUAIBQAigAAKEEUAAAQgmgAACEEkABAAglgAIAEEoABQAglAAKAECo/wMk04KjKr2p2wAAAABJRU5ErkJggg==",
         "type": "image",
         "xaxis": "x",
         "yaxis": "y"
        }
       ],
       "layout": {
        "autosize": true,
        "margin": {
         "t": 60
        },
        "template": {
         "data": {
          "bar": [
           {
            "error_x": {
             "color": "#2a3f5f"
            },
            "error_y": {
             "color": "#2a3f5f"
            },
            "marker": {
             "line": {
              "color": "#E5ECF6",
              "width": 0.5
             }
            },
            "type": "bar"
           }
          ],
          "barpolar": [
           {
            "marker": {
             "line": {
              "color": "#E5ECF6",
              "width": 0.5
             }
            },
            "type": "barpolar"
           }
          ],
          "carpet": [
           {
            "aaxis": {
             "endlinecolor": "#2a3f5f",
             "gridcolor": "white",
             "linecolor": "white",
             "minorgridcolor": "white",
             "startlinecolor": "#2a3f5f"
            },
            "baxis": {
             "endlinecolor": "#2a3f5f",
             "gridcolor": "white",
             "linecolor": "white",
             "minorgridcolor": "white",
             "startlinecolor": "#2a3f5f"
            },
            "type": "carpet"
           }
          ],
          "choropleth": [
           {
            "colorbar": {
             "outlinewidth": 0,
             "ticks": ""
            },
            "type": "choropleth"
           }
          ],
          "contour": [
           {
            "colorbar": {
             "outlinewidth": 0,
             "ticks": ""
            },
            "colorscale": [
             [
              0,
              "#0d0887"
             ],
             [
              0.1111111111111111,
              "#46039f"
             ],
             [
              0.2222222222222222,
              "#7201a8"
             ],
             [
              0.3333333333333333,
              "#9c179e"
             ],
             [
              0.4444444444444444,
              "#bd3786"
             ],
             [
              0.5555555555555556,
              "#d8576b"
             ],
             [
              0.6666666666666666,
              "#ed7953"
             ],
             [
              0.7777777777777778,
              "#fb9f3a"
             ],
             [
              0.8888888888888888,
              "#fdca26"
             ],
             [
              1,
              "#f0f921"
             ]
            ],
            "type": "contour"
           }
          ],
          "contourcarpet": [
           {
            "colorbar": {
             "outlinewidth": 0,
             "ticks": ""
            },
            "type": "contourcarpet"
           }
          ],
          "heatmap": [
           {
            "colorbar": {
             "outlinewidth": 0,
             "ticks": ""
            },
            "colorscale": [
             [
              0,
              "#0d0887"
             ],
             [
              0.1111111111111111,
              "#46039f"
             ],
             [
              0.2222222222222222,
              "#7201a8"
             ],
             [
              0.3333333333333333,
              "#9c179e"
             ],
             [
              0.4444444444444444,
              "#bd3786"
             ],
             [
              0.5555555555555556,
              "#d8576b"
             ],
             [
              0.6666666666666666,
              "#ed7953"
             ],
             [
              0.7777777777777778,
              "#fb9f3a"
             ],
             [
              0.8888888888888888,
              "#fdca26"
             ],
             [
              1,
              "#f0f921"
             ]
            ],
            "type": "heatmap"
           }
          ],
          "heatmapgl": [
           {
            "colorbar": {
             "outlinewidth": 0,
             "ticks": ""
            },
            "colorscale": [
             [
              0,
              "#0d0887"
             ],
             [
              0.1111111111111111,
              "#46039f"
             ],
             [
              0.2222222222222222,
              "#7201a8"
             ],
             [
              0.3333333333333333,
              "#9c179e"
             ],
             [
              0.4444444444444444,
              "#bd3786"
             ],
             [
              0.5555555555555556,
              "#d8576b"
             ],
             [
              0.6666666666666666,
              "#ed7953"
             ],
             [
              0.7777777777777778,
              "#fb9f3a"
             ],
             [
              0.8888888888888888,
              "#fdca26"
             ],
             [
              1,
              "#f0f921"
             ]
            ],
            "type": "heatmapgl"
           }
          ],
          "histogram": [
           {
            "marker": {
             "colorbar": {
              "outlinewidth": 0,
              "ticks": ""
             }
            },
            "type": "histogram"
           }
          ],
          "histogram2d": [
           {
            "colorbar": {
             "outlinewidth": 0,
             "ticks": ""
            },
            "colorscale": [
             [
              0,
              "#0d0887"
             ],
             [
              0.1111111111111111,
              "#46039f"
             ],
             [
              0.2222222222222222,
              "#7201a8"
             ],
             [
              0.3333333333333333,
              "#9c179e"
             ],
             [
              0.4444444444444444,
              "#bd3786"
             ],
             [
              0.5555555555555556,
              "#d8576b"
             ],
             [
              0.6666666666666666,
              "#ed7953"
             ],
             [
              0.7777777777777778,
              "#fb9f3a"
             ],
             [
              0.8888888888888888,
              "#fdca26"
             ],
             [
              1,
              "#f0f921"
             ]
            ],
            "type": "histogram2d"
           }
          ],
          "histogram2dcontour": [
           {
            "colorbar": {
             "outlinewidth": 0,
             "ticks": ""
            },
            "colorscale": [
             [
              0,
              "#0d0887"
             ],
             [
              0.1111111111111111,
              "#46039f"
             ],
             [
              0.2222222222222222,
              "#7201a8"
             ],
             [
              0.3333333333333333,
              "#9c179e"
             ],
             [
              0.4444444444444444,
              "#bd3786"
             ],
             [
              0.5555555555555556,
              "#d8576b"
             ],
             [
              0.6666666666666666,
              "#ed7953"
             ],
             [
              0.7777777777777778,
              "#fb9f3a"
             ],
             [
              0.8888888888888888,
              "#fdca26"
             ],
             [
              1,
              "#f0f921"
             ]
            ],
            "type": "histogram2dcontour"
           }
          ],
          "mesh3d": [
           {
            "colorbar": {
             "outlinewidth": 0,
             "ticks": ""
            },
            "type": "mesh3d"
           }
          ],
          "parcoords": [
           {
            "line": {
             "colorbar": {
              "outlinewidth": 0,
              "ticks": ""
             }
            },
            "type": "parcoords"
           }
          ],
          "pie": [
           {
            "automargin": true,
            "type": "pie"
           }
          ],
          "scatter": [
           {
            "marker": {
             "colorbar": {
              "outlinewidth": 0,
              "ticks": ""
             }
            },
            "type": "scatter"
           }
          ],
          "scatter3d": [
           {
            "line": {
             "colorbar": {
              "outlinewidth": 0,
              "ticks": ""
             }
            },
            "marker": {
             "colorbar": {
              "outlinewidth": 0,
              "ticks": ""
             }
            },
            "type": "scatter3d"
           }
          ],
          "scattercarpet": [
           {
            "marker": {
             "colorbar": {
              "outlinewidth": 0,
              "ticks": ""
             }
            },
            "type": "scattercarpet"
           }
          ],
          "scattergeo": [
           {
            "marker": {
             "colorbar": {
              "outlinewidth": 0,
              "ticks": ""
             }
            },
            "type": "scattergeo"
           }
          ],
          "scattergl": [
           {
            "marker": {
             "colorbar": {
              "outlinewidth": 0,
              "ticks": ""
             }
            },
            "type": "scattergl"
           }
          ],
          "scattermapbox": [
           {
            "marker": {
             "colorbar": {
              "outlinewidth": 0,
              "ticks": ""
             }
            },
            "type": "scattermapbox"
           }
          ],
          "scatterpolar": [
           {
            "marker": {
             "colorbar": {
              "outlinewidth": 0,
              "ticks": ""
             }
            },
            "type": "scatterpolar"
           }
          ],
          "scatterpolargl": [
           {
            "marker": {
             "colorbar": {
              "outlinewidth": 0,
              "ticks": ""
             }
            },
            "type": "scatterpolargl"
           }
          ],
          "scatterternary": [
           {
            "marker": {
             "colorbar": {
              "outlinewidth": 0,
              "ticks": ""
             }
            },
            "type": "scatterternary"
           }
          ],
          "surface": [
           {
            "colorbar": {
             "outlinewidth": 0,
             "ticks": ""
            },
            "colorscale": [
             [
              0,
              "#0d0887"
             ],
             [
              0.1111111111111111,
              "#46039f"
             ],
             [
              0.2222222222222222,
              "#7201a8"
             ],
             [
              0.3333333333333333,
              "#9c179e"
             ],
             [
              0.4444444444444444,
              "#bd3786"
             ],
             [
              0.5555555555555556,
              "#d8576b"
             ],
             [
              0.6666666666666666,
              "#ed7953"
             ],
             [
              0.7777777777777778,
              "#fb9f3a"
             ],
             [
              0.8888888888888888,
              "#fdca26"
             ],
             [
              1,
              "#f0f921"
             ]
            ],
            "type": "surface"
           }
          ],
          "table": [
           {
            "cells": {
             "fill": {
              "color": "#EBF0F8"
             },
             "line": {
              "color": "white"
             }
            },
            "header": {
             "fill": {
              "color": "#C8D4E3"
             },
             "line": {
              "color": "white"
             }
            },
            "type": "table"
           }
          ]
         },
         "layout": {
          "annotationdefaults": {
           "arrowcolor": "#2a3f5f",
           "arrowhead": 0,
           "arrowwidth": 1
          },
          "autotypenumbers": "strict",
          "coloraxis": {
           "colorbar": {
            "outlinewidth": 0,
            "ticks": ""
           }
          },
          "colorscale": {
           "diverging": [
            [
             0,
             "#8e0152"
            ],
            [
             0.1,
             "#c51b7d"
            ],
            [
             0.2,
             "#de77ae"
            ],
            [
             0.3,
             "#f1b6da"
            ],
            [
             0.4,
             "#fde0ef"
            ],
            [
             0.5,
             "#f7f7f7"
            ],
            [
             0.6,
             "#e6f5d0"
            ],
            [
             0.7,
             "#b8e186"
            ],
            [
             0.8,
             "#7fbc41"
            ],
            [
             0.9,
             "#4d9221"
            ],
            [
             1,
             "#276419"
            ]
           ],
           "sequential": [
            [
             0,
             "#0d0887"
            ],
            [
             0.1111111111111111,
             "#46039f"
            ],
            [
             0.2222222222222222,
             "#7201a8"
            ],
            [
             0.3333333333333333,
             "#9c179e"
            ],
            [
             0.4444444444444444,
             "#bd3786"
            ],
            [
             0.5555555555555556,
             "#d8576b"
            ],
            [
             0.6666666666666666,
             "#ed7953"
            ],
            [
             0.7777777777777778,
             "#fb9f3a"
            ],
            [
             0.8888888888888888,
             "#fdca26"
            ],
            [
             1,
             "#f0f921"
            ]
           ],
           "sequentialminus": [
            [
             0,
             "#0d0887"
            ],
            [
             0.1111111111111111,
             "#46039f"
            ],
            [
             0.2222222222222222,
             "#7201a8"
            ],
            [
             0.3333333333333333,
             "#9c179e"
            ],
            [
             0.4444444444444444,
             "#bd3786"
            ],
            [
             0.5555555555555556,
             "#d8576b"
            ],
            [
             0.6666666666666666,
             "#ed7953"
            ],
            [
             0.7777777777777778,
             "#fb9f3a"
            ],
            [
             0.8888888888888888,
             "#fdca26"
            ],
            [
             1,
             "#f0f921"
            ]
           ]
          },
          "colorway": [
           "#636efa",
           "#EF553B",
           "#00cc96",
           "#ab63fa",
           "#FFA15A",
           "#19d3f3",
           "#FF6692",
           "#B6E880",
           "#FF97FF",
           "#FECB52"
          ],
          "font": {
           "color": "#2a3f5f"
          },
          "geo": {
           "bgcolor": "white",
           "lakecolor": "white",
           "landcolor": "#E5ECF6",
           "showlakes": true,
           "showland": true,
           "subunitcolor": "white"
          },
          "hoverlabel": {
           "align": "left"
          },
          "hovermode": "closest",
          "mapbox": {
           "style": "light"
          },
          "paper_bgcolor": "white",
          "plot_bgcolor": "#E5ECF6",
          "polar": {
           "angularaxis": {
            "gridcolor": "white",
            "linecolor": "white",
            "ticks": ""
           },
           "bgcolor": "#E5ECF6",
           "radialaxis": {
            "gridcolor": "white",
            "linecolor": "white",
            "ticks": ""
           }
          },
          "scene": {
           "xaxis": {
            "backgroundcolor": "#E5ECF6",
            "gridcolor": "white",
            "gridwidth": 2,
            "linecolor": "white",
            "showbackground": true,
            "ticks": "",
            "zerolinecolor": "white"
           },
           "yaxis": {
            "backgroundcolor": "#E5ECF6",
            "gridcolor": "white",
            "gridwidth": 2,
            "linecolor": "white",
            "showbackground": true,
            "ticks": "",
            "zerolinecolor": "white"
           },
           "zaxis": {
            "backgroundcolor": "#E5ECF6",
            "gridcolor": "white",
            "gridwidth": 2,
            "linecolor": "white",
            "showbackground": true,
            "ticks": "",
            "zerolinecolor": "white"
           }
          },
          "shapedefaults": {
           "line": {
            "color": "#2a3f5f"
           }
          },
          "ternary": {
           "aaxis": {
            "gridcolor": "white",
            "linecolor": "white",
            "ticks": ""
           },
           "baxis": {
            "gridcolor": "white",
            "linecolor": "white",
            "ticks": ""
           },
           "bgcolor": "#E5ECF6",
           "caxis": {
            "gridcolor": "white",
            "linecolor": "white",
            "ticks": ""
           }
          },
          "title": {
           "x": 0.05
          },
          "xaxis": {
           "automargin": true,
           "gridcolor": "white",
           "linecolor": "white",
           "ticks": "",
           "title": {
            "standoff": 15
           },
           "zerolinecolor": "white",
           "zerolinewidth": 2
          },
          "yaxis": {
           "automargin": true,
           "gridcolor": "white",
           "linecolor": "white",
           "ticks": "",
           "title": {
            "standoff": 15
           },
           "zerolinecolor": "white",
           "zerolinewidth": 2
          }
         }
        },
        "xaxis": {
         "anchor": "y",
         "autorange": true,
         "domain": [
          0.3217704884371551,
          0.6782295115628449
         ],
         "range": [
          -0.5,
          895.5
         ]
        },
        "yaxis": {
         "anchor": "x",
         "autorange": true,
         "domain": [
          0,
          1
         ],
         "range": [
          467.5,
          -0.5
         ]
        }
       }
      },
      "image/png": "[encoded data removed]",
      "text/html": [
       "<div>                            <div id=\"25488383-451b-492e-9a49-027db8fd7ff8\" class=\"plotly-graph-div\" style=\"height:525px; width:100%;\"></div>            <script type=\"text/javascript\">                require([\"plotly\"], function(Plotly) {                    window.PLOTLYENV=window.PLOTLYENV || {};                                    if (document.getElementById(\"25488383-451b-492e-9a49-027db8fd7ff8\")) {                    Plotly.newPlot(                        \"25488383-451b-492e-9a49-027db8fd7ff8\",                        [{\"hovertemplate\": \"x: %{x}<br>y: %{y}<br>color: [%{z[0]}, %{z[1]}, %{z[2]}]<extra></extra>\", \"name\": \"0\", \"source\": \"data:image/png;base64,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\", \"type\": \"image\", \"xaxis\": \"x\", \"yaxis\": \"y\"}],                        {\"margin\": {\"t\": 60}, \"template\": {\"data\": {\"bar\": [{\"error_x\": {\"color\": \"#2a3f5f\"}, \"error_y\": {\"color\": \"#2a3f5f\"}, \"marker\": {\"line\": {\"color\": \"#E5ECF6\", \"width\": 0.5}}, \"type\": \"bar\"}], \"barpolar\": [{\"marker\": {\"line\": {\"color\": \"#E5ECF6\", \"width\": 0.5}}, \"type\": \"barpolar\"}], \"carpet\": [{\"aaxis\": {\"endlinecolor\": \"#2a3f5f\", \"gridcolor\": \"white\", \"linecolor\": \"white\", \"minorgridcolor\": \"white\", \"startlinecolor\": \"#2a3f5f\"}, \"baxis\": {\"endlinecolor\": \"#2a3f5f\", \"gridcolor\": \"white\", \"linecolor\": \"white\", \"minorgridcolor\": \"white\", \"startlinecolor\": \"#2a3f5f\"}, \"type\": \"carpet\"}], \"choropleth\": [{\"colorbar\": {\"outlinewidth\": 0, \"ticks\": \"\"}, \"type\": \"choropleth\"}], \"contour\": [{\"colorbar\": {\"outlinewidth\": 0, \"ticks\": \"\"}, \"colorscale\": [[0.0, \"#0d0887\"], [0.1111111111111111, \"#46039f\"], [0.2222222222222222, \"#7201a8\"], [0.3333333333333333, \"#9c179e\"], [0.4444444444444444, \"#bd3786\"], [0.5555555555555556, \"#d8576b\"], [0.6666666666666666, \"#ed7953\"], [0.7777777777777778, \"#fb9f3a\"], [0.8888888888888888, \"#fdca26\"], [1.0, \"#f0f921\"]], \"type\": \"contour\"}], \"contourcarpet\": [{\"colorbar\": {\"outlinewidth\": 0, \"ticks\": \"\"}, \"type\": \"contourcarpet\"}], \"heatmap\": [{\"colorbar\": {\"outlinewidth\": 0, \"ticks\": \"\"}, \"colorscale\": [[0.0, \"#0d0887\"], [0.1111111111111111, \"#46039f\"], [0.2222222222222222, \"#7201a8\"], [0.3333333333333333, \"#9c179e\"], [0.4444444444444444, \"#bd3786\"], [0.5555555555555556, \"#d8576b\"], [0.6666666666666666, \"#ed7953\"], [0.7777777777777778, \"#fb9f3a\"], [0.8888888888888888, \"#fdca26\"], [1.0, \"#f0f921\"]], \"type\": \"heatmap\"}], \"heatmapgl\": [{\"colorbar\": {\"outlinewidth\": 0, \"ticks\": \"\"}, \"colorscale\": [[0.0, \"#0d0887\"], [0.1111111111111111, \"#46039f\"], [0.2222222222222222, \"#7201a8\"], [0.3333333333333333, \"#9c179e\"], [0.4444444444444444, \"#bd3786\"], [0.5555555555555556, \"#d8576b\"], [0.6666666666666666, \"#ed7953\"], [0.7777777777777778, \"#fb9f3a\"], [0.8888888888888888, \"#fdca26\"], [1.0, \"#f0f921\"]], \"type\": \"heatmapgl\"}], \"histogram\": [{\"marker\": {\"colorbar\": {\"outlinewidth\": 0, \"ticks\": \"\"}}, \"type\": \"histogram\"}], \"histogram2d\": [{\"colorbar\": {\"outlinewidth\": 0, \"ticks\": \"\"}, \"colorscale\": [[0.0, \"#0d0887\"], [0.1111111111111111, \"#46039f\"], [0.2222222222222222, \"#7201a8\"], [0.3333333333333333, \"#9c179e\"], [0.4444444444444444, \"#bd3786\"], [0.5555555555555556, \"#d8576b\"], [0.6666666666666666, \"#ed7953\"], [0.7777777777777778, \"#fb9f3a\"], [0.8888888888888888, \"#fdca26\"], [1.0, \"#f0f921\"]], \"type\": \"histogram2d\"}], \"histogram2dcontour\": [{\"colorbar\": {\"outlinewidth\": 0, \"ticks\": \"\"}, \"colorscale\": [[0.0, \"#0d0887\"], [0.1111111111111111, \"#46039f\"], [0.2222222222222222, \"#7201a8\"], [0.3333333333333333, \"#9c179e\"], [0.4444444444444444, \"#bd3786\"], [0.5555555555555556, \"#d8576b\"], [0.6666666666666666, \"#ed7953\"], [0.7777777777777778, \"#fb9f3a\"], [0.8888888888888888, \"#fdca26\"], [1.0, \"#f0f921\"]], \"type\": \"histogram2dcontour\"}], \"mesh3d\": [{\"colorbar\": {\"outlinewidth\": 0, \"ticks\": \"\"}, \"type\": \"mesh3d\"}], \"parcoords\": [{\"line\": {\"colorbar\": {\"outlinewidth\": 0, \"ticks\": \"\"}}, \"type\": \"parcoords\"}], \"pie\": [{\"automargin\": true, \"type\": \"pie\"}], \"scatter\": [{\"marker\": {\"colorbar\": {\"outlinewidth\": 0, \"ticks\": \"\"}}, \"type\": \"scatter\"}], \"scatter3d\": [{\"line\": {\"colorbar\": {\"outlinewidth\": 0, \"ticks\": \"\"}}, \"marker\": {\"colorbar\": {\"outlinewidth\": 0, \"ticks\": \"\"}}, \"type\": \"scatter3d\"}], \"scattercarpet\": [{\"marker\": {\"colorbar\": {\"outlinewidth\": 0, \"ticks\": \"\"}}, \"type\": \"scattercarpet\"}], \"scattergeo\": [{\"marker\": {\"colorbar\": {\"outlinewidth\": 0, \"ticks\": \"\"}}, \"type\": \"scattergeo\"}], \"scattergl\": [{\"marker\": {\"colorbar\": {\"outlinewidth\": 0, \"ticks\": \"\"}}, \"type\": \"scattergl\"}], \"scattermapbox\": [{\"marker\": {\"colorbar\": {\"outlinewidth\": 0, \"ticks\": \"\"}}, \"type\": \"scattermapbox\"}], \"scatterpolar\": [{\"marker\": {\"colorbar\": {\"outlinewidth\": 0, \"ticks\": \"\"}}, \"type\": \"scatterpolar\"}], \"scatterpolargl\": [{\"marker\": {\"colorbar\": {\"outlinewidth\": 0, \"ticks\": \"\"}}, \"type\": \"scatterpolargl\"}], \"scatterternary\": [{\"marker\": {\"colorbar\": {\"outlinewidth\": 0, \"ticks\": \"\"}}, \"type\": \"scatterternary\"}], \"surface\": [{\"colorbar\": {\"outlinewidth\": 0, \"ticks\": \"\"}, \"colorscale\": [[0.0, \"#0d0887\"], [0.1111111111111111, \"#46039f\"], [0.2222222222222222, \"#7201a8\"], [0.3333333333333333, \"#9c179e\"], [0.4444444444444444, \"#bd3786\"], [0.5555555555555556, \"#d8576b\"], [0.6666666666666666, \"#ed7953\"], [0.7777777777777778, \"#fb9f3a\"], [0.8888888888888888, \"#fdca26\"], [1.0, \"#f0f921\"]], \"type\": \"surface\"}], \"table\": [{\"cells\": {\"fill\": {\"color\": \"#EBF0F8\"}, \"line\": {\"color\": \"white\"}}, \"header\": {\"fill\": {\"color\": \"#C8D4E3\"}, \"line\": {\"color\": \"white\"}}, \"type\": \"table\"}]}, \"layout\": {\"annotationdefaults\": {\"arrowcolor\": \"#2a3f5f\", \"arrowhead\": 0, \"arrowwidth\": 1}, \"autotypenumbers\": \"strict\", \"coloraxis\": {\"colorbar\": {\"outlinewidth\": 0, \"ticks\": \"\"}}, \"colorscale\": {\"diverging\": [[0, \"#8e0152\"], [0.1, \"#c51b7d\"], [0.2, \"#de77ae\"], [0.3, \"#f1b6da\"], [0.4, \"#fde0ef\"], [0.5, \"#f7f7f7\"], [0.6, \"#e6f5d0\"], [0.7, \"#b8e186\"], [0.8, \"#7fbc41\"], [0.9, \"#4d9221\"], [1, \"#276419\"]], \"sequential\": [[0.0, \"#0d0887\"], [0.1111111111111111, \"#46039f\"], [0.2222222222222222, \"#7201a8\"], [0.3333333333333333, \"#9c179e\"], [0.4444444444444444, \"#bd3786\"], [0.5555555555555556, \"#d8576b\"], [0.6666666666666666, \"#ed7953\"], [0.7777777777777778, \"#fb9f3a\"], [0.8888888888888888, \"#fdca26\"], [1.0, \"#f0f921\"]], \"sequentialminus\": [[0.0, \"#0d0887\"], [0.1111111111111111, \"#46039f\"], [0.2222222222222222, \"#7201a8\"], [0.3333333333333333, \"#9c179e\"], [0.4444444444444444, \"#bd3786\"], [0.5555555555555556, \"#d8576b\"], [0.6666666666666666, \"#ed7953\"], [0.7777777777777778, \"#fb9f3a\"], [0.8888888888888888, \"#fdca26\"], [1.0, \"#f0f921\"]]}, \"colorway\": [\"#636efa\", \"#EF553B\", \"#00cc96\", \"#ab63fa\", \"#FFA15A\", \"#19d3f3\", \"#FF6692\", \"#B6E880\", \"#FF97FF\", \"#FECB52\"], \"font\": {\"color\": \"#2a3f5f\"}, \"geo\": {\"bgcolor\": \"white\", \"lakecolor\": \"white\", \"landcolor\": \"#E5ECF6\", \"showlakes\": true, \"showland\": true, \"subunitcolor\": \"white\"}, \"hoverlabel\": {\"align\": \"left\"}, \"hovermode\": \"closest\", \"mapbox\": {\"style\": \"light\"}, \"paper_bgcolor\": \"white\", \"plot_bgcolor\": \"#E5ECF6\", \"polar\": {\"angularaxis\": {\"gridcolor\": \"white\", \"linecolor\": \"white\", \"ticks\": \"\"}, \"bgcolor\": \"#E5ECF6\", \"radialaxis\": {\"gridcolor\": \"white\", \"linecolor\": \"white\", \"ticks\": \"\"}}, \"scene\": {\"xaxis\": {\"backgroundcolor\": \"#E5ECF6\", \"gridcolor\": \"white\", \"gridwidth\": 2, \"linecolor\": \"white\", \"showbackground\": true, \"ticks\": \"\", \"zerolinecolor\": \"white\"}, \"yaxis\": {\"backgroundcolor\": \"#E5ECF6\", \"gridcolor\": \"white\", \"gridwidth\": 2, \"linecolor\": \"white\", \"showbackground\": true, \"ticks\": \"\", \"zerolinecolor\": \"white\"}, \"zaxis\": {\"backgroundcolor\": \"#E5ECF6\", \"gridcolor\": \"white\", \"gridwidth\": 2, \"linecolor\": \"white\", \"showbackground\": true, \"ticks\": \"\", \"zerolinecolor\": \"white\"}}, \"shapedefaults\": {\"line\": {\"color\": \"#2a3f5f\"}}, \"ternary\": {\"aaxis\": {\"gridcolor\": \"white\", \"linecolor\": \"white\", \"ticks\": \"\"}, \"baxis\": {\"gridcolor\": \"white\", \"linecolor\": \"white\", \"ticks\": \"\"}, \"bgcolor\": \"#E5ECF6\", \"caxis\": {\"gridcolor\": \"white\", \"linecolor\": \"white\", \"ticks\": \"\"}}, \"title\": {\"x\": 0.05}, \"xaxis\": {\"automargin\": true, \"gridcolor\": \"white\", \"linecolor\": \"white\", \"ticks\": \"\", \"title\": {\"standoff\": 15}, \"zerolinecolor\": \"white\", \"zerolinewidth\": 2}, \"yaxis\": {\"automargin\": true, \"gridcolor\": \"white\", \"linecolor\": \"white\", \"ticks\": \"\", \"title\": {\"standoff\": 15}, \"zerolinecolor\": \"white\", \"zerolinewidth\": 2}}}, \"xaxis\": {\"anchor\": \"y\", \"domain\": [0.0, 1.0]}, \"yaxis\": {\"anchor\": \"x\", \"domain\": [0.0, 1.0]}},                        {\"responsive\": true}                    ).then(function(){\n",
       "                            \n",
       "var gd = document.getElementById('25488383-451b-492e-9a49-027db8fd7ff8');\n",
       "var x = new MutationObserver(function (mutations, observer) {{\n",
       "        var display = window.getComputedStyle(gd).display;\n",
       "        if (!display || display === 'none') {{\n",
       "            console.log([gd, 'removed!']);\n",
       "            Plotly.purge(gd);\n",
       "            observer.disconnect();\n",
       "        }}\n",
       "}});\n",
       "\n",
       "// Listen for the removal of the full notebook cells\n",
       "var notebookContainer = gd.closest('#notebook-container');\n",
       "if (notebookContainer) {{\n",
       "    x.observe(notebookContainer, {childList: true});\n",
       "}}\n",
       "\n",
       "// Listen for the clearing of the current output cell\n",
       "var outputEl = gd.closest('.output');\n",
       "if (outputEl) {{\n",
       "    x.observe(outputEl, {childList: true});\n",
       "}}\n",
       "\n",
       "                        })                };                });            </script>        </div>"
      ]
     },
     "metadata": {},
     "output_type": "display_data"
    }
   ],
   "source": [
    "image_id = \"5e0c7d9e41d5\"\n",
    "datadir = constants.COMPETITION_DATADIR / \"train\"\n",
    "image_path = datadir / \"/\".join(image_id[:3]) / f\"{image_id}.png\"\n",
    "px.imshow(cv2.imread(str(image_path)))"
   ]
  },
  {
   "cell_type": "code",
   "execution_count": 20,
   "id": "planned-cardiff",
   "metadata": {},
   "outputs": [
    {
     "data": {
      "text/plain": [
       "<AxesSubplot:xlabel='score', ylabel='levenshtein'>"
      ]
     },
     "execution_count": 20,
     "metadata": {},
     "output_type": "execute_result"
    },
    {
     "data": {
      "image/png": "[encoded data removed]",
      "text/plain": [
       "<Figure size 432x288 with 1 Axes>"
      ]
     },
     "metadata": {
      "needs_background": "light"
     },
     "output_type": "display_data"
    }
   ],
   "source": [
    "lower_df.plot.scatter(\"score\", \"levenshtein\", alpha=.1)"
   ]
  },
  {
   "cell_type": "code",
   "execution_count": 17,
   "id": "criminal-infection",
   "metadata": {},
   "outputs": [
    {
     "data": {
      "text/plain": [
       "\u001b[0;31mSignature:\u001b[0m \u001b[0mlower_df\u001b[0m\u001b[0;34m.\u001b[0m\u001b[0mplot\u001b[0m\u001b[0;34m.\u001b[0m\u001b[0mscatter\u001b[0m\u001b[0;34m(\u001b[0m\u001b[0mx\u001b[0m\u001b[0;34m,\u001b[0m \u001b[0my\u001b[0m\u001b[0;34m,\u001b[0m \u001b[0ms\u001b[0m\u001b[0;34m=\u001b[0m\u001b[0;32mNone\u001b[0m\u001b[0;34m,\u001b[0m \u001b[0mc\u001b[0m\u001b[0;34m=\u001b[0m\u001b[0;32mNone\u001b[0m\u001b[0;34m,\u001b[0m \u001b[0;34m**\u001b[0m\u001b[0mkwargs\u001b[0m\u001b[0;34m)\u001b[0m\u001b[0;34m\u001b[0m\u001b[0;34m\u001b[0m\u001b[0m\n",
       "\u001b[0;31mDocstring:\u001b[0m\n",
       "Create a scatter plot with varying marker point size and color.\n",
       "\n",
       "The coordinates of each point are defined by two dataframe columns and\n",
       "filled circles are used to represent each point. This kind of plot is\n",
       "useful to see complex correlations between two variables. Points could\n",
       "be for instance natural 2D coordinates like longitude and latitude in\n",
       "a map or, in general, any pair of metrics that can be plotted against\n",
       "each other.\n",
       "\n",
       "Parameters\n",
       "----------\n",
       "x : int or str\n",
       "    The column name or column position to be used as horizontal\n",
       "    coordinates for each point.\n",
       "y : int or str\n",
       "    The column name or column position to be used as vertical\n",
       "    coordinates for each point.\n",
       "s : str, scalar or array_like, optional\n",
       "    The size of each point. Possible values are:\n",
       "\n",
       "    - A string with the name of the column to be used for marker's size.\n",
       "\n",
       "    - A single scalar so all points have the same size.\n",
       "\n",
       "    - A sequence of scalars, which will be used for each point's size\n",
       "      recursively. For instance, when passing [2,14] all points size\n",
       "      will be either 2 or 14, alternatively.\n",
       "\n",
       "      .. versionchanged:: 1.1.0\n",
       "\n",
       "c : str, int or array_like, optional\n",
       "    The color of each point. Possible values are:\n",
       "\n",
       "    - A single color string referred to by name, RGB or RGBA code,\n",
       "      for instance 'red' or '#a98d19'.\n",
       "\n",
       "    - A sequence of color strings referred to by name, RGB or RGBA\n",
       "      code, which will be used for each point's color recursively. For\n",
       "      instance ['green','yellow'] all points will be filled in green or\n",
       "      yellow, alternatively.\n",
       "\n",
       "    - A column name or position whose values will be used to color the\n",
       "      marker points according to a colormap.\n",
       "\n",
       "**kwargs\n",
       "    Keyword arguments to pass on to :meth:`DataFrame.plot`.\n",
       "\n",
       "Returns\n",
       "-------\n",
       ":class:`matplotlib.axes.Axes` or numpy.ndarray of them\n",
       "\n",
       "See Also\n",
       "--------\n",
       "matplotlib.pyplot.scatter : Scatter plot using multiple input data\n",
       "    formats.\n",
       "\n",
       "Examples\n",
       "--------\n",
       "Let's see how to draw a scatter plot using coordinates from the values\n",
       "in a DataFrame's columns.\n",
       "\n",
       ".. plot::\n",
       "    :context: close-figs\n",
       "\n",
       "    >>> df = pd.DataFrame([[5.1, 3.5, 0], [4.9, 3.0, 0], [7.0, 3.2, 1],\n",
       "    ...                    [6.4, 3.2, 1], [5.9, 3.0, 2]],\n",
       "    ...                   columns=['length', 'width', 'species'])\n",
       "    >>> ax1 = df.plot.scatter(x='length',\n",
       "    ...                       y='width',\n",
       "    ...                       c='DarkBlue')\n",
       "\n",
       "And now with the color determined by a column as well.\n",
       "\n",
       ".. plot::\n",
       "    :context: close-figs\n",
       "\n",
       "    >>> ax2 = df.plot.scatter(x='length',\n",
       "    ...                       y='width',\n",
       "    ...                       c='species',\n",
       "    ...                       colormap='viridis')\n",
       "\u001b[0;31mFile:\u001b[0m      /opt/miniconda/lib/python3.8/site-packages/pandas/plotting/_core.py\n",
       "\u001b[0;31mType:\u001b[0m      method\n"
      ]
     },
     "metadata": {},
     "output_type": "display_data"
    }
   ],
   "source": [
    "lower_df.plot.scatter?"
   ]
  },
  {
   "cell_type": "code",
   "execution_count": null,
   "id": "agricultural-syria",
   "metadata": {},
   "outputs": [],
   "source": []
  }
 ],
 "metadata": {
  "kernelspec": {
   "display_name": "Python 3",
   "language": "python",
   "name": "python3"
  },
  "language_info": {
   "codemirror_mode": {
    "name": "ipython",
    "version": 3
   },
   "file_extension": ".py",
   "mimetype": "text/x-python",
   "name": "python",
   "nbconvert_exporter": "python",
   "pygments_lexer": "ipython3",
   "version": "3.8.5"
  }
 },
 "nbformat": 4,
 "nbformat_minor": 5
}
