{
 "cells": [
  {
   "cell_type": "code",
   "execution_count": 44,
   "id": "medium-nitrogen",
   "metadata": {},
   "outputs": [],
   "source": [
    "%matplotlib inline\n",
    "import cv2\n",
    "import seaborn as sns\n",
    "import pandas as pd\n",
    "import plotly.express as px\n",
    "import nncomp\n",
    "from nncomp_molecule import constants"
   ]
  },
  {
   "cell_type": "code",
   "execution_count": 2,
   "id": "2bcbdd4b-1267-412a-82ff-ec295d64a6bb",
   "metadata": {},
   "outputs": [],
   "source": [
    "PREPROCESSED_DIR = constants.INPUTDIR / \"kfujikawa\" / \"bms-preprocess-v2\"\n",
    "MODEL_DIR = constants.OUTPUTDIR / \"1009_tnt_bert\""
   ]
  },
  {
   "cell_type": "code",
   "execution_count": 3,
   "id": "architectural-flash",
   "metadata": {},
   "outputs": [
    {
     "data": {
      "text/html": [
       "<div>\n",
       "<style scoped>\n",
       "    .dataframe tbody tr th:only-of-type {\n",
       "        vertical-align: middle;\n",
       "    }\n",
       "\n",
       "    .dataframe tbody tr th {\n",
       "        vertical-align: top;\n",
       "    }\n",
       "\n",
       "    .dataframe thead th {\n",
       "        text-align: right;\n",
       "    }\n",
       "</style>\n",
       "<table border=\"1\" class=\"dataframe\">\n",
       "  <thead>\n",
       "    <tr style=\"text-align: right;\">\n",
       "      <th></th>\n",
       "      <th>image_id</th>\n",
       "      <th>InChI</th>\n",
       "      <th>InChI_GT</th>\n",
       "      <th>loss</th>\n",
       "      <th>levenshtein</th>\n",
       "      <th>...</th>\n",
       "      <th>InChI_length</th>\n",
       "      <th>w</th>\n",
       "      <th>h</th>\n",
       "      <th>w/h</th>\n",
       "      <th>w*h</th>\n",
       "    </tr>\n",
       "  </thead>\n",
       "  <tbody>\n",
       "    <tr>\n",
       "      <th>0</th>\n",
       "      <td>de3b3656a516</td>\n",
       "      <td>InChI=1S/C14H15O6P/c1-2-18-21(17,19-13-7-3-5-1...</td>\n",
       "      <td>InChI=1S/C14H15O6P/c1-2-18-21(17,19-13-7-3-5-1...</td>\n",
       "      <td>1.293541e-04</td>\n",
       "      <td>0</td>\n",
       "      <td>...</td>\n",
       "      <td>100</td>\n",
       "      <td>460</td>\n",
       "      <td>223</td>\n",
       "      <td>2.062780</td>\n",
       "      <td>102580</td>\n",
       "    </tr>\n",
       "    <tr>\n",
       "      <th>1</th>\n",
       "      <td>0efd9aacd662</td>\n",
       "      <td>InChI=1S/C23H23N3O4/c27-22-17-8-2-3-9-18(17)24...</td>\n",
       "      <td>InChI=1S/C23H23N3O4/c27-22-17-8-2-3-9-18(17)24...</td>\n",
       "      <td>7.776922e-05</td>\n",
       "      <td>0</td>\n",
       "      <td>...</td>\n",
       "      <td>160</td>\n",
       "      <td>266</td>\n",
       "      <td>234</td>\n",
       "      <td>1.136752</td>\n",
       "      <td>62244</td>\n",
       "    </tr>\n",
       "    <tr>\n",
       "      <th>2</th>\n",
       "      <td>362bc10c4e4d</td>\n",
       "      <td>InChI=1S/C14H20O3/c1-13(2,3)14(10-17-14)9-16-1...</td>\n",
       "      <td>InChI=1S/C14H20O3/c1-13(2,3)14(10-17-14)9-16-1...</td>\n",
       "      <td>7.795867e-07</td>\n",
       "      <td>0</td>\n",
       "      <td>...</td>\n",
       "      <td>85</td>\n",
       "      <td>367</td>\n",
       "      <td>201</td>\n",
       "      <td>1.825871</td>\n",
       "      <td>73767</td>\n",
       "    </tr>\n",
       "    <tr>\n",
       "      <th>3</th>\n",
       "      <td>8f96a04e11e3</td>\n",
       "      <td>InChI=1S/C7H13N3O4S/c1-2-6(5-8)15(12,13)10-3-4...</td>\n",
       "      <td>InChI=1S/C7H13N3O4S/c1-2-6(5-8)15(12,13)10-3-4...</td>\n",
       "      <td>1.737903e-04</td>\n",
       "      <td>0</td>\n",
       "      <td>...</td>\n",
       "      <td>83</td>\n",
       "      <td>236</td>\n",
       "      <td>149</td>\n",
       "      <td>1.583893</td>\n",
       "      <td>35164</td>\n",
       "    </tr>\n",
       "    <tr>\n",
       "      <th>4</th>\n",
       "      <td>cc5d9199227a</td>\n",
       "      <td>InChI=1S/C20H18N4OS/c1-13-11-14(2)23-20-16(13)...</td>\n",
       "      <td>InChI=1S/C20H18N4OS/c1-13-11-14(2)23-20-16(13)...</td>\n",
       "      <td>4.680708e-06</td>\n",
       "      <td>0</td>\n",
       "      <td>...</td>\n",
       "      <td>129</td>\n",
       "      <td>414</td>\n",
       "      <td>320</td>\n",
       "      <td>1.293750</td>\n",
       "      <td>132480</td>\n",
       "    </tr>\n",
       "    <tr>\n",
       "      <th>...</th>\n",
       "      <td>...</td>\n",
       "      <td>...</td>\n",
       "      <td>...</td>\n",
       "      <td>...</td>\n",
       "      <td>...</td>\n",
       "      <td>...</td>\n",
       "      <td>...</td>\n",
       "      <td>...</td>\n",
       "      <td>...</td>\n",
       "      <td>...</td>\n",
       "      <td>...</td>\n",
       "    </tr>\n",
       "    <tr>\n",
       "      <th>242414</th>\n",
       "      <td>8b6d97f8f0db</td>\n",
       "      <td>InChI=1S/C11H17BrO/c1-7-6-10(12)11(13)9-5-3-2-...</td>\n",
       "      <td>InChI=1S/C11H17BrO/c1-7-6-10(12)11(13)9-5-3-2-...</td>\n",
       "      <td>3.568481e-02</td>\n",
       "      <td>2</td>\n",
       "      <td>...</td>\n",
       "      <td>102</td>\n",
       "      <td>261</td>\n",
       "      <td>236</td>\n",
       "      <td>1.105932</td>\n",
       "      <td>61596</td>\n",
       "    </tr>\n",
       "    <tr>\n",
       "      <th>242415</th>\n",
       "      <td>d17b0152f7e7</td>\n",
       "      <td>InChI=1S/C18H18N2O4/c1-23-13-7-8-15(16(9-13)24...</td>\n",
       "      <td>InChI=1S/C18H18N2O4/c1-23-13-7-8-15(16(9-13)24...</td>\n",
       "      <td>8.325020e-05</td>\n",
       "      <td>0</td>\n",
       "      <td>...</td>\n",
       "      <td>122</td>\n",
       "      <td>284</td>\n",
       "      <td>164</td>\n",
       "      <td>1.731707</td>\n",
       "      <td>46576</td>\n",
       "    </tr>\n",
       "    <tr>\n",
       "      <th>242416</th>\n",
       "      <td>10313b7b8dce</td>\n",
       "      <td>InChI=1S/C16H23F3N2/c1-20-9-6-13-7-10-21(11-8-...</td>\n",
       "      <td>InChI=1S/C16H23F3N2/c1-20-9-6-13-7-10-21(11-8-...</td>\n",
       "      <td>4.728177e-05</td>\n",
       "      <td>0</td>\n",
       "      <td>...</td>\n",
       "      <td>103</td>\n",
       "      <td>501</td>\n",
       "      <td>208</td>\n",
       "      <td>2.408654</td>\n",
       "      <td>104208</td>\n",
       "    </tr>\n",
       "    <tr>\n",
       "      <th>242417</th>\n",
       "      <td>e8d59fcc92bf</td>\n",
       "      <td>InChI=1S/C19H28N2O2/c1-18-8-7-14-12(13(18)5-6-...</td>\n",
       "      <td>InChI=1S/C19H28N2O2/c1-18-8-7-14-12(13(18)5-6-...</td>\n",
       "      <td>2.908324e-02</td>\n",
       "      <td>0</td>\n",
       "      <td>...</td>\n",
       "      <td>157</td>\n",
       "      <td>426</td>\n",
       "      <td>233</td>\n",
       "      <td>1.828326</td>\n",
       "      <td>99258</td>\n",
       "    </tr>\n",
       "    <tr>\n",
       "      <th>242418</th>\n",
       "      <td>fa271140a9a1</td>\n",
       "      <td>InChI=1S/C10H15N5O/c11-9(12)8-3-4-13-10(14-8)1...</td>\n",
       "      <td>InChI=1S/C10H15N5O/c11-9(12)8-3-4-13-10(14-8)1...</td>\n",
       "      <td>8.034270e-07</td>\n",
       "      <td>0</td>\n",
       "      <td>...</td>\n",
       "      <td>94</td>\n",
       "      <td>346</td>\n",
       "      <td>269</td>\n",
       "      <td>1.286245</td>\n",
       "      <td>93074</td>\n",
       "    </tr>\n",
       "  </tbody>\n",
       "</table>\n",
       "<p>242419 rows × 11 columns</p>\n",
       "</div>"
      ],
      "text/plain": [
       "            image_id                                              InChI  \\\n",
       "0       de3b3656a516  InChI=1S/C14H15O6P/c1-2-18-21(17,19-13-7-3-5-1...   \n",
       "1       0efd9aacd662  InChI=1S/C23H23N3O4/c27-22-17-8-2-3-9-18(17)24...   \n",
       "2       362bc10c4e4d  InChI=1S/C14H20O3/c1-13(2,3)14(10-17-14)9-16-1...   \n",
       "3       8f96a04e11e3  InChI=1S/C7H13N3O4S/c1-2-6(5-8)15(12,13)10-3-4...   \n",
       "4       cc5d9199227a  InChI=1S/C20H18N4OS/c1-13-11-14(2)23-20-16(13)...   \n",
       "...              ...                                                ...   \n",
       "242414  8b6d97f8f0db  InChI=1S/C11H17BrO/c1-7-6-10(12)11(13)9-5-3-2-...   \n",
       "242415  d17b0152f7e7  InChI=1S/C18H18N2O4/c1-23-13-7-8-15(16(9-13)24...   \n",
       "242416  10313b7b8dce  InChI=1S/C16H23F3N2/c1-20-9-6-13-7-10-21(11-8-...   \n",
       "242417  e8d59fcc92bf  InChI=1S/C19H28N2O2/c1-18-8-7-14-12(13(18)5-6-...   \n",
       "242418  fa271140a9a1  InChI=1S/C10H15N5O/c11-9(12)8-3-4-13-10(14-8)1...   \n",
       "\n",
       "                                                 InChI_GT          loss  \\\n",
       "0       InChI=1S/C14H15O6P/c1-2-18-21(17,19-13-7-3-5-1...  1.293541e-04   \n",
       "1       InChI=1S/C23H23N3O4/c27-22-17-8-2-3-9-18(17)24...  7.776922e-05   \n",
       "2       InChI=1S/C14H20O3/c1-13(2,3)14(10-17-14)9-16-1...  7.795867e-07   \n",
       "3       InChI=1S/C7H13N3O4S/c1-2-6(5-8)15(12,13)10-3-4...  1.737903e-04   \n",
       "4       InChI=1S/C20H18N4OS/c1-13-11-14(2)23-20-16(13)...  4.680708e-06   \n",
       "...                                                   ...           ...   \n",
       "242414  InChI=1S/C11H17BrO/c1-7-6-10(12)11(13)9-5-3-2-...  3.568481e-02   \n",
       "242415  InChI=1S/C18H18N2O4/c1-23-13-7-8-15(16(9-13)24...  8.325020e-05   \n",
       "242416  InChI=1S/C16H23F3N2/c1-20-9-6-13-7-10-21(11-8-...  4.728177e-05   \n",
       "242417  InChI=1S/C19H28N2O2/c1-18-8-7-14-12(13(18)5-6-...  2.908324e-02   \n",
       "242418  InChI=1S/C10H15N5O/c11-9(12)8-3-4-13-10(14-8)1...  8.034270e-07   \n",
       "\n",
       "        levenshtein  ... InChI_length    w    h       w/h     w*h  \n",
       "0                 0  ...          100  460  223  2.062780  102580  \n",
       "1                 0  ...          160  266  234  1.136752   62244  \n",
       "2                 0  ...           85  367  201  1.825871   73767  \n",
       "3                 0  ...           83  236  149  1.583893   35164  \n",
       "4                 0  ...          129  414  320  1.293750  132480  \n",
       "...             ...  ...          ...  ...  ...       ...     ...  \n",
       "242414            2  ...          102  261  236  1.105932   61596  \n",
       "242415            0  ...          122  284  164  1.731707   46576  \n",
       "242416            0  ...          103  501  208  2.408654  104208  \n",
       "242417            0  ...          157  426  233  1.828326   99258  \n",
       "242418            0  ...           94  346  269  1.286245   93074  \n",
       "\n",
       "[242419 rows x 11 columns]"
      ]
     },
     "execution_count": 3,
     "metadata": {},
     "output_type": "execute_result"
    }
   ],
   "source": [
    "train_df = pd.read_pickle(PREPROCESSED_DIR / \"train.pkl\").drop(columns=\"InChI\")\n",
    "df = pd.read_csv(MODEL_DIR / \"fold=0/valid_beam=1.csv\")\n",
    "df = df.merge(train_df)\n",
    "df"
   ]
  },
  {
   "cell_type": "code",
   "execution_count": 4,
   "id": "shaped-israeli",
   "metadata": {},
   "outputs": [
    {
     "name": "stdout",
     "output_type": "stream",
     "text": [
      "1.9018187518305083\n"
     ]
    },
    {
     "data": {
      "text/plain": [
       "<AxesSubplot:>"
      ]
     },
     "execution_count": 4,
     "metadata": {},
     "output_type": "execute_result"
    },
    {
     "data": {
      "image/png": "[encoded data removed]",
      "text/plain": [
       "<Figure size 432x288 with 1 Axes>"
      ]
     },
     "metadata": {
      "needs_background": "light"
     },
     "output_type": "display_data"
    }
   ],
   "source": [
    "%matplotlib inline\n",
    "print(df.levenshtein.mean())\n",
    "df.levenshtein.hist()"
   ]
  },
  {
   "cell_type": "code",
   "execution_count": 5,
   "id": "blocked-innocent",
   "metadata": {},
   "outputs": [
    {
     "data": {
      "text/plain": [
       "0      204681\n",
       "1       16085\n",
       "2        4901\n",
       "3        1729\n",
       "4        1189\n",
       "        ...  \n",
       "174         1\n",
       "181         1\n",
       "182         1\n",
       "184         1\n",
       "188         1\n",
       "Name: levenshtein, Length: 151, dtype: int64"
      ]
     },
     "execution_count": 5,
     "metadata": {},
     "output_type": "execute_result"
    }
   ],
   "source": [
    "df.levenshtein.value_counts().sort_index()"
   ]
  },
  {
   "cell_type": "code",
   "execution_count": 9,
   "id": "individual-destiny",
   "metadata": {},
   "outputs": [
    {
     "data": {
      "text/plain": [
       "<AxesSubplot:xlabel='InChI_length', ylabel='levenshtein'>"
      ]
     },
     "execution_count": 9,
     "metadata": {},
     "output_type": "execute_result"
    },
    {
     "data": {
      "image/png": "[encoded data removed]",
      "text/plain": [
       "<Figure size 432x288 with 1 Axes>"
      ]
     },
     "metadata": {
      "needs_background": "light"
     },
     "output_type": "display_data"
    }
   ],
   "source": [
    "df.plot.scatter(\"InChI_length\", \"levenshtein\", alpha=.1)"
   ]
  },
  {
   "cell_type": "code",
   "execution_count": 10,
   "id": "6f25a43f-e612-435d-b532-264fdffeb393",
   "metadata": {},
   "outputs": [
    {
     "data": {
      "text/plain": [
       "<AxesSubplot:xlabel='w', ylabel='levenshtein'>"
      ]
     },
     "execution_count": 10,
     "metadata": {},
     "output_type": "execute_result"
    },
    {
     "data": {
      "image/png": "[encoded data removed]",
      "text/plain": [
       "<Figure size 432x288 with 1 Axes>"
      ]
     },
     "metadata": {
      "needs_background": "light"
     },
     "output_type": "display_data"
    }
   ],
   "source": [
    "df.plot.scatter(\"w\", \"levenshtein\", alpha=.1)"
   ]
  },
  {
   "cell_type": "code",
   "execution_count": 12,
   "id": "b0f6e9fe-1ac1-481d-bf35-326532c93af3",
   "metadata": {},
   "outputs": [
    {
     "data": {
      "text/plain": [
       "<AxesSubplot:xlabel='w/h', ylabel='levenshtein'>"
      ]
     },
     "execution_count": 12,
     "metadata": {},
     "output_type": "execute_result"
    },
    {
     "data": {
      "image/png": "[encoded data removed]",
      "text/plain": [
       "<Figure size 432x288 with 1 Axes>"
      ]
     },
     "metadata": {
      "needs_background": "light"
     },
     "output_type": "display_data"
    }
   ],
   "source": [
    "df.plot.scatter(\"w/h\", \"levenshtein\", alpha=.1)"
   ]
  },
  {
   "cell_type": "code",
   "execution_count": 13,
   "id": "9ca7f989-a269-4622-a4ef-c64f4ae61c5e",
   "metadata": {},
   "outputs": [
    {
     "data": {
      "text/plain": [
       "<AxesSubplot:xlabel='w*h', ylabel='levenshtein'>"
      ]
     },
     "execution_count": 13,
     "metadata": {},
     "output_type": "execute_result"
    },
    {
     "data": {
      "image/png": "[encoded data removed]",
      "text/plain": [
       "<Figure size 432x288 with 1 Axes>"
      ]
     },
     "metadata": {
      "needs_background": "light"
     },
     "output_type": "display_data"
    }
   ],
   "source": [
    "df.plot.scatter(\"w*h\", \"levenshtein\", alpha=.1)"
   ]
  },
  {
   "cell_type": "code",
   "execution_count": 21,
   "id": "comfortable-destruction",
   "metadata": {},
   "outputs": [
    {
     "data": {
      "application/vnd.plotly.v1+json": {
       "config": {
        "plotlyServerURL": "https://plot.ly"
       },
       "data": [
        {
         "hovertemplate": "x: %{x}<br>y: %{y}<br>color: [%{z[0]}, %{z[1]}, %{z[2]}]<extra></extra>",
         "name": "0",
         "source": "data:image/png;base64,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",
         "type": "image",
         "xaxis": "x",
         "yaxis": "y"
        }
       ],
       "layout": {
        "autosize": true,
        "margin": {
         "t": 60
        },
        "template": {
         "data": {
          "bar": [
           {
            "error_x": {
             "color": "#2a3f5f"
            },
            "error_y": {
             "color": "#2a3f5f"
            },
            "marker": {
             "line": {
              "color": "#E5ECF6",
              "width": 0.5
             }
            },
            "type": "bar"
           }
          ],
          "barpolar": [
           {
            "marker": {
             "line": {
              "color": "#E5ECF6",
              "width": 0.5
             }
            },
            "type": "barpolar"
           }
          ],
          "carpet": [
           {
            "aaxis": {
             "endlinecolor": "#2a3f5f",
             "gridcolor": "white",
             "linecolor": "white",
             "minorgridcolor": "white",
             "startlinecolor": "#2a3f5f"
            },
            "baxis": {
             "endlinecolor": "#2a3f5f",
             "gridcolor": "white",
             "linecolor": "white",
             "minorgridcolor": "white",
             "startlinecolor": "#2a3f5f"
            },
            "type": "carpet"
           }
          ],
          "choropleth": [
           {
            "colorbar": {
             "outlinewidth": 0,
             "ticks": ""
            },
            "type": "choropleth"
           }
          ],
          "contour": [
           {
            "colorbar": {
             "outlinewidth": 0,
             "ticks": ""
            },
            "colorscale": [
             [
              0,
              "#0d0887"
             ],
             [
              0.1111111111111111,
              "#46039f"
             ],
             [
              0.2222222222222222,
              "#7201a8"
             ],
             [
              0.3333333333333333,
              "#9c179e"
             ],
             [
              0.4444444444444444,
              "#bd3786"
             ],
             [
              0.5555555555555556,
              "#d8576b"
             ],
             [
              0.6666666666666666,
              "#ed7953"
             ],
             [
              0.7777777777777778,
              "#fb9f3a"
             ],
             [
              0.8888888888888888,
              "#fdca26"
             ],
             [
              1,
              "#f0f921"
             ]
            ],
            "type": "contour"
           }
          ],
          "contourcarpet": [
           {
            "colorbar": {
             "outlinewidth": 0,
             "ticks": ""
            },
            "type": "contourcarpet"
           }
          ],
          "heatmap": [
           {
            "colorbar": {
             "outlinewidth": 0,
             "ticks": ""
            },
            "colorscale": [
             [
              0,
              "#0d0887"
             ],
             [
              0.1111111111111111,
              "#46039f"
             ],
             [
              0.2222222222222222,
              "#7201a8"
             ],
             [
              0.3333333333333333,
              "#9c179e"
             ],
             [
              0.4444444444444444,
              "#bd3786"
             ],
             [
              0.5555555555555556,
              "#d8576b"
             ],
             [
              0.6666666666666666,
              "#ed7953"
             ],
             [
              0.7777777777777778,
              "#fb9f3a"
             ],
             [
              0.8888888888888888,
              "#fdca26"
             ],
             [
              1,
              "#f0f921"
             ]
            ],
            "type": "heatmap"
           }
          ],
          "heatmapgl": [
           {
            "colorbar": {
             "outlinewidth": 0,
             "ticks": ""
            },
            "colorscale": [
             [
              0,
              "#0d0887"
             ],
             [
              0.1111111111111111,
              "#46039f"
             ],
             [
              0.2222222222222222,
              "#7201a8"
             ],
             [
              0.3333333333333333,
              "#9c179e"
             ],
             [
              0.4444444444444444,
              "#bd3786"
             ],
             [
              0.5555555555555556,
              "#d8576b"
             ],
             [
              0.6666666666666666,
              "#ed7953"
             ],
             [
              0.7777777777777778,
              "#fb9f3a"
             ],
             [
              0.8888888888888888,
              "#fdca26"
             ],
             [
              1,
              "#f0f921"
             ]
            ],
            "type": "heatmapgl"
           }
          ],
          "histogram": [
           {
            "marker": {
             "colorbar": {
              "outlinewidth": 0,
              "ticks": ""
             }
            },
            "type": "histogram"
           }
          ],
          "histogram2d": [
           {
            "colorbar": {
             "outlinewidth": 0,
             "ticks": ""
            },
            "colorscale": [
             [
              0,
              "#0d0887"
             ],
             [
              0.1111111111111111,
              "#46039f"
             ],
             [
              0.2222222222222222,
              "#7201a8"
             ],
             [
              0.3333333333333333,
              "#9c179e"
             ],
             [
              0.4444444444444444,
              "#bd3786"
             ],
             [
              0.5555555555555556,
              "#d8576b"
             ],
             [
              0.6666666666666666,
              "#ed7953"
             ],
             [
              0.7777777777777778,
              "#fb9f3a"
             ],
             [
              0.8888888888888888,
              "#fdca26"
             ],
             [
              1,
              "#f0f921"
             ]
            ],
            "type": "histogram2d"
           }
          ],
          "histogram2dcontour": [
           {
            "colorbar": {
             "outlinewidth": 0,
             "ticks": ""
            },
            "colorscale": [
             [
              0,
              "#0d0887"
             ],
             [
              0.1111111111111111,
              "#46039f"
             ],
             [
              0.2222222222222222,
              "#7201a8"
             ],
             [
              0.3333333333333333,
              "#9c179e"
             ],
             [
              0.4444444444444444,
              "#bd3786"
             ],
             [
              0.5555555555555556,
              "#d8576b"
             ],
             [
              0.6666666666666666,
              "#ed7953"
             ],
             [
              0.7777777777777778,
              "#fb9f3a"
             ],
             [
              0.8888888888888888,
              "#fdca26"
             ],
             [
              1,
              "#f0f921"
             ]
            ],
            "type": "histogram2dcontour"
           }
          ],
          "mesh3d": [
           {
            "colorbar": {
             "outlinewidth": 0,
             "ticks": ""
            },
            "type": "mesh3d"
           }
          ],
          "parcoords": [
           {
            "line": {
             "colorbar": {
              "outlinewidth": 0,
              "ticks": ""
             }
            },
            "type": "parcoords"
           }
          ],
          "pie": [
           {
            "automargin": true,
            "type": "pie"
           }
          ],
          "scatter": [
           {
            "marker": {
             "colorbar": {
              "outlinewidth": 0,
              "ticks": ""
             }
            },
            "type": "scatter"
           }
          ],
          "scatter3d": [
           {
            "line": {
             "colorbar": {
              "outlinewidth": 0,
              "ticks": ""
             }
            },
            "marker": {
             "colorbar": {
              "outlinewidth": 0,
              "ticks": ""
             }
            },
            "type": "scatter3d"
           }
          ],
          "scattercarpet": [
           {
            "marker": {
             "colorbar": {
              "outlinewidth": 0,
              "ticks": ""
             }
            },
            "type": "scattercarpet"
           }
          ],
          "scattergeo": [
           {
            "marker": {
             "colorbar": {
              "outlinewidth": 0,
              "ticks": ""
             }
            },
            "type": "scattergeo"
           }
          ],
          "scattergl": [
           {
            "marker": {
             "colorbar": {
              "outlinewidth": 0,
              "ticks": ""
             }
            },
            "type": "scattergl"
           }
          ],
          "scattermapbox": [
           {
            "marker": {
             "colorbar": {
              "outlinewidth": 0,
              "ticks": ""
             }
            },
            "type": "scattermapbox"
           }
          ],
          "scatterpolar": [
           {
            "marker": {
             "colorbar": {
              "outlinewidth": 0,
              "ticks": ""
             }
            },
            "type": "scatterpolar"
           }
          ],
          "scatterpolargl": [
           {
            "marker": {
             "colorbar": {
              "outlinewidth": 0,
              "ticks": ""
             }
            },
            "type": "scatterpolargl"
           }
          ],
          "scatterternary": [
           {
            "marker": {
             "colorbar": {
              "outlinewidth": 0,
              "ticks": ""
             }
            },
            "type": "scatterternary"
           }
          ],
          "surface": [
           {
            "colorbar": {
             "outlinewidth": 0,
             "ticks": ""
            },
            "colorscale": [
             [
              0,
              "#0d0887"
             ],
             [
              0.1111111111111111,
              "#46039f"
             ],
             [
              0.2222222222222222,
              "#7201a8"
             ],
             [
              0.3333333333333333,
              "#9c179e"
             ],
             [
              0.4444444444444444,
              "#bd3786"
             ],
             [
              0.5555555555555556,
              "#d8576b"
             ],
             [
              0.6666666666666666,
              "#ed7953"
             ],
             [
              0.7777777777777778,
              "#fb9f3a"
             ],
             [
              0.8888888888888888,
              "#fdca26"
             ],
             [
              1,
              "#f0f921"
             ]
            ],
            "type": "surface"
           }
          ],
          "table": [
           {
            "cells": {
             "fill": {
              "color": "#EBF0F8"
             },
             "line": {
              "color": "white"
             }
            },
            "header": {
             "fill": {
              "color": "#C8D4E3"
             },
             "line": {
              "color": "white"
             }
            },
            "type": "table"
           }
          ]
         },
         "layout": {
          "annotationdefaults": {
           "arrowcolor": "#2a3f5f",
           "arrowhead": 0,
           "arrowwidth": 1
          },
          "autotypenumbers": "strict",
          "coloraxis": {
           "colorbar": {
            "outlinewidth": 0,
            "ticks": ""
           }
          },
          "colorscale": {
           "diverging": [
            [
             0,
             "#8e0152"
            ],
            [
             0.1,
             "#c51b7d"
            ],
            [
             0.2,
             "#de77ae"
            ],
            [
             0.3,
             "#f1b6da"
            ],
            [
             0.4,
             "#fde0ef"
            ],
            [
             0.5,
             "#f7f7f7"
            ],
            [
             0.6,
             "#e6f5d0"
            ],
            [
             0.7,
             "#b8e186"
            ],
            [
             0.8,
             "#7fbc41"
            ],
            [
             0.9,
             "#4d9221"
            ],
            [
             1,
             "#276419"
            ]
           ],
           "sequential": [
            [
             0,
             "#0d0887"
            ],
            [
             0.1111111111111111,
             "#46039f"
            ],
            [
             0.2222222222222222,
             "#7201a8"
            ],
            [
             0.3333333333333333,
             "#9c179e"
            ],
            [
             0.4444444444444444,
             "#bd3786"
            ],
            [
             0.5555555555555556,
             "#d8576b"
            ],
            [
             0.6666666666666666,
             "#ed7953"
            ],
            [
             0.7777777777777778,
             "#fb9f3a"
            ],
            [
             0.8888888888888888,
             "#fdca26"
            ],
            [
             1,
             "#f0f921"
            ]
           ],
           "sequentialminus": [
            [
             0,
             "#0d0887"
            ],
            [
             0.1111111111111111,
             "#46039f"
            ],
            [
             0.2222222222222222,
             "#7201a8"
            ],
            [
             0.3333333333333333,
             "#9c179e"
            ],
            [
             0.4444444444444444,
             "#bd3786"
            ],
            [
             0.5555555555555556,
             "#d8576b"
            ],
            [
             0.6666666666666666,
             "#ed7953"
            ],
            [
             0.7777777777777778,
             "#fb9f3a"
            ],
            [
             0.8888888888888888,
             "#fdca26"
            ],
            [
             1,
             "#f0f921"
            ]
           ]
          },
          "colorway": [
           "#636efa",
           "#EF553B",
           "#00cc96",
           "#ab63fa",
           "#FFA15A",
           "#19d3f3",
           "#FF6692",
           "#B6E880",
           "#FF97FF",
           "#FECB52"
          ],
          "font": {
           "color": "#2a3f5f"
          },
          "geo": {
           "bgcolor": "white",
           "lakecolor": "white",
           "landcolor": "#E5ECF6",
           "showlakes": true,
           "showland": true,
           "subunitcolor": "white"
          },
          "hoverlabel": {
           "align": "left"
          },
          "hovermode": "closest",
          "mapbox": {
           "style": "light"
          },
          "paper_bgcolor": "white",
          "plot_bgcolor": "#E5ECF6",
          "polar": {
           "angularaxis": {
            "gridcolor": "white",
            "linecolor": "white",
            "ticks": ""
           },
           "bgcolor": "#E5ECF6",
           "radialaxis": {
            "gridcolor": "white",
            "linecolor": "white",
            "ticks": ""
           }
          },
          "scene": {
           "xaxis": {
            "backgroundcolor": "#E5ECF6",
            "gridcolor": "white",
            "gridwidth": 2,
            "linecolor": "white",
            "showbackground": true,
            "ticks": "",
            "zerolinecolor": "white"
           },
           "yaxis": {
            "backgroundcolor": "#E5ECF6",
            "gridcolor": "white",
            "gridwidth": 2,
            "linecolor": "white",
            "showbackground": true,
            "ticks": "",
            "zerolinecolor": "white"
           },
           "zaxis": {
            "backgroundcolor": "#E5ECF6",
            "gridcolor": "white",
            "gridwidth": 2,
            "linecolor": "white",
            "showbackground": true,
            "ticks": "",
            "zerolinecolor": "white"
           }
          },
          "shapedefaults": {
           "line": {
            "color": "#2a3f5f"
           }
          },
          "ternary": {
           "aaxis": {
            "gridcolor": "white",
            "linecolor": "white",
            "ticks": ""
           },
           "baxis": {
            "gridcolor": "white",
            "linecolor": "white",
            "ticks": ""
           },
           "bgcolor": "#E5ECF6",
           "caxis": {
            "gridcolor": "white",
            "linecolor": "white",
            "ticks": ""
           }
          },
          "title": {
           "x": 0.05
          },
          "xaxis": {
           "automargin": true,
           "gridcolor": "white",
           "linecolor": "white",
           "ticks": "",
           "title": {
            "standoff": 15
           },
           "zerolinecolor": "white",
           "zerolinewidth": 2
          },
          "yaxis": {
           "automargin": true,
           "gridcolor": "white",
           "linecolor": "white",
           "ticks": "",
           "title": {
            "standoff": 15
           },
           "zerolinecolor": "white",
           "zerolinewidth": 2
          }
         }
        },
        "xaxis": {
         "anchor": "y",
         "autorange": true,
         "domain": [
          0.2785714285714286,
          0.7214285714285714
         ],
         "range": [
          -0.5,
          223.5
         ]
        },
        "yaxis": {
         "anchor": "x",
         "autorange": true,
         "domain": [
          0,
          1
         ],
         "range": [
          223.5,
          -0.5
         ]
        }
       }
      },
      "image/png": "[encoded data removed]",
      "text/html": [
       "<div>                            <div id=\"65672cf0-00e1-452b-9bbe-21fd73d463f4\" class=\"plotly-graph-div\" style=\"height:525px; width:100%;\"></div>            <script type=\"text/javascript\">                require([\"plotly\"], function(Plotly) {                    window.PLOTLYENV=window.PLOTLYENV || {};                                    if (document.getElementById(\"65672cf0-00e1-452b-9bbe-21fd73d463f4\")) {                    Plotly.newPlot(                        \"65672cf0-00e1-452b-9bbe-21fd73d463f4\",                        [{\"hovertemplate\": \"x: %{x}<br>y: %{y}<br>color: [%{z[0]}, %{z[1]}, %{z[2]}]<extra></extra>\", \"name\": \"0\", \"source\": \"data:image/png;base64,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\", \"type\": \"image\", \"xaxis\": \"x\", \"yaxis\": \"y\"}],                        {\"margin\": {\"t\": 60}, \"template\": {\"data\": {\"bar\": [{\"error_x\": {\"color\": \"#2a3f5f\"}, \"error_y\": {\"color\": \"#2a3f5f\"}, \"marker\": {\"line\": {\"color\": \"#E5ECF6\", \"width\": 0.5}}, \"type\": \"bar\"}], \"barpolar\": [{\"marker\": {\"line\": {\"color\": \"#E5ECF6\", \"width\": 0.5}}, \"type\": \"barpolar\"}], \"carpet\": [{\"aaxis\": {\"endlinecolor\": \"#2a3f5f\", \"gridcolor\": \"white\", \"linecolor\": \"white\", \"minorgridcolor\": \"white\", \"startlinecolor\": \"#2a3f5f\"}, \"baxis\": {\"endlinecolor\": \"#2a3f5f\", \"gridcolor\": \"white\", \"linecolor\": \"white\", \"minorgridcolor\": \"white\", \"startlinecolor\": \"#2a3f5f\"}, \"type\": \"carpet\"}], \"choropleth\": [{\"colorbar\": {\"outlinewidth\": 0, \"ticks\": \"\"}, \"type\": \"choropleth\"}], \"contour\": [{\"colorbar\": {\"outlinewidth\": 0, \"ticks\": \"\"}, \"colorscale\": [[0.0, \"#0d0887\"], [0.1111111111111111, \"#46039f\"], [0.2222222222222222, \"#7201a8\"], [0.3333333333333333, \"#9c179e\"], [0.4444444444444444, \"#bd3786\"], [0.5555555555555556, \"#d8576b\"], [0.6666666666666666, \"#ed7953\"], [0.7777777777777778, \"#fb9f3a\"], [0.8888888888888888, \"#fdca26\"], [1.0, \"#f0f921\"]], \"type\": \"contour\"}], \"contourcarpet\": [{\"colorbar\": {\"outlinewidth\": 0, \"ticks\": \"\"}, \"type\": \"contourcarpet\"}], \"heatmap\": [{\"colorbar\": {\"outlinewidth\": 0, \"ticks\": \"\"}, \"colorscale\": [[0.0, \"#0d0887\"], [0.1111111111111111, \"#46039f\"], [0.2222222222222222, \"#7201a8\"], [0.3333333333333333, \"#9c179e\"], [0.4444444444444444, \"#bd3786\"], [0.5555555555555556, \"#d8576b\"], [0.6666666666666666, \"#ed7953\"], [0.7777777777777778, \"#fb9f3a\"], [0.8888888888888888, \"#fdca26\"], [1.0, \"#f0f921\"]], \"type\": \"heatmap\"}], \"heatmapgl\": [{\"colorbar\": {\"outlinewidth\": 0, \"ticks\": \"\"}, \"colorscale\": [[0.0, \"#0d0887\"], [0.1111111111111111, \"#46039f\"], [0.2222222222222222, \"#7201a8\"], [0.3333333333333333, \"#9c179e\"], [0.4444444444444444, \"#bd3786\"], [0.5555555555555556, \"#d8576b\"], [0.6666666666666666, \"#ed7953\"], [0.7777777777777778, \"#fb9f3a\"], [0.8888888888888888, \"#fdca26\"], [1.0, \"#f0f921\"]], \"type\": \"heatmapgl\"}], \"histogram\": [{\"marker\": {\"colorbar\": {\"outlinewidth\": 0, \"ticks\": \"\"}}, \"type\": \"histogram\"}], \"histogram2d\": [{\"colorbar\": {\"outlinewidth\": 0, \"ticks\": \"\"}, \"colorscale\": [[0.0, \"#0d0887\"], [0.1111111111111111, \"#46039f\"], [0.2222222222222222, \"#7201a8\"], [0.3333333333333333, \"#9c179e\"], [0.4444444444444444, \"#bd3786\"], [0.5555555555555556, \"#d8576b\"], [0.6666666666666666, \"#ed7953\"], [0.7777777777777778, \"#fb9f3a\"], [0.8888888888888888, \"#fdca26\"], [1.0, \"#f0f921\"]], \"type\": \"histogram2d\"}], \"histogram2dcontour\": [{\"colorbar\": {\"outlinewidth\": 0, \"ticks\": \"\"}, \"colorscale\": [[0.0, \"#0d0887\"], [0.1111111111111111, \"#46039f\"], [0.2222222222222222, \"#7201a8\"], [0.3333333333333333, \"#9c179e\"], [0.4444444444444444, \"#bd3786\"], [0.5555555555555556, \"#d8576b\"], [0.6666666666666666, \"#ed7953\"], [0.7777777777777778, \"#fb9f3a\"], [0.8888888888888888, \"#fdca26\"], [1.0, \"#f0f921\"]], \"type\": \"histogram2dcontour\"}], \"mesh3d\": [{\"colorbar\": {\"outlinewidth\": 0, \"ticks\": \"\"}, \"type\": \"mesh3d\"}], \"parcoords\": [{\"line\": {\"colorbar\": {\"outlinewidth\": 0, \"ticks\": \"\"}}, \"type\": \"parcoords\"}], \"pie\": [{\"automargin\": true, \"type\": \"pie\"}], \"scatter\": [{\"marker\": {\"colorbar\": {\"outlinewidth\": 0, \"ticks\": \"\"}}, \"type\": \"scatter\"}], \"scatter3d\": [{\"line\": {\"colorbar\": {\"outlinewidth\": 0, \"ticks\": \"\"}}, \"marker\": {\"colorbar\": {\"outlinewidth\": 0, \"ticks\": \"\"}}, \"type\": \"scatter3d\"}], \"scattercarpet\": [{\"marker\": {\"colorbar\": {\"outlinewidth\": 0, \"ticks\": \"\"}}, \"type\": \"scattercarpet\"}], \"scattergeo\": [{\"marker\": {\"colorbar\": {\"outlinewidth\": 0, \"ticks\": \"\"}}, \"type\": \"scattergeo\"}], \"scattergl\": [{\"marker\": {\"colorbar\": {\"outlinewidth\": 0, \"ticks\": \"\"}}, \"type\": \"scattergl\"}], \"scattermapbox\": [{\"marker\": {\"colorbar\": {\"outlinewidth\": 0, \"ticks\": \"\"}}, \"type\": \"scattermapbox\"}], \"scatterpolar\": [{\"marker\": {\"colorbar\": {\"outlinewidth\": 0, \"ticks\": \"\"}}, \"type\": \"scatterpolar\"}], \"scatterpolargl\": [{\"marker\": {\"colorbar\": {\"outlinewidth\": 0, \"ticks\": \"\"}}, \"type\": \"scatterpolargl\"}], \"scatterternary\": [{\"marker\": {\"colorbar\": {\"outlinewidth\": 0, \"ticks\": \"\"}}, \"type\": \"scatterternary\"}], \"surface\": [{\"colorbar\": {\"outlinewidth\": 0, \"ticks\": \"\"}, \"colorscale\": [[0.0, \"#0d0887\"], [0.1111111111111111, \"#46039f\"], [0.2222222222222222, \"#7201a8\"], [0.3333333333333333, \"#9c179e\"], [0.4444444444444444, \"#bd3786\"], [0.5555555555555556, \"#d8576b\"], [0.6666666666666666, \"#ed7953\"], [0.7777777777777778, \"#fb9f3a\"], [0.8888888888888888, \"#fdca26\"], [1.0, \"#f0f921\"]], \"type\": \"surface\"}], \"table\": [{\"cells\": {\"fill\": {\"color\": \"#EBF0F8\"}, \"line\": {\"color\": \"white\"}}, \"header\": {\"fill\": {\"color\": \"#C8D4E3\"}, \"line\": {\"color\": \"white\"}}, \"type\": \"table\"}]}, \"layout\": {\"annotationdefaults\": {\"arrowcolor\": \"#2a3f5f\", \"arrowhead\": 0, \"arrowwidth\": 1}, \"autotypenumbers\": \"strict\", \"coloraxis\": {\"colorbar\": {\"outlinewidth\": 0, \"ticks\": \"\"}}, \"colorscale\": {\"diverging\": [[0, \"#8e0152\"], [0.1, \"#c51b7d\"], [0.2, \"#de77ae\"], [0.3, \"#f1b6da\"], [0.4, \"#fde0ef\"], [0.5, \"#f7f7f7\"], [0.6, \"#e6f5d0\"], [0.7, \"#b8e186\"], [0.8, \"#7fbc41\"], [0.9, \"#4d9221\"], [1, \"#276419\"]], \"sequential\": [[0.0, \"#0d0887\"], [0.1111111111111111, \"#46039f\"], [0.2222222222222222, \"#7201a8\"], [0.3333333333333333, \"#9c179e\"], [0.4444444444444444, \"#bd3786\"], [0.5555555555555556, \"#d8576b\"], [0.6666666666666666, \"#ed7953\"], [0.7777777777777778, \"#fb9f3a\"], [0.8888888888888888, \"#fdca26\"], [1.0, \"#f0f921\"]], \"sequentialminus\": [[0.0, \"#0d0887\"], [0.1111111111111111, \"#46039f\"], [0.2222222222222222, \"#7201a8\"], [0.3333333333333333, \"#9c179e\"], [0.4444444444444444, \"#bd3786\"], [0.5555555555555556, \"#d8576b\"], [0.6666666666666666, \"#ed7953\"], [0.7777777777777778, \"#fb9f3a\"], [0.8888888888888888, \"#fdca26\"], [1.0, \"#f0f921\"]]}, \"colorway\": [\"#636efa\", \"#EF553B\", \"#00cc96\", \"#ab63fa\", \"#FFA15A\", \"#19d3f3\", \"#FF6692\", \"#B6E880\", \"#FF97FF\", \"#FECB52\"], \"font\": {\"color\": \"#2a3f5f\"}, \"geo\": {\"bgcolor\": \"white\", \"lakecolor\": \"white\", \"landcolor\": \"#E5ECF6\", \"showlakes\": true, \"showland\": true, \"subunitcolor\": \"white\"}, \"hoverlabel\": {\"align\": \"left\"}, \"hovermode\": \"closest\", \"mapbox\": {\"style\": \"light\"}, \"paper_bgcolor\": \"white\", \"plot_bgcolor\": \"#E5ECF6\", \"polar\": {\"angularaxis\": {\"gridcolor\": \"white\", \"linecolor\": \"white\", \"ticks\": \"\"}, \"bgcolor\": \"#E5ECF6\", \"radialaxis\": {\"gridcolor\": \"white\", \"linecolor\": \"white\", \"ticks\": \"\"}}, \"scene\": {\"xaxis\": {\"backgroundcolor\": \"#E5ECF6\", \"gridcolor\": \"white\", \"gridwidth\": 2, \"linecolor\": \"white\", \"showbackground\": true, \"ticks\": \"\", \"zerolinecolor\": \"white\"}, \"yaxis\": {\"backgroundcolor\": \"#E5ECF6\", \"gridcolor\": \"white\", \"gridwidth\": 2, \"linecolor\": \"white\", \"showbackground\": true, \"ticks\": \"\", \"zerolinecolor\": \"white\"}, \"zaxis\": {\"backgroundcolor\": \"#E5ECF6\", \"gridcolor\": \"white\", \"gridwidth\": 2, \"linecolor\": \"white\", \"showbackground\": true, \"ticks\": \"\", \"zerolinecolor\": \"white\"}}, \"shapedefaults\": {\"line\": {\"color\": \"#2a3f5f\"}}, \"ternary\": {\"aaxis\": {\"gridcolor\": \"white\", \"linecolor\": \"white\", \"ticks\": \"\"}, \"baxis\": {\"gridcolor\": \"white\", \"linecolor\": \"white\", \"ticks\": \"\"}, \"bgcolor\": \"#E5ECF6\", \"caxis\": {\"gridcolor\": \"white\", \"linecolor\": \"white\", \"ticks\": \"\"}}, \"title\": {\"x\": 0.05}, \"xaxis\": {\"automargin\": true, \"gridcolor\": \"white\", \"linecolor\": \"white\", \"ticks\": \"\", \"title\": {\"standoff\": 15}, \"zerolinecolor\": \"white\", \"zerolinewidth\": 2}, \"yaxis\": {\"automargin\": true, \"gridcolor\": \"white\", \"linecolor\": \"white\", \"ticks\": \"\", \"title\": {\"standoff\": 15}, \"zerolinecolor\": \"white\", \"zerolinewidth\": 2}}}, \"xaxis\": {\"anchor\": \"y\", \"domain\": [0.0, 1.0]}, \"yaxis\": {\"anchor\": \"x\", \"domain\": [0.0, 1.0]}},                        {\"responsive\": true}                    ).then(function(){\n",
       "                            \n",
       "var gd = document.getElementById('65672cf0-00e1-452b-9bbe-21fd73d463f4');\n",
       "var x = new MutationObserver(function (mutations, observer) {{\n",
       "        var display = window.getComputedStyle(gd).display;\n",
       "        if (!display || display === 'none') {{\n",
       "            console.log([gd, 'removed!']);\n",
       "            Plotly.purge(gd);\n",
       "            observer.disconnect();\n",
       "        }}\n",
       "}});\n",
       "\n",
       "// Listen for the removal of the full notebook cells\n",
       "var notebookContainer = gd.closest('#notebook-container');\n",
       "if (notebookContainer) {{\n",
       "    x.observe(notebookContainer, {childList: true});\n",
       "}}\n",
       "\n",
       "// Listen for the clearing of the current output cell\n",
       "var outputEl = gd.closest('.output');\n",
       "if (outputEl) {{\n",
       "    x.observe(outputEl, {childList: true});\n",
       "}}\n",
       "\n",
       "                        })                };                });            </script>        </div>"
      ]
     },
     "metadata": {},
     "output_type": "display_data"
    }
   ],
   "source": [
    "image_id = \"5e0c7d9e41d5\"\n",
    "datadir = constants.COMPETITION_DATADIR / \"train\"\n",
    "image_path = datadir / \"/\".join(image_id[:3]) / f\"{image_id}.png\"\n",
    "px.imshow(cv2.imread(str(image_path)))\n",
    "px.imshow(cv2.resize(cv2.imread(str(image_path)), (224, 224)))"
   ]
  },
  {
   "cell_type": "code",
   "execution_count": 22,
   "id": "aa8ec78c-f291-4161-bcef-a4f852d1003c",
   "metadata": {},
   "outputs": [
    {
     "data": {
      "text/html": [
       "<div>\n",
       "<style scoped>\n",
       "    .dataframe tbody tr th:only-of-type {\n",
       "        vertical-align: middle;\n",
       "    }\n",
       "\n",
       "    .dataframe tbody tr th {\n",
       "        vertical-align: top;\n",
       "    }\n",
       "\n",
       "    .dataframe thead th {\n",
       "        text-align: right;\n",
       "    }\n",
       "</style>\n",
       "<table border=\"1\" class=\"dataframe\">\n",
       "  <thead>\n",
       "    <tr style=\"text-align: right;\">\n",
       "      <th></th>\n",
       "      <th>image_id</th>\n",
       "      <th>InChI</th>\n",
       "      <th>InChI_GT</th>\n",
       "      <th>loss</th>\n",
       "      <th>levenshtein</th>\n",
       "      <th>...</th>\n",
       "      <th>InChI_length</th>\n",
       "      <th>w</th>\n",
       "      <th>h</th>\n",
       "      <th>w/h</th>\n",
       "      <th>w*h</th>\n",
       "    </tr>\n",
       "  </thead>\n",
       "  <tbody>\n",
       "    <tr>\n",
       "      <th>117540</th>\n",
       "      <td>ff46160b9517</td>\n",
       "      <td>InChI=1S/CH2,2N/c1-2-3/h2H3/i1D3,2D3</td>\n",
       "      <td>InChI=1S/CH4N/c1-2/h2H,1H3/i1D3,2D</td>\n",
       "      <td>0.924077</td>\n",
       "      <td>9</td>\n",
       "      <td>...</td>\n",
       "      <td>34</td>\n",
       "      <td>196</td>\n",
       "      <td>156</td>\n",
       "      <td>1.256410</td>\n",
       "      <td>30576</td>\n",
       "    </tr>\n",
       "    <tr>\n",
       "      <th>120916</th>\n",
       "      <td>cbaa4844a4a4</td>\n",
       "      <td>InChI=1S/CHF7NS/c2-1(3)9-10(4,5,6,7)8</td>\n",
       "      <td>InChI=1S/CF7NS/c2-1(3)9-10(4,5,6,7)8</td>\n",
       "      <td>0.279330</td>\n",
       "      <td>1</td>\n",
       "      <td>...</td>\n",
       "      <td>36</td>\n",
       "      <td>227</td>\n",
       "      <td>174</td>\n",
       "      <td>1.304598</td>\n",
       "      <td>39498</td>\n",
       "    </tr>\n",
       "    <tr>\n",
       "      <th>212861</th>\n",
       "      <td>05fe5fc5e7b4</td>\n",
       "      <td>InChI=1S/C2Cl6NP/c3-1(4)2(5)9-10(6,7)8</td>\n",
       "      <td>InChI=1S/C2Cl6NP/c3-1(4)2(5)9-10(6,7)8</td>\n",
       "      <td>0.020116</td>\n",
       "      <td>0</td>\n",
       "      <td>...</td>\n",
       "      <td>38</td>\n",
       "      <td>168</td>\n",
       "      <td>122</td>\n",
       "      <td>1.377049</td>\n",
       "      <td>20496</td>\n",
       "    </tr>\n",
       "    <tr>\n",
       "      <th>152755</th>\n",
       "      <td>ba5f90c83ee7</td>\n",
       "      <td>InChI=1S/C3HClF4O/c4-2(9)1(5)3(6,7)8/h1H</td>\n",
       "      <td>InChI=1S/C3HClF4O/c4-2(9)1(5)3(6,7)8/h1H</td>\n",
       "      <td>0.000332</td>\n",
       "      <td>0</td>\n",
       "      <td>...</td>\n",
       "      <td>40</td>\n",
       "      <td>229</td>\n",
       "      <td>194</td>\n",
       "      <td>1.180412</td>\n",
       "      <td>44426</td>\n",
       "    </tr>\n",
       "    <tr>\n",
       "      <th>118746</th>\n",
       "      <td>3df4c0ffda0b</td>\n",
       "      <td>InChI=1S/C2F3NO3S/c3-2(4,5)1(7)6-8-10(6)9</td>\n",
       "      <td>InChI=1S/C2F3NO3S/c3-2(4,5)1(7)6-9-10(6)8</td>\n",
       "      <td>0.236574</td>\n",
       "      <td>2</td>\n",
       "      <td>...</td>\n",
       "      <td>41</td>\n",
       "      <td>269</td>\n",
       "      <td>194</td>\n",
       "      <td>1.386598</td>\n",
       "      <td>52186</td>\n",
       "    </tr>\n",
       "    <tr>\n",
       "      <th>...</th>\n",
       "      <td>...</td>\n",
       "      <td>...</td>\n",
       "      <td>...</td>\n",
       "      <td>...</td>\n",
       "      <td>...</td>\n",
       "      <td>...</td>\n",
       "      <td>...</td>\n",
       "      <td>...</td>\n",
       "      <td>...</td>\n",
       "      <td>...</td>\n",
       "      <td>...</td>\n",
       "    </tr>\n",
       "    <tr>\n",
       "      <th>180448</th>\n",
       "      <td>807b043f3c86</td>\n",
       "      <td>InChI=1S/C57H90O6/c1-4-7-10-13-16-19-22-25-27-...</td>\n",
       "      <td>InChI=1S/C56H88O6/c1-4-7-10-13-16-19-22-25-27-...</td>\n",
       "      <td>0.082222</td>\n",
       "      <td>120</td>\n",
       "      <td>...</td>\n",
       "      <td>375</td>\n",
       "      <td>788</td>\n",
       "      <td>318</td>\n",
       "      <td>2.477987</td>\n",
       "      <td>250584</td>\n",
       "    </tr>\n",
       "    <tr>\n",
       "      <th>135736</th>\n",
       "      <td>b440ab35d6a0</td>\n",
       "      <td>InChI=1S/C57H94O6/c1-4-7-10-13-16-19-22-25-27-...</td>\n",
       "      <td>InChI=1S/C56H90O6/c1-4-7-10-13-16-19-22-25-26-...</td>\n",
       "      <td>0.109687</td>\n",
       "      <td>89</td>\n",
       "      <td>...</td>\n",
       "      <td>376</td>\n",
       "      <td>906</td>\n",
       "      <td>752</td>\n",
       "      <td>1.204787</td>\n",
       "      <td>681312</td>\n",
       "    </tr>\n",
       "    <tr>\n",
       "      <th>222210</th>\n",
       "      <td>75c32fbd3779</td>\n",
       "      <td>InChI=1S/C69H131NO5/c1-3-5-7-9-11-13-15-17-18-...</td>\n",
       "      <td>InChI=1S/C69H127NO5/c1-3-5-7-9-11-13-15-17-18-...</td>\n",
       "      <td>0.069001</td>\n",
       "      <td>113</td>\n",
       "      <td>...</td>\n",
       "      <td>383</td>\n",
       "      <td>927</td>\n",
       "      <td>643</td>\n",
       "      <td>1.441680</td>\n",
       "      <td>596061</td>\n",
       "    </tr>\n",
       "    <tr>\n",
       "      <th>165563</th>\n",
       "      <td>01d9b7ce6ba1</td>\n",
       "      <td>InChI=1S/C63H106O6/c1-4-7-10-13-16-19-22-25-28...</td>\n",
       "      <td>InChI=1S/C62H106O6/c1-4-7-10-13-16-19-22-25-27...</td>\n",
       "      <td>0.099195</td>\n",
       "      <td>100</td>\n",
       "      <td>...</td>\n",
       "      <td>385</td>\n",
       "      <td>802</td>\n",
       "      <td>488</td>\n",
       "      <td>1.643443</td>\n",
       "      <td>391376</td>\n",
       "    </tr>\n",
       "    <tr>\n",
       "      <th>63701</th>\n",
       "      <td>a3c096ab64e7</td>\n",
       "      <td>InChI=1S/C57H90O6/c1-4-7-10-13-16-19-22-25-27-...</td>\n",
       "      <td>InChI=1S/C57H90O6/c1-4-7-10-13-16-19-22-25-26-...</td>\n",
       "      <td>0.129190</td>\n",
       "      <td>54</td>\n",
       "      <td>...</td>\n",
       "      <td>392</td>\n",
       "      <td>1142</td>\n",
       "      <td>608</td>\n",
       "      <td>1.878289</td>\n",
       "      <td>694336</td>\n",
       "    </tr>\n",
       "  </tbody>\n",
       "</table>\n",
       "<p>242419 rows × 11 columns</p>\n",
       "</div>"
      ],
      "text/plain": [
       "            image_id                                              InChI  \\\n",
       "117540  ff46160b9517               InChI=1S/CH2,2N/c1-2-3/h2H3/i1D3,2D3   \n",
       "120916  cbaa4844a4a4              InChI=1S/CHF7NS/c2-1(3)9-10(4,5,6,7)8   \n",
       "212861  05fe5fc5e7b4             InChI=1S/C2Cl6NP/c3-1(4)2(5)9-10(6,7)8   \n",
       "152755  ba5f90c83ee7           InChI=1S/C3HClF4O/c4-2(9)1(5)3(6,7)8/h1H   \n",
       "118746  3df4c0ffda0b          InChI=1S/C2F3NO3S/c3-2(4,5)1(7)6-8-10(6)9   \n",
       "...              ...                                                ...   \n",
       "180448  807b043f3c86  InChI=1S/C57H90O6/c1-4-7-10-13-16-19-22-25-27-...   \n",
       "135736  b440ab35d6a0  InChI=1S/C57H94O6/c1-4-7-10-13-16-19-22-25-27-...   \n",
       "222210  75c32fbd3779  InChI=1S/C69H131NO5/c1-3-5-7-9-11-13-15-17-18-...   \n",
       "165563  01d9b7ce6ba1  InChI=1S/C63H106O6/c1-4-7-10-13-16-19-22-25-28...   \n",
       "63701   a3c096ab64e7  InChI=1S/C57H90O6/c1-4-7-10-13-16-19-22-25-27-...   \n",
       "\n",
       "                                                 InChI_GT      loss  \\\n",
       "117540                 InChI=1S/CH4N/c1-2/h2H,1H3/i1D3,2D  0.924077   \n",
       "120916               InChI=1S/CF7NS/c2-1(3)9-10(4,5,6,7)8  0.279330   \n",
       "212861             InChI=1S/C2Cl6NP/c3-1(4)2(5)9-10(6,7)8  0.020116   \n",
       "152755           InChI=1S/C3HClF4O/c4-2(9)1(5)3(6,7)8/h1H  0.000332   \n",
       "118746          InChI=1S/C2F3NO3S/c3-2(4,5)1(7)6-9-10(6)8  0.236574   \n",
       "...                                                   ...       ...   \n",
       "180448  InChI=1S/C56H88O6/c1-4-7-10-13-16-19-22-25-27-...  0.082222   \n",
       "135736  InChI=1S/C56H90O6/c1-4-7-10-13-16-19-22-25-26-...  0.109687   \n",
       "222210  InChI=1S/C69H127NO5/c1-3-5-7-9-11-13-15-17-18-...  0.069001   \n",
       "165563  InChI=1S/C62H106O6/c1-4-7-10-13-16-19-22-25-27...  0.099195   \n",
       "63701   InChI=1S/C57H90O6/c1-4-7-10-13-16-19-22-25-26-...  0.129190   \n",
       "\n",
       "        levenshtein  ... InChI_length     w    h       w/h     w*h  \n",
       "117540            9  ...           34   196  156  1.256410   30576  \n",
       "120916            1  ...           36   227  174  1.304598   39498  \n",
       "212861            0  ...           38   168  122  1.377049   20496  \n",
       "152755            0  ...           40   229  194  1.180412   44426  \n",
       "118746            2  ...           41   269  194  1.386598   52186  \n",
       "...             ...  ...          ...   ...  ...       ...     ...  \n",
       "180448          120  ...          375   788  318  2.477987  250584  \n",
       "135736           89  ...          376   906  752  1.204787  681312  \n",
       "222210          113  ...          383   927  643  1.441680  596061  \n",
       "165563          100  ...          385   802  488  1.643443  391376  \n",
       "63701            54  ...          392  1142  608  1.878289  694336  \n",
       "\n",
       "[242419 rows x 11 columns]"
      ]
     },
     "execution_count": 22,
     "metadata": {},
     "output_type": "execute_result"
    }
   ],
   "source": [
    "df.sort_values(\"InChI_length\")"
   ]
  },
  {
   "cell_type": "code",
   "execution_count": 33,
   "id": "29d8e741-7955-4776-b6f6-28f5512089de",
   "metadata": {},
   "outputs": [
    {
     "data": {
      "application/vnd.plotly.v1+json": {
       "config": {
        "plotlyServerURL": "https://plot.ly"
       },
       "data": [
        {
         "hovertemplate": "x: %{x}<br>y: %{y}<br>color: [%{z[0]}, %{z[1]}, %{z[2]}]<extra></extra>",
         "name": "0",
         "source": "data:image/png;base64,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",
         "type": "image",
         "xaxis": "x",
         "yaxis": "y"
        }
       ],
       "layout": {
        "autosize": true,
        "margin": {
         "t": 60
        },
        "template": {
         "data": {
          "bar": [
           {
            "error_x": {
             "color": "#2a3f5f"
            },
            "error_y": {
             "color": "#2a3f5f"
            },
            "marker": {
             "line": {
              "color": "#E5ECF6",
              "width": 0.5
             }
            },
            "type": "bar"
           }
          ],
          "barpolar": [
           {
            "marker": {
             "line": {
              "color": "#E5ECF6",
              "width": 0.5
             }
            },
            "type": "barpolar"
           }
          ],
          "carpet": [
           {
            "aaxis": {
             "endlinecolor": "#2a3f5f",
             "gridcolor": "white",
             "linecolor": "white",
             "minorgridcolor": "white",
             "startlinecolor": "#2a3f5f"
            },
            "baxis": {
             "endlinecolor": "#2a3f5f",
             "gridcolor": "white",
             "linecolor": "white",
             "minorgridcolor": "white",
             "startlinecolor": "#2a3f5f"
            },
            "type": "carpet"
           }
          ],
          "choropleth": [
           {
            "colorbar": {
             "outlinewidth": 0,
             "ticks": ""
            },
            "type": "choropleth"
           }
          ],
          "contour": [
           {
            "colorbar": {
             "outlinewidth": 0,
             "ticks": ""
            },
            "colorscale": [
             [
              0,
              "#0d0887"
             ],
             [
              0.1111111111111111,
              "#46039f"
             ],
             [
              0.2222222222222222,
              "#7201a8"
             ],
             [
              0.3333333333333333,
              "#9c179e"
             ],
             [
              0.4444444444444444,
              "#bd3786"
             ],
             [
              0.5555555555555556,
              "#d8576b"
             ],
             [
              0.6666666666666666,
              "#ed7953"
             ],
             [
              0.7777777777777778,
              "#fb9f3a"
             ],
             [
              0.8888888888888888,
              "#fdca26"
             ],
             [
              1,
              "#f0f921"
             ]
            ],
            "type": "contour"
           }
          ],
          "contourcarpet": [
           {
            "colorbar": {
             "outlinewidth": 0,
             "ticks": ""
            },
            "type": "contourcarpet"
           }
          ],
          "heatmap": [
           {
            "colorbar": {
             "outlinewidth": 0,
             "ticks": ""
            },
            "colorscale": [
             [
              0,
              "#0d0887"
             ],
             [
              0.1111111111111111,
              "#46039f"
             ],
             [
              0.2222222222222222,
              "#7201a8"
             ],
             [
              0.3333333333333333,
              "#9c179e"
             ],
             [
              0.4444444444444444,
              "#bd3786"
             ],
             [
              0.5555555555555556,
              "#d8576b"
             ],
             [
              0.6666666666666666,
              "#ed7953"
             ],
             [
              0.7777777777777778,
              "#fb9f3a"
             ],
             [
              0.8888888888888888,
              "#fdca26"
             ],
             [
              1,
              "#f0f921"
             ]
            ],
            "type": "heatmap"
           }
          ],
          "heatmapgl": [
           {
            "colorbar": {
             "outlinewidth": 0,
             "ticks": ""
            },
            "colorscale": [
             [
              0,
              "#0d0887"
             ],
             [
              0.1111111111111111,
              "#46039f"
             ],
             [
              0.2222222222222222,
              "#7201a8"
             ],
             [
              0.3333333333333333,
              "#9c179e"
             ],
             [
              0.4444444444444444,
              "#bd3786"
             ],
             [
              0.5555555555555556,
              "#d8576b"
             ],
             [
              0.6666666666666666,
              "#ed7953"
             ],
             [
              0.7777777777777778,
              "#fb9f3a"
             ],
             [
              0.8888888888888888,
              "#fdca26"
             ],
             [
              1,
              "#f0f921"
             ]
            ],
            "type": "heatmapgl"
           }
          ],
          "histogram": [
           {
            "marker": {
             "colorbar": {
              "outlinewidth": 0,
              "ticks": ""
             }
            },
            "type": "histogram"
           }
          ],
          "histogram2d": [
           {
            "colorbar": {
             "outlinewidth": 0,
             "ticks": ""
            },
            "colorscale": [
             [
              0,
              "#0d0887"
             ],
             [
              0.1111111111111111,
              "#46039f"
             ],
             [
              0.2222222222222222,
              "#7201a8"
             ],
             [
              0.3333333333333333,
              "#9c179e"
             ],
             [
              0.4444444444444444,
              "#bd3786"
             ],
             [
              0.5555555555555556,
              "#d8576b"
             ],
             [
              0.6666666666666666,
              "#ed7953"
             ],
             [
              0.7777777777777778,
              "#fb9f3a"
             ],
             [
              0.8888888888888888,
              "#fdca26"
             ],
             [
              1,
              "#f0f921"
             ]
            ],
            "type": "histogram2d"
           }
          ],
          "histogram2dcontour": [
           {
            "colorbar": {
             "outlinewidth": 0,
             "ticks": ""
            },
            "colorscale": [
             [
              0,
              "#0d0887"
             ],
             [
              0.1111111111111111,
              "#46039f"
             ],
             [
              0.2222222222222222,
              "#7201a8"
             ],
             [
              0.3333333333333333,
              "#9c179e"
             ],
             [
              0.4444444444444444,
              "#bd3786"
             ],
             [
              0.5555555555555556,
              "#d8576b"
             ],
             [
              0.6666666666666666,
              "#ed7953"
             ],
             [
              0.7777777777777778,
              "#fb9f3a"
             ],
             [
              0.8888888888888888,
              "#fdca26"
             ],
             [
              1,
              "#f0f921"
             ]
            ],
            "type": "histogram2dcontour"
           }
          ],
          "mesh3d": [
           {
            "colorbar": {
             "outlinewidth": 0,
             "ticks": ""
            },
            "type": "mesh3d"
           }
          ],
          "parcoords": [
           {
            "line": {
             "colorbar": {
              "outlinewidth": 0,
              "ticks": ""
             }
            },
            "type": "parcoords"
           }
          ],
          "pie": [
           {
            "automargin": true,
            "type": "pie"
           }
          ],
          "scatter": [
           {
            "marker": {
             "colorbar": {
              "outlinewidth": 0,
              "ticks": ""
             }
            },
            "type": "scatter"
           }
          ],
          "scatter3d": [
           {
            "line": {
             "colorbar": {
              "outlinewidth": 0,
              "ticks": ""
             }
            },
            "marker": {
             "colorbar": {
              "outlinewidth": 0,
              "ticks": ""
             }
            },
            "type": "scatter3d"
           }
          ],
          "scattercarpet": [
           {
            "marker": {
             "colorbar": {
              "outlinewidth": 0,
              "ticks": ""
             }
            },
            "type": "scattercarpet"
           }
          ],
          "scattergeo": [
           {
            "marker": {
             "colorbar": {
              "outlinewidth": 0,
              "ticks": ""
             }
            },
            "type": "scattergeo"
           }
          ],
          "scattergl": [
           {
            "marker": {
             "colorbar": {
              "outlinewidth": 0,
              "ticks": ""
             }
            },
            "type": "scattergl"
           }
          ],
          "scattermapbox": [
           {
            "marker": {
             "colorbar": {
              "outlinewidth": 0,
              "ticks": ""
             }
            },
            "type": "scattermapbox"
           }
          ],
          "scatterpolar": [
           {
            "marker": {
             "colorbar": {
              "outlinewidth": 0,
              "ticks": ""
             }
            },
            "type": "scatterpolar"
           }
          ],
          "scatterpolargl": [
           {
            "marker": {
             "colorbar": {
              "outlinewidth": 0,
              "ticks": ""
             }
            },
            "type": "scatterpolargl"
           }
          ],
          "scatterternary": [
           {
            "marker": {
             "colorbar": {
              "outlinewidth": 0,
              "ticks": ""
             }
            },
            "type": "scatterternary"
           }
          ],
          "surface": [
           {
            "colorbar": {
             "outlinewidth": 0,
             "ticks": ""
            },
            "colorscale": [
             [
              0,
              "#0d0887"
             ],
             [
              0.1111111111111111,
              "#46039f"
             ],
             [
              0.2222222222222222,
              "#7201a8"
             ],
             [
              0.3333333333333333,
              "#9c179e"
             ],
             [
              0.4444444444444444,
              "#bd3786"
             ],
             [
              0.5555555555555556,
              "#d8576b"
             ],
             [
              0.6666666666666666,
              "#ed7953"
             ],
             [
              0.7777777777777778,
              "#fb9f3a"
             ],
             [
              0.8888888888888888,
              "#fdca26"
             ],
             [
              1,
              "#f0f921"
             ]
            ],
            "type": "surface"
           }
          ],
          "table": [
           {
            "cells": {
             "fill": {
              "color": "#EBF0F8"
             },
             "line": {
              "color": "white"
             }
            },
            "header": {
             "fill": {
              "color": "#C8D4E3"
             },
             "line": {
              "color": "white"
             }
            },
            "type": "table"
           }
          ]
         },
         "layout": {
          "annotationdefaults": {
           "arrowcolor": "#2a3f5f",
           "arrowhead": 0,
           "arrowwidth": 1
          },
          "autotypenumbers": "strict",
          "coloraxis": {
           "colorbar": {
            "outlinewidth": 0,
            "ticks": ""
           }
          },
          "colorscale": {
           "diverging": [
            [
             0,
             "#8e0152"
            ],
            [
             0.1,
             "#c51b7d"
            ],
            [
             0.2,
             "#de77ae"
            ],
            [
             0.3,
             "#f1b6da"
            ],
            [
             0.4,
             "#fde0ef"
            ],
            [
             0.5,
             "#f7f7f7"
            ],
            [
             0.6,
             "#e6f5d0"
            ],
            [
             0.7,
             "#b8e186"
            ],
            [
             0.8,
             "#7fbc41"
            ],
            [
             0.9,
             "#4d9221"
            ],
            [
             1,
             "#276419"
            ]
           ],
           "sequential": [
            [
             0,
             "#0d0887"
            ],
            [
             0.1111111111111111,
             "#46039f"
            ],
            [
             0.2222222222222222,
             "#7201a8"
            ],
            [
             0.3333333333333333,
             "#9c179e"
            ],
            [
             0.4444444444444444,
             "#bd3786"
            ],
            [
             0.5555555555555556,
             "#d8576b"
            ],
            [
             0.6666666666666666,
             "#ed7953"
            ],
            [
             0.7777777777777778,
             "#fb9f3a"
            ],
            [
             0.8888888888888888,
             "#fdca26"
            ],
            [
             1,
             "#f0f921"
            ]
           ],
           "sequentialminus": [
            [
             0,
             "#0d0887"
            ],
            [
             0.1111111111111111,
             "#46039f"
            ],
            [
             0.2222222222222222,
             "#7201a8"
            ],
            [
             0.3333333333333333,
             "#9c179e"
            ],
            [
             0.4444444444444444,
             "#bd3786"
            ],
            [
             0.5555555555555556,
             "#d8576b"
            ],
            [
             0.6666666666666666,
             "#ed7953"
            ],
            [
             0.7777777777777778,
             "#fb9f3a"
            ],
            [
             0.8888888888888888,
             "#fdca26"
            ],
            [
             1,
             "#f0f921"
            ]
           ]
          },
          "colorway": [
           "#636efa",
           "#EF553B",
           "#00cc96",
           "#ab63fa",
           "#FFA15A",
           "#19d3f3",
           "#FF6692",
           "#B6E880",
           "#FF97FF",
           "#FECB52"
          ],
          "font": {
           "color": "#2a3f5f"
          },
          "geo": {
           "bgcolor": "white",
           "lakecolor": "white",
           "landcolor": "#E5ECF6",
           "showlakes": true,
           "showland": true,
           "subunitcolor": "white"
          },
          "hoverlabel": {
           "align": "left"
          },
          "hovermode": "closest",
          "mapbox": {
           "style": "light"
          },
          "paper_bgcolor": "white",
          "plot_bgcolor": "#E5ECF6",
          "polar": {
           "angularaxis": {
            "gridcolor": "white",
            "linecolor": "white",
            "ticks": ""
           },
           "bgcolor": "#E5ECF6",
           "radialaxis": {
            "gridcolor": "white",
            "linecolor": "white",
            "ticks": ""
           }
          },
          "scene": {
           "xaxis": {
            "backgroundcolor": "#E5ECF6",
            "gridcolor": "white",
            "gridwidth": 2,
            "linecolor": "white",
            "showbackground": true,
            "ticks": "",
            "zerolinecolor": "white"
           },
           "yaxis": {
            "backgroundcolor": "#E5ECF6",
            "gridcolor": "white",
            "gridwidth": 2,
            "linecolor": "white",
            "showbackground": true,
            "ticks": "",
            "zerolinecolor": "white"
           },
           "zaxis": {
            "backgroundcolor": "#E5ECF6",
            "gridcolor": "white",
            "gridwidth": 2,
            "linecolor": "white",
            "showbackground": true,
            "ticks": "",
            "zerolinecolor": "white"
           }
          },
          "shapedefaults": {
           "line": {
            "color": "#2a3f5f"
           }
          },
          "ternary": {
           "aaxis": {
            "gridcolor": "white",
            "linecolor": "white",
            "ticks": ""
           },
           "baxis": {
            "gridcolor": "white",
            "linecolor": "white",
            "ticks": ""
           },
           "bgcolor": "#E5ECF6",
           "caxis": {
            "gridcolor": "white",
            "linecolor": "white",
            "ticks": ""
           }
          },
          "title": {
           "x": 0.05
          },
          "xaxis": {
           "automargin": true,
           "gridcolor": "white",
           "linecolor": "white",
           "ticks": "",
           "title": {
            "standoff": 15
           },
           "zerolinecolor": "white",
           "zerolinewidth": 2
          },
          "yaxis": {
           "automargin": true,
           "gridcolor": "white",
           "linecolor": "white",
           "ticks": "",
           "title": {
            "standoff": 15
           },
           "zerolinecolor": "white",
           "zerolinewidth": 2
          }
         }
        },
        "xaxis": {
         "anchor": "y",
         "autorange": true,
         "domain": [
          0.08409304511278204,
          0.915906954887218
         ],
         "range": [
          -0.5,
          1141.5
         ]
        },
        "yaxis": {
         "anchor": "x",
         "autorange": true,
         "domain": [
          0,
          1
         ],
         "range": [
          607.5,
          -0.5
         ]
        }
       }
      },
      "image/png": "[encoded data removed]",
      "text/html": [
       "<div>                            <div id=\"643b1972-ed06-42c6-94a7-f83a85ce9497\" class=\"plotly-graph-div\" style=\"height:525px; width:100%;\"></div>            <script type=\"text/javascript\">                require([\"plotly\"], function(Plotly) {                    window.PLOTLYENV=window.PLOTLYENV || {};                                    if (document.getElementById(\"643b1972-ed06-42c6-94a7-f83a85ce9497\")) {                    Plotly.newPlot(                        \"643b1972-ed06-42c6-94a7-f83a85ce9497\",                        [{\"hovertemplate\": \"x: %{x}<br>y: %{y}<br>color: [%{z[0]}, %{z[1]}, %{z[2]}]<extra></extra>\", \"name\": \"0\", \"source\": \"data:image/png;base64,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\", \"type\": \"image\", \"xaxis\": \"x\", \"yaxis\": \"y\"}],                        {\"margin\": {\"t\": 60}, \"template\": {\"data\": {\"bar\": [{\"error_x\": {\"color\": \"#2a3f5f\"}, \"error_y\": {\"color\": \"#2a3f5f\"}, \"marker\": {\"line\": {\"color\": \"#E5ECF6\", \"width\": 0.5}}, \"type\": \"bar\"}], \"barpolar\": [{\"marker\": {\"line\": {\"color\": \"#E5ECF6\", \"width\": 0.5}}, \"type\": \"barpolar\"}], \"carpet\": [{\"aaxis\": {\"endlinecolor\": \"#2a3f5f\", \"gridcolor\": \"white\", \"linecolor\": \"white\", \"minorgridcolor\": \"white\", \"startlinecolor\": \"#2a3f5f\"}, \"baxis\": {\"endlinecolor\": \"#2a3f5f\", \"gridcolor\": \"white\", \"linecolor\": \"white\", \"minorgridcolor\": \"white\", \"startlinecolor\": \"#2a3f5f\"}, \"type\": \"carpet\"}], \"choropleth\": [{\"colorbar\": {\"outlinewidth\": 0, \"ticks\": \"\"}, \"type\": \"choropleth\"}], \"contour\": [{\"colorbar\": {\"outlinewidth\": 0, \"ticks\": \"\"}, \"colorscale\": [[0.0, \"#0d0887\"], [0.1111111111111111, \"#46039f\"], [0.2222222222222222, \"#7201a8\"], [0.3333333333333333, \"#9c179e\"], [0.4444444444444444, \"#bd3786\"], [0.5555555555555556, \"#d8576b\"], [0.6666666666666666, \"#ed7953\"], [0.7777777777777778, \"#fb9f3a\"], [0.8888888888888888, \"#fdca26\"], [1.0, \"#f0f921\"]], \"type\": \"contour\"}], \"contourcarpet\": [{\"colorbar\": {\"outlinewidth\": 0, \"ticks\": \"\"}, \"type\": \"contourcarpet\"}], \"heatmap\": [{\"colorbar\": {\"outlinewidth\": 0, \"ticks\": \"\"}, \"colorscale\": [[0.0, \"#0d0887\"], [0.1111111111111111, \"#46039f\"], [0.2222222222222222, \"#7201a8\"], [0.3333333333333333, \"#9c179e\"], [0.4444444444444444, \"#bd3786\"], [0.5555555555555556, \"#d8576b\"], [0.6666666666666666, \"#ed7953\"], [0.7777777777777778, \"#fb9f3a\"], [0.8888888888888888, \"#fdca26\"], [1.0, \"#f0f921\"]], \"type\": \"heatmap\"}], \"heatmapgl\": [{\"colorbar\": {\"outlinewidth\": 0, \"ticks\": \"\"}, \"colorscale\": [[0.0, \"#0d0887\"], [0.1111111111111111, \"#46039f\"], [0.2222222222222222, \"#7201a8\"], [0.3333333333333333, \"#9c179e\"], [0.4444444444444444, \"#bd3786\"], [0.5555555555555556, \"#d8576b\"], [0.6666666666666666, \"#ed7953\"], [0.7777777777777778, \"#fb9f3a\"], [0.8888888888888888, \"#fdca26\"], [1.0, \"#f0f921\"]], \"type\": \"heatmapgl\"}], \"histogram\": [{\"marker\": {\"colorbar\": {\"outlinewidth\": 0, \"ticks\": \"\"}}, \"type\": \"histogram\"}], \"histogram2d\": [{\"colorbar\": {\"outlinewidth\": 0, \"ticks\": \"\"}, \"colorscale\": [[0.0, \"#0d0887\"], [0.1111111111111111, \"#46039f\"], [0.2222222222222222, \"#7201a8\"], [0.3333333333333333, \"#9c179e\"], [0.4444444444444444, \"#bd3786\"], [0.5555555555555556, \"#d8576b\"], [0.6666666666666666, \"#ed7953\"], [0.7777777777777778, \"#fb9f3a\"], [0.8888888888888888, \"#fdca26\"], [1.0, \"#f0f921\"]], \"type\": \"histogram2d\"}], \"histogram2dcontour\": [{\"colorbar\": {\"outlinewidth\": 0, \"ticks\": \"\"}, \"colorscale\": [[0.0, \"#0d0887\"], [0.1111111111111111, \"#46039f\"], [0.2222222222222222, \"#7201a8\"], [0.3333333333333333, \"#9c179e\"], [0.4444444444444444, \"#bd3786\"], [0.5555555555555556, \"#d8576b\"], [0.6666666666666666, \"#ed7953\"], [0.7777777777777778, \"#fb9f3a\"], [0.8888888888888888, \"#fdca26\"], [1.0, \"#f0f921\"]], \"type\": \"histogram2dcontour\"}], \"mesh3d\": [{\"colorbar\": {\"outlinewidth\": 0, \"ticks\": \"\"}, \"type\": \"mesh3d\"}], \"parcoords\": [{\"line\": {\"colorbar\": {\"outlinewidth\": 0, \"ticks\": \"\"}}, \"type\": \"parcoords\"}], \"pie\": [{\"automargin\": true, \"type\": \"pie\"}], \"scatter\": [{\"marker\": {\"colorbar\": {\"outlinewidth\": 0, \"ticks\": \"\"}}, \"type\": \"scatter\"}], \"scatter3d\": [{\"line\": {\"colorbar\": {\"outlinewidth\": 0, \"ticks\": \"\"}}, \"marker\": {\"colorbar\": {\"outlinewidth\": 0, \"ticks\": \"\"}}, \"type\": \"scatter3d\"}], \"scattercarpet\": [{\"marker\": {\"colorbar\": {\"outlinewidth\": 0, \"ticks\": \"\"}}, \"type\": \"scattercarpet\"}], \"scattergeo\": [{\"marker\": {\"colorbar\": {\"outlinewidth\": 0, \"ticks\": \"\"}}, \"type\": \"scattergeo\"}], \"scattergl\": [{\"marker\": {\"colorbar\": {\"outlinewidth\": 0, \"ticks\": \"\"}}, \"type\": \"scattergl\"}], \"scattermapbox\": [{\"marker\": {\"colorbar\": {\"outlinewidth\": 0, \"ticks\": \"\"}}, \"type\": \"scattermapbox\"}], \"scatterpolar\": [{\"marker\": {\"colorbar\": {\"outlinewidth\": 0, \"ticks\": \"\"}}, \"type\": \"scatterpolar\"}], \"scatterpolargl\": [{\"marker\": {\"colorbar\": {\"outlinewidth\": 0, \"ticks\": \"\"}}, \"type\": \"scatterpolargl\"}], \"scatterternary\": [{\"marker\": {\"colorbar\": {\"outlinewidth\": 0, \"ticks\": \"\"}}, \"type\": \"scatterternary\"}], \"surface\": [{\"colorbar\": {\"outlinewidth\": 0, \"ticks\": \"\"}, \"colorscale\": [[0.0, \"#0d0887\"], [0.1111111111111111, \"#46039f\"], [0.2222222222222222, \"#7201a8\"], [0.3333333333333333, \"#9c179e\"], [0.4444444444444444, \"#bd3786\"], [0.5555555555555556, \"#d8576b\"], [0.6666666666666666, \"#ed7953\"], [0.7777777777777778, \"#fb9f3a\"], [0.8888888888888888, \"#fdca26\"], [1.0, \"#f0f921\"]], \"type\": \"surface\"}], \"table\": [{\"cells\": {\"fill\": {\"color\": \"#EBF0F8\"}, \"line\": {\"color\": \"white\"}}, \"header\": {\"fill\": {\"color\": \"#C8D4E3\"}, \"line\": {\"color\": \"white\"}}, \"type\": \"table\"}]}, \"layout\": {\"annotationdefaults\": {\"arrowcolor\": \"#2a3f5f\", \"arrowhead\": 0, \"arrowwidth\": 1}, \"autotypenumbers\": \"strict\", \"coloraxis\": {\"colorbar\": {\"outlinewidth\": 0, \"ticks\": \"\"}}, \"colorscale\": {\"diverging\": [[0, \"#8e0152\"], [0.1, \"#c51b7d\"], [0.2, \"#de77ae\"], [0.3, \"#f1b6da\"], [0.4, \"#fde0ef\"], [0.5, \"#f7f7f7\"], [0.6, \"#e6f5d0\"], [0.7, \"#b8e186\"], [0.8, \"#7fbc41\"], [0.9, \"#4d9221\"], [1, \"#276419\"]], \"sequential\": [[0.0, \"#0d0887\"], [0.1111111111111111, \"#46039f\"], [0.2222222222222222, \"#7201a8\"], [0.3333333333333333, \"#9c179e\"], [0.4444444444444444, \"#bd3786\"], [0.5555555555555556, \"#d8576b\"], [0.6666666666666666, \"#ed7953\"], [0.7777777777777778, \"#fb9f3a\"], [0.8888888888888888, \"#fdca26\"], [1.0, \"#f0f921\"]], \"sequentialminus\": [[0.0, \"#0d0887\"], [0.1111111111111111, \"#46039f\"], [0.2222222222222222, \"#7201a8\"], [0.3333333333333333, \"#9c179e\"], [0.4444444444444444, \"#bd3786\"], [0.5555555555555556, \"#d8576b\"], [0.6666666666666666, \"#ed7953\"], [0.7777777777777778, \"#fb9f3a\"], [0.8888888888888888, \"#fdca26\"], [1.0, \"#f0f921\"]]}, \"colorway\": [\"#636efa\", \"#EF553B\", \"#00cc96\", \"#ab63fa\", \"#FFA15A\", \"#19d3f3\", \"#FF6692\", \"#B6E880\", \"#FF97FF\", \"#FECB52\"], \"font\": {\"color\": \"#2a3f5f\"}, \"geo\": {\"bgcolor\": \"white\", \"lakecolor\": \"white\", \"landcolor\": \"#E5ECF6\", \"showlakes\": true, \"showland\": true, \"subunitcolor\": \"white\"}, \"hoverlabel\": {\"align\": \"left\"}, \"hovermode\": \"closest\", \"mapbox\": {\"style\": \"light\"}, \"paper_bgcolor\": \"white\", \"plot_bgcolor\": \"#E5ECF6\", \"polar\": {\"angularaxis\": {\"gridcolor\": \"white\", \"linecolor\": \"white\", \"ticks\": \"\"}, \"bgcolor\": \"#E5ECF6\", \"radialaxis\": {\"gridcolor\": \"white\", \"linecolor\": \"white\", \"ticks\": \"\"}}, \"scene\": {\"xaxis\": {\"backgroundcolor\": \"#E5ECF6\", \"gridcolor\": \"white\", \"gridwidth\": 2, \"linecolor\": \"white\", \"showbackground\": true, \"ticks\": \"\", \"zerolinecolor\": \"white\"}, \"yaxis\": {\"backgroundcolor\": \"#E5ECF6\", \"gridcolor\": \"white\", \"gridwidth\": 2, \"linecolor\": \"white\", \"showbackground\": true, \"ticks\": \"\", \"zerolinecolor\": \"white\"}, \"zaxis\": {\"backgroundcolor\": \"#E5ECF6\", \"gridcolor\": \"white\", \"gridwidth\": 2, \"linecolor\": \"white\", \"showbackground\": true, \"ticks\": \"\", \"zerolinecolor\": \"white\"}}, \"shapedefaults\": {\"line\": {\"color\": \"#2a3f5f\"}}, \"ternary\": {\"aaxis\": {\"gridcolor\": \"white\", \"linecolor\": \"white\", \"ticks\": \"\"}, \"baxis\": {\"gridcolor\": \"white\", \"linecolor\": \"white\", \"ticks\": \"\"}, \"bgcolor\": \"#E5ECF6\", \"caxis\": {\"gridcolor\": \"white\", \"linecolor\": \"white\", \"ticks\": \"\"}}, \"title\": {\"x\": 0.05}, \"xaxis\": {\"automargin\": true, \"gridcolor\": \"white\", \"linecolor\": \"white\", \"ticks\": \"\", \"title\": {\"standoff\": 15}, \"zerolinecolor\": \"white\", \"zerolinewidth\": 2}, \"yaxis\": {\"automargin\": true, \"gridcolor\": \"white\", \"linecolor\": \"white\", \"ticks\": \"\", \"title\": {\"standoff\": 15}, \"zerolinecolor\": \"white\", \"zerolinewidth\": 2}}}, \"xaxis\": {\"anchor\": \"y\", \"domain\": [0.0, 1.0]}, \"yaxis\": {\"anchor\": \"x\", \"domain\": [0.0, 1.0]}},                        {\"responsive\": true}                    ).then(function(){\n",
       "                            \n",
       "var gd = document.getElementById('643b1972-ed06-42c6-94a7-f83a85ce9497');\n",
       "var x = new MutationObserver(function (mutations, observer) {{\n",
       "        var display = window.getComputedStyle(gd).display;\n",
       "        if (!display || display === 'none') {{\n",
       "            console.log([gd, 'removed!']);\n",
       "            Plotly.purge(gd);\n",
       "            observer.disconnect();\n",
       "        }}\n",
       "}});\n",
       "\n",
       "// Listen for the removal of the full notebook cells\n",
       "var notebookContainer = gd.closest('#notebook-container');\n",
       "if (notebookContainer) {{\n",
       "    x.observe(notebookContainer, {childList: true});\n",
       "}}\n",
       "\n",
       "// Listen for the clearing of the current output cell\n",
       "var outputEl = gd.closest('.output');\n",
       "if (outputEl) {{\n",
       "    x.observe(outputEl, {childList: true});\n",
       "}}\n",
       "\n",
       "                        })                };                });            </script>        </div>"
      ]
     },
     "metadata": {},
     "output_type": "display_data"
    }
   ],
   "source": [
    "image_id = \"a3c096ab64e7\"\n",
    "datadir = constants.COMPETITION_DATADIR / \"train\"\n",
    "image_path = datadir / \"/\".join(image_id[:3]) / f\"{image_id}.png\"\n",
    "image = cv2.imread(str(image_path))\n",
    "px.imshow(image)\n",
    "# px.imshow(cv2.resize(cv2.imread(str(image_path)), (224, 224)))"
   ]
  },
  {
   "cell_type": "code",
   "execution_count": null,
   "id": "de223fae-6f1c-4c88-ac7a-368d94b93422",
   "metadata": {},
   "outputs": [],
   "source": []
  }
 ],
 "metadata": {
  "kernelspec": {
   "display_name": "Python 3",
   "language": "python",
   "name": "python3"
  },
  "language_info": {
   "codemirror_mode": {
    "name": "ipython",
    "version": 3
   },
   "file_extension": ".py",
   "mimetype": "text/x-python",
   "name": "python",
   "nbconvert_exporter": "python",
   "pygments_lexer": "ipython3",
   "version": "3.8.5"
  }
 },
 "nbformat": 4,
 "nbformat_minor": 5
}
