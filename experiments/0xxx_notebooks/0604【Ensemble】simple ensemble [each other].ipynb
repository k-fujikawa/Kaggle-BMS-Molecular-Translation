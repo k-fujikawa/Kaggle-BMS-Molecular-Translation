{
 "cells": [
  {
   "cell_type": "code",
   "execution_count": 1,
   "id": "060fdc4d-c588-4ff5-9a1a-24f281164171",
   "metadata": {},
   "outputs": [
    {
     "name": "stderr",
     "output_type": "stream",
     "text": [
      "/opt/miniconda/lib/python3.8/site-packages/tqdm/std.py:703: FutureWarning: The Panel class is removed from pandas. Accessing it from the top-level namespace will also be removed in the next version\n",
      "  from pandas import Panel\n"
     ]
    }
   ],
   "source": [
    "import cv2\n",
    "import Levenshtein\n",
    "import optuna\n",
    "import numpy as np\n",
    "import pandas as pd\n",
    "import plotly.express as px\n",
    "import sklearn.metrics\n",
    "import ipywidgets\n",
    "import matplotlib.pyplot as plt\n",
    "import multiprocessing as mp\n",
    "from tqdm.auto import tqdm\n",
    "tqdm.pandas()"
   ]
  },
  {
   "cell_type": "code",
   "execution_count": 2,
   "id": "96273d07-39d9-4b74-a4b6-540fac880da4",
   "metadata": {},
   "outputs": [],
   "source": [
    "%load_ext autoreload\n",
    "%autoreload 2\n",
    "from nncomp_molecule import constants"
   ]
  },
  {
   "cell_type": "code",
   "execution_count": 3,
   "id": "51768dcc-2bed-4f06-bdbc-7887c73c54a1",
   "metadata": {},
   "outputs": [],
   "source": [
    "# train_df = pd.read_pickle(\"/work/input/kfujikawa/bms-preprocess-v2/train.pkl\").set_index(\"image_id\")\n",
    "# train_df.head()"
   ]
  },
  {
   "cell_type": "code",
   "execution_count": 4,
   "id": "9af31ead-4004-4a6f-9859-c3ad1ad8a97d",
   "metadata": {},
   "outputs": [
    {
     "data": {
      "application/vnd.jupyter.widget-view+json": {
       "model_id": "4dea38be7e1f435f93d3fc5606b36e18",
       "version_major": 2,
       "version_minor": 0
      },
      "text/plain": [
       "HBox(children=(HTML(value=''), FloatProgress(value=0.0, max=2.0), HTML(value='')))"
      ]
     },
     "metadata": {},
     "output_type": "display_data"
    },
    {
     "name": "stdout",
     "output_type": "stream",
     "text": [
      "\n"
     ]
    },
    {
     "data": {
      "text/html": [
       "<div>\n",
       "<style scoped>\n",
       "    .dataframe tbody tr th:only-of-type {\n",
       "        vertical-align: middle;\n",
       "    }\n",
       "\n",
       "    .dataframe tbody tr th {\n",
       "        vertical-align: top;\n",
       "    }\n",
       "\n",
       "    .dataframe thead th {\n",
       "        text-align: right;\n",
       "    }\n",
       "</style>\n",
       "<table border=\"1\" class=\"dataframe\">\n",
       "  <thead>\n",
       "    <tr style=\"text-align: right;\">\n",
       "      <th></th>\n",
       "      <th>count</th>\n",
       "      <th>levenshtein</th>\n",
       "      <th>is_valid</th>\n",
       "      <th>normed_score</th>\n",
       "    </tr>\n",
       "    <tr>\n",
       "      <th>model</th>\n",
       "      <th></th>\n",
       "      <th></th>\n",
       "      <th></th>\n",
       "      <th></th>\n",
       "    </tr>\n",
       "  </thead>\n",
       "  <tbody>\n",
       "    <tr>\n",
       "      <th>1109_vtnt_bert_512-1024-denoise-5</th>\n",
       "      <td>1454637</td>\n",
       "      <td>15.741277</td>\n",
       "      <td>0.381213</td>\n",
       "      <td>0.141157</td>\n",
       "    </tr>\n",
       "    <tr>\n",
       "      <th>1113_swin_large_bert_384</th>\n",
       "      <td>1454637</td>\n",
       "      <td>15.741277</td>\n",
       "      <td>0.381213</td>\n",
       "      <td>0.125802</td>\n",
       "    </tr>\n",
       "  </tbody>\n",
       "</table>\n",
       "</div>"
      ],
      "text/plain": [
       "                                     count  levenshtein  is_valid  \\\n",
       "model                                                               \n",
       "1109_vtnt_bert_512-1024-denoise-5  1454637    15.741277  0.381213   \n",
       "1113_swin_large_bert_384           1454637    15.741277  0.381213   \n",
       "\n",
       "                                   normed_score  \n",
       "model                                            \n",
       "1109_vtnt_bert_512-1024-denoise-5      0.141157  \n",
       "1113_swin_large_bert_384               0.125802  "
      ]
     },
     "metadata": {},
     "output_type": "display_data"
    }
   ],
   "source": [
    "VALID_CSVs = [\n",
    "    constants.OUTPUTDIR / \"1113_swin_large_bert_384\" / \"valid_candidates_kf-bms-candidates-0523.csv\",\n",
    "    constants.OUTPUTDIR / \"1109_vtnt_bert_512-1024-denoise-5\" / \"valid_candidates_kf-bms-candidates-0523.csv\",\n",
    "]\n",
    "COLUMNS = [\n",
    "    \"image_id\",\n",
    "    \"normed_InChI\",\n",
    "    \"is_valid\",\n",
    "    \"normed_score\",\n",
    "    \"InChI_GT\",\n",
    "    \"levenshtein\",\n",
    "]\n",
    "valid_df = pd.concat([\n",
    "    pd.read_csv(filename, usecols=COLUMNS).assign(model=filename.parent.name)\n",
    "    for filename in tqdm(VALID_CSVs)\n",
    "], ignore_index=True)\n",
    "display(valid_df.groupby(\"model\").agg(**{\n",
    "    \"count\": (\"image_id\", \"count\"),\n",
    "    \"levenshtein\": (\"levenshtein\", \"mean\"),\n",
    "    \"is_valid\": (\"is_valid\", \"mean\"),\n",
    "    \"normed_score\": (\"normed_score\", \"mean\")\n",
    "}))"
   ]
  },
  {
   "cell_type": "code",
   "execution_count": 5,
   "id": "658bef8d-5616-4d0b-acf1-d3b777dd19e0",
   "metadata": {},
   "outputs": [
    {
     "data": {
      "text/plain": [
       "model\n",
       "1109_vtnt_bert_512-1024-denoise-5    0.784905\n",
       "1113_swin_large_bert_384             0.773784\n",
       "Name: levenshtein, dtype: float64"
      ]
     },
     "execution_count": 5,
     "metadata": {},
     "output_type": "execute_result"
    }
   ],
   "source": [
    "sort_keys = dict(\n",
    "    image_id=True,\n",
    "    is_valid=False,\n",
    "    normed_score=True,\n",
    ")\n",
    "valid_ensembled_df = valid_df.sort_values(\n",
    "    by=list(sort_keys.keys()),\n",
    "    ascending=list(sort_keys.values()),\n",
    ").groupby([\"image_id\", \"model\"]).first()\n",
    "valid_ensembled_df.groupby(\"model\").levenshtein.mean()"
   ]
  },
  {
   "cell_type": "markdown",
   "id": "ccbda325-aa27-494b-ad33-ece0d6a76484",
   "metadata": {},
   "source": [
    "### モデルの分布差異を無視した、normed_score最小のnormed_InChI選択"
   ]
  },
  {
   "cell_type": "code",
   "execution_count": 6,
   "id": "f9903fc6-1015-47bc-9736-7d7f9d6b0424",
   "metadata": {},
   "outputs": [
    {
     "name": "stdout",
     "output_type": "stream",
     "text": [
      "Levenshtein: 0.7544994410504127\n",
      "Levenshtein (lower): 0.19324392889996247\n"
     ]
    }
   ],
   "source": [
    "base_score = valid_df.sort_values(\n",
    "    by=list(sort_keys.keys()),\n",
    "    ascending=list(sort_keys.values()),\n",
    ").groupby(\"image_id\").first().levenshtein.mean()\n",
    "lower_score = valid_df.groupby(\"image_id\").levenshtein.min().mean()\n",
    "\n",
    "print(f\"Levenshtein: {base_score}\")\n",
    "print(f\"Levenshtein (lower): {lower_score}\")"
   ]
  },
  {
   "cell_type": "markdown",
   "id": "9c204180-af3c-440e-8317-7f9636aea0af",
   "metadata": {},
   "source": [
    "### normed_score のモデル間平均"
   ]
  },
  {
   "cell_type": "code",
   "execution_count": 7,
   "id": "34bc7fc2-62aa-4c1e-a751-3aab73ca30ce",
   "metadata": {},
   "outputs": [
    {
     "name": "stdout",
     "output_type": "stream",
     "text": [
      "Levenshtein: 0.7326900944232919\n",
      "Levenshtein (lower): 0.19324392889996247\n"
     ]
    }
   ],
   "source": [
    "sort_keys = dict(\n",
    "    image_id=True,\n",
    "    is_valid=False,\n",
    "    normed_score=True,\n",
    ")\n",
    "valid_ensembled_df = valid_df.groupby([\"image_id\", \"normed_InChI\"]).mean()\n",
    "base_score = valid_ensembled_df.sort_values(\n",
    "    by=list(sort_keys.keys()),\n",
    "    ascending=list(sort_keys.values()),\n",
    ").groupby(\"image_id\").first().levenshtein.mean()\n",
    "lower_score = valid_ensembled_df.groupby(\"image_id\").levenshtein.min().mean()\n",
    "\n",
    "print(f\"Levenshtein: {base_score}\")\n",
    "print(f\"Levenshtein (lower): {lower_score}\")"
   ]
  },
  {
   "cell_type": "markdown",
   "id": "4ec2ab4e-3ecb-46c9-80df-c37ca67a25d4",
   "metadata": {},
   "source": [
    "### ランク平均"
   ]
  },
  {
   "cell_type": "code",
   "execution_count": 20,
   "id": "f7b12b3a-eb25-432e-be95-45f761dece87",
   "metadata": {},
   "outputs": [
    {
     "name": "stdout",
     "output_type": "stream",
     "text": [
      "Levenshtein: 0.7378340806619943\n"
     ]
    }
   ],
   "source": [
    "sort_keys = dict(\n",
    "    image_id=True,\n",
    "    is_valid=False,\n",
    "    rank=True,\n",
    ")\n",
    "valid_df[\"rank\"] = valid_df.groupby([\"model\"]).normed_score.rank()\n",
    "valid_ensembled_df = valid_df.groupby([\"image_id\", \"normed_InChI\"]).mean()\n",
    "base_score = valid_ensembled_df.sort_values(\n",
    "    by=list(sort_keys.keys()),\n",
    "    ascending=list(sort_keys.values()),\n",
    ").groupby(\"image_id\").first().levenshtein.mean()\n",
    "\n",
    "print(f\"Levenshtein: {base_score}\")"
   ]
  },
  {
   "cell_type": "markdown",
   "id": "28fd6304-8647-4440-840d-bcfefc32d0ee",
   "metadata": {},
   "source": [
    "### 標準化"
   ]
  },
  {
   "cell_type": "code",
   "execution_count": 21,
   "id": "502df83d-90bb-4e13-bdd8-da9755ab686c",
   "metadata": {},
   "outputs": [
    {
     "name": "stdout",
     "output_type": "stream",
     "text": [
      "Levenshtein: 0.7848518474212005\n"
     ]
    }
   ],
   "source": [
    "sort_keys = dict(\n",
    "    image_id=True,\n",
    "    is_valid=False,\n",
    "    scaled_normed_score=True,\n",
    ")\n",
    "for model in valid_df.model.unique():\n",
    "    _valid_df = valid_df.query(\"model == @model\")\n",
    "    mean, std = _valid_df.normed_score.agg([\"mean\", \"std\"])\n",
    "    valid_df[\"scaled_normed_score\"] = (_valid_df.normed_score - mean) / std\n",
    "valid_ensembled_df = valid_df.groupby([\"image_id\", \"normed_InChI\"]).mean()\n",
    "base_score = valid_ensembled_df.sort_values(\n",
    "    by=list(sort_keys.keys()),\n",
    "    ascending=list(sort_keys.values()),\n",
    ").groupby(\"image_id\").first().levenshtein.mean()\n",
    "\n",
    "print(f\"Levenshtein: {base_score}\")"
   ]
  },
  {
   "cell_type": "code",
   "execution_count": 16,
   "id": "0806b34e-fdd7-4d62-8e94-8b04f0d9ceff",
   "metadata": {},
   "outputs": [
    {
     "data": {
      "text/plain": [
       "0               NaN\n",
       "1               NaN\n",
       "2               NaN\n",
       "3               NaN\n",
       "4               NaN\n",
       "             ...   \n",
       "2909269    1.046160\n",
       "2909270    0.417296\n",
       "2909271    0.720687\n",
       "2909272    1.228578\n",
       "2909273    0.418256\n",
       "Name: scaled_normed_score, Length: 2909274, dtype: float64"
      ]
     },
     "execution_count": 16,
     "metadata": {},
     "output_type": "execute_result"
    }
   ],
   "source": [
    "valid_df[\"scaled_normed_score\"] = (_valid_df.normed_score - mean) / std\n",
    "valid_df[\"scaled_normed_score\"]"
   ]
  },
  {
   "cell_type": "code",
   "execution_count": 15,
   "id": "00523894-2127-48f1-972e-f5a49da5d3e0",
   "metadata": {},
   "outputs": [
    {
     "data": {
      "text/html": [
       "<div>\n",
       "<style scoped>\n",
       "    .dataframe tbody tr th:only-of-type {\n",
       "        vertical-align: middle;\n",
       "    }\n",
       "\n",
       "    .dataframe tbody tr th {\n",
       "        vertical-align: top;\n",
       "    }\n",
       "\n",
       "    .dataframe thead th {\n",
       "        text-align: right;\n",
       "    }\n",
       "</style>\n",
       "<table border=\"1\" class=\"dataframe\">\n",
       "  <thead>\n",
       "    <tr style=\"text-align: right;\">\n",
       "      <th></th>\n",
       "      <th>image_id</th>\n",
       "      <th>InChI_GT</th>\n",
       "      <th>normed_InChI</th>\n",
       "      <th>is_valid</th>\n",
       "      <th>levenshtein</th>\n",
       "      <th>normed_score</th>\n",
       "      <th>model</th>\n",
       "      <th>rank</th>\n",
       "    </tr>\n",
       "  </thead>\n",
       "  <tbody>\n",
       "    <tr>\n",
       "      <th>1417137</th>\n",
       "      <td>000011a64c74</td>\n",
       "      <td>InChI=1S/C13H20OS/c1-9(2)8-15-13-6-5-10(3)7-12...</td>\n",
       "      <td>InChI=1S/C13H20OS/c1-9(2)8-15-13-6-5-10(3)7-12...</td>\n",
       "      <td>True</td>\n",
       "      <td>0</td>\n",
       "      <td>4.885595e-07</td>\n",
       "      <td>1109_vtnt_bert_512-1024-denoise-5</td>\n",
       "      <td>1.0</td>\n",
       "    </tr>\n",
       "    <tr>\n",
       "      <th>2093094</th>\n",
       "      <td>000011a64c74</td>\n",
       "      <td>InChI=1S/C13H20OS/c1-9(2)8-15-13-6-5-10(3)7-12...</td>\n",
       "      <td>InChI=1S/C13H20OSi/c1-9(2)8-15-13-6-5-10(3)7-1...</td>\n",
       "      <td>True</td>\n",
       "      <td>1</td>\n",
       "      <td>1.939042e-01</td>\n",
       "      <td>1109_vtnt_bert_512-1024-denoise-5</td>\n",
       "      <td>2.0</td>\n",
       "    </tr>\n",
       "    <tr>\n",
       "      <th>2093095</th>\n",
       "      <td>000011a64c74</td>\n",
       "      <td>InChI=1S/C13H20OS/c1-9(2)8-15-13-6-5-10(3)7-12...</td>\n",
       "      <td>InChI=1S/C13H20OS/c1-9(2)8-14-13-6-5-10(3)7-12...</td>\n",
       "      <td>True</td>\n",
       "      <td>3</td>\n",
       "      <td>2.211914e-01</td>\n",
       "      <td>1109_vtnt_bert_512-1024-denoise-5</td>\n",
       "      <td>3.0</td>\n",
       "    </tr>\n",
       "    <tr>\n",
       "      <th>2093096</th>\n",
       "      <td>000011a64c74</td>\n",
       "      <td>InChI=1S/C13H20OS/c1-9(2)8-15-13-6-5-10(3)7-12...</td>\n",
       "      <td>InChI=1S/C13H18OS/c1-9(2)8-15-13-6-5-10(3)7-12...</td>\n",
       "      <td>False</td>\n",
       "      <td>2</td>\n",
       "      <td>2.287598e-01</td>\n",
       "      <td>1109_vtnt_bert_512-1024-denoise-5</td>\n",
       "      <td>4.0</td>\n",
       "    </tr>\n",
       "    <tr>\n",
       "      <th>226450</th>\n",
       "      <td>000011a64c74</td>\n",
       "      <td>InChI=1S/C13H20OS/c1-9(2)8-15-13-6-5-10(3)7-12...</td>\n",
       "      <td>InChI=1S/C13H20OS/c1-9(2)8-15-13-6-5-10(3)7-12...</td>\n",
       "      <td>True</td>\n",
       "      <td>0</td>\n",
       "      <td>4.357953e-07</td>\n",
       "      <td>1113_swin_large_bert_384</td>\n",
       "      <td>1.0</td>\n",
       "    </tr>\n",
       "    <tr>\n",
       "      <th>...</th>\n",
       "      <td>...</td>\n",
       "      <td>...</td>\n",
       "      <td>...</td>\n",
       "      <td>...</td>\n",
       "      <td>...</td>\n",
       "      <td>...</td>\n",
       "      <td>...</td>\n",
       "      <td>...</td>\n",
       "    </tr>\n",
       "    <tr>\n",
       "      <th>193411</th>\n",
       "      <td>ffffe824f539</td>\n",
       "      <td>InChI=1S/C10H12F2N2O3/c1-17-7-2-5(3-8(15)16)9(...</td>\n",
       "      <td>InChI=1S/C10H12F2N2O3/c1-17-7-2-5(3-8(15)16)9(...</td>\n",
       "      <td>True</td>\n",
       "      <td>0</td>\n",
       "      <td>4.033509e-07</td>\n",
       "      <td>1113_swin_large_bert_384</td>\n",
       "      <td>1.0</td>\n",
       "    </tr>\n",
       "    <tr>\n",
       "      <th>805479</th>\n",
       "      <td>ffffe824f539</td>\n",
       "      <td>InChI=1S/C10H12F2N2O3/c1-17-7-2-5(3-8(15)16)9(...</td>\n",
       "      <td>InChI=1S/C10H12F2N2O3/c1-17-7-2-5(3-8(37)15)9(...</td>\n",
       "      <td>False</td>\n",
       "      <td>3</td>\n",
       "      <td>1.692607e-01</td>\n",
       "      <td>1113_swin_large_bert_384</td>\n",
       "      <td>2.0</td>\n",
       "    </tr>\n",
       "    <tr>\n",
       "      <th>805480</th>\n",
       "      <td>ffffe824f539</td>\n",
       "      <td>InChI=1S/C10H12F2N2O3/c1-17-7-2-5(3-8(15)16)9(...</td>\n",
       "      <td>InChI=1S/C10H12F2N2O3/c1-17-7-2-5(3-8(15)16)9(...</td>\n",
       "      <td>False</td>\n",
       "      <td>6</td>\n",
       "      <td>1.934423e-01</td>\n",
       "      <td>1113_swin_large_bert_384</td>\n",
       "      <td>3.0</td>\n",
       "    </tr>\n",
       "    <tr>\n",
       "      <th>805481</th>\n",
       "      <td>ffffe824f539</td>\n",
       "      <td>InChI=1S/C10H12F2N2O3/c1-17-7-2-5(3-8(15)16)9(...</td>\n",
       "      <td>InChI=1S/C10H12F2N2O3/c1-17-7-2-5(3-8(14)15)9(...</td>\n",
       "      <td>False</td>\n",
       "      <td>4</td>\n",
       "      <td>2.017083e-01</td>\n",
       "      <td>1113_swin_large_bert_384</td>\n",
       "      <td>4.0</td>\n",
       "    </tr>\n",
       "    <tr>\n",
       "      <th>1137784</th>\n",
       "      <td>ffffe824f539</td>\n",
       "      <td>InChI=1S/C10H12F2N2O3/c1-17-7-2-5(3-8(15)16)9(...</td>\n",
       "      <td>InChI=1S/C10H12F2N2O3/c1-17-7-2-5(3-8(15)16)9(...</td>\n",
       "      <td>False</td>\n",
       "      <td>3</td>\n",
       "      <td>2.075195e-01</td>\n",
       "      <td>1113_swin_large_bert_384</td>\n",
       "      <td>5.0</td>\n",
       "    </tr>\n",
       "  </tbody>\n",
       "</table>\n",
       "<p>2381374 rows × 8 columns</p>\n",
       "</div>"
      ],
      "text/plain": [
       "             image_id                                           InChI_GT  \\\n",
       "1417137  000011a64c74  InChI=1S/C13H20OS/c1-9(2)8-15-13-6-5-10(3)7-12...   \n",
       "2093094  000011a64c74  InChI=1S/C13H20OS/c1-9(2)8-15-13-6-5-10(3)7-12...   \n",
       "2093095  000011a64c74  InChI=1S/C13H20OS/c1-9(2)8-15-13-6-5-10(3)7-12...   \n",
       "2093096  000011a64c74  InChI=1S/C13H20OS/c1-9(2)8-15-13-6-5-10(3)7-12...   \n",
       "226450   000011a64c74  InChI=1S/C13H20OS/c1-9(2)8-15-13-6-5-10(3)7-12...   \n",
       "...               ...                                                ...   \n",
       "193411   ffffe824f539  InChI=1S/C10H12F2N2O3/c1-17-7-2-5(3-8(15)16)9(...   \n",
       "805479   ffffe824f539  InChI=1S/C10H12F2N2O3/c1-17-7-2-5(3-8(15)16)9(...   \n",
       "805480   ffffe824f539  InChI=1S/C10H12F2N2O3/c1-17-7-2-5(3-8(15)16)9(...   \n",
       "805481   ffffe824f539  InChI=1S/C10H12F2N2O3/c1-17-7-2-5(3-8(15)16)9(...   \n",
       "1137784  ffffe824f539  InChI=1S/C10H12F2N2O3/c1-17-7-2-5(3-8(15)16)9(...   \n",
       "\n",
       "                                              normed_InChI  is_valid  \\\n",
       "1417137  InChI=1S/C13H20OS/c1-9(2)8-15-13-6-5-10(3)7-12...      True   \n",
       "2093094  InChI=1S/C13H20OSi/c1-9(2)8-15-13-6-5-10(3)7-1...      True   \n",
       "2093095  InChI=1S/C13H20OS/c1-9(2)8-14-13-6-5-10(3)7-12...      True   \n",
       "2093096  InChI=1S/C13H18OS/c1-9(2)8-15-13-6-5-10(3)7-12...     False   \n",
       "226450   InChI=1S/C13H20OS/c1-9(2)8-15-13-6-5-10(3)7-12...      True   \n",
       "...                                                    ...       ...   \n",
       "193411   InChI=1S/C10H12F2N2O3/c1-17-7-2-5(3-8(15)16)9(...      True   \n",
       "805479   InChI=1S/C10H12F2N2O3/c1-17-7-2-5(3-8(37)15)9(...     False   \n",
       "805480   InChI=1S/C10H12F2N2O3/c1-17-7-2-5(3-8(15)16)9(...     False   \n",
       "805481   InChI=1S/C10H12F2N2O3/c1-17-7-2-5(3-8(14)15)9(...     False   \n",
       "1137784  InChI=1S/C10H12F2N2O3/c1-17-7-2-5(3-8(15)16)9(...     False   \n",
       "\n",
       "         levenshtein  normed_score                              model  rank  \n",
       "1417137            0  4.885595e-07  1109_vtnt_bert_512-1024-denoise-5   1.0  \n",
       "2093094            1  1.939042e-01  1109_vtnt_bert_512-1024-denoise-5   2.0  \n",
       "2093095            3  2.211914e-01  1109_vtnt_bert_512-1024-denoise-5   3.0  \n",
       "2093096            2  2.287598e-01  1109_vtnt_bert_512-1024-denoise-5   4.0  \n",
       "226450             0  4.357953e-07           1113_swin_large_bert_384   1.0  \n",
       "...              ...           ...                                ...   ...  \n",
       "193411             0  4.033509e-07           1113_swin_large_bert_384   1.0  \n",
       "805479             3  1.692607e-01           1113_swin_large_bert_384   2.0  \n",
       "805480             6  1.934423e-01           1113_swin_large_bert_384   3.0  \n",
       "805481             4  2.017083e-01           1113_swin_large_bert_384   4.0  \n",
       "1137784            3  2.075195e-01           1113_swin_large_bert_384   5.0  \n",
       "\n",
       "[2381374 rows x 8 columns]"
      ]
     },
     "execution_count": 15,
     "metadata": {},
     "output_type": "execute_result"
    }
   ],
   "source": [
    "valid_ensembled_df = valid_df.groupby([\"image_id\", \"normed_InChI\"]).mean()\n",
    "base_score = valid_ensembled_df.sort_values(\n",
    "    by=list(sort_keys.keys()),\n",
    "    ascending=list(sort_keys.values()),\n",
    ").groupby(\"image_id\").first().levenshtein.mean()\n",
    "lower_score = valid_ensembled_df.groupby(\"image_id\").levenshtein.min().mean()\n",
    "\n",
    "print(f\"Levenshtein: {base_score}\")\n",
    "print(f\"Levenshtein (lower): {lower_score}\")"
   ]
  },
  {
   "cell_type": "code",
   "execution_count": 7,
   "id": "1a4ac364-ce2e-41a8-9b1b-f7d39f4b4c41",
   "metadata": {},
   "outputs": [
    {
     "data": {
      "application/vnd.jupyter.widget-view+json": {
       "model_id": "634b40de4ebf49c6ba4f8119531c1b8c",
       "version_major": 2,
       "version_minor": 0
      },
      "text/plain": [
       "HBox(children=(HTML(value=''), FloatProgress(value=0.0, max=4848380.0), HTML(value='')))"
      ]
     },
     "metadata": {},
     "output_type": "display_data"
    },
    {
     "name": "stdout",
     "output_type": "stream",
     "text": [
      "\n"
     ]
    }
   ],
   "source": [
    "voting_df = valid_df.groupby([\"image_id\", \"normed_InChI\"]).model.count()\n",
    "valid_df[\"votes\"] = valid_df[[\"image_id\", \"normed_InChI\"]].progress_apply(\n",
    "    lambda x: voting_df.loc[x.image_id, x.normed_InChI],\n",
    "    axis=1\n",
    ")"
   ]
  },
  {
   "cell_type": "code",
   "execution_count": 8,
   "id": "1f6de286-80cc-4627-bcff-f365794a6cf8",
   "metadata": {},
   "outputs": [
    {
     "name": "stdout",
     "output_type": "stream",
     "text": [
      "Levenshtein: 0.7396903708042687\n",
      "Levenshtein (lower): 0.16620809425003816\n"
     ]
    }
   ],
   "source": [
    "sort_keys = dict(\n",
    "    image_id=True,\n",
    "    is_valid=False,\n",
    "#     votes=False,\n",
    "    normed_score=True,\n",
    ")\n",
    "base_score = valid_ensembled_df.sort_values(\n",
    "    by=list(sort_keys.keys()),\n",
    "    ascending=list(sort_keys.values()),\n",
    ").groupby(\"image_id\").first().levenshtein.mean()\n",
    "lower_score = valid_df.groupby(\"image_id\").levenshtein.min().mean()\n",
    "\n",
    "print(f\"Levenshtein: {base_score}\")\n",
    "print(f\"Levenshtein (lower): {lower_score}\")"
   ]
  },
  {
   "cell_type": "code",
   "execution_count": 9,
   "id": "3d948234-e58a-4959-bbf8-58d3daa3ef5d",
   "metadata": {},
   "outputs": [],
   "source": [
    "invalid_df = valid_df[valid_df.normed_InChI.apply(lambda x: \"/q\" in x)]"
   ]
  },
  {
   "cell_type": "code",
   "execution_count": 10,
   "id": "09758af1-8f9e-4371-850e-9a88405b298d",
   "metadata": {},
   "outputs": [],
   "source": [
    "sample = invalid_df.sort_values([\"votes\", \"image_id\"]).iloc[-1]"
   ]
  },
  {
   "cell_type": "code",
   "execution_count": null,
   "id": "6d17169b-0612-4bbb-b68e-6de6ab17196b",
   "metadata": {},
   "outputs": [],
   "source": []
  },
  {
   "cell_type": "code",
   "execution_count": null,
   "id": "f307d7ec-060f-4ffd-b514-f084ea4a3b51",
   "metadata": {},
   "outputs": [],
   "source": []
  }
 ],
 "metadata": {
  "kernelspec": {
   "display_name": "Python 3",
   "language": "python",
   "name": "python3"
  },
  "language_info": {
   "codemirror_mode": {
    "name": "ipython",
    "version": 3
   },
   "file_extension": ".py",
   "mimetype": "text/x-python",
   "name": "python",
   "nbconvert_exporter": "python",
   "pygments_lexer": "ipython3",
   "version": "3.8.5"
  }
 },
 "nbformat": 4,
 "nbformat_minor": 5
}
