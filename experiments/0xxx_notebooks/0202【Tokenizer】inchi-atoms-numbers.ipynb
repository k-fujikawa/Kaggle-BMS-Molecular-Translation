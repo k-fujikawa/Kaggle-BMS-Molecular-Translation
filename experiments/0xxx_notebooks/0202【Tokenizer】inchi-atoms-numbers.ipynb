{
 "cells": [
  {
   "cell_type": "markdown",
   "id": "ruled-there",
   "metadata": {},
   "source": [
    "# Tokenizer config 作成（inchi-atoms-numbers）"
   ]
  },
  {
   "cell_type": "code",
   "execution_count": 1,
   "id": "connected-garbage",
   "metadata": {},
   "outputs": [],
   "source": [
    "import json\n",
    "import tempfile\n",
    "from pathlib import Path\n",
    "from pprint import pprint\n",
    "\n",
    "import pandas as pd\n",
    "import tokenizers\n",
    "from rdkit import Chem\n",
    "from tqdm.auto import tqdm\n",
    "\n",
    "from nncomp_molecule import constants\n",
    "\n",
    "tqdm.pandas()"
   ]
  },
  {
   "cell_type": "markdown",
   "id": "naked-science",
   "metadata": {},
   "source": [
    "## Config"
   ]
  },
  {
   "cell_type": "code",
   "execution_count": 2,
   "id": "trained-flexibility",
   "metadata": {},
   "outputs": [
    {
     "data": {
      "text/plain": [
       "PosixPath('/work/input/kfujikawa/bms-molecular-translation-tokenizers')"
      ]
     },
     "execution_count": 2,
     "metadata": {},
     "output_type": "execute_result"
    }
   ],
   "source": [
    "TOKENIZER_NAME = \"inchi-atoms-numbers\"\n",
    "OUTDIR = constants.INPUTDIR / \"kfujikawa/bms-tokenizers-v1\"\n",
    "OUTDIR"
   ]
  },
  {
   "cell_type": "markdown",
   "id": "traditional-rehabilitation",
   "metadata": {},
   "source": [
    "## Tokenizer作成"
   ]
  },
  {
   "cell_type": "markdown",
   "id": "fuzzy-newcastle",
   "metadata": {},
   "source": [
    "### Tokenizer configの作成"
   ]
  },
  {
   "cell_type": "code",
   "execution_count": 3,
   "id": "genetic-pizza",
   "metadata": {},
   "outputs": [
    {
     "data": {
      "text/plain": [
       "{'version': '1.0',\n",
       " 'truncation': None,\n",
       " 'padding': None,\n",
       " 'added_tokens': [{'id': 0,\n",
       "   'special': True,\n",
       "   'content': '<PAD>',\n",
       "   'single_word': False,\n",
       "   'lstrip': False,\n",
       "   'rstrip': False,\n",
       "   'normalized': False},\n",
       "  {'id': 1,\n",
       "   'special': True,\n",
       "   'content': '<BOS>',\n",
       "   'single_word': False,\n",
       "   'lstrip': False,\n",
       "   'rstrip': False,\n",
       "   'normalized': False},\n",
       "  {'id': 2,\n",
       "   'special': True,\n",
       "   'content': '<EOS>',\n",
       "   'single_word': False,\n",
       "   'lstrip': False,\n",
       "   'rstrip': False,\n",
       "   'normalized': False},\n",
       "  {'id': 3,\n",
       "   'special': True,\n",
       "   'content': '<UNK>',\n",
       "   'single_word': False,\n",
       "   'lstrip': False,\n",
       "   'rstrip': False,\n",
       "   'normalized': False}],\n",
       " 'normalizer': None,\n",
       " 'pre_tokenizer': None,\n",
       " 'post_processor': {'type': 'TemplateProcessing',\n",
       "  'single': [{'SpecialToken': {'id': '<BOS>', 'type_id': 0}},\n",
       "   {'Sequence': {'id': 'A', 'type_id': 0}},\n",
       "   {'SpecialToken': {'id': '<EOS>', 'type_id': 0}}],\n",
       "  'pair': [{'Sequence': {'id': 'A', 'type_id': 0}},\n",
       "   {'Sequence': {'id': 'B', 'type_id': 1}}],\n",
       "  'special_tokens': {'<BOS>': {'id': '<BOS>', 'ids': [1], 'tokens': ['<BOS>']},\n",
       "   '<EOS>': {'id': '<EOS>', 'ids': [2], 'tokens': ['<EOS>']}}},\n",
       " 'decoder': {'type': 'BPEDecoder', 'suffix': '</w>'},\n",
       " 'model': {'type': 'BPE',\n",
       "  'dropout': None,\n",
       "  'unk_token': None,\n",
       "  'continuing_subword_prefix': None,\n",
       "  'end_of_word_suffix': None,\n",
       "  'fuse_unk': False,\n",
       "  'vocab': {},\n",
       "  'merges': []}}"
      ]
     },
     "execution_count": 3,
     "metadata": {},
     "output_type": "execute_result"
    }
   ],
   "source": [
    "tokenizer = tokenizers.Tokenizer(\n",
    "    tokenizers.models.BPE(),\n",
    ")\n",
    "tokenizer.add_special_tokens([\"<PAD>\", \"<BOS>\", \"<EOS>\", \"<UNK>\"])\n",
    "tokenizer.post_processor = tokenizers.processors.TemplateProcessing(\n",
    "    single=\"<BOS> $0 <EOS>\",\n",
    "    special_tokens=[(\"<BOS>\", 1), (\"<EOS>\", 2)]\n",
    ")\n",
    "tokenizer.decoder = tokenizers.decoders.BPEDecoder()\n",
    "\n",
    "with tempfile.TemporaryDirectory() as tempdir:\n",
    "    outpath = Path(tempdir) / \"tokenizer.json\"\n",
    "    tokenizer.save(str(outpath))\n",
    "    with open(outpath) as f:\n",
    "        tokenizer_config = json.load(f)\n",
    "        \n",
    "tokenizer_config"
   ]
  },
  {
   "cell_type": "markdown",
   "id": "velvet-remove",
   "metadata": {},
   "source": [
    "## 辞書作成"
   ]
  },
  {
   "cell_type": "markdown",
   "id": "material-interpretation",
   "metadata": {},
   "source": [
    "### ベース辞書作成"
   ]
  },
  {
   "cell_type": "code",
   "execution_count": 4,
   "id": "agreed-jesus",
   "metadata": {},
   "outputs": [
    {
     "name": "stdout",
     "output_type": "stream",
     "text": [
      "vocab:\n",
      "{\"<PAD>\": 0, \"<BOS>\": 1, \"<EOS>\": 2, \"<UNK>\": 3, \"(\": 4, \")\": 5, \"+\": 6, \",\": 7, \"-\": 8, \"/\": 9, \"=\": 10, \"B\": 11, \"C\": 12, \"D\": 13, \"F\": 14, \"H\": 15, \"I\": 16, \"N\": 17, \"O\": 18, \"P\": 19, \"S\": 20, \"T\": 21, \"b\": 22, \"c\": 23, \"h\": 24, \"i\": 25, \"l\": 26, \"m\": 27, \"n\": 28, \"r\": 29, \"s\": 30, \"t\": 31}\n",
      "merges:\n",
      "[]\n"
     ]
    }
   ],
   "source": [
    "vocab = {\n",
    "    k: i for i, k in enumerate([\n",
    "         \"<PAD>\", \"<BOS>\", \"<EOS>\", \"<UNK>\",\n",
    "        *'()+,-/=BCDFHINOPSTbchilmnrst',\n",
    "    ])\n",
    "}\n",
    "merges = []\n",
    "print(f\"vocab:\\n{json.dumps(vocab)}\")\n",
    "print(f\"merges:\\n{json.dumps(merges)}\")"
   ]
  },
  {
   "cell_type": "markdown",
   "id": "interior-desert",
   "metadata": {},
   "source": [
    "### 複数文字の辞書登録"
   ]
  },
  {
   "cell_type": "code",
   "execution_count": 5,
   "id": "vocational-ratio",
   "metadata": {},
   "outputs": [
    {
     "name": "stdout",
     "output_type": "stream",
     "text": [
      "vocab:\n",
      "{\"<PAD>\": 0, \"<BOS>\": 1, \"<EOS>\": 2, \"<UNK>\": 3, \"(\": 4, \")\": 5, \"+\": 6, \",\": 7, \"-\": 8, \"/\": 9, \"=\": 10, \"B\": 11, \"C\": 12, \"D\": 13, \"F\": 14, \"H\": 15, \"I\": 16, \"N\": 17, \"O\": 18, \"P\": 19, \"S\": 20, \"T\": 21, \"b\": 22, \"c\": 23, \"h\": 24, \"i\": 25, \"l\": 26, \"m\": 27, \"n\": 28, \"r\": 29, \"s\": 30, \"t\": 31, \"In\": 32, \"InC\": 33, \"InCh\": 34, \"InChI\": 35, \"InChI=\": 36, \"InChI=1\": 37, \"InChI=1S\": 38, \"InChI=1S/\": 39, \"Br\": 40, \"Cl\": 41, \"Si\": 42, \"/c\": 43, \"/h\": 44, \"/t\": 45, \"/m\": 46, \"/s\": 47, \"/b\": 48, \"/i\": 49, \"0\": 50, \"1\": 51, \"2\": 52, \"3\": 53, \"4\": 54, \"5\": 55, \"6\": 56, \"7\": 57, \"8\": 58, \"9\": 59, \"10\": 60, \"11\": 61, \"12\": 62, \"13\": 63, \"14\": 64, \"15\": 65, \"16\": 66, \"17\": 67, \"18\": 68, \"19\": 69, \"20\": 70, \"21\": 71, \"22\": 72, \"23\": 73, \"24\": 74, \"25\": 75, \"26\": 76, \"27\": 77, \"28\": 78, \"29\": 79, \"30\": 80, \"31\": 81, \"32\": 82, \"33\": 83, \"34\": 84, \"35\": 85, \"36\": 86, \"37\": 87, \"38\": 88, \"39\": 89, \"40\": 90, \"41\": 91, \"42\": 92, \"43\": 93, \"44\": 94, \"45\": 95, \"46\": 96, \"47\": 97, \"48\": 98, \"49\": 99, \"50\": 100, \"51\": 101, \"52\": 102, \"53\": 103, \"54\": 104, \"55\": 105, \"56\": 106, \"57\": 107, \"58\": 108, \"59\": 109, \"60\": 110, \"61\": 111, \"62\": 112, \"63\": 113, \"64\": 114, \"65\": 115, \"66\": 116, \"67\": 117, \"68\": 118, \"69\": 119, \"70\": 120, \"71\": 121, \"72\": 122, \"73\": 123, \"74\": 124, \"75\": 125, \"76\": 126, \"77\": 127, \"78\": 128, \"79\": 129, \"80\": 130, \"81\": 131, \"82\": 132, \"83\": 133, \"84\": 134, \"85\": 135, \"86\": 136, \"87\": 137, \"88\": 138, \"89\": 139, \"90\": 140, \"91\": 141, \"92\": 142, \"93\": 143, \"94\": 144, \"95\": 145, \"96\": 146, \"97\": 147, \"98\": 148, \"99\": 149}\n",
      "merges:\n",
      "[\"I n\", \"In C\", \"InC h\", \"InCh I\", \"InChI =\", \"InChI= 1\", \"InChI=1 S\", \"InChI=1S /\", \"B r\", \"C l\", \"S i\", \"/ c\", \"/ h\", \"/ t\", \"/ m\", \"/ s\", \"/ b\", \"/ i\", \"1 0\", \"1 1\", \"1 2\", \"1 3\", \"1 4\", \"1 5\", \"1 6\", \"1 7\", \"1 8\", \"1 9\", \"2 0\", \"2 1\", \"2 2\", \"2 3\", \"2 4\", \"2 5\", \"2 6\", \"2 7\", \"2 8\", \"2 9\", \"3 0\", \"3 1\", \"3 2\", \"3 3\", \"3 4\", \"3 5\", \"3 6\", \"3 7\", \"3 8\", \"3 9\", \"4 0\", \"4 1\", \"4 2\", \"4 3\", \"4 4\", \"4 5\", \"4 6\", \"4 7\", \"4 8\", \"4 9\", \"5 0\", \"5 1\", \"5 2\", \"5 3\", \"5 4\", \"5 5\", \"5 6\", \"5 7\", \"5 8\", \"5 9\", \"6 0\", \"6 1\", \"6 2\", \"6 3\", \"6 4\", \"6 5\", \"6 6\", \"6 7\", \"6 8\", \"6 9\", \"7 0\", \"7 1\", \"7 2\", \"7 3\", \"7 4\", \"7 5\", \"7 6\", \"7 7\", \"7 8\", \"7 9\", \"8 0\", \"8 1\", \"8 2\", \"8 3\", \"8 4\", \"8 5\", \"8 6\", \"8 7\", \"8 8\", \"8 9\", \"9 0\", \"9 1\", \"9 2\", \"9 3\", \"9 4\", \"9 5\", \"9 6\", \"9 7\", \"9 8\", \"9 9\"]\n",
      "150\n"
     ]
    }
   ],
   "source": [
    "tokens = [\n",
    "    \"InChI=1S/\",\n",
    "    \"Br\", \"Cl\", \"Si\",\n",
    "    \"/c\", \"/h\", \"/t\", \"/m\", \"/s\", \"/b\", \"/i\",\n",
    "    *map(str, range(100)),\n",
    "]\n",
    "\n",
    "for token in tokens:\n",
    "    for i in range(len(token)):\n",
    "        # vocabへの登録\n",
    "        if token[:i+1] not in vocab:\n",
    "            vocab[token[:i+1]] = len(vocab)\n",
    "        # mergesへの登録\n",
    "        if i > 0:\n",
    "            merges_text = f\"{token[:i]} {token[i]}\"\n",
    "            if merges_text not in merges:\n",
    "                merges.append(merges_text)\n",
    "\n",
    "print(f\"vocab:\\n{json.dumps(vocab)}\")\n",
    "print(f\"merges:\\n{json.dumps(merges)}\")\n",
    "print(len(vocab))"
   ]
  },
  {
   "cell_type": "markdown",
   "id": "brief-buyer",
   "metadata": {},
   "source": [
    "## Configの保存"
   ]
  },
  {
   "cell_type": "code",
   "execution_count": 6,
   "id": "facial-element",
   "metadata": {},
   "outputs": [],
   "source": [
    "tokenizer_config[\"model\"][\"merges\"] = merges\n",
    "tokenizer_config[\"model\"][\"vocab\"] = vocab\n",
    "with open(OUTDIR / f\"{TOKENIZER_NAME}.json\", \"w\") as f:\n",
    "    json.dump(tokenizer_config, f)"
   ]
  },
  {
   "cell_type": "markdown",
   "id": "overall-editor",
   "metadata": {},
   "source": [
    "## 検証"
   ]
  },
  {
   "cell_type": "code",
   "execution_count": 7,
   "id": "rational-classics",
   "metadata": {},
   "outputs": [
    {
     "data": {
      "text/html": [
       "<div>\n",
       "<style scoped>\n",
       "    .dataframe tbody tr th:only-of-type {\n",
       "        vertical-align: middle;\n",
       "    }\n",
       "\n",
       "    .dataframe tbody tr th {\n",
       "        vertical-align: top;\n",
       "    }\n",
       "\n",
       "    .dataframe thead th {\n",
       "        text-align: right;\n",
       "    }\n",
       "</style>\n",
       "<table border=\"1\" class=\"dataframe\">\n",
       "  <thead>\n",
       "    <tr style=\"text-align: right;\">\n",
       "      <th></th>\n",
       "      <th>image_id</th>\n",
       "      <th>InChI</th>\n",
       "    </tr>\n",
       "  </thead>\n",
       "  <tbody>\n",
       "    <tr>\n",
       "      <th>0</th>\n",
       "      <td>000011a64c74</td>\n",
       "      <td>InChI=1S/C13H20OS/c1-9(2)8-15-13-6-5-10(3)7-12...</td>\n",
       "    </tr>\n",
       "    <tr>\n",
       "      <th>1</th>\n",
       "      <td>000019cc0cd2</td>\n",
       "      <td>InChI=1S/C21H30O4/c1-12(22)25-14-6-8-20(2)13(1...</td>\n",
       "    </tr>\n",
       "    <tr>\n",
       "      <th>2</th>\n",
       "      <td>0000252b6d2b</td>\n",
       "      <td>InChI=1S/C24H23N5O4/c1-14-13-15(7-8-17(14)28-1...</td>\n",
       "    </tr>\n",
       "    <tr>\n",
       "      <th>3</th>\n",
       "      <td>000026b49b7e</td>\n",
       "      <td>InChI=1S/C17H24N2O4S/c1-12(20)18-13(14-7-6-10-...</td>\n",
       "    </tr>\n",
       "    <tr>\n",
       "      <th>4</th>\n",
       "      <td>000026fc6c36</td>\n",
       "      <td>InChI=1S/C10H19N3O2S/c1-15-10(14)12-8-4-6-13(7...</td>\n",
       "    </tr>\n",
       "  </tbody>\n",
       "</table>\n",
       "</div>"
      ],
      "text/plain": [
       "       image_id                                              InChI\n",
       "0  000011a64c74  InChI=1S/C13H20OS/c1-9(2)8-15-13-6-5-10(3)7-12...\n",
       "1  000019cc0cd2  InChI=1S/C21H30O4/c1-12(22)25-14-6-8-20(2)13(1...\n",
       "2  0000252b6d2b  InChI=1S/C24H23N5O4/c1-14-13-15(7-8-17(14)28-1...\n",
       "3  000026b49b7e  InChI=1S/C17H24N2O4S/c1-12(20)18-13(14-7-6-10-...\n",
       "4  000026fc6c36  InChI=1S/C10H19N3O2S/c1-15-10(14)12-8-4-6-13(7..."
      ]
     },
     "execution_count": 7,
     "metadata": {},
     "output_type": "execute_result"
    }
   ],
   "source": [
    "tokenizer = tokenizers.Tokenizer.from_file(str(OUTDIR / f\"{TOKENIZER_NAME}.json\"))\n",
    "train_df = pd.read_csv(constants.COMPETITION_DATADIR / \"train_labels.csv\")\n",
    "train_df.head()"
   ]
  },
  {
   "cell_type": "code",
   "execution_count": 8,
   "id": "empirical-paraguay",
   "metadata": {},
   "outputs": [
    {
     "name": "stdout",
     "output_type": "stream",
     "text": [
      "InChI=1S/C13H20OS/c1-9(2)8-15-13-6-5-10(3)7-12(13)11(4)14/h5-7,9,11,14H,8H2,1-4H3\n"
     ]
    },
    {
     "data": {
      "text/plain": [
       "'[\"<BOS>\", \"InChI=1S/\", \"C\", \"13\", \"H\", \"20\", \"O\", \"S\", \"/c\", \"1\", \"-\", \"9\", \"(\", \"2\", \")\", \"8\", \"-\", \"15\", \"-\", \"13\", \"-\", \"6\", \"-\", \"5\", \"-\", \"10\", \"(\", \"3\", \")\", \"7\", \"-\", \"12\", \"(\", \"13\", \")\", \"11\", \"(\", \"4\", \")\", \"14\", \"/h\", \"5\", \"-\", \"7\", \",\", \"9\", \",\", \"11\", \",\", \"14\", \"H\", \",\", \"8\", \"H\", \"2\", \",\", \"1\", \"-\", \"4\", \"H\", \"3\", \"<EOS>\"]'"
      ]
     },
     "execution_count": 8,
     "metadata": {},
     "output_type": "execute_result"
    }
   ],
   "source": [
    "index = 0\n",
    "\n",
    "inchi = train_df.InChI[index]\n",
    "print(inchi)\n",
    "encoding = tokenizer.encode(inchi)\n",
    "json.dumps(encoding.tokens)"
   ]
  },
  {
   "cell_type": "code",
   "execution_count": 9,
   "id": "still-italian",
   "metadata": {},
   "outputs": [
    {
     "data": {
      "text/plain": [
       "'[\"<BOS>\", \"c\", \"-\", \"12\", \"3\", \"<EOS>\"]'"
      ]
     },
     "execution_count": 9,
     "metadata": {},
     "output_type": "execute_result"
    }
   ],
   "source": [
    "json.dumps(tokenizer.encode(\"c-123\").tokens)"
   ]
  },
  {
   "cell_type": "code",
   "execution_count": 10,
   "id": "native-intermediate",
   "metadata": {},
   "outputs": [
    {
     "data": {
      "application/vnd.jupyter.widget-view+json": {
       "model_id": "9b4493e2dfee4065ab4037b50f6db635",
       "version_major": 2,
       "version_minor": 0
      },
      "text/plain": [
       "HBox(children=(HTML(value=''), FloatProgress(value=0.0, max=2424186.0), HTML(value='')))"
      ]
     },
     "metadata": {},
     "output_type": "display_data"
    },
    {
     "name": "stdout",
     "output_type": "stream",
     "text": [
      "\n"
     ]
    },
    {
     "data": {
      "text/plain": [
       "279"
      ]
     },
     "execution_count": 10,
     "metadata": {},
     "output_type": "execute_result"
    },
    {
     "data": {
      "image/png": "[encoded data removed]",
      "text/plain": [
       "<Figure size 432x288 with 1 Axes>"
      ]
     },
     "metadata": {
      "needs_background": "light"
     },
     "output_type": "display_data"
    }
   ],
   "source": [
    "n_tokens = train_df.InChI.progress_apply(lambda x: len(tokenizer.encode(x).tokens))\n",
    "n_tokens.hist()\n",
    "n_tokens.max()"
   ]
  },
  {
   "cell_type": "code",
   "execution_count": null,
   "id": "varied-factor",
   "metadata": {},
   "outputs": [],
   "source": []
  }
 ],
 "metadata": {
  "kernelspec": {
   "display_name": "Python 3",
   "language": "python",
   "name": "python3"
  },
  "language_info": {
   "codemirror_mode": {
    "name": "ipython",
    "version": 3
   },
   "file_extension": ".py",
   "mimetype": "text/x-python",
   "name": "python",
   "nbconvert_exporter": "python",
   "pygments_lexer": "ipython3",
   "version": "3.8.5"
  }
 },
 "nbformat": 4,
 "nbformat_minor": 5
}
