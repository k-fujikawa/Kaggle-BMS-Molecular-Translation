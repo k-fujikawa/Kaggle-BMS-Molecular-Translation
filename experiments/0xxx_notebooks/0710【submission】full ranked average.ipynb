{
 "cells": [
  {
   "cell_type": "code",
   "execution_count": 1,
   "metadata": {
    "tags": []
   },
   "outputs": [],
   "source": [
    "import gc\n",
    "import io\n",
    "import multiprocessing as mp\n",
    "from copy import deepcopy\n",
    "from urllib.parse import urlparse\n",
    "\n",
    "import numpy as np\n",
    "import google.cloud.storage as gcs\n",
    "import pandas as pd\n",
    "import seaborn as sns\n",
    "import Levenshtein\n",
    "from retrying import retry\n",
    "from tqdm.auto import tqdm"
   ]
  },
  {
   "cell_type": "code",
   "execution_count": 2,
   "metadata": {
    "tags": []
   },
   "outputs": [],
   "source": [
    "GCP_PROJECT = \"dena-ai-training-28-gcp\"\n",
    "\n",
    "\n",
    "@retry(stop_max_attempt_number=3)\n",
    "def download_from_gcs(path: str):\n",
    "    url = urlparse(path)\n",
    "    bucket_name = url.netloc\n",
    "    storage_client = gcs.Client(project=GCP_PROJECT)\n",
    "    bucket = storage_client.get_bucket(bucket_name)\n",
    "    blob = gcs.Blob(url.path[1:], bucket)\n",
    "    return blob.download_as_string()\n",
    "\n",
    "\n",
    "def load_prediction(path: str):\n",
    "    if path.split(\"/\")[-2] == \"kf-bms-candidates-v2\":\n",
    "        model = path.split(\"/\")[-3]\n",
    "    else:\n",
    "        model = path.split(\"/\")[-2]\n",
    "    df = pd.read_csv(io.BytesIO(download_from_gcs(path)))\\\n",
    "        .assign(model=model, filename=path.split(\"/\")[-1])\\\n",
    "        .query(\"is_valid | image_id.isin(@NO_VALID_IMAGE_IDs)\", engine=\"python\")\n",
    "    return df"
   ]
  },
  {
   "cell_type": "code",
   "execution_count": 3,
   "metadata": {},
   "outputs": [
    {
     "data": {
      "text/plain": [
       "5152"
      ]
     },
     "execution_count": 3,
     "metadata": {},
     "output_type": "execute_result"
    }
   ],
   "source": [
    "n_valid_InChIs = pd.read_csv(io.BytesIO(download_from_gcs(\"gs://kfujikawa-kaggle-bms-molecular-generation/kfujikawa/kf-bms-candidates-v2/test_n_valid_InChIs.csv\")))\n",
    "NO_VALID_IMAGE_IDs = n_valid_InChIs.query(\"n_valid_InChIs == 0\").image_id\n",
    "len(NO_VALID_IMAGE_IDs)"
   ]
  },
  {
   "cell_type": "code",
   "execution_count": 4,
   "metadata": {},
   "outputs": [],
   "source": [
    "baseline_059_df = pd.read_csv(io.BytesIO(download_from_gcs(\n",
    "    \"gs://kfujikawa-kaggle-bms-molecular-generation/submissions/LB059+kf0527.csv\"\n",
    ")))\n",
    "baseline_056_df = pd.read_csv(io.BytesIO(download_from_gcs(\n",
    "    \"gs://kfujikawa-kaggle-bms-molecular-generation/submissions/LB056.csv\"\n",
    ")))"
   ]
  },
  {
   "cell_type": "markdown",
   "metadata": {},
   "source": [
    "# Load models"
   ]
  },
  {
   "cell_type": "code",
   "execution_count": 5,
   "metadata": {
    "tags": []
   },
   "outputs": [],
   "source": [
    "TEST_FILENAMES = [\n",
    "    \"test_kf_0523.csv\",\n",
    "    \"test_kf_0525.csv\",\n",
    "    \"test_kf_0527.csv\",\n",
    "    \"test_yokoo_0527.csv\",\n",
    "    \"test_camaro_0525.csv\",\n",
    "#     \"test_kf_0531.csv\",\n",
    "#     \"test_yokoo_0602.csv\",\n",
    "#     \"test_camaro_0531.csv\",\n",
    "]\n",
    "KF_MODELS = [\n",
    "    \"1109_vtnt_bert_512-1024-denoise-5\",\n",
    "    \"1113_swin_large_bert_384\",\n",
    "    \"1124_swin_large_bert_384_pil_pseudo\",\n",
    "    \"1126_swin_large_bert_384_pil_pseudo_no-denoise\",\n",
    "    \"1127_vtnt_bert_512-1024_pseudo_no-denoise\",\n",
    "]\n",
    "KF_TEST_CSVs = [\n",
    "    f\"gs://kfujikawa-kaggle-bms-molecular-generation/kfujikawa/{model}/kf-bms-candidates-v2/{filename}\"\n",
    "    for model in KF_MODELS\n",
    "    for filename in TEST_FILENAMES\n",
    "]"
   ]
  },
  {
   "cell_type": "code",
   "execution_count": 6,
   "metadata": {},
   "outputs": [],
   "source": [
    "LYAKAAP_TEST_CSVs = \"\"\"\n",
    "gs://kfujikawa-kaggle-bms-molecular-generation/yokoo/v52/test_yokoo_0527.csv\n",
    "gs://kfujikawa-kaggle-bms-molecular-generation/yokoo/v52/test_kf_0523.csv\n",
    "gs://kfujikawa-kaggle-bms-molecular-generation/yokoo/v52/test_kf_0525.csv\n",
    "gs://kfujikawa-kaggle-bms-molecular-generation/yokoo/v52/test_kf_0527.csv\n",
    "gs://kfujikawa-kaggle-bms-molecular-generation/yokoo/v52/test_camaro_0525.csv\n",
    "gs://kfujikawa-kaggle-bms-molecular-generation/yokoo/v54/test_yokoo_0527.csv\n",
    "gs://kfujikawa-kaggle-bms-molecular-generation/yokoo/v54/test_kf_0523.csv\n",
    "gs://kfujikawa-kaggle-bms-molecular-generation/yokoo/v54/test_kf_0525.csv\n",
    "gs://kfujikawa-kaggle-bms-molecular-generation/yokoo/v54/test_kf_0527.csv\n",
    "gs://kfujikawa-kaggle-bms-molecular-generation/yokoo/v54/test_camaro_0525.csv\n",
    "gs://kfujikawa-kaggle-bms-molecular-generation/yokoo/v55/test_yokoo_0527.csv\n",
    "gs://kfujikawa-kaggle-bms-molecular-generation/yokoo/v55/test_kf_0523.csv\n",
    "gs://kfujikawa-kaggle-bms-molecular-generation/yokoo/v55/test_kf_0525.csv\n",
    "gs://kfujikawa-kaggle-bms-molecular-generation/yokoo/v55/test_kf_0527.csv\n",
    "gs://kfujikawa-kaggle-bms-molecular-generation/yokoo/v55/test_camaro_0525.csv\n",
    "\"\"\".strip().split()"
   ]
  },
  {
   "cell_type": "code",
   "execution_count": 7,
   "metadata": {},
   "outputs": [],
   "source": [
    "KYAKAAP_TEST_CSVs = [*KF_TEST_CSVs, *LYAKAAP_TEST_CSVs]"
   ]
  },
  {
   "cell_type": "code",
   "execution_count": 8,
   "metadata": {},
   "outputs": [
    {
     "data": {
      "application/vnd.jupyter.widget-view+json": {
       "model_id": "a7d8bde4f0a246f3ba5802a707b572bf",
       "version_major": 2,
       "version_minor": 0
      },
      "text/plain": [
       "HBox(children=(HTML(value=''), FloatProgress(value=0.0, max=40.0), HTML(value='')))"
      ]
     },
     "metadata": {},
     "output_type": "display_data"
    },
    {
     "name": "stdout",
     "output_type": "stream",
     "text": [
      "\n"
     ]
    },
    {
     "data": {
      "text/html": [
       "<div>\n",
       "<style scoped>\n",
       "    .dataframe tbody tr th:only-of-type {\n",
       "        vertical-align: middle;\n",
       "    }\n",
       "\n",
       "    .dataframe tbody tr th {\n",
       "        vertical-align: top;\n",
       "    }\n",
       "\n",
       "    .dataframe thead th {\n",
       "        text-align: right;\n",
       "    }\n",
       "</style>\n",
       "<table border=\"1\" class=\"dataframe\">\n",
       "  <thead>\n",
       "    <tr style=\"text-align: right;\">\n",
       "      <th></th>\n",
       "      <th>image_id</th>\n",
       "      <th>InChI</th>\n",
       "      <th>levenshtein</th>\n",
       "      <th>is_valid</th>\n",
       "      <th>normed_score</th>\n",
       "      <th>model</th>\n",
       "      <th>filename</th>\n",
       "      <th>ce_score</th>\n",
       "      <th>focal_score</th>\n",
       "    </tr>\n",
       "  </thead>\n",
       "  <tbody>\n",
       "    <tr>\n",
       "      <th>0</th>\n",
       "      <td>007706c43e8d</td>\n",
       "      <td>InChI=1S/C16H32O6/c1-5-17-11-13-21-9-3-7-19-15...</td>\n",
       "      <td>NaN</td>\n",
       "      <td>False</td>\n",
       "      <td>0.192261</td>\n",
       "      <td>1113_swin_large_bert_384</td>\n",
       "      <td>test_yokoo_0527.csv</td>\n",
       "      <td>NaN</td>\n",
       "      <td>NaN</td>\n",
       "    </tr>\n",
       "  </tbody>\n",
       "</table>\n",
       "</div>"
      ],
      "text/plain": [
       "       image_id                                              InChI  \\\n",
       "0  007706c43e8d  InChI=1S/C16H32O6/c1-5-17-11-13-21-9-3-7-19-15...   \n",
       "\n",
       "   levenshtein  is_valid  normed_score                     model  \\\n",
       "0          NaN     False      0.192261  1113_swin_large_bert_384   \n",
       "\n",
       "              filename  ce_score  focal_score  \n",
       "0  test_yokoo_0527.csv       NaN          NaN  "
      ]
     },
     "metadata": {},
     "output_type": "display_data"
    },
    {
     "data": {
      "text/plain": [
       "model\n",
       "1109_vtnt_bert_512-1024-denoise-5                 5004678\n",
       "1113_swin_large_bert_384                          5004678\n",
       "1124_swin_large_bert_384_pil_pseudo               5004678\n",
       "1126_swin_large_bert_384_pil_pseudo_no-denoise    5004678\n",
       "1127_vtnt_bert_512-1024_pseudo_no-denoise         5004678\n",
       "v52                                               5004678\n",
       "v54                                               5004678\n",
       "v55                                               5004678\n",
       "Name: image_id, dtype: int64"
      ]
     },
     "metadata": {},
     "output_type": "display_data"
    }
   ],
   "source": [
    "with mp.Pool() as pool:\n",
    "    total = len(KYAKAAP_TEST_CSVs) \n",
    "    iterator = pool.imap_unordered(load_prediction, KYAKAAP_TEST_CSVs)\n",
    "    kyakaap_df = pd.concat(list(tqdm(iterator, total=total)), ignore_index=True)\n",
    "kyakaap_df = kyakaap_df.drop_duplicates(subset=[\"model\", \"image_id\", \"InChI\"])\n",
    "display(kyakaap_df.head(1))\n",
    "display(kyakaap_df.groupby(\"model\").image_id.count())"
   ]
  },
  {
   "cell_type": "code",
   "execution_count": 9,
   "metadata": {},
   "outputs": [],
   "source": [
    "weights = {\n",
    "    '1109_vtnt_bert_512-1024-denoise-5': 1/5,\n",
    "    '1113_swin_large_bert_384': 1/5,\n",
    "    '1124_swin_large_bert_384_pil_pseudo': 1/5,\n",
    "    '1126_swin_large_bert_384_pil_pseudo_no-denoise': 1/5,\n",
    "    '1127_vtnt_bert_512-1024_pseudo_no-denoise': 1/5,\n",
    "    'v52': 1/3,\n",
    "    'v54': 1/3,\n",
    "    'v55': 1/3,\n",
    "}\n",
    "kyakaap_df[\"weight\"] = kyakaap_df.model.map(weights)\n",
    "kyakaap_df[\"score\"] = np.where(\n",
    "    kyakaap_df.normed_score.isna(),\n",
    "    kyakaap_df.ce_score,\n",
    "    kyakaap_df.normed_score,\n",
    ")\n",
    "kyakaap_df[\"ranked_score\"] = kyakaap_df.groupby(\"model\").score.rank() / len(kyakaap_df)\n",
    "kyakaap_df[\"weighted_score\"] = kyakaap_df.ranked_score * kyakaap_df.weight"
   ]
  },
  {
   "cell_type": "code",
   "execution_count": 10,
   "metadata": {},
   "outputs": [
    {
     "data": {
      "text/html": [
       "<div>\n",
       "<style scoped>\n",
       "    .dataframe tbody tr th:only-of-type {\n",
       "        vertical-align: middle;\n",
       "    }\n",
       "\n",
       "    .dataframe tbody tr th {\n",
       "        vertical-align: top;\n",
       "    }\n",
       "\n",
       "    .dataframe thead th {\n",
       "        text-align: right;\n",
       "    }\n",
       "</style>\n",
       "<table border=\"1\" class=\"dataframe\">\n",
       "  <thead>\n",
       "    <tr style=\"text-align: right;\">\n",
       "      <th>filename</th>\n",
       "      <th>test_camaro_0525.csv</th>\n",
       "      <th>test_kf_0523.csv</th>\n",
       "      <th>test_kf_0525.csv</th>\n",
       "      <th>test_kf_0527.csv</th>\n",
       "      <th>test_yokoo_0527.csv</th>\n",
       "    </tr>\n",
       "    <tr>\n",
       "      <th>model</th>\n",
       "      <th></th>\n",
       "      <th></th>\n",
       "      <th></th>\n",
       "      <th></th>\n",
       "      <th></th>\n",
       "    </tr>\n",
       "  </thead>\n",
       "  <tbody>\n",
       "    <tr>\n",
       "      <th>1109_vtnt_bert_512-1024-denoise-5</th>\n",
       "      <td>0.197481</td>\n",
       "      <td>0.073668</td>\n",
       "      <td>0.175081</td>\n",
       "      <td>0.167860</td>\n",
       "      <td>0.158916</td>\n",
       "    </tr>\n",
       "    <tr>\n",
       "      <th>1113_swin_large_bert_384</th>\n",
       "      <td>0.221747</td>\n",
       "      <td>0.080153</td>\n",
       "      <td>0.200235</td>\n",
       "      <td>0.189660</td>\n",
       "      <td>0.136249</td>\n",
       "    </tr>\n",
       "    <tr>\n",
       "      <th>1124_swin_large_bert_384_pil_pseudo</th>\n",
       "      <td>0.224591</td>\n",
       "      <td>0.083460</td>\n",
       "      <td>0.210325</td>\n",
       "      <td>0.198847</td>\n",
       "      <td>0.136406</td>\n",
       "    </tr>\n",
       "    <tr>\n",
       "      <th>1126_swin_large_bert_384_pil_pseudo_no-denoise</th>\n",
       "      <td>0.231299</td>\n",
       "      <td>0.084719</td>\n",
       "      <td>0.210902</td>\n",
       "      <td>0.199759</td>\n",
       "      <td>0.134062</td>\n",
       "    </tr>\n",
       "    <tr>\n",
       "      <th>1127_vtnt_bert_512-1024_pseudo_no-denoise</th>\n",
       "      <td>0.210365</td>\n",
       "      <td>0.076833</td>\n",
       "      <td>0.183951</td>\n",
       "      <td>0.177085</td>\n",
       "      <td>0.162910</td>\n",
       "    </tr>\n",
       "    <tr>\n",
       "      <th>v52</th>\n",
       "      <td>0.215945</td>\n",
       "      <td>0.086040</td>\n",
       "      <td>0.226494</td>\n",
       "      <td>0.211242</td>\n",
       "      <td>0.035460</td>\n",
       "    </tr>\n",
       "    <tr>\n",
       "      <th>v54</th>\n",
       "      <td>0.236781</td>\n",
       "      <td>0.110063</td>\n",
       "      <td>0.252607</td>\n",
       "      <td>0.247524</td>\n",
       "      <td>0.154959</td>\n",
       "    </tr>\n",
       "    <tr>\n",
       "      <th>v55</th>\n",
       "      <td>0.211917</td>\n",
       "      <td>0.079420</td>\n",
       "      <td>0.209060</td>\n",
       "      <td>0.197351</td>\n",
       "      <td>0.049787</td>\n",
       "    </tr>\n",
       "  </tbody>\n",
       "</table>\n",
       "</div>"
      ],
      "text/plain": [
       "filename                                        test_camaro_0525.csv  \\\n",
       "model                                                                  \n",
       "1109_vtnt_bert_512-1024-denoise-5                           0.197481   \n",
       "1113_swin_large_bert_384                                    0.221747   \n",
       "1124_swin_large_bert_384_pil_pseudo                         0.224591   \n",
       "1126_swin_large_bert_384_pil_pseudo_no-denoise              0.231299   \n",
       "1127_vtnt_bert_512-1024_pseudo_no-denoise                   0.210365   \n",
       "v52                                                         0.215945   \n",
       "v54                                                         0.236781   \n",
       "v55                                                         0.211917   \n",
       "\n",
       "filename                                        test_kf_0523.csv  \\\n",
       "model                                                              \n",
       "1109_vtnt_bert_512-1024-denoise-5                       0.073668   \n",
       "1113_swin_large_bert_384                                0.080153   \n",
       "1124_swin_large_bert_384_pil_pseudo                     0.083460   \n",
       "1126_swin_large_bert_384_pil_pseudo_no-denoise          0.084719   \n",
       "1127_vtnt_bert_512-1024_pseudo_no-denoise               0.076833   \n",
       "v52                                                     0.086040   \n",
       "v54                                                     0.110063   \n",
       "v55                                                     0.079420   \n",
       "\n",
       "filename                                        test_kf_0525.csv  \\\n",
       "model                                                              \n",
       "1109_vtnt_bert_512-1024-denoise-5                       0.175081   \n",
       "1113_swin_large_bert_384                                0.200235   \n",
       "1124_swin_large_bert_384_pil_pseudo                     0.210325   \n",
       "1126_swin_large_bert_384_pil_pseudo_no-denoise          0.210902   \n",
       "1127_vtnt_bert_512-1024_pseudo_no-denoise               0.183951   \n",
       "v52                                                     0.226494   \n",
       "v54                                                     0.252607   \n",
       "v55                                                     0.209060   \n",
       "\n",
       "filename                                        test_kf_0527.csv  \\\n",
       "model                                                              \n",
       "1109_vtnt_bert_512-1024-denoise-5                       0.167860   \n",
       "1113_swin_large_bert_384                                0.189660   \n",
       "1124_swin_large_bert_384_pil_pseudo                     0.198847   \n",
       "1126_swin_large_bert_384_pil_pseudo_no-denoise          0.199759   \n",
       "1127_vtnt_bert_512-1024_pseudo_no-denoise               0.177085   \n",
       "v52                                                     0.211242   \n",
       "v54                                                     0.247524   \n",
       "v55                                                     0.197351   \n",
       "\n",
       "filename                                        test_yokoo_0527.csv  \n",
       "model                                                                \n",
       "1109_vtnt_bert_512-1024-denoise-5                          0.158916  \n",
       "1113_swin_large_bert_384                                   0.136249  \n",
       "1124_swin_large_bert_384_pil_pseudo                        0.136406  \n",
       "1126_swin_large_bert_384_pil_pseudo_no-denoise             0.134062  \n",
       "1127_vtnt_bert_512-1024_pseudo_no-denoise                  0.162910  \n",
       "v52                                                        0.035460  \n",
       "v54                                                        0.154959  \n",
       "v55                                                        0.049787  "
      ]
     },
     "execution_count": 10,
     "metadata": {},
     "output_type": "execute_result"
    }
   ],
   "source": [
    "pd.pivot_table(\n",
    "    kyakaap_df.groupby(['model', 'filename'])['score'].mean().to_frame(),\n",
    "    index='model',\n",
    "    columns='filename',\n",
    "    values='score',\n",
    ")"
   ]
  },
  {
   "cell_type": "markdown",
   "metadata": {},
   "source": [
    "# Camaro"
   ]
  },
  {
   "cell_type": "code",
   "execution_count": 11,
   "metadata": {},
   "outputs": [],
   "source": [
    "CAMARO_TEST_CSVs = \"\"\"\n",
    "gs://kfujikawa-kaggle-bms-molecular-generation/camaro/exp084/test_kf_0523.csv\n",
    "gs://kfujikawa-kaggle-bms-molecular-generation/camaro/exp084/test_kf_0525.csv\n",
    "gs://kfujikawa-kaggle-bms-molecular-generation/camaro/exp084/test_kf_0527.csv\n",
    "gs://kfujikawa-kaggle-bms-molecular-generation/camaro/exp084/test_yokoo_0527.csv\n",
    "gs://kfujikawa-kaggle-bms-molecular-generation/camaro/exp090/test_kf_0523.csv\n",
    "gs://kfujikawa-kaggle-bms-molecular-generation/camaro/exp090/test_kf_0525.csv\n",
    "gs://kfujikawa-kaggle-bms-molecular-generation/camaro/exp090/test_kf_0527.csv\n",
    "gs://kfujikawa-kaggle-bms-molecular-generation/camaro/exp090/test_yokoo_0527.csv\n",
    "gs://kfujikawa-kaggle-bms-molecular-generation/camaro/exp0845_v2/test_kf_0523.csv\n",
    "gs://kfujikawa-kaggle-bms-molecular-generation/camaro/exp0845_v2/test_kf_0525.csv\n",
    "gs://kfujikawa-kaggle-bms-molecular-generation/camaro/exp0845_v2/test_kf_0527.csv\n",
    "gs://kfujikawa-kaggle-bms-molecular-generation/camaro/exp0845_v2/test_yokoo_0527.csv\n",
    "gs://kfujikawa-kaggle-bms-molecular-generation/camaro/exp103_v2/test_kf_0523.csv\n",
    "gs://kfujikawa-kaggle-bms-molecular-generation/camaro/exp103_v2/test_kf_0525.csv\n",
    "gs://kfujikawa-kaggle-bms-molecular-generation/camaro/exp103_v2/test_kf_0527.csv\n",
    "gs://kfujikawa-kaggle-bms-molecular-generation/camaro/exp103_v2/test_yokoo_0527.csv\n",
    "gs://kfujikawa-kaggle-bms-molecular-generation/camaro/exp1031_v2/test_kf_0523.csv\n",
    "gs://kfujikawa-kaggle-bms-molecular-generation/camaro/exp1031_v2/test_kf_0525.csv\n",
    "gs://kfujikawa-kaggle-bms-molecular-generation/camaro/exp1031_v2/test_kf_0527.csv\n",
    "gs://kfujikawa-kaggle-bms-molecular-generation/camaro/exp1031_v2/test_yokoo_0527.csv\n",
    "\"\"\".strip().split()"
   ]
  },
  {
   "cell_type": "code",
   "execution_count": 12,
   "metadata": {},
   "outputs": [
    {
     "data": {
      "application/vnd.jupyter.widget-view+json": {
       "model_id": "79d8a7ce49814396a8ecdc1c591eb97c",
       "version_major": 2,
       "version_minor": 0
      },
      "text/plain": [
       "HBox(children=(HTML(value=''), FloatProgress(value=0.0, max=20.0), HTML(value='')))"
      ]
     },
     "metadata": {},
     "output_type": "display_data"
    },
    {
     "name": "stdout",
     "output_type": "stream",
     "text": [
      "\n"
     ]
    },
    {
     "data": {
      "text/html": [
       "<div>\n",
       "<style scoped>\n",
       "    .dataframe tbody tr th:only-of-type {\n",
       "        vertical-align: middle;\n",
       "    }\n",
       "\n",
       "    .dataframe tbody tr th {\n",
       "        vertical-align: top;\n",
       "    }\n",
       "\n",
       "    .dataframe thead th {\n",
       "        text-align: right;\n",
       "    }\n",
       "</style>\n",
       "<table border=\"1\" class=\"dataframe\">\n",
       "  <thead>\n",
       "    <tr style=\"text-align: right;\">\n",
       "      <th></th>\n",
       "      <th>image_id</th>\n",
       "      <th>InChI</th>\n",
       "      <th>levenshtein</th>\n",
       "      <th>is_valid</th>\n",
       "      <th>focal_score</th>\n",
       "      <th>ce_score</th>\n",
       "      <th>model</th>\n",
       "      <th>filename</th>\n",
       "    </tr>\n",
       "  </thead>\n",
       "  <tbody>\n",
       "    <tr>\n",
       "      <th>0</th>\n",
       "      <td>001ae62e2309</td>\n",
       "      <td>InChI=1S/C11H11BrO4/c12-7-3-4-5(9(13)14)6-8(7)...</td>\n",
       "      <td>NaN</td>\n",
       "      <td>False</td>\n",
       "      <td>0.155131</td>\n",
       "      <td>0.587556</td>\n",
       "      <td>exp103_v2</td>\n",
       "      <td>test_yokoo_0527.csv</td>\n",
       "    </tr>\n",
       "  </tbody>\n",
       "</table>\n",
       "</div>"
      ],
      "text/plain": [
       "       image_id                                              InChI  \\\n",
       "0  001ae62e2309  InChI=1S/C11H11BrO4/c12-7-3-4-5(9(13)14)6-8(7)...   \n",
       "\n",
       "   levenshtein  is_valid  focal_score  ce_score      model  \\\n",
       "0          NaN     False     0.155131  0.587556  exp103_v2   \n",
       "\n",
       "              filename  \n",
       "0  test_yokoo_0527.csv  "
      ]
     },
     "metadata": {},
     "output_type": "display_data"
    },
    {
     "data": {
      "text/plain": [
       "model\n",
       "exp084        4973760\n",
       "exp0845_v2    4973760\n",
       "exp090        4973760\n",
       "exp1031_v2    4973760\n",
       "exp103_v2     4973760\n",
       "Name: image_id, dtype: int64"
      ]
     },
     "metadata": {},
     "output_type": "display_data"
    }
   ],
   "source": [
    "with mp.Pool() as pool:\n",
    "    total = len(CAMARO_TEST_CSVs) \n",
    "    iterator = pool.imap_unordered(load_prediction, CAMARO_TEST_CSVs)\n",
    "    camaro_df = pd.concat(list(tqdm(iterator, total=total)), ignore_index=True)\n",
    "camaro_df = camaro_df.drop_duplicates(subset=[\"model\", \"image_id\", \"InChI\"])\n",
    "display(camaro_df.head(1))\n",
    "display(camaro_df.groupby(\"model\").image_id.count())"
   ]
  },
  {
   "cell_type": "code",
   "execution_count": 13,
   "metadata": {},
   "outputs": [
    {
     "data": {
      "text/html": [
       "<div>\n",
       "<style scoped>\n",
       "    .dataframe tbody tr th:only-of-type {\n",
       "        vertical-align: middle;\n",
       "    }\n",
       "\n",
       "    .dataframe tbody tr th {\n",
       "        vertical-align: top;\n",
       "    }\n",
       "\n",
       "    .dataframe thead th {\n",
       "        text-align: right;\n",
       "    }\n",
       "</style>\n",
       "<table border=\"1\" class=\"dataframe\">\n",
       "  <thead>\n",
       "    <tr style=\"text-align: right;\">\n",
       "      <th>filename</th>\n",
       "      <th>test_kf_0523.csv</th>\n",
       "      <th>test_kf_0525.csv</th>\n",
       "      <th>test_kf_0527.csv</th>\n",
       "      <th>test_yokoo_0527.csv</th>\n",
       "    </tr>\n",
       "    <tr>\n",
       "      <th>model</th>\n",
       "      <th></th>\n",
       "      <th></th>\n",
       "      <th></th>\n",
       "      <th></th>\n",
       "    </tr>\n",
       "  </thead>\n",
       "  <tbody>\n",
       "    <tr>\n",
       "      <th>exp084</th>\n",
       "      <td>0.048423</td>\n",
       "      <td>0.107337</td>\n",
       "      <td>0.103948</td>\n",
       "      <td>0.062715</td>\n",
       "    </tr>\n",
       "    <tr>\n",
       "      <th>exp0845_v2</th>\n",
       "      <td>0.045832</td>\n",
       "      <td>0.098376</td>\n",
       "      <td>0.097883</td>\n",
       "      <td>0.044047</td>\n",
       "    </tr>\n",
       "    <tr>\n",
       "      <th>exp090</th>\n",
       "      <td>0.073220</td>\n",
       "      <td>0.163229</td>\n",
       "      <td>0.160085</td>\n",
       "      <td>0.076082</td>\n",
       "    </tr>\n",
       "    <tr>\n",
       "      <th>exp1031_v2</th>\n",
       "      <td>0.037167</td>\n",
       "      <td>0.083149</td>\n",
       "      <td>0.078719</td>\n",
       "      <td>0.060346</td>\n",
       "    </tr>\n",
       "    <tr>\n",
       "      <th>exp103_v2</th>\n",
       "      <td>0.042365</td>\n",
       "      <td>0.092994</td>\n",
       "      <td>0.089489</td>\n",
       "      <td>0.064500</td>\n",
       "    </tr>\n",
       "  </tbody>\n",
       "</table>\n",
       "</div>"
      ],
      "text/plain": [
       "filename    test_kf_0523.csv  test_kf_0525.csv  test_kf_0527.csv  \\\n",
       "model                                                              \n",
       "exp084              0.048423          0.107337          0.103948   \n",
       "exp0845_v2          0.045832          0.098376          0.097883   \n",
       "exp090              0.073220          0.163229          0.160085   \n",
       "exp1031_v2          0.037167          0.083149          0.078719   \n",
       "exp103_v2           0.042365          0.092994          0.089489   \n",
       "\n",
       "filename    test_yokoo_0527.csv  \n",
       "model                            \n",
       "exp084                 0.062715  \n",
       "exp0845_v2             0.044047  \n",
       "exp090                 0.076082  \n",
       "exp1031_v2             0.060346  \n",
       "exp103_v2              0.064500  "
      ]
     },
     "execution_count": 13,
     "metadata": {},
     "output_type": "execute_result"
    }
   ],
   "source": [
    "pd.pivot_table(\n",
    "    camaro_df.groupby(['model', 'filename'])['focal_score'].mean().to_frame(),\n",
    "    index='model',\n",
    "    columns='filename',\n",
    "    values='focal_score',\n",
    ")"
   ]
  },
  {
   "cell_type": "code",
   "execution_count": 26,
   "metadata": {},
   "outputs": [
    {
     "data": {
      "text/plain": [
       "1"
      ]
     },
     "execution_count": 26,
     "metadata": {},
     "output_type": "execute_result"
    }
   ],
   "source": [
    "camaro_len = camaro_df.groupby(\"model\").image_id.transform(\"count\")\n",
    "camaro_len.nunique()"
   ]
  },
  {
   "cell_type": "code",
   "execution_count": 40,
   "metadata": {},
   "outputs": [],
   "source": [
    "weights = {\n",
    "    'exp084': 1/5,\n",
    "    'exp0845_v2': 1/5,\n",
    "    'exp090': 1/5,\n",
    "    'exp1031_v2': 1/5,\n",
    "    'exp103_v2': 1/5,\n",
    "}\n",
    "camaro_df[\"weight\"] = camaro_df.model.map(weights)\n",
    "camaro_df[\"ranked_score\"] = camaro_df.groupby(\"model\").focal_score.rank() / camaro_len\n",
    "camaro_df[\"weighted_score\"] = camaro_df.ranked_score * camaro_df.weight"
   ]
  },
  {
   "cell_type": "code",
   "execution_count": 36,
   "metadata": {},
   "outputs": [],
   "source": [
    "sort_keys = dict(\n",
    "    image_id=True,\n",
    "    is_valid=False,\n",
    "    weighted_score=True,\n",
    ")\n",
    "kyakaap_ensembled_df = kyakaap_df.groupby([\"image_id\", \"InChI\"])[[\"weighted_score\", \"is_valid\"]].mean().reset_index()\n",
    "kyakaap_ensembled_df = kyakaap_ensembled_df.sort_values(\n",
    "    by=list(sort_keys.keys()),\n",
    "    ascending=list(sort_keys.values()),\n",
    ").groupby(\"image_id\").first().reset_index()"
   ]
  },
  {
   "cell_type": "code",
   "execution_count": 37,
   "metadata": {},
   "outputs": [
    {
     "data": {
      "application/vnd.jupyter.widget-view+json": {
       "model_id": "ff94c33623ef4cde82fb0652b1894985",
       "version_major": 2,
       "version_minor": 0
      },
      "text/plain": [
       "HBox(children=(HTML(value=''), FloatProgress(value=0.0, max=1616107.0), HTML(value='')))"
      ]
     },
     "metadata": {},
     "output_type": "display_data"
    },
    {
     "name": "stdout",
     "output_type": "stream",
     "text": [
      "\n",
      "(120763, 6)\n",
      "0.21392642937627274\n"
     ]
    }
   ],
   "source": [
    "kyakaap_merged_ensembled_df = kyakaap_ensembled_df.merge(baseline_056_df, on=\"image_id\")\n",
    "kyakaap_merged_ensembled_df[\"levenshtein\"] = [\n",
    "    Levenshtein.distance(x, y)\n",
    "    for x, y in tqdm(kyakaap_merged_ensembled_df[[\"InChI_x\", \"InChI_y\"]].values)\n",
    "]\n",
    "print(kyakaap_merged_ensembled_df.query(\"InChI_x != InChI_y\").shape)\n",
    "print(kyakaap_merged_ensembled_df.levenshtein.mean())"
   ]
  },
  {
   "cell_type": "code",
   "execution_count": 38,
   "metadata": {},
   "outputs": [],
   "source": [
    "sort_keys = dict(\n",
    "    image_id=True,\n",
    "    is_valid=False,\n",
    "    weighted_score=True,\n",
    ")\n",
    "camaro_ensembled_df = camaro_df.groupby([\"image_id\", \"InChI\"])[[\"weighted_score\", \"is_valid\"]].mean().reset_index()\n",
    "camaro_ensembled_df = camaro_ensembled_df.sort_values(\n",
    "    by=list(sort_keys.keys()),\n",
    "    ascending=list(sort_keys.values()),\n",
    ").groupby(\"image_id\").first().reset_index()"
   ]
  },
  {
   "cell_type": "code",
   "execution_count": 39,
   "metadata": {},
   "outputs": [
    {
     "data": {
      "application/vnd.jupyter.widget-view+json": {
       "model_id": "6876d96a22d044f6819cb2daaf17f8b5",
       "version_major": 2,
       "version_minor": 0
      },
      "text/plain": [
       "HBox(children=(HTML(value=''), FloatProgress(value=0.0, max=1615331.0), HTML(value='')))"
      ]
     },
     "metadata": {},
     "output_type": "display_data"
    },
    {
     "name": "stdout",
     "output_type": "stream",
     "text": [
      "\n",
      "(28180, 6)\n",
      "0.14104601471772657\n"
     ]
    }
   ],
   "source": [
    "camaro_merged_ensembled_df = camaro_ensembled_df.merge(baseline_056_df, on=\"image_id\")\n",
    "camaro_merged_ensembled_df[\"levenshtein\"] = [\n",
    "    Levenshtein.distance(x, y)\n",
    "    for x, y in tqdm(camaro_merged_ensembled_df[[\"InChI_x\", \"InChI_y\"]].values)\n",
    "]\n",
    "print(camaro_merged_ensembled_df.query(\"InChI_x != InChI_y\").shape)\n",
    "print(camaro_merged_ensembled_df.levenshtein.mean())"
   ]
  },
  {
   "cell_type": "markdown",
   "metadata": {},
   "source": [
    "# アンサンブル"
   ]
  },
  {
   "cell_type": "code",
   "execution_count": 41,
   "metadata": {},
   "outputs": [],
   "source": [
    "sort_keys = dict(\n",
    "    image_id=True,\n",
    "    is_valid=False,\n",
    "    weighted_score=True,\n",
    ")\n",
    "merged_df = pd.concat([\n",
    "    camaro_df,\n",
    "    kyakaap_df,\n",
    "], ignore_index=True)\n",
    "merged_ensembled_df = merged_df.groupby([\"image_id\", \"InChI\"])[[\"weighted_score\", \"is_valid\"]].mean().reset_index()\n",
    "merged_ensembled_df = merged_ensembled_df.sort_values(\n",
    "    by=list(sort_keys.keys()),\n",
    "    ascending=list(sort_keys.values()),\n",
    ").groupby(\"image_id\").first().reset_index()"
   ]
  },
  {
   "cell_type": "code",
   "execution_count": 42,
   "metadata": {},
   "outputs": [
    {
     "name": "stdout",
     "output_type": "stream",
     "text": [
      "image_id,InChI\n",
      "00000d2a601c,\"InChI=1S/C10H14BrN5S/c1-6-10(11)9(16(3)14-6)4-7(12-2)8-5-13-17-15-8/h5,7,12H,4H2,1-3H3\"\n",
      "00001f7fc849,\"InChI=1S/C14H18ClN3/c1-2-7-16-9-13-10-17-14(18-13)8-11-3-5-12(15)6-4-11/h3-6,10,16H,2,7-9H2,1H3,(H,17,18)\"\n",
      "000037687605,\"InChI=1S/C16H13BrN2O/c1-11(20)12-6-7-13(9-18)16(8-12)19-10-14-4-2-3-5-15(14)17/h2-8,19H,10H2,1H3\"\n",
      "00004b6d55b6,\"InChI=1S/C14H19FN4O/c1-14(2,3)12-13(16)17-18-19(12)8-9-5-6-10(20-4)7-11(9)15/h5-7H,8,16H2,1-4H3\"\n",
      "00004df0fe53,\"InChI=1S/C9H12O2/c1-4-5-2-6-7(3-5)11-9(10)8(4)6/h4-8H,2-3H2,1H3/t4-,5-,6-,7-,8+/m1/s1\"\n",
      "000085dab281,\"InChI=1S/C20H38O/c1-20(2)18-16-14-12-10-8-6-4-3-5-7-9-11-13-15-17-19-21/h17,20H,3-16,18H2,1-2H3\"\n",
      "00008decfc8d,\"InChI=1S/C15H26N2/c1-5-10-16-15(11-12(3)6-2)14-9-7-8-13(4)17-14/h7-9,12,15-16H,5-6,10-11H2,1-4H3\"\n",
      "00008e8fe68c,\"InChI=1S/C22H25Cl2N3O6/c1-6-32-20-13(23)8-9-14(21(20)33-7-2)26-27-18(12(3)28)22(29)25-19-16(31-5)11-10-15(30-4)17(19)24/h8-11,18H,6-7H2,1-5H3,(H,25,29)\"\n",
      "000095714f0f,\"InChI=1S/C25H30ClN3O2/c1-17-4-9-23(12-24(17)26)27-10-3-11-28-13-21-15-29(16-22(21)14-28)25(31)20-7-5-19(6-8-20)18(2)30/h4-9,12,21-22,27H,3,10-11,13-16H2,1-2H3\"\n"
     ]
    }
   ],
   "source": [
    "filename = \"submission_0710_LB056+full_ranked.csv\"\n",
    "submission_df = merged_ensembled_df[[\"image_id\", \"InChI\"]]\n",
    "assert len(submission_df) == 1616107\n",
    "submission_df.to_csv(filename, index=False)\n",
    "!head $filename"
   ]
  },
  {
   "cell_type": "code",
   "execution_count": 43,
   "metadata": {},
   "outputs": [
    {
     "data": {
      "application/vnd.jupyter.widget-view+json": {
       "model_id": "c0e93350e6c94c5faced12169d433df5",
       "version_major": 2,
       "version_minor": 0
      },
      "text/plain": [
       "HBox(children=(HTML(value=''), FloatProgress(value=0.0, max=1616107.0), HTML(value='')))"
      ]
     },
     "metadata": {},
     "output_type": "display_data"
    },
    {
     "name": "stdout",
     "output_type": "stream",
     "text": [
      "\n",
      "(56358, 4)\n",
      "0.3337817359865405\n"
     ]
    }
   ],
   "source": [
    "submission_merged_df = submission_df.merge(baseline_059_df, on=\"image_id\")\n",
    "submission_merged_df[\"levenshtein\"] = [\n",
    "    Levenshtein.distance(x, y)\n",
    "    for x, y in tqdm(submission_merged_df[[\"InChI_x\", \"InChI_y\"]].values)\n",
    "]\n",
    "print(submission_merged_df.query(\"InChI_x != InChI_y\").shape)\n",
    "print(submission_merged_df.levenshtein.mean())"
   ]
  },
  {
   "cell_type": "code",
   "execution_count": 44,
   "metadata": {},
   "outputs": [
    {
     "data": {
      "application/vnd.jupyter.widget-view+json": {
       "model_id": "28503eadaaa24ea49ab40789243f6270",
       "version_major": 2,
       "version_minor": 0
      },
      "text/plain": [
       "HBox(children=(HTML(value=''), FloatProgress(value=0.0, max=1616107.0), HTML(value='')))"
      ]
     },
     "metadata": {},
     "output_type": "display_data"
    },
    {
     "name": "stdout",
     "output_type": "stream",
     "text": [
      "\n",
      "(40045, 4)\n",
      "0.3170990534661381\n"
     ]
    }
   ],
   "source": [
    "submission_merged_df = submission_df.merge(baseline_056_df, on=\"image_id\")\n",
    "submission_merged_df[\"levenshtein\"] = [\n",
    "    Levenshtein.distance(x, y)\n",
    "    for x, y in tqdm(submission_merged_df[[\"InChI_x\", \"InChI_y\"]].values)\n",
    "]\n",
    "print(submission_merged_df.query(\"InChI_x != InChI_y\").shape)\n",
    "print(submission_merged_df.levenshtein.mean())"
   ]
  },
  {
   "cell_type": "code",
   "execution_count": null,
   "metadata": {},
   "outputs": [],
   "source": []
  }
 ],
 "metadata": {
  "kernelspec": {
   "display_name": "Python 3",
   "language": "python",
   "name": "python3"
  },
  "language_info": {
   "codemirror_mode": {
    "name": "ipython",
    "version": 3
   },
   "file_extension": ".py",
   "mimetype": "text/x-python",
   "name": "python",
   "nbconvert_exporter": "python",
   "pygments_lexer": "ipython3",
   "version": "3.8.5"
  }
 },
 "nbformat": 4,
 "nbformat_minor": 4
}
