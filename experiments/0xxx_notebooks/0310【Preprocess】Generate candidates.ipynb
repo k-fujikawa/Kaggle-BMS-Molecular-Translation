{
 "cells": [
  {
   "cell_type": "code",
   "execution_count": 1,
   "id": "4977770a-185a-4688-8995-636e41dc7ace",
   "metadata": {},
   "outputs": [],
   "source": [
    "from pathlib import Path\n",
    "\n",
    "import click\n",
    "import numpy as np\n",
    "import pandas as pd\n",
    "import Levenshtein\n",
    "from tqdm.auto import tqdm\n",
    "from loguru import logger"
   ]
  },
  {
   "cell_type": "code",
   "execution_count": 2,
   "id": "41b45232-196d-4589-a8a6-f2effd3c358e",
   "metadata": {},
   "outputs": [],
   "source": [
    "%load_ext autoreload\n",
    "%autoreload 2\n",
    "from nncomp_molecule.preprocessors import normalize_inchi_batch, disable_rdlogger"
   ]
  },
  {
   "cell_type": "code",
   "execution_count": 3,
   "id": "426996b2-98a5-43f8-8ce4-a00f9693c84d",
   "metadata": {},
   "outputs": [],
   "source": [
    "OUTDIR = Path(\"/work/input/kfujikawa/kf-bms-candidates\")"
   ]
  },
  {
   "cell_type": "markdown",
   "id": "058ca3c8-a83e-45ff-9f8c-99d17f025afd",
   "metadata": {},
   "source": [
    "## Load training dataset"
   ]
  },
  {
   "cell_type": "code",
   "execution_count": 4,
   "id": "ff51df51-421f-4b43-bd6d-987e86e3e304",
   "metadata": {},
   "outputs": [],
   "source": [
    "OUT_COLUMNS = [\n",
    "    \"image_id\",\n",
    "    \"InChI\",\n",
    "    \"levenshtein\",\n",
    "    \"is_valid\",\n",
    "]"
   ]
  },
  {
   "cell_type": "code",
   "execution_count": 5,
   "id": "63ecc78a-b932-40d3-91cb-d5488895005a",
   "metadata": {},
   "outputs": [],
   "source": [
    "disable_rdlogger()\n",
    "candidate_ids = set()\n",
    "origin_df = pd.read_pickle(\"/work/input/kfujikawa/bms-preprocess-v2/train.pkl\").set_index(\"image_id\")"
   ]
  },
  {
   "cell_type": "markdown",
   "id": "4cec6158-c44a-4206-8c7c-f059cef6ac25",
   "metadata": {},
   "source": [
    "## base: kf_0523"
   ]
  },
  {
   "cell_type": "code",
   "execution_count": 6,
   "id": "b7339313-b209-4c37-9540-7947e9173140",
   "metadata": {},
   "outputs": [
    {
     "name": "stdout",
     "output_type": "stream",
     "text": [
      "Overwrite? [y/N]: "
     ]
    },
    {
     "name": "stdin",
     "output_type": "stream",
     "text": [
      " n\n"
     ]
    },
    {
     "name": "stderr",
     "output_type": "stream",
     "text": [
      "2021-05-27 22:13:32.563 | INFO     | __main__:<module>:22 - Add candidates: 0 -> 11156854 (+11156854)\n"
     ]
    }
   ],
   "source": [
    "outfile = \"{datatype}_kf_0523.csv\"\n",
    "if not (OUTDIR / outfile.format(datatype=\"test\")).exists() or click.confirm(\"Overwrite?\"):\n",
    "    logger.info(\"Load prediction datasets\")\n",
    "    merged_df = pd.concat([\n",
    "        pd.read_csv(OUTDIR / \"/work/input/kfujikawa/kf-bms-candidates-0523/valid_candidates.csv\").assign(has_label=True),\n",
    "        pd.read_csv(OUTDIR / \"/work/input/kfujikawa/kf-bms-candidates-0523/test_candidates.csv\").assign(has_label=False),\n",
    "    ], ignore_index=True)\n",
    "\n",
    "    merged_df.pop(\"InChI_GT\")\n",
    "    merged_df[\"InChI\"] = merged_df.pop(\"normed_InChI\")\n",
    "    valid_df, test_df = merged_df.query(\"has_label\")[OUT_COLUMNS], merged_df.query(\"~has_label\")[OUT_COLUMNS]\n",
    "    valid_df.to_csv(OUTDIR / outfile.format(datatype=\"valid\"), index=False)\n",
    "    test_df.to_csv(OUTDIR / outfile.format(datatype=\"test\"), index=False)\n",
    "\n",
    "merged_df = pd.concat([\n",
    "    pd.read_csv(OUTDIR / outfile.format(datatype=\"valid\")),\n",
    "    pd.read_csv(OUTDIR / outfile.format(datatype=\"test\")),\n",
    "], ignore_index=True)\n",
    "n_candidates_before = len(candidate_ids)\n",
    "candidate_ids |= set(merged_df.image_id.str.cat(merged_df.InChI))\n",
    "valid_image_ids = merged_df.image_id.unique()\n",
    "logger.info(f\"Add candidates: {n_candidates_before} -> {len(candidate_ids)} (+{len(candidate_ids) - n_candidates_before})\")"
   ]
  },
  {
   "cell_type": "markdown",
   "id": "8f79ff75-24d7-459b-82e2-44bedd3c5136",
   "metadata": {},
   "source": [
    "## camaro_0525"
   ]
  },
  {
   "cell_type": "code",
   "execution_count": 7,
   "id": "f811b414-f82c-496e-b243-2e91ff57acb0",
   "metadata": {},
   "outputs": [
    {
     "name": "stdout",
     "output_type": "stream",
     "text": [
      "Overwrite? [y/N]: "
     ]
    },
    {
     "name": "stdin",
     "output_type": "stream",
     "text": [
      " n\n"
     ]
    },
    {
     "name": "stderr",
     "output_type": "stream",
     "text": [
      "2021-05-27 22:14:51.068 | INFO     | __main__:<module>:46 - Add candidates: 11156854 -> 11322778 (+165924)\n"
     ]
    }
   ],
   "source": [
    "outfile = \"{datatype}_camaro_0525.csv\"\n",
    "if not (OUTDIR / outfile.format(datatype=\"test\")).exists() or click.confirm(\"Overwrite?\"):\n",
    "    logger.info(\"Load prediction datasets\")\n",
    "    merged_df = pd.concat([\n",
    "        pd.read_csv(OUTDIR / \"/work/input/kfujikawa/bms-camaro-predictions/exp084_val_norm_score.csv\").assign(has_label=True),\n",
    "        pd.read_csv(OUTDIR / \"/work/input/kfujikawa/bms-camaro-predictions/exp084_test_norm_score.csv\").assign(has_label=False),\n",
    "    ], ignore_index=True)\n",
    "\n",
    "    # Save valid image ids\n",
    "    logger.info(f\"Save: {OUTDIR / 'shared_valid_image_ids_kf_camaro.csv'}\")\n",
    "    shared_valid_image_ids_kf_camaro_df = pd.DataFrame(\n",
    "        list(set(valid_image_ids) & set(merged_df.query(\"has_label\").image_id)),\n",
    "        columns=[\"image_id\"],\n",
    "    )\n",
    "    shared_valid_image_ids_kf_camaro_df.to_csv(OUTDIR / \"shared_valid_image_ids_kf_camaro.csv\", index=False)\n",
    "\n",
    "    # Filter only new candidates\n",
    "    merged_df[\"candidate_id\"] = merged_df.image_id.str.cat(merged_df.InChI)\n",
    "    merged_df = merged_df.query(\"~candidate_id.isin(@candidate_ids)\").reset_index(drop=True)\n",
    "\n",
    "    # Calc levenshtein\n",
    "    valid_df = merged_df.query(\"has_label\").reset_index(drop=True)\n",
    "    valid_df.loc[valid_df.index, \"InChI_GT\"] = origin_df.loc[valid_df.image_id].InChI.values\n",
    "    merged_df.loc[valid_df.index, \"levenshtein\"] = [\n",
    "        Levenshtein.distance(x, y)\n",
    "        for x, y in tqdm(valid_df[[\"InChI\", \"InChI_GT\"]].values)\n",
    "    ]\n",
    "    \n",
    "    # Calc is_valid\n",
    "    merged_df[\"normed_InChI\"] = normalize_inchi_batch(merged_df.InChI).values\n",
    "    merged_df[\"is_valid\"] = ~merged_df.normed_InChI.isna()\n",
    "\n",
    "    # Save valid & test csvs\n",
    "    valid_df, test_df = merged_df.query(\"has_label\")[OUT_COLUMNS], merged_df.query(\"~has_label\")[OUT_COLUMNS]\n",
    "    logger.info(f\"Save: {OUTDIR / outfile.format(datatype='valid')}\")\n",
    "    valid_df.to_csv(OUTDIR / outfile.format(datatype=\"valid\"), index=False)\n",
    "    logger.info(f\"Save: {OUTDIR / outfile.format(datatype='test')}\")\n",
    "    test_df.to_csv(OUTDIR / outfile.format(datatype=\"test\"), index=False)\n",
    "    \n",
    "merged_df = pd.concat([\n",
    "    pd.read_csv(OUTDIR / outfile.format(datatype=\"valid\")),\n",
    "    pd.read_csv(OUTDIR / outfile.format(datatype=\"test\")),\n",
    "], ignore_index=True)\n",
    "n_candidates_before = len(candidate_ids)\n",
    "candidate_ids |= set(merged_df.image_id.str.cat(merged_df.InChI))\n",
    "logger.info(f\"Add candidates: {n_candidates_before} -> {len(candidate_ids)} (+{len(candidate_ids) - n_candidates_before})\")"
   ]
  },
  {
   "cell_type": "markdown",
   "id": "49be7f21-3150-4955-9f2f-81555c49e9d0",
   "metadata": {},
   "source": [
    "## kf_0525"
   ]
  },
  {
   "cell_type": "code",
   "execution_count": 8,
   "id": "b5608c45-5b7e-48b6-b1f4-b385a9943642",
   "metadata": {},
   "outputs": [
    {
     "name": "stdout",
     "output_type": "stream",
     "text": [
      "Overwrite? [y/N]: "
     ]
    },
    {
     "name": "stdin",
     "output_type": "stream",
     "text": [
      " n\n"
     ]
    },
    {
     "name": "stderr",
     "output_type": "stream",
     "text": [
      "2021-05-27 22:15:06.812 | INFO     | __main__:<module>:30 - Add candidates: 11322778 -> 13147362 (+1824584)\n"
     ]
    }
   ],
   "source": [
    "outfile = \"{datatype}_kf_0525.csv\"\n",
    "if not (OUTDIR / outfile.format(datatype=\"test\")).exists() or click.confirm(\"Overwrite?\"):\n",
    "    logger.info(\"Load prediction datasets\")\n",
    "    merged_df = pd.concat([\n",
    "        pd.read_csv(OUTDIR / \"/work/output/9007_1109+1113/valid_beam=1.csv\").assign(has_label=True),\n",
    "        pd.read_csv(OUTDIR / \"/work/output/9007_1109+1113/valid_beam=4.csv\").assign(has_label=True),\n",
    "        pd.read_csv(OUTDIR / \"/work/output/9007_1109+1113/test_beam=1.csv\").assign(has_label=False),\n",
    "        pd.read_csv(OUTDIR / \"/work/output/9007_1109+1113/test_beam=4.csv\").assign(has_label=False),\n",
    "    ], ignore_index=True)\n",
    "    merged_df[\"InChI\"] = merged_df.pop(\"normed_InChI\")\n",
    "    merged_df = merged_df.drop_duplicates(subset=[\"image_id\", \"InChI\"])\n",
    "\n",
    "    # Filter only new candidates\n",
    "    merged_df[\"candidate_id\"] = merged_df.image_id.str.cat(merged_df.InChI)\n",
    "    merged_df = merged_df.query(\"~candidate_id.isin(@candidate_ids)\").reset_index(drop=True)\n",
    "\n",
    "    # Save valid & test csvs\n",
    "    valid_df, test_df = merged_df.query(\"has_label\")[OUT_COLUMNS], merged_df.query(\"~has_label\")[OUT_COLUMNS]\n",
    "    logger.info(f\"Save: {OUTDIR / outfile.format(datatype='valid')}\")\n",
    "    valid_df.to_csv(OUTDIR / outfile.format(datatype=\"valid\"), index=False)\n",
    "    logger.info(f\"Save: {OUTDIR / outfile.format(datatype='test')}\")\n",
    "    test_df.to_csv(OUTDIR / outfile.format(datatype=\"test\"), index=False)\n",
    "\n",
    "merged_df = pd.concat([\n",
    "    pd.read_csv(OUTDIR / outfile.format(datatype=\"valid\")),\n",
    "    pd.read_csv(OUTDIR / outfile.format(datatype=\"test\")),\n",
    "], ignore_index=True)\n",
    "n_candidates_before = len(candidate_ids)\n",
    "candidate_ids |= set(merged_df.image_id.str.cat(merged_df.InChI))\n",
    "logger.info(f\"Add candidates: {n_candidates_before} -> {len(candidate_ids)} (+{len(candidate_ids) - n_candidates_before})\")"
   ]
  },
  {
   "cell_type": "markdown",
   "id": "a9db819b-31cf-413e-b037-0d53851fe4d6",
   "metadata": {},
   "source": [
    "## yokoo0527"
   ]
  },
  {
   "cell_type": "code",
   "execution_count": 11,
   "id": "a140a74c-5c96-4967-afb9-2559e6e12e0e",
   "metadata": {},
   "outputs": [
    {
     "name": "stderr",
     "output_type": "stream",
     "text": [
      "2021-05-27 22:48:29.481 | INFO     | __main__:<module>:3 - Load prediction datasets\n",
      "2021-05-27 22:48:48.991 | INFO     | __main__:<module>:16 - Save: /work/input/kfujikawa/kf-bms-candidates/valid_yokoo_0527.csv\n",
      "2021-05-27 22:48:49.026 | INFO     | __main__:<module>:18 - Save: /work/input/kfujikawa/kf-bms-candidates/test_yokoo_0527.csv\n",
      "2021-05-27 22:48:49.272 | INFO     | __main__:<module>:27 - Add candidates: 13147362 -> 13168028 (+20666)\n"
     ]
    }
   ],
   "source": [
    "outfile = \"{datatype}_yokoo_0527.csv\"\n",
    "if not (OUTDIR / outfile.format(datatype=\"test\")).exists() or click.confirm(\"Overwrite?\"):\n",
    "    logger.info(\"Load prediction datasets\")\n",
    "    merged_df = pd.concat([\n",
    "        pd.read_csv(OUTDIR / \"/work/input/yokoo/v52/valid_beam=1.csv\").assign(has_label=True),\n",
    "        pd.read_csv(OUTDIR / \"/work/input/yokoo/v52/test_beam=1.csv\").assign(has_label=False),\n",
    "    ], ignore_index=True)\n",
    "    merged_df = merged_df.drop_duplicates(subset=[\"image_id\", \"InChI\"])\n",
    "\n",
    "    # Filter only new candidates\n",
    "    merged_df[\"candidate_id\"] = merged_df.image_id.str.cat(merged_df.InChI)\n",
    "    merged_df = merged_df.query(\"~candidate_id.isin(@candidate_ids)\").reset_index(drop=True)\n",
    "\n",
    "    # Save valid & test csvs\n",
    "    valid_df, test_df = merged_df.query(\"has_label\")[OUT_COLUMNS], merged_df.query(\"~has_label\")[OUT_COLUMNS]\n",
    "    logger.info(f\"Save: {OUTDIR / outfile.format(datatype='valid')}\")\n",
    "    valid_df.to_csv(OUTDIR / outfile.format(datatype=\"valid\"), index=False)\n",
    "    logger.info(f\"Save: {OUTDIR / outfile.format(datatype='test')}\")\n",
    "    test_df.to_csv(OUTDIR / outfile.format(datatype=\"test\"), index=False)\n",
    "\n",
    "merged_df = pd.concat([\n",
    "    pd.read_csv(OUTDIR / outfile.format(datatype=\"valid\")),\n",
    "    pd.read_csv(OUTDIR / outfile.format(datatype=\"test\")),\n",
    "], ignore_index=True)\n",
    "n_candidates_before = len(candidate_ids)\n",
    "candidate_ids |= set(merged_df.image_id.str.cat(merged_df.InChI))\n",
    "logger.info(f\"Add candidates: {n_candidates_before} -> {len(candidate_ids)} (+{len(candidate_ids) - n_candidates_before})\")"
   ]
  },
  {
   "cell_type": "markdown",
   "id": "a4947abe-6784-4b0f-8922-bf7cfbd0d18c",
   "metadata": {},
   "source": [
    "## kf_0527"
   ]
  },
  {
   "cell_type": "code",
   "execution_count": 13,
   "id": "7ee33afc-f2d9-4cf8-98db-6282d4da7d3e",
   "metadata": {},
   "outputs": [
    {
     "name": "stderr",
     "output_type": "stream",
     "text": [
      "2021-05-28 10:42:51.497 | INFO     | __main__:<module>:3 - Load prediction datasets\n",
      "2021-05-28 10:44:48.931 | INFO     | __main__:<module>:17 - Save: /work/input/kfujikawa/kf-bms-candidates/valid_kf_0527.csv\n",
      "2021-05-28 10:44:54.192 | INFO     | __main__:<module>:19 - Save: /work/input/kfujikawa/kf-bms-candidates/test_kf_0527.csv\n",
      "2021-05-28 10:45:42.556 | INFO     | __main__:<module>:28 - Add candidates: 13168028 -> 18869462 (+5701434)\n"
     ]
    }
   ],
   "source": [
    "outfile = \"{datatype}_kf_0527.csv\"\n",
    "if not (OUTDIR / outfile.format(datatype=\"test\")).exists() or click.confirm(\"Overwrite?\"):\n",
    "    logger.info(\"Load prediction datasets\")\n",
    "    merged_df = pd.concat([\n",
    "        pd.read_csv(OUTDIR / \"/work/output/9007_1109+1113/valid_beam=8.csv\").assign(has_label=True),\n",
    "        pd.read_csv(OUTDIR / \"/work/output/9007_1109+1113/test_beam=8.csv\").assign(has_label=False),\n",
    "    ], ignore_index=True)\n",
    "    merged_df[\"InChI\"] = merged_df.pop(\"normed_InChI\")\n",
    "    merged_df = merged_df.drop_duplicates(subset=[\"image_id\", \"InChI\"])\n",
    "\n",
    "    # Filter only new candidates\n",
    "    merged_df[\"candidate_id\"] = merged_df.image_id.str.cat(merged_df.InChI)\n",
    "    merged_df = merged_df.query(\"~candidate_id.isin(@candidate_ids)\").reset_index(drop=True)\n",
    "\n",
    "    # Save valid & test csvs\n",
    "    valid_df, test_df = merged_df.query(\"has_label\")[OUT_COLUMNS], merged_df.query(\"~has_label\")[OUT_COLUMNS]\n",
    "    logger.info(f\"Save: {OUTDIR / outfile.format(datatype='valid')}\")\n",
    "    valid_df.to_csv(OUTDIR / outfile.format(datatype=\"valid\"), index=False)\n",
    "    logger.info(f\"Save: {OUTDIR / outfile.format(datatype='test')}\")\n",
    "    test_df.to_csv(OUTDIR / outfile.format(datatype=\"test\"), index=False)\n",
    "\n",
    "merged_df = pd.concat([\n",
    "    pd.read_csv(OUTDIR / outfile.format(datatype=\"valid\")),\n",
    "    pd.read_csv(OUTDIR / outfile.format(datatype=\"test\")),\n",
    "], ignore_index=True)\n",
    "n_candidates_before = len(candidate_ids)\n",
    "candidate_ids |= set(merged_df.image_id.str.cat(merged_df.InChI))\n",
    "logger.info(f\"Add candidates: {n_candidates_before} -> {len(candidate_ids)} (+{len(candidate_ids) - n_candidates_before})\")"
   ]
  },
  {
   "cell_type": "code",
   "execution_count": null,
   "id": "d88a9939-6a54-47fd-b1e4-b4377c830e1e",
   "metadata": {},
   "outputs": [],
   "source": []
  }
 ],
 "metadata": {
  "kernelspec": {
   "display_name": "Python 3",
   "language": "python",
   "name": "python3"
  },
  "language_info": {
   "codemirror_mode": {
    "name": "ipython",
    "version": 3
   },
   "file_extension": ".py",
   "mimetype": "text/x-python",
   "name": "python",
   "nbconvert_exporter": "python",
   "pygments_lexer": "ipython3",
   "version": "3.8.5"
  }
 },
 "nbformat": 4,
 "nbformat_minor": 5
}
