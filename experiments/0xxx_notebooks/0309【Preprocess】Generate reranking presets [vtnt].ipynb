{
 "cells": [
  {
   "cell_type": "code",
   "execution_count": 1,
   "id": "f4b44b5d-b1e7-4bf2-840d-f87271407b67",
   "metadata": {},
   "outputs": [
    {
     "name": "stderr",
     "output_type": "stream",
     "text": [
      "/opt/miniconda/lib/python3.8/site-packages/tqdm/std.py:703: FutureWarning: The Panel class is removed from pandas. Accessing it from the top-level namespace will also be removed in the next version\n",
      "  from pandas import Panel\n"
     ]
    }
   ],
   "source": [
    "import cv2\n",
    "import Levenshtein\n",
    "import optuna\n",
    "import numpy as np\n",
    "import pandas as pd\n",
    "import plotly.express as px\n",
    "import sklearn.metrics\n",
    "import ipywidgets\n",
    "import matplotlib.pyplot as plt\n",
    "import multiprocessing as mp\n",
    "from tqdm.auto import tqdm\n",
    "from pathlib import Path\n",
    "tqdm.pandas()"
   ]
  },
  {
   "cell_type": "code",
   "execution_count": 2,
   "id": "d4827ead-2994-4cc5-8a88-e3f453489a48",
   "metadata": {},
   "outputs": [],
   "source": [
    "%load_ext autoreload\n",
    "%autoreload 2\n",
    "from nncomp_molecule import constants"
   ]
  },
  {
   "cell_type": "code",
   "execution_count": 3,
   "id": "8acc03be-c2c8-4a3e-98f2-33a730933557",
   "metadata": {},
   "outputs": [],
   "source": [
    "# train_df = pd.read_pickle(\"/work/input/kfujikawa/bms-preprocess-v2/train.pkl\").set_index(\"image_id\")\n",
    "# train_df.head()"
   ]
  },
  {
   "cell_type": "code",
   "execution_count": 4,
   "id": "39feefe8-0eaa-4aaf-a486-4c8b61afea1f",
   "metadata": {},
   "outputs": [],
   "source": [
    "CANDIDATES_DIR = constants.INPUTDIR / \"kfujikawa/kf-bms-candidates-0523\"\n",
    "valid_candidates_df = pd.read_csv(CANDIDATES_DIR / \"valid_candidates.csv\")\n",
    "test_candidates_df = pd.read_csv(CANDIDATES_DIR / \"test_candidates.csv\")"
   ]
  },
  {
   "cell_type": "code",
   "execution_count": 6,
   "id": "d12b48ad-f5f7-44cd-b22a-d930c8095c8a",
   "metadata": {},
   "outputs": [
    {
     "data": {
      "application/vnd.jupyter.widget-view+json": {
       "model_id": "bfaeae97a26945e2a7e0329b8e2279fa",
       "version_major": 2,
       "version_minor": 0
      },
      "text/plain": [
       "HBox(children=(HTML(value=''), FloatProgress(value=0.0, max=3.0), HTML(value='')))"
      ]
     },
     "metadata": {},
     "output_type": "display_data"
    },
    {
     "name": "stdout",
     "output_type": "stream",
     "text": [
      "\n"
     ]
    },
    {
     "data": {
      "text/html": [
       "<div>\n",
       "<style scoped>\n",
       "    .dataframe tbody tr th:only-of-type {\n",
       "        vertical-align: middle;\n",
       "    }\n",
       "\n",
       "    .dataframe tbody tr th {\n",
       "        vertical-align: top;\n",
       "    }\n",
       "\n",
       "    .dataframe thead th {\n",
       "        text-align: right;\n",
       "    }\n",
       "</style>\n",
       "<table border=\"1\" class=\"dataframe\">\n",
       "  <thead>\n",
       "    <tr style=\"text-align: right;\">\n",
       "      <th></th>\n",
       "      <th>image_id</th>\n",
       "      <th>normed_InChI</th>\n",
       "      <th>normed_score</th>\n",
       "    </tr>\n",
       "  </thead>\n",
       "  <tbody>\n",
       "    <tr>\n",
       "      <th>0</th>\n",
       "      <td>3a0f7a797b08</td>\n",
       "      <td>InChI=1S/C19H19N5OS/c1-12-6-9-16(26-2)11-17(12...</td>\n",
       "      <td>1.613341e-06</td>\n",
       "    </tr>\n",
       "    <tr>\n",
       "      <th>1</th>\n",
       "      <td>2b4299bf47aa</td>\n",
       "      <td>InChI=1S/C16H24ClNO/c1-12(2)5-3-4-8-18-11-15-1...</td>\n",
       "      <td>1.064921e-03</td>\n",
       "    </tr>\n",
       "    <tr>\n",
       "      <th>2</th>\n",
       "      <td>05494c50dd8e</td>\n",
       "      <td>InChI=1S/C14H18N4/c1-11-3-2-4-13(17-11)8-18-9-...</td>\n",
       "      <td>6.580866e-07</td>\n",
       "    </tr>\n",
       "    <tr>\n",
       "      <th>3</th>\n",
       "      <td>5d7b569dce12</td>\n",
       "      <td>InChI=1S/C33H43ClN6O6S/c34-23-17-27-29(28(18-2...</td>\n",
       "      <td>5.938433e-04</td>\n",
       "    </tr>\n",
       "    <tr>\n",
       "      <th>4</th>\n",
       "      <td>f5e5996ca41e</td>\n",
       "      <td>InChI=1S/C14H19BrCl2O/c1-11(2)18-8-7-14(9-16,1...</td>\n",
       "      <td>2.535854e-05</td>\n",
       "    </tr>\n",
       "  </tbody>\n",
       "</table>\n",
       "</div>"
      ],
      "text/plain": [
       "       image_id                                       normed_InChI  \\\n",
       "0  3a0f7a797b08  InChI=1S/C19H19N5OS/c1-12-6-9-16(26-2)11-17(12...   \n",
       "1  2b4299bf47aa  InChI=1S/C16H24ClNO/c1-12(2)5-3-4-8-18-11-15-1...   \n",
       "2  05494c50dd8e  InChI=1S/C14H18N4/c1-11-3-2-4-13(17-11)8-18-9-...   \n",
       "3  5d7b569dce12  InChI=1S/C33H43ClN6O6S/c34-23-17-27-29(28(18-2...   \n",
       "4  f5e5996ca41e  InChI=1S/C14H19BrCl2O/c1-11(2)18-8-7-14(9-16,1...   \n",
       "\n",
       "   normed_score  \n",
       "0  1.613341e-06  \n",
       "1  1.064921e-03  \n",
       "2  6.580866e-07  \n",
       "3  5.938433e-04  \n",
       "4  2.535854e-05  "
      ]
     },
     "execution_count": 6,
     "metadata": {},
     "output_type": "execute_result"
    }
   ],
   "source": [
    "COLUMNS = [\n",
    "    \"image_id\", \"normed_InChI\", \"normed_score\"\n",
    "]\n",
    "MODEL = \"1109_vtnt_bert_512-1024-denoise-5\"\n",
    "VALID_CSVs = [\n",
    "    constants.OUTPUTDIR / MODEL / \"valid_beam=1.csv\",\n",
    "    constants.OUTPUTDIR / MODEL / \"valid_beam=4.csv\",\n",
    "    constants.OUTPUTDIR / MODEL / f\"candidate_0521_{MODEL}.csv\",\n",
    "]\n",
    "valid_predictions_df = pd.concat([\n",
    "    pd.read_csv(filename, usecols=COLUMNS)\n",
    "    for filename in tqdm(VALID_CSVs)\n",
    "], ignore_index=True)\n",
    "valid_predictions_df = valid_predictions_df.drop_duplicates(subset=[\"image_id\", \"normed_InChI\"])\n",
    "valid_predictions_df.head()"
   ]
  },
  {
   "cell_type": "code",
   "execution_count": 7,
   "id": "f97f2d5d-a2f6-4299-aa1e-0896207bd352",
   "metadata": {},
   "outputs": [],
   "source": [
    "valid_presets_df = valid_candidates_df.merge(valid_predictions_df)\n",
    "valid_presets_df.to_csv(constants.OUTPUTDIR / MODEL / f\"valid_candidates_{CANDIDATES_DIR.name}.csv\", index=False)"
   ]
  },
  {
   "cell_type": "code",
   "execution_count": 8,
   "id": "0e15f326-7c11-4f52-9161-7651a7d20a6d",
   "metadata": {},
   "outputs": [
    {
     "data": {
      "application/vnd.jupyter.widget-view+json": {
       "model_id": "253b143f88b347a7a1ea5ea38516b307",
       "version_major": 2,
       "version_minor": 0
      },
      "text/plain": [
       "HBox(children=(HTML(value=''), FloatProgress(value=0.0, max=2.0), HTML(value='')))"
      ]
     },
     "metadata": {},
     "output_type": "display_data"
    },
    {
     "name": "stdout",
     "output_type": "stream",
     "text": [
      "\n"
     ]
    },
    {
     "data": {
      "text/html": [
       "<div>\n",
       "<style scoped>\n",
       "    .dataframe tbody tr th:only-of-type {\n",
       "        vertical-align: middle;\n",
       "    }\n",
       "\n",
       "    .dataframe tbody tr th {\n",
       "        vertical-align: top;\n",
       "    }\n",
       "\n",
       "    .dataframe thead th {\n",
       "        text-align: right;\n",
       "    }\n",
       "</style>\n",
       "<table border=\"1\" class=\"dataframe\">\n",
       "  <thead>\n",
       "    <tr style=\"text-align: right;\">\n",
       "      <th></th>\n",
       "      <th>image_id</th>\n",
       "      <th>normed_InChI</th>\n",
       "      <th>normed_score</th>\n",
       "    </tr>\n",
       "  </thead>\n",
       "  <tbody>\n",
       "    <tr>\n",
       "      <th>0</th>\n",
       "      <td>c23b605c64d9</td>\n",
       "      <td>InChI=1S/C43H84O15/c1-3-43(44)58-42-16-41-57-4...</td>\n",
       "      <td>0.032149</td>\n",
       "    </tr>\n",
       "    <tr>\n",
       "      <th>1</th>\n",
       "      <td>f5ecb39ddbc8</td>\n",
       "      <td>InChI=1S/C52H101N3O24/c53-51-52(54-51)50-67-49...</td>\n",
       "      <td>0.120912</td>\n",
       "    </tr>\n",
       "    <tr>\n",
       "      <th>2</th>\n",
       "      <td>30153e0d3737</td>\n",
       "      <td>InChI=1S/C62H114O6/c1-4-7-10-13-16-19-22-25-28...</td>\n",
       "      <td>0.025315</td>\n",
       "    </tr>\n",
       "    <tr>\n",
       "      <th>3</th>\n",
       "      <td>ce3b82556a4f</td>\n",
       "      <td>InChI=1S/C41H80O19/c1-4-41(2,3)40(43)59-39-38-...</td>\n",
       "      <td>0.027121</td>\n",
       "    </tr>\n",
       "    <tr>\n",
       "      <th>4</th>\n",
       "      <td>a81b9e381215</td>\n",
       "      <td>InChI=1S/C59H117NO5/c1-3-5-7-9-11-13-15-17-19-...</td>\n",
       "      <td>0.035394</td>\n",
       "    </tr>\n",
       "  </tbody>\n",
       "</table>\n",
       "</div>"
      ],
      "text/plain": [
       "       image_id                                       normed_InChI  \\\n",
       "0  c23b605c64d9  InChI=1S/C43H84O15/c1-3-43(44)58-42-16-41-57-4...   \n",
       "1  f5ecb39ddbc8  InChI=1S/C52H101N3O24/c53-51-52(54-51)50-67-49...   \n",
       "2  30153e0d3737  InChI=1S/C62H114O6/c1-4-7-10-13-16-19-22-25-28...   \n",
       "3  ce3b82556a4f  InChI=1S/C41H80O19/c1-4-41(2,3)40(43)59-39-38-...   \n",
       "4  a81b9e381215  InChI=1S/C59H117NO5/c1-3-5-7-9-11-13-15-17-19-...   \n",
       "\n",
       "   normed_score  \n",
       "0      0.032149  \n",
       "1      0.120912  \n",
       "2      0.025315  \n",
       "3      0.027121  \n",
       "4      0.035394  "
      ]
     },
     "execution_count": 8,
     "metadata": {},
     "output_type": "execute_result"
    }
   ],
   "source": [
    "TEST_CSVs = [\n",
    "    constants.OUTPUTDIR / MODEL / \"test_beam=1.csv\",\n",
    "    constants.OUTPUTDIR / MODEL / \"test_beam=4.csv\",\n",
    "]\n",
    "test_predictions_df = pd.concat([\n",
    "    pd.read_csv(filename, usecols=COLUMNS)\n",
    "    for filename in tqdm(TEST_CSVs)\n",
    "], ignore_index=True)\n",
    "test_predictions_df = test_predictions_df.drop_duplicates(subset=[\"image_id\", \"normed_InChI\"])\n",
    "test_predictions_df.head()"
   ]
  },
  {
   "cell_type": "code",
   "execution_count": 9,
   "id": "24180d8b-eaac-46b9-b15c-e4278b52b888",
   "metadata": {},
   "outputs": [],
   "source": [
    "test_presets_df = test_candidates_df.merge(test_predictions_df)\n",
    "test_presets_df.to_csv(constants.OUTPUTDIR / MODEL / f\"test_candidates_{CANDIDATES_DIR.name}.csv\", index=False)"
   ]
  },
  {
   "cell_type": "code",
   "execution_count": 10,
   "id": "c099b792-a950-43ee-b5c2-5ad2410ae513",
   "metadata": {},
   "outputs": [
    {
     "data": {
      "text/html": [
       "<div>\n",
       "<style scoped>\n",
       "    .dataframe tbody tr th:only-of-type {\n",
       "        vertical-align: middle;\n",
       "    }\n",
       "\n",
       "    .dataframe tbody tr th {\n",
       "        vertical-align: top;\n",
       "    }\n",
       "\n",
       "    .dataframe thead th {\n",
       "        text-align: right;\n",
       "    }\n",
       "</style>\n",
       "<table border=\"1\" class=\"dataframe\">\n",
       "  <thead>\n",
       "    <tr style=\"text-align: right;\">\n",
       "      <th></th>\n",
       "      <th>image_id</th>\n",
       "      <th>normed_InChI</th>\n",
       "      <th>is_valid</th>\n",
       "      <th>normed_score</th>\n",
       "    </tr>\n",
       "  </thead>\n",
       "  <tbody>\n",
       "    <tr>\n",
       "      <th>0</th>\n",
       "      <td>9ba7f91f0a40</td>\n",
       "      <td>InChI=1S/C67H127NO4/c1-3-5-7-9-11-13-15-17-19-...</td>\n",
       "      <td>False</td>\n",
       "      <td>0.024314</td>\n",
       "    </tr>\n",
       "    <tr>\n",
       "      <th>1</th>\n",
       "      <td>224eae465d23</td>\n",
       "      <td>InChI=1S/C8H16O7/c1-14-3(2-9)7-5(11)4(10)6(12)...</td>\n",
       "      <td>True</td>\n",
       "      <td>0.033350</td>\n",
       "    </tr>\n",
       "    <tr>\n",
       "      <th>2</th>\n",
       "      <td>da00f0a52f53</td>\n",
       "      <td>InChI=1S/C46H79O10P/c1-3-5-7-9-11-13-15-17-19-...</td>\n",
       "      <td>False</td>\n",
       "      <td>0.009484</td>\n",
       "    </tr>\n",
       "    <tr>\n",
       "      <th>3</th>\n",
       "      <td>e7fe5e288b68</td>\n",
       "      <td>InChI=1S/C68H129NO5/c1-3-5-7-9-11-13-14-15-16-...</td>\n",
       "      <td>False</td>\n",
       "      <td>0.016226</td>\n",
       "    </tr>\n",
       "    <tr>\n",
       "      <th>4</th>\n",
       "      <td>1d9df1430439</td>\n",
       "      <td>InChI=1S/C72H139NO5/c1-3-5-7-9-11-13-15-17-18-...</td>\n",
       "      <td>True</td>\n",
       "      <td>0.022186</td>\n",
       "    </tr>\n",
       "    <tr>\n",
       "      <th>...</th>\n",
       "      <td>...</td>\n",
       "      <td>...</td>\n",
       "      <td>...</td>\n",
       "      <td>...</td>\n",
       "    </tr>\n",
       "    <tr>\n",
       "      <th>3894111</th>\n",
       "      <td>712136a37a11</td>\n",
       "      <td>InChI=1S/C2H6OS/c1-5(2,3)4/h1-2H3/i1D3,2D2</td>\n",
       "      <td>False</td>\n",
       "      <td>0.117267</td>\n",
       "    </tr>\n",
       "    <tr>\n",
       "      <th>3894112</th>\n",
       "      <td>7b9ed6e15824</td>\n",
       "      <td>InChI=1S/C3HCl4FO/c4-2(5,6)1-3(7,8)9/h1H</td>\n",
       "      <td>True</td>\n",
       "      <td>1.413789</td>\n",
       "    </tr>\n",
       "    <tr>\n",
       "      <th>3894113</th>\n",
       "      <td>d78db5f90e4b</td>\n",
       "      <td>InChI=1S/C2H5IO/c3-2-1-4/h4H,1-2H2/i1D2,2D2</td>\n",
       "      <td>False</td>\n",
       "      <td>0.123084</td>\n",
       "    </tr>\n",
       "    <tr>\n",
       "      <th>3894114</th>\n",
       "      <td>5f53ee1eb20f</td>\n",
       "      <td>InChI=1S/C2H4O2/c1-2(3)4/h3H,1H3/i1D3,2+1</td>\n",
       "      <td>True</td>\n",
       "      <td>0.067391</td>\n",
       "    </tr>\n",
       "    <tr>\n",
       "      <th>3894115</th>\n",
       "      <td>5f53ee1eb20f</td>\n",
       "      <td>InChI=1S/C2H4O2/c1-2(3)4/h3H,1H3/i1D3,2+1D</td>\n",
       "      <td>False</td>\n",
       "      <td>0.075403</td>\n",
       "    </tr>\n",
       "  </tbody>\n",
       "</table>\n",
       "<p>3894116 rows × 4 columns</p>\n",
       "</div>"
      ],
      "text/plain": [
       "             image_id                                       normed_InChI  \\\n",
       "0        9ba7f91f0a40  InChI=1S/C67H127NO4/c1-3-5-7-9-11-13-15-17-19-...   \n",
       "1        224eae465d23  InChI=1S/C8H16O7/c1-14-3(2-9)7-5(11)4(10)6(12)...   \n",
       "2        da00f0a52f53  InChI=1S/C46H79O10P/c1-3-5-7-9-11-13-15-17-19-...   \n",
       "3        e7fe5e288b68  InChI=1S/C68H129NO5/c1-3-5-7-9-11-13-14-15-16-...   \n",
       "4        1d9df1430439  InChI=1S/C72H139NO5/c1-3-5-7-9-11-13-15-17-18-...   \n",
       "...               ...                                                ...   \n",
       "3894111  712136a37a11         InChI=1S/C2H6OS/c1-5(2,3)4/h1-2H3/i1D3,2D2   \n",
       "3894112  7b9ed6e15824           InChI=1S/C3HCl4FO/c4-2(5,6)1-3(7,8)9/h1H   \n",
       "3894113  d78db5f90e4b        InChI=1S/C2H5IO/c3-2-1-4/h4H,1-2H2/i1D2,2D2   \n",
       "3894114  5f53ee1eb20f          InChI=1S/C2H4O2/c1-2(3)4/h3H,1H3/i1D3,2+1   \n",
       "3894115  5f53ee1eb20f         InChI=1S/C2H4O2/c1-2(3)4/h3H,1H3/i1D3,2+1D   \n",
       "\n",
       "         is_valid  normed_score  \n",
       "0           False      0.024314  \n",
       "1            True      0.033350  \n",
       "2           False      0.009484  \n",
       "3           False      0.016226  \n",
       "4            True      0.022186  \n",
       "...           ...           ...  \n",
       "3894111     False      0.117267  \n",
       "3894112      True      1.413789  \n",
       "3894113     False      0.123084  \n",
       "3894114      True      0.067391  \n",
       "3894115     False      0.075403  \n",
       "\n",
       "[3894116 rows x 4 columns]"
      ]
     },
     "execution_count": 10,
     "metadata": {},
     "output_type": "execute_result"
    }
   ],
   "source": [
    "test_presets_df"
   ]
  },
  {
   "cell_type": "code",
   "execution_count": null,
   "id": "55bbfc1d-2c24-464b-809a-a18c418146e6",
   "metadata": {},
   "outputs": [],
   "source": []
  }
 ],
 "metadata": {
  "kernelspec": {
   "display_name": "Python 3",
   "language": "python",
   "name": "python3"
  },
  "language_info": {
   "codemirror_mode": {
    "name": "ipython",
    "version": 3
   },
   "file_extension": ".py",
   "mimetype": "text/x-python",
   "name": "python",
   "nbconvert_exporter": "python",
   "pygments_lexer": "ipython3",
   "version": "3.8.5"
  }
 },
 "nbformat": 4,
 "nbformat_minor": 5
}
