{
 "cells": [
  {
   "cell_type": "markdown",
   "id": "labeled-airport",
   "metadata": {},
   "source": [
    "# Preprocess datasets (v2)"
   ]
  },
  {
   "cell_type": "code",
   "execution_count": 1,
   "id": "behind-departure",
   "metadata": {},
   "outputs": [
    {
     "name": "stderr",
     "output_type": "stream",
     "text": [
      "/opt/miniconda/lib/python3.8/site-packages/tqdm/std.py:703: FutureWarning: The Panel class is removed from pandas. Accessing it from the top-level namespace will also be removed in the next version\n",
      "  from pandas import Panel\n"
     ]
    }
   ],
   "source": [
    "import re\n",
    "import shutil\n",
    "import multiprocessing as mp\n",
    "\n",
    "import cv2\n",
    "import pandas as pd\n",
    "import tokenizers\n",
    "from dataclasses import dataclass\n",
    "from pathlib import Path\n",
    "from rdkit import Chem\n",
    "from tqdm.auto import tqdm\n",
    "\n",
    "tqdm.pandas()"
   ]
  },
  {
   "cell_type": "code",
   "execution_count": 8,
   "id": "coordinate-wildlife",
   "metadata": {},
   "outputs": [
    {
     "name": "stdout",
     "output_type": "stream",
     "text": [
      "The autoreload extension is already loaded. To reload it, use:\n",
      "  %reload_ext autoreload\n"
     ]
    }
   ],
   "source": [
    "%load_ext autoreload\n",
    "%autoreload 2\n",
    "from nncomp_molecule import constants"
   ]
  },
  {
   "cell_type": "markdown",
   "id": "matched-humanity",
   "metadata": {},
   "source": [
    "## Config"
   ]
  },
  {
   "cell_type": "code",
   "execution_count": 9,
   "id": "banner-midwest",
   "metadata": {},
   "outputs": [],
   "source": [
    "NOTEBOOK_ID = \"bms-preprocess-v2\"\n",
    "KFOLD_PATH = constants.INPUTDIR / \"kfujikawa\" / \"bms-kfold\" / \"10fold.csv\"\n",
    "OUTDIR = constants.INPUTDIR / \"kfujikawa\" / NOTEBOOK_ID"
   ]
  },
  {
   "cell_type": "markdown",
   "id": "incomplete-throat",
   "metadata": {
    "tags": []
   },
   "source": [
    "## Preprocess"
   ]
  },
  {
   "cell_type": "code",
   "execution_count": 4,
   "id": "coordinate-saskatchewan",
   "metadata": {},
   "outputs": [
    {
     "name": "stdout",
     "output_type": "stream",
     "text": [
      "/work/input/kfujikawa/bms-preprocess-v2/train.pkl: True\n",
      "/work/input/kfujikawa/bms-preprocess-v2/test.pkl: True\n"
     ]
    }
   ],
   "source": [
    "OUTDIR.mkdir(parents=True, exist_ok=True)\n",
    "print(f\"{OUTDIR / 'train.pkl'}: {(OUTDIR / 'train.pkl').exists()}\")\n",
    "print(f\"{OUTDIR / 'test.pkl'}: {(OUTDIR / 'test.pkl').exists()}\")"
   ]
  },
  {
   "cell_type": "code",
   "execution_count": 5,
   "id": "85d2a412-ddfb-4ff9-a93f-1d6c047d9792",
   "metadata": {},
   "outputs": [],
   "source": [
    "def get_image_shape(image_path):\n",
    "    image = cv2.imread(image_path, cv2.IMREAD_GRAYSCALE)\n",
    "    w, h = max(image.shape), min(image.shape)\n",
    "    return {\n",
    "        \"w\": w,\n",
    "        \"h\": h,\n",
    "        \"w/h\": w / h,\n",
    "        \"w*h\": w * h,\n",
    "        \"is_flipped\": image.shape[0] > image.shape[1],\n",
    "    }"
   ]
  },
  {
   "cell_type": "markdown",
   "id": "practical-topic",
   "metadata": {},
   "source": [
    "### Preprocess train dataset"
   ]
  },
  {
   "cell_type": "code",
   "execution_count": 6,
   "id": "adjusted-plant",
   "metadata": {},
   "outputs": [
    {
     "data": {
      "application/vnd.jupyter.widget-view+json": {
       "model_id": "4deafb66715d4c7a8850e5392c770eea",
       "version_major": 2,
       "version_minor": 0
      },
      "text/plain": [
       "HBox(children=(HTML(value=''), FloatProgress(value=0.0, max=2424186.0), HTML(value='')))"
      ]
     },
     "metadata": {},
     "output_type": "display_data"
    },
    {
     "name": "stdout",
     "output_type": "stream",
     "text": [
      "\n"
     ]
    },
    {
     "data": {
      "application/vnd.jupyter.widget-view+json": {
       "model_id": "550e1dfa10984d0aa67e0bd29639bb42",
       "version_major": 2,
       "version_minor": 0
      },
      "text/plain": [
       "HBox(children=(HTML(value=''), FloatProgress(value=0.0, max=2424186.0), HTML(value='')))"
      ]
     },
     "metadata": {},
     "output_type": "display_data"
    },
    {
     "name": "stdout",
     "output_type": "stream",
     "text": [
      "\n"
     ]
    },
    {
     "data": {
      "text/html": [
       "<div>\n",
       "<style scoped>\n",
       "    .dataframe tbody tr th:only-of-type {\n",
       "        vertical-align: middle;\n",
       "    }\n",
       "\n",
       "    .dataframe tbody tr th {\n",
       "        vertical-align: top;\n",
       "    }\n",
       "\n",
       "    .dataframe thead th {\n",
       "        text-align: right;\n",
       "    }\n",
       "</style>\n",
       "<table border=\"1\" class=\"dataframe\">\n",
       "  <thead>\n",
       "    <tr style=\"text-align: right;\">\n",
       "      <th></th>\n",
       "      <th>image_id</th>\n",
       "      <th>InChI</th>\n",
       "      <th>image_path</th>\n",
       "      <th>InChI_length</th>\n",
       "      <th>w</th>\n",
       "      <th>h</th>\n",
       "      <th>w/h</th>\n",
       "      <th>w*h</th>\n",
       "      <th>is_flipped</th>\n",
       "    </tr>\n",
       "  </thead>\n",
       "  <tbody>\n",
       "    <tr>\n",
       "      <th>0</th>\n",
       "      <td>4435736fd10b</td>\n",
       "      <td>InChI=1S/C65H110O6/c1-4-7-10-13-16-19-22-25-28...</td>\n",
       "      <td>/work/input/bms-molecular-translation/train/4/...</td>\n",
       "      <td>403</td>\n",
       "      <td>1472</td>\n",
       "      <td>788</td>\n",
       "      <td>1.868020</td>\n",
       "      <td>1159936</td>\n",
       "      <td>False</td>\n",
       "    </tr>\n",
       "    <tr>\n",
       "      <th>1</th>\n",
       "      <td>8c0e35ce3f1f</td>\n",
       "      <td>InChI=1S/C60H98O6/c1-4-7-10-13-16-19-22-25-27-...</td>\n",
       "      <td>/work/input/bms-molecular-translation/train/8/...</td>\n",
       "      <td>398</td>\n",
       "      <td>939</td>\n",
       "      <td>309</td>\n",
       "      <td>3.038835</td>\n",
       "      <td>290151</td>\n",
       "      <td>False</td>\n",
       "    </tr>\n",
       "    <tr>\n",
       "      <th>2</th>\n",
       "      <td>934593ad3cae</td>\n",
       "      <td>InChI=1S/C63H106O6/c1-4-7-10-13-16-19-22-25-27...</td>\n",
       "      <td>/work/input/bms-molecular-translation/train/9/...</td>\n",
       "      <td>397</td>\n",
       "      <td>826</td>\n",
       "      <td>661</td>\n",
       "      <td>1.249622</td>\n",
       "      <td>545986</td>\n",
       "      <td>False</td>\n",
       "    </tr>\n",
       "    <tr>\n",
       "      <th>3</th>\n",
       "      <td>c963808e309d</td>\n",
       "      <td>InChI=1S/C59H92O6/c1-4-7-10-13-16-19-22-25-28-...</td>\n",
       "      <td>/work/input/bms-molecular-translation/train/c/...</td>\n",
       "      <td>393</td>\n",
       "      <td>1268</td>\n",
       "      <td>883</td>\n",
       "      <td>1.436014</td>\n",
       "      <td>1119644</td>\n",
       "      <td>False</td>\n",
       "    </tr>\n",
       "    <tr>\n",
       "      <th>4</th>\n",
       "      <td>0aa425d5f5ac</td>\n",
       "      <td>InChI=1S/C62H106O6/c1-4-7-10-13-16-19-22-25-27...</td>\n",
       "      <td>/work/input/bms-molecular-translation/train/0/...</td>\n",
       "      <td>393</td>\n",
       "      <td>918</td>\n",
       "      <td>543</td>\n",
       "      <td>1.690608</td>\n",
       "      <td>498474</td>\n",
       "      <td>False</td>\n",
       "    </tr>\n",
       "  </tbody>\n",
       "</table>\n",
       "</div>"
      ],
      "text/plain": [
       "       image_id                                              InChI  \\\n",
       "0  4435736fd10b  InChI=1S/C65H110O6/c1-4-7-10-13-16-19-22-25-28...   \n",
       "1  8c0e35ce3f1f  InChI=1S/C60H98O6/c1-4-7-10-13-16-19-22-25-27-...   \n",
       "2  934593ad3cae  InChI=1S/C63H106O6/c1-4-7-10-13-16-19-22-25-27...   \n",
       "3  c963808e309d  InChI=1S/C59H92O6/c1-4-7-10-13-16-19-22-25-28-...   \n",
       "4  0aa425d5f5ac  InChI=1S/C62H106O6/c1-4-7-10-13-16-19-22-25-27...   \n",
       "\n",
       "                                          image_path  InChI_length     w    h  \\\n",
       "0  /work/input/bms-molecular-translation/train/4/...           403  1472  788   \n",
       "1  /work/input/bms-molecular-translation/train/8/...           398   939  309   \n",
       "2  /work/input/bms-molecular-translation/train/9/...           397   826  661   \n",
       "3  /work/input/bms-molecular-translation/train/c/...           393  1268  883   \n",
       "4  /work/input/bms-molecular-translation/train/0/...           393   918  543   \n",
       "\n",
       "        w/h      w*h  is_flipped  \n",
       "0  1.868020  1159936       False  \n",
       "1  3.038835   290151       False  \n",
       "2  1.249622   545986       False  \n",
       "3  1.436014  1119644       False  \n",
       "4  1.690608   498474       False  "
      ]
     },
     "execution_count": 6,
     "metadata": {},
     "output_type": "execute_result"
    }
   ],
   "source": [
    "train_df = pd.read_csv(constants.COMPETITION_DATADIR / \"train_labels.csv\")\n",
    "train_df[\"image_path\"] = train_df.image_id.progress_apply(\n",
    "    lambda x: str(constants.COMPETITION_DATADIR / f\"train/{x[0]}/{x[1]}/{x[2]}/{x}.png\")\n",
    ")\n",
    "train_df[\"InChI_length\"] = train_df.InChI.apply(len)\n",
    "train_df = train_df.sort_values(\"InChI_length\", ascending=False).reset_index(drop=True)\n",
    "with mp.Pool() as pool:\n",
    "    iterator = pool.imap(get_image_shape, train_df.image_path.values)\n",
    "    train_df = train_df.assign(**pd.DataFrame(tqdm(iterator, total=len(train_df))))\n",
    "train_df.head()"
   ]
  },
  {
   "cell_type": "markdown",
   "id": "7789076b-0b57-4844-bb32-984b9d55d67d",
   "metadata": {},
   "source": [
    "### Load predicted InChi_length"
   ]
  },
  {
   "cell_type": "code",
   "execution_count": 7,
   "id": "personal-november",
   "metadata": {},
   "outputs": [
    {
     "data": {
      "text/html": [
       "<div>\n",
       "<style scoped>\n",
       "    .dataframe tbody tr th:only-of-type {\n",
       "        vertical-align: middle;\n",
       "    }\n",
       "\n",
       "    .dataframe tbody tr th {\n",
       "        vertical-align: top;\n",
       "    }\n",
       "\n",
       "    .dataframe thead th {\n",
       "        text-align: right;\n",
       "    }\n",
       "</style>\n",
       "<table border=\"1\" class=\"dataframe\">\n",
       "  <thead>\n",
       "    <tr style=\"text-align: right;\">\n",
       "      <th></th>\n",
       "      <th>image_id</th>\n",
       "      <th>InChI</th>\n",
       "      <th>InChI_length</th>\n",
       "    </tr>\n",
       "  </thead>\n",
       "  <tbody>\n",
       "    <tr>\n",
       "      <th>0</th>\n",
       "      <td>00000d2a601c</td>\n",
       "      <td>InChI=1S/C10H14BrN5S/c1-6-10(11)9(16(3)14-6)4-...</td>\n",
       "      <td>86</td>\n",
       "    </tr>\n",
       "    <tr>\n",
       "      <th>1</th>\n",
       "      <td>00001f7fc849</td>\n",
       "      <td>InChI=1S/C14H18ClN3/c1-2-7-16-9-13-10-17-14(18...</td>\n",
       "      <td>105</td>\n",
       "    </tr>\n",
       "    <tr>\n",
       "      <th>2</th>\n",
       "      <td>000037687605</td>\n",
       "      <td>InChI=1S/C16H13BrN2O/c1-11(20)12-6-7-13(9-18)1...</td>\n",
       "      <td>96</td>\n",
       "    </tr>\n",
       "    <tr>\n",
       "      <th>3</th>\n",
       "      <td>00004b6d55b6</td>\n",
       "      <td>InChI=1S/C14H19FN4O/c1-14(2,3)12-13(16)17-18-1...</td>\n",
       "      <td>95</td>\n",
       "    </tr>\n",
       "    <tr>\n",
       "      <th>4</th>\n",
       "      <td>00004df0fe53</td>\n",
       "      <td>InChI=1S/C9H12O2/c1-4-5-2-6-7(3-4)11-9(10)8(5)...</td>\n",
       "      <td>85</td>\n",
       "    </tr>\n",
       "  </tbody>\n",
       "</table>\n",
       "</div>"
      ],
      "text/plain": [
       "       image_id                                              InChI  \\\n",
       "0  00000d2a601c  InChI=1S/C10H14BrN5S/c1-6-10(11)9(16(3)14-6)4-...   \n",
       "1  00001f7fc849  InChI=1S/C14H18ClN3/c1-2-7-16-9-13-10-17-14(18...   \n",
       "2  000037687605  InChI=1S/C16H13BrN2O/c1-11(20)12-6-7-13(9-18)1...   \n",
       "3  00004b6d55b6  InChI=1S/C14H19FN4O/c1-14(2,3)12-13(16)17-18-1...   \n",
       "4  00004df0fe53  InChI=1S/C9H12O2/c1-4-5-2-6-7(3-4)11-9(10)8(5)...   \n",
       "\n",
       "   InChI_length  \n",
       "0            86  \n",
       "1           105  \n",
       "2            96  \n",
       "3            95  \n",
       "4            85  "
      ]
     },
     "execution_count": 7,
     "metadata": {},
     "output_type": "execute_result"
    }
   ],
   "source": [
    "prediction_df = pd.read_csv(\"/work/output/1003_effnet_b5/test_beam=1.csv\")\n",
    "prediction_df[\"InChI_length\"] = prediction_df.InChI.apply(len)\n",
    "prediction_df.head()"
   ]
  },
  {
   "cell_type": "markdown",
   "id": "moved-scenario",
   "metadata": {},
   "source": [
    "### Preprocess test dataset"
   ]
  },
  {
   "cell_type": "code",
   "execution_count": null,
   "id": "endless-pacific",
   "metadata": {},
   "outputs": [
    {
     "data": {
      "application/vnd.jupyter.widget-view+json": {
       "model_id": "c3a61277f4ae428ca49eadc224c17a14",
       "version_major": 2,
       "version_minor": 0
      },
      "text/plain": [
       "HBox(children=(HTML(value=''), FloatProgress(value=0.0, max=1616107.0), HTML(value='')))"
      ]
     },
     "metadata": {},
     "output_type": "display_data"
    },
    {
     "name": "stdout",
     "output_type": "stream",
     "text": [
      "\n"
     ]
    },
    {
     "data": {
      "application/vnd.jupyter.widget-view+json": {
       "model_id": "25d2194879eb4371a297c1fdf541410a",
       "version_major": 2,
       "version_minor": 0
      },
      "text/plain": [
       "HBox(children=(HTML(value=''), FloatProgress(value=0.0, max=1616107.0), HTML(value='')))"
      ]
     },
     "metadata": {},
     "output_type": "display_data"
    },
    {
     "name": "stdout",
     "output_type": "stream",
     "text": [
      "\n"
     ]
    }
   ],
   "source": [
    "test_df = pd.read_csv(constants.COMPETITION_DATADIR / \"sample_submission.csv\", usecols=[\"image_id\"])\n",
    "test_df[\"image_path\"] = test_df.image_id.progress_apply(\n",
    "    lambda x: str(constants.COMPETITION_DATADIR / f\"test/{x[0]}/{x[1]}/{x[2]}/{x}.png\")\n",
    ")\n",
    "assert len(test_df) == len(prediction_df)\n",
    "test_df = test_df.merge(prediction_df, on=\"image_id\", how=\"left\")\n",
    "assert len(test_df) == len(prediction_df)\n",
    "test_df = test_df.sort_values(\"InChI_length\", ascending=False).reset_index(drop=True)\n",
    "test_df = test_df[[\"image_id\", \"image_path\", \"InChI_length\"]]\n",
    "with mp.Pool() as pool:\n",
    "    iterator = pool.imap(get_image_shape, test_df.image_path.values)\n",
    "    test_df = test_df.assign(**pd.DataFrame(tqdm(iterator, total=len(test_df))))\n",
    "test_df.head()"
   ]
  },
  {
   "cell_type": "markdown",
   "id": "worst-statement",
   "metadata": {},
   "source": [
    "### Load KFold"
   ]
  },
  {
   "cell_type": "code",
   "execution_count": null,
   "id": "egyptian-smooth",
   "metadata": {},
   "outputs": [],
   "source": [
    "kfold_df = pd.read_csv(KFOLD_PATH)\n",
    "benchmark_ids = kfold_df.query(\"fold.isin([0,1,2])\").image_id\n",
    "benchmark_ids"
   ]
  },
  {
   "cell_type": "code",
   "execution_count": null,
   "id": "romance-testing",
   "metadata": {},
   "outputs": [],
   "source": [
    "OUTDIR.mkdir(parents=True, exist_ok=True)\n",
    "train_df.head(1000).to_pickle(OUTDIR / \"train.debug.pkl\")\n",
    "train_df.query(\"image_id.isin(@benchmark_ids)\").reset_index(drop=True).to_pickle(OUTDIR / \"train.bench.pkl\")\n",
    "train_df.to_pickle(OUTDIR / \"train.pkl\")\n",
    "test_df.head(1000).to_pickle(OUTDIR / \"test.debug.pkl\")\n",
    "test_df.head(1000).to_pickle(OUTDIR / \"test.bench.pkl\")\n",
    "test_df.to_pickle(OUTDIR / \"test.pkl\")\n",
    "list(OUTDIR.iterdir())"
   ]
  },
  {
   "cell_type": "code",
   "execution_count": null,
   "id": "4e883a04-acea-4454-86fe-f8f110e288f8",
   "metadata": {},
   "outputs": [],
   "source": []
  }
 ],
 "metadata": {
  "kernelspec": {
   "display_name": "Python 3",
   "language": "python",
   "name": "python3"
  },
  "language_info": {
   "codemirror_mode": {
    "name": "ipython",
    "version": 3
   },
   "file_extension": ".py",
   "mimetype": "text/x-python",
   "name": "python",
   "nbconvert_exporter": "python",
   "pygments_lexer": "ipython3",
   "version": "3.8.5"
  }
 },
 "nbformat": 4,
 "nbformat_minor": 5
}
