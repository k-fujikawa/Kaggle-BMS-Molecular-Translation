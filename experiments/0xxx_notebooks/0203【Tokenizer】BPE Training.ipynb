{
 "cells": [
  {
   "cell_type": "markdown",
   "id": "ruled-there",
   "metadata": {},
   "source": [
    "# Tokenizer config 作成（BPE Training）"
   ]
  },
  {
   "cell_type": "code",
   "execution_count": 1,
   "id": "connected-garbage",
   "metadata": {},
   "outputs": [],
   "source": [
    "import json\n",
    "import tempfile\n",
    "from pathlib import Path\n",
    "from pprint import pprint\n",
    "\n",
    "import pandas as pd\n",
    "import tokenizers\n",
    "from rdkit import Chem\n",
    "from tqdm.auto import tqdm\n",
    "\n",
    "from nncomp_molecule import constants\n",
    "\n",
    "tqdm.pandas()"
   ]
  },
  {
   "cell_type": "markdown",
   "id": "naked-science",
   "metadata": {},
   "source": [
    "## Config"
   ]
  },
  {
   "cell_type": "code",
   "execution_count": 3,
   "id": "trained-flexibility",
   "metadata": {},
   "outputs": [
    {
     "data": {
      "text/plain": [
       "PosixPath('/work/input/kfujikawa/bms-tokenizers-v1')"
      ]
     },
     "execution_count": 3,
     "metadata": {},
     "output_type": "execute_result"
    }
   ],
   "source": [
    "TOKENIZER_NAME = \"bpe-10000\"\n",
    "OUTDIR = constants.INPUTDIR / \"kfujikawa/bms-tokenizers-v1\"\n",
    "N_VOCAB = 10000\n",
    "OUTDIR"
   ]
  },
  {
   "cell_type": "markdown",
   "id": "traditional-rehabilitation",
   "metadata": {},
   "source": [
    "## Tokenizer作成"
   ]
  },
  {
   "cell_type": "markdown",
   "id": "fuzzy-newcastle",
   "metadata": {},
   "source": [
    "### Tokenizer configの作成"
   ]
  },
  {
   "cell_type": "code",
   "execution_count": 15,
   "id": "genetic-pizza",
   "metadata": {},
   "outputs": [
    {
     "data": {
      "text/plain": [
       "11"
      ]
     },
     "execution_count": 15,
     "metadata": {},
     "output_type": "execute_result"
    }
   ],
   "source": [
    "tokenizer = tokenizers.Tokenizer(\n",
    "    tokenizers.models.BPE(),\n",
    ")\n",
    "tokenizer.pre_tokenizer = tokenizers.pre_tokenizers.Whitespace()\n",
    "tokenizer.add_special_tokens(\n",
    "    [\"<PAD>\", \"<BOS>\", \"<EOS>\", \"<UNK>\"]\n",
    ")\n",
    "tokenizer.post_processor = tokenizers.processors.TemplateProcessing(\n",
    "    single=\"<BOS> $0 <EOS>\",\n",
    "    special_tokens=[(\"<BOS>\", 1), (\"<EOS>\", 2)]\n",
    ")\n",
    "tokenizer.decoder = tokenizers.decoders.BPEDecoder()\n",
    "tokenizer.add_tokens([\n",
    "    \"InChI=1S/\",\n",
    "    \"Br\", \"Cl\", \"Si\",\n",
    "    \"/c\", \"/h\", \"/t\", \"/m\", \"/s\", \"/b\", \"/i\",\n",
    "])"
   ]
  },
  {
   "cell_type": "code",
   "execution_count": 16,
   "id": "bf1b8eed-d10b-4e03-85af-f37ec61cfb3f",
   "metadata": {},
   "outputs": [],
   "source": [
    "train_df = pd.read_csv(constants.COMPETITION_DATADIR / \"train_labels.csv\")"
   ]
  },
  {
   "cell_type": "code",
   "execution_count": 17,
   "id": "1d91cd98-86f1-43e5-94f3-7370c80f1b16",
   "metadata": {},
   "outputs": [],
   "source": [
    "trainer = tokenizers.trainers.BpeTrainer(vocab_size=10000)\n",
    "tokenizer.train_from_iterator(train_df.InChI, trainer)"
   ]
  },
  {
   "cell_type": "markdown",
   "id": "brief-buyer",
   "metadata": {},
   "source": [
    "## Configの保存"
   ]
  },
  {
   "cell_type": "code",
   "execution_count": 22,
   "id": "facial-element",
   "metadata": {},
   "outputs": [],
   "source": [
    "tokenizer.save(str(OUTDIR / f\"{TOKENIZER_NAME}.json\"))\n",
    "tokenizer = tokenizers.Tokenizer.from_file(str(OUTDIR / f\"{TOKENIZER_NAME}.json\"))"
   ]
  },
  {
   "cell_type": "markdown",
   "id": "overall-editor",
   "metadata": {},
   "source": [
    "## 検証"
   ]
  },
  {
   "cell_type": "code",
   "execution_count": 26,
   "id": "empirical-paraguay",
   "metadata": {},
   "outputs": [
    {
     "name": "stdout",
     "output_type": "stream",
     "text": [
      "InChI=1S/C13H20OS/c1-9(2)8-15-13-6-5-10(3)7-12(13)11(4)14/h5-7,9,11,14H,8H2,1-4H3\n",
      "[\"<BOS>\", \"InChI=1S/\", \"C13H20\", \"OS\", \"/c\", \"1\", \"-\", \"9\", \"(\", \"2\", \")\", \"8\", \"-\", \"15\", \"-\", \"13\", \"-\", \"6\", \"-\", \"5\", \"-\", \"10\", \"(\", \"3\", \")\", \"7\", \"-\", \"12\", \"(\", \"13\", \")\", \"11\", \"(\", \"4\", \")\", \"14\", \"/h\", \"5\", \"-\", \"7\", \",\", \"9\", \",\", \"11\", \",\", \"14H\", \",\", \"8H2\", \",\", \"1\", \"-\", \"4H3\", \"<EOS>\"]\n",
      "[1, 10004, 375, 444, 10005, 7, 4, 15, 0, 8, 1, 14, 4, 43, 4, 39, 4, 12, 4, 11, 4, 42, 0, 9, 1, 13, 4, 38, 0, 39, 1, 40, 0, 10, 1, 41, 10006, 11, 4, 13, 3, 15, 3, 40, 3, 92, 3, 125, 3, 7, 4, 110, 2]\n"
     ]
    }
   ],
   "source": [
    "index = 0\n",
    "\n",
    "inchi = train_df.InChI[index]\n",
    "print(inchi)\n",
    "encoding = tokenizer.encode(inchi)\n",
    "print(json.dumps(encoding.tokens))\n",
    "print(json.dumps(encoding.ids))"
   ]
  },
  {
   "cell_type": "code",
   "execution_count": 24,
   "id": "still-italian",
   "metadata": {},
   "outputs": [
    {
     "data": {
      "text/plain": [
       "'[\"<BOS>\", \"c\", \"-\", \"12\", \"3\", \"<EOS>\"]'"
      ]
     },
     "execution_count": 24,
     "metadata": {},
     "output_type": "execute_result"
    }
   ],
   "source": [
    "json.dumps(tokenizer.encode(\"c-123\").tokens)"
   ]
  },
  {
   "cell_type": "code",
   "execution_count": 25,
   "id": "native-intermediate",
   "metadata": {},
   "outputs": [
    {
     "data": {
      "application/vnd.jupyter.widget-view+json": {
       "model_id": "e82f67f80b104fa8b6391f6672c200ab",
       "version_major": 2,
       "version_minor": 0
      },
      "text/plain": [
       "HBox(children=(HTML(value=''), FloatProgress(value=0.0, max=2424186.0), HTML(value='')))"
      ]
     },
     "metadata": {},
     "output_type": "display_data"
    },
    {
     "name": "stdout",
     "output_type": "stream",
     "text": [
      "\n"
     ]
    },
    {
     "data": {
      "text/plain": [
       "263"
      ]
     },
     "execution_count": 25,
     "metadata": {},
     "output_type": "execute_result"
    }
   ],
   "source": [
    "n_tokens = train_df.InChI.progress_apply(lambda x: len(tokenizer.encode(x).tokens))\n",
    "n_tokens.hist()\n",
    "n_tokens.max()"
   ]
  },
  {
   "cell_type": "code",
   "execution_count": 28,
   "id": "varied-factor",
   "metadata": {},
   "outputs": [
    {
     "data": {
      "text/plain": [
       "<AxesSubplot:>"
      ]
     },
     "execution_count": 28,
     "metadata": {},
     "output_type": "execute_result"
    },
    {
     "data": {
      "image/png": "[encoded data removed]",
      "text/plain": [
       "<Figure size 432x288 with 1 Axes>"
      ]
     },
     "metadata": {
      "needs_background": "light"
     },
     "output_type": "display_data"
    }
   ],
   "source": [
    "%matplotlib inline\n",
    "n_tokens.hist()"
   ]
  },
  {
   "cell_type": "code",
   "execution_count": null,
   "id": "9d00b45d-aace-47da-8253-5225b6e21ba9",
   "metadata": {},
   "outputs": [],
   "source": []
  }
 ],
 "metadata": {
  "kernelspec": {
   "display_name": "Python 3",
   "language": "python",
   "name": "python3"
  },
  "language_info": {
   "codemirror_mode": {
    "name": "ipython",
    "version": 3
   },
   "file_extension": ".py",
   "mimetype": "text/x-python",
   "name": "python",
   "nbconvert_exporter": "python",
   "pygments_lexer": "ipython3",
   "version": "3.8.5"
  }
 },
 "nbformat": 4,
 "nbformat_minor": 5
}
