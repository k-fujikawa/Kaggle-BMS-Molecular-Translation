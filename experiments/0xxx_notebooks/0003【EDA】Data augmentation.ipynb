{
 "cells": [
  {
   "cell_type": "code",
   "execution_count": 26,
   "id": "through-apparatus",
   "metadata": {},
   "outputs": [],
   "source": [
    "from pathlib import Path\n",
    "\n",
    "import albumentations as A\n",
    "import cv2\n",
    "import numpy as np\n",
    "import pandas as pd\n",
    "import plotly.express as px"
   ]
  },
  {
   "cell_type": "code",
   "execution_count": 2,
   "id": "preliminary-departure",
   "metadata": {},
   "outputs": [],
   "source": [
    "%load_ext autoreload\n",
    "%autoreload 2\n",
    "from nncomp_molecule import constants"
   ]
  },
  {
   "cell_type": "code",
   "execution_count": 3,
   "id": "absolute-overall",
   "metadata": {},
   "outputs": [],
   "source": [
    "train_df = pd.read_csv(constants.COMPETITION_DATADIR / \"train_labels.csv\")"
   ]
  },
  {
   "cell_type": "code",
   "execution_count": 11,
   "id": "operating-metropolitan",
   "metadata": {},
   "outputs": [
    {
     "data": {
      "application/vnd.plotly.v1+json": {
       "config": {
        "plotlyServerURL": "https://plot.ly"
       },
       "data": [
        {
         "hovertemplate": "x: %{x}<br>y: %{y}<br>color: [%{z[0]}, %{z[1]}, %{z[2]}]<extra></extra>",
         "name": "0",
         "source": "data:image/png;base64,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",
         "type": "image",
         "xaxis": "x",
         "yaxis": "y"
        }
       ],
       "layout": {
        "autosize": true,
        "margin": {
         "t": 60
        },
        "template": {
         "data": {
          "bar": [
           {
            "error_x": {
             "color": "#2a3f5f"
            },
            "error_y": {
             "color": "#2a3f5f"
            },
            "marker": {
             "line": {
              "color": "#E5ECF6",
              "width": 0.5
             }
            },
            "type": "bar"
           }
          ],
          "barpolar": [
           {
            "marker": {
             "line": {
              "color": "#E5ECF6",
              "width": 0.5
             }
            },
            "type": "barpolar"
           }
          ],
          "carpet": [
           {
            "aaxis": {
             "endlinecolor": "#2a3f5f",
             "gridcolor": "white",
             "linecolor": "white",
             "minorgridcolor": "white",
             "startlinecolor": "#2a3f5f"
            },
            "baxis": {
             "endlinecolor": "#2a3f5f",
             "gridcolor": "white",
             "linecolor": "white",
             "minorgridcolor": "white",
             "startlinecolor": "#2a3f5f"
            },
            "type": "carpet"
           }
          ],
          "choropleth": [
           {
            "colorbar": {
             "outlinewidth": 0,
             "ticks": ""
            },
            "type": "choropleth"
           }
          ],
          "contour": [
           {
            "colorbar": {
             "outlinewidth": 0,
             "ticks": ""
            },
            "colorscale": [
             [
              0,
              "#0d0887"
             ],
             [
              0.1111111111111111,
              "#46039f"
             ],
             [
              0.2222222222222222,
              "#7201a8"
             ],
             [
              0.3333333333333333,
              "#9c179e"
             ],
             [
              0.4444444444444444,
              "#bd3786"
             ],
             [
              0.5555555555555556,
              "#d8576b"
             ],
             [
              0.6666666666666666,
              "#ed7953"
             ],
             [
              0.7777777777777778,
              "#fb9f3a"
             ],
             [
              0.8888888888888888,
              "#fdca26"
             ],
             [
              1,
              "#f0f921"
             ]
            ],
            "type": "contour"
           }
          ],
          "contourcarpet": [
           {
            "colorbar": {
             "outlinewidth": 0,
             "ticks": ""
            },
            "type": "contourcarpet"
           }
          ],
          "heatmap": [
           {
            "colorbar": {
             "outlinewidth": 0,
             "ticks": ""
            },
            "colorscale": [
             [
              0,
              "#0d0887"
             ],
             [
              0.1111111111111111,
              "#46039f"
             ],
             [
              0.2222222222222222,
              "#7201a8"
             ],
             [
              0.3333333333333333,
              "#9c179e"
             ],
             [
              0.4444444444444444,
              "#bd3786"
             ],
             [
              0.5555555555555556,
              "#d8576b"
             ],
             [
              0.6666666666666666,
              "#ed7953"
             ],
             [
              0.7777777777777778,
              "#fb9f3a"
             ],
             [
              0.8888888888888888,
              "#fdca26"
             ],
             [
              1,
              "#f0f921"
             ]
            ],
            "type": "heatmap"
           }
          ],
          "heatmapgl": [
           {
            "colorbar": {
             "outlinewidth": 0,
             "ticks": ""
            },
            "colorscale": [
             [
              0,
              "#0d0887"
             ],
             [
              0.1111111111111111,
              "#46039f"
             ],
             [
              0.2222222222222222,
              "#7201a8"
             ],
             [
              0.3333333333333333,
              "#9c179e"
             ],
             [
              0.4444444444444444,
              "#bd3786"
             ],
             [
              0.5555555555555556,
              "#d8576b"
             ],
             [
              0.6666666666666666,
              "#ed7953"
             ],
             [
              0.7777777777777778,
              "#fb9f3a"
             ],
             [
              0.8888888888888888,
              "#fdca26"
             ],
             [
              1,
              "#f0f921"
             ]
            ],
            "type": "heatmapgl"
           }
          ],
          "histogram": [
           {
            "marker": {
             "colorbar": {
              "outlinewidth": 0,
              "ticks": ""
             }
            },
            "type": "histogram"
           }
          ],
          "histogram2d": [
           {
            "colorbar": {
             "outlinewidth": 0,
             "ticks": ""
            },
            "colorscale": [
             [
              0,
              "#0d0887"
             ],
             [
              0.1111111111111111,
              "#46039f"
             ],
             [
              0.2222222222222222,
              "#7201a8"
             ],
             [
              0.3333333333333333,
              "#9c179e"
             ],
             [
              0.4444444444444444,
              "#bd3786"
             ],
             [
              0.5555555555555556,
              "#d8576b"
             ],
             [
              0.6666666666666666,
              "#ed7953"
             ],
             [
              0.7777777777777778,
              "#fb9f3a"
             ],
             [
              0.8888888888888888,
              "#fdca26"
             ],
             [
              1,
              "#f0f921"
             ]
            ],
            "type": "histogram2d"
           }
          ],
          "histogram2dcontour": [
           {
            "colorbar": {
             "outlinewidth": 0,
             "ticks": ""
            },
            "colorscale": [
             [
              0,
              "#0d0887"
             ],
             [
              0.1111111111111111,
              "#46039f"
             ],
             [
              0.2222222222222222,
              "#7201a8"
             ],
             [
              0.3333333333333333,
              "#9c179e"
             ],
             [
              0.4444444444444444,
              "#bd3786"
             ],
             [
              0.5555555555555556,
              "#d8576b"
             ],
             [
              0.6666666666666666,
              "#ed7953"
             ],
             [
              0.7777777777777778,
              "#fb9f3a"
             ],
             [
              0.8888888888888888,
              "#fdca26"
             ],
             [
              1,
              "#f0f921"
             ]
            ],
            "type": "histogram2dcontour"
           }
          ],
          "mesh3d": [
           {
            "colorbar": {
             "outlinewidth": 0,
             "ticks": ""
            },
            "type": "mesh3d"
           }
          ],
          "parcoords": [
           {
            "line": {
             "colorbar": {
              "outlinewidth": 0,
              "ticks": ""
             }
            },
            "type": "parcoords"
           }
          ],
          "pie": [
           {
            "automargin": true,
            "type": "pie"
           }
          ],
          "scatter": [
           {
            "marker": {
             "colorbar": {
              "outlinewidth": 0,
              "ticks": ""
             }
            },
            "type": "scatter"
           }
          ],
          "scatter3d": [
           {
            "line": {
             "colorbar": {
              "outlinewidth": 0,
              "ticks": ""
             }
            },
            "marker": {
             "colorbar": {
              "outlinewidth": 0,
              "ticks": ""
             }
            },
            "type": "scatter3d"
           }
          ],
          "scattercarpet": [
           {
            "marker": {
             "colorbar": {
              "outlinewidth": 0,
              "ticks": ""
             }
            },
            "type": "scattercarpet"
           }
          ],
          "scattergeo": [
           {
            "marker": {
             "colorbar": {
              "outlinewidth": 0,
              "ticks": ""
             }
            },
            "type": "scattergeo"
           }
          ],
          "scattergl": [
           {
            "marker": {
             "colorbar": {
              "outlinewidth": 0,
              "ticks": ""
             }
            },
            "type": "scattergl"
           }
          ],
          "scattermapbox": [
           {
            "marker": {
             "colorbar": {
              "outlinewidth": 0,
              "ticks": ""
             }
            },
            "type": "scattermapbox"
           }
          ],
          "scatterpolar": [
           {
            "marker": {
             "colorbar": {
              "outlinewidth": 0,
              "ticks": ""
             }
            },
            "type": "scatterpolar"
           }
          ],
          "scatterpolargl": [
           {
            "marker": {
             "colorbar": {
              "outlinewidth": 0,
              "ticks": ""
             }
            },
            "type": "scatterpolargl"
           }
          ],
          "scatterternary": [
           {
            "marker": {
             "colorbar": {
              "outlinewidth": 0,
              "ticks": ""
             }
            },
            "type": "scatterternary"
           }
          ],
          "surface": [
           {
            "colorbar": {
             "outlinewidth": 0,
             "ticks": ""
            },
            "colorscale": [
             [
              0,
              "#0d0887"
             ],
             [
              0.1111111111111111,
              "#46039f"
             ],
             [
              0.2222222222222222,
              "#7201a8"
             ],
             [
              0.3333333333333333,
              "#9c179e"
             ],
             [
              0.4444444444444444,
              "#bd3786"
             ],
             [
              0.5555555555555556,
              "#d8576b"
             ],
             [
              0.6666666666666666,
              "#ed7953"
             ],
             [
              0.7777777777777778,
              "#fb9f3a"
             ],
             [
              0.8888888888888888,
              "#fdca26"
             ],
             [
              1,
              "#f0f921"
             ]
            ],
            "type": "surface"
           }
          ],
          "table": [
           {
            "cells": {
             "fill": {
              "color": "#EBF0F8"
             },
             "line": {
              "color": "white"
             }
            },
            "header": {
             "fill": {
              "color": "#C8D4E3"
             },
             "line": {
              "color": "white"
             }
            },
            "type": "table"
           }
          ]
         },
         "layout": {
          "annotationdefaults": {
           "arrowcolor": "#2a3f5f",
           "arrowhead": 0,
           "arrowwidth": 1
          },
          "autotypenumbers": "strict",
          "coloraxis": {
           "colorbar": {
            "outlinewidth": 0,
            "ticks": ""
           }
          },
          "colorscale": {
           "diverging": [
            [
             0,
             "#8e0152"
            ],
            [
             0.1,
             "#c51b7d"
            ],
            [
             0.2,
             "#de77ae"
            ],
            [
             0.3,
             "#f1b6da"
            ],
            [
             0.4,
             "#fde0ef"
            ],
            [
             0.5,
             "#f7f7f7"
            ],
            [
             0.6,
             "#e6f5d0"
            ],
            [
             0.7,
             "#b8e186"
            ],
            [
             0.8,
             "#7fbc41"
            ],
            [
             0.9,
             "#4d9221"
            ],
            [
             1,
             "#276419"
            ]
           ],
           "sequential": [
            [
             0,
             "#0d0887"
            ],
            [
             0.1111111111111111,
             "#46039f"
            ],
            [
             0.2222222222222222,
             "#7201a8"
            ],
            [
             0.3333333333333333,
             "#9c179e"
            ],
            [
             0.4444444444444444,
             "#bd3786"
            ],
            [
             0.5555555555555556,
             "#d8576b"
            ],
            [
             0.6666666666666666,
             "#ed7953"
            ],
            [
             0.7777777777777778,
             "#fb9f3a"
            ],
            [
             0.8888888888888888,
             "#fdca26"
            ],
            [
             1,
             "#f0f921"
            ]
           ],
           "sequentialminus": [
            [
             0,
             "#0d0887"
            ],
            [
             0.1111111111111111,
             "#46039f"
            ],
            [
             0.2222222222222222,
             "#7201a8"
            ],
            [
             0.3333333333333333,
             "#9c179e"
            ],
            [
             0.4444444444444444,
             "#bd3786"
            ],
            [
             0.5555555555555556,
             "#d8576b"
            ],
            [
             0.6666666666666666,
             "#ed7953"
            ],
            [
             0.7777777777777778,
             "#fb9f3a"
            ],
            [
             0.8888888888888888,
             "#fdca26"
            ],
            [
             1,
             "#f0f921"
            ]
           ]
          },
          "colorway": [
           "#636efa",
           "#EF553B",
           "#00cc96",
           "#ab63fa",
           "#FFA15A",
           "#19d3f3",
           "#FF6692",
           "#B6E880",
           "#FF97FF",
           "#FECB52"
          ],
          "font": {
           "color": "#2a3f5f"
          },
          "geo": {
           "bgcolor": "white",
           "lakecolor": "white",
           "landcolor": "#E5ECF6",
           "showlakes": true,
           "showland": true,
           "subunitcolor": "white"
          },
          "hoverlabel": {
           "align": "left"
          },
          "hovermode": "closest",
          "mapbox": {
           "style": "light"
          },
          "paper_bgcolor": "white",
          "plot_bgcolor": "#E5ECF6",
          "polar": {
           "angularaxis": {
            "gridcolor": "white",
            "linecolor": "white",
            "ticks": ""
           },
           "bgcolor": "#E5ECF6",
           "radialaxis": {
            "gridcolor": "white",
            "linecolor": "white",
            "ticks": ""
           }
          },
          "scene": {
           "xaxis": {
            "backgroundcolor": "#E5ECF6",
            "gridcolor": "white",
            "gridwidth": 2,
            "linecolor": "white",
            "showbackground": true,
            "ticks": "",
            "zerolinecolor": "white"
           },
           "yaxis": {
            "backgroundcolor": "#E5ECF6",
            "gridcolor": "white",
            "gridwidth": 2,
            "linecolor": "white",
            "showbackground": true,
            "ticks": "",
            "zerolinecolor": "white"
           },
           "zaxis": {
            "backgroundcolor": "#E5ECF6",
            "gridcolor": "white",
            "gridwidth": 2,
            "linecolor": "white",
            "showbackground": true,
            "ticks": "",
            "zerolinecolor": "white"
           }
          },
          "shapedefaults": {
           "line": {
            "color": "#2a3f5f"
           }
          },
          "ternary": {
           "aaxis": {
            "gridcolor": "white",
            "linecolor": "white",
            "ticks": ""
           },
           "baxis": {
            "gridcolor": "white",
            "linecolor": "white",
            "ticks": ""
           },
           "bgcolor": "#E5ECF6",
           "caxis": {
            "gridcolor": "white",
            "linecolor": "white",
            "ticks": ""
           }
          },
          "title": {
           "x": 0.05
          },
          "xaxis": {
           "automargin": true,
           "gridcolor": "white",
           "linecolor": "white",
           "ticks": "",
           "title": {
            "standoff": 15
           },
           "zerolinecolor": "white",
           "zerolinewidth": 2
          },
          "yaxis": {
           "automargin": true,
           "gridcolor": "white",
           "linecolor": "white",
           "ticks": "",
           "title": {
            "standoff": 15
           },
           "zerolinecolor": "white",
           "zerolinewidth": 2
          }
         }
        },
        "xaxis": {
         "anchor": "y",
         "autorange": true,
         "domain": [
          0.021994260504561658,
          0.9780057394954383
         ],
         "range": [
          -0.5,
          287.5
         ]
        },
        "yaxis": {
         "anchor": "x",
         "autorange": true,
         "domain": [
          0,
          1
         ],
         "range": [
          147.5,
          -0.5
         ]
        }
       }
      },
      "image/png": "[encoded data removed]",
      "text/html": [
       "<div>                            <div id=\"aae85011-8af7-4c30-af12-b3a5a09794df\" class=\"plotly-graph-div\" style=\"height:525px; width:100%;\"></div>            <script type=\"text/javascript\">                require([\"plotly\"], function(Plotly) {                    window.PLOTLYENV=window.PLOTLYENV || {};                                    if (document.getElementById(\"aae85011-8af7-4c30-af12-b3a5a09794df\")) {                    Plotly.newPlot(                        \"aae85011-8af7-4c30-af12-b3a5a09794df\",                        [{\"hovertemplate\": \"x: %{x}<br>y: %{y}<br>color: [%{z[0]}, %{z[1]}, %{z[2]}]<extra></extra>\", \"name\": \"0\", \"source\": \"data:image/png;base64,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\", \"type\": \"image\", \"xaxis\": \"x\", \"yaxis\": \"y\"}],                        {\"margin\": {\"t\": 60}, \"template\": {\"data\": {\"bar\": [{\"error_x\": {\"color\": \"#2a3f5f\"}, \"error_y\": {\"color\": \"#2a3f5f\"}, \"marker\": {\"line\": {\"color\": \"#E5ECF6\", \"width\": 0.5}}, \"type\": \"bar\"}], \"barpolar\": [{\"marker\": {\"line\": {\"color\": \"#E5ECF6\", \"width\": 0.5}}, \"type\": \"barpolar\"}], \"carpet\": [{\"aaxis\": {\"endlinecolor\": \"#2a3f5f\", \"gridcolor\": \"white\", \"linecolor\": \"white\", \"minorgridcolor\": \"white\", \"startlinecolor\": \"#2a3f5f\"}, \"baxis\": {\"endlinecolor\": \"#2a3f5f\", \"gridcolor\": \"white\", \"linecolor\": \"white\", \"minorgridcolor\": \"white\", \"startlinecolor\": \"#2a3f5f\"}, \"type\": \"carpet\"}], \"choropleth\": [{\"colorbar\": {\"outlinewidth\": 0, \"ticks\": \"\"}, \"type\": \"choropleth\"}], \"contour\": [{\"colorbar\": {\"outlinewidth\": 0, \"ticks\": \"\"}, \"colorscale\": [[0.0, \"#0d0887\"], [0.1111111111111111, \"#46039f\"], [0.2222222222222222, \"#7201a8\"], [0.3333333333333333, \"#9c179e\"], [0.4444444444444444, \"#bd3786\"], [0.5555555555555556, \"#d8576b\"], [0.6666666666666666, \"#ed7953\"], [0.7777777777777778, \"#fb9f3a\"], [0.8888888888888888, \"#fdca26\"], [1.0, \"#f0f921\"]], \"type\": \"contour\"}], \"contourcarpet\": [{\"colorbar\": {\"outlinewidth\": 0, \"ticks\": \"\"}, \"type\": \"contourcarpet\"}], \"heatmap\": [{\"colorbar\": {\"outlinewidth\": 0, \"ticks\": \"\"}, \"colorscale\": [[0.0, \"#0d0887\"], [0.1111111111111111, \"#46039f\"], [0.2222222222222222, \"#7201a8\"], [0.3333333333333333, \"#9c179e\"], [0.4444444444444444, \"#bd3786\"], [0.5555555555555556, \"#d8576b\"], [0.6666666666666666, \"#ed7953\"], [0.7777777777777778, \"#fb9f3a\"], [0.8888888888888888, \"#fdca26\"], [1.0, \"#f0f921\"]], \"type\": \"heatmap\"}], \"heatmapgl\": [{\"colorbar\": {\"outlinewidth\": 0, \"ticks\": \"\"}, \"colorscale\": [[0.0, \"#0d0887\"], [0.1111111111111111, \"#46039f\"], [0.2222222222222222, \"#7201a8\"], [0.3333333333333333, \"#9c179e\"], [0.4444444444444444, \"#bd3786\"], [0.5555555555555556, \"#d8576b\"], [0.6666666666666666, \"#ed7953\"], [0.7777777777777778, \"#fb9f3a\"], [0.8888888888888888, \"#fdca26\"], [1.0, \"#f0f921\"]], \"type\": \"heatmapgl\"}], \"histogram\": [{\"marker\": {\"colorbar\": {\"outlinewidth\": 0, \"ticks\": \"\"}}, \"type\": \"histogram\"}], \"histogram2d\": [{\"colorbar\": {\"outlinewidth\": 0, \"ticks\": \"\"}, \"colorscale\": [[0.0, \"#0d0887\"], [0.1111111111111111, \"#46039f\"], [0.2222222222222222, \"#7201a8\"], [0.3333333333333333, \"#9c179e\"], [0.4444444444444444, \"#bd3786\"], [0.5555555555555556, \"#d8576b\"], [0.6666666666666666, \"#ed7953\"], [0.7777777777777778, \"#fb9f3a\"], [0.8888888888888888, \"#fdca26\"], [1.0, \"#f0f921\"]], \"type\": \"histogram2d\"}], \"histogram2dcontour\": [{\"colorbar\": {\"outlinewidth\": 0, \"ticks\": \"\"}, \"colorscale\": [[0.0, \"#0d0887\"], [0.1111111111111111, \"#46039f\"], [0.2222222222222222, \"#7201a8\"], [0.3333333333333333, \"#9c179e\"], [0.4444444444444444, \"#bd3786\"], [0.5555555555555556, \"#d8576b\"], [0.6666666666666666, \"#ed7953\"], [0.7777777777777778, \"#fb9f3a\"], [0.8888888888888888, \"#fdca26\"], [1.0, \"#f0f921\"]], \"type\": \"histogram2dcontour\"}], \"mesh3d\": [{\"colorbar\": {\"outlinewidth\": 0, \"ticks\": \"\"}, \"type\": \"mesh3d\"}], \"parcoords\": [{\"line\": {\"colorbar\": {\"outlinewidth\": 0, \"ticks\": \"\"}}, \"type\": \"parcoords\"}], \"pie\": [{\"automargin\": true, \"type\": \"pie\"}], \"scatter\": [{\"marker\": {\"colorbar\": {\"outlinewidth\": 0, \"ticks\": \"\"}}, \"type\": \"scatter\"}], \"scatter3d\": [{\"line\": {\"colorbar\": {\"outlinewidth\": 0, \"ticks\": \"\"}}, \"marker\": {\"colorbar\": {\"outlinewidth\": 0, \"ticks\": \"\"}}, \"type\": \"scatter3d\"}], \"scattercarpet\": [{\"marker\": {\"colorbar\": {\"outlinewidth\": 0, \"ticks\": \"\"}}, \"type\": \"scattercarpet\"}], \"scattergeo\": [{\"marker\": {\"colorbar\": {\"outlinewidth\": 0, \"ticks\": \"\"}}, \"type\": \"scattergeo\"}], \"scattergl\": [{\"marker\": {\"colorbar\": {\"outlinewidth\": 0, \"ticks\": \"\"}}, \"type\": \"scattergl\"}], \"scattermapbox\": [{\"marker\": {\"colorbar\": {\"outlinewidth\": 0, \"ticks\": \"\"}}, \"type\": \"scattermapbox\"}], \"scatterpolar\": [{\"marker\": {\"colorbar\": {\"outlinewidth\": 0, \"ticks\": \"\"}}, \"type\": \"scatterpolar\"}], \"scatterpolargl\": [{\"marker\": {\"colorbar\": {\"outlinewidth\": 0, \"ticks\": \"\"}}, \"type\": \"scatterpolargl\"}], \"scatterternary\": [{\"marker\": {\"colorbar\": {\"outlinewidth\": 0, \"ticks\": \"\"}}, \"type\": \"scatterternary\"}], \"surface\": [{\"colorbar\": {\"outlinewidth\": 0, \"ticks\": \"\"}, \"colorscale\": [[0.0, \"#0d0887\"], [0.1111111111111111, \"#46039f\"], [0.2222222222222222, \"#7201a8\"], [0.3333333333333333, \"#9c179e\"], [0.4444444444444444, \"#bd3786\"], [0.5555555555555556, \"#d8576b\"], [0.6666666666666666, \"#ed7953\"], [0.7777777777777778, \"#fb9f3a\"], [0.8888888888888888, \"#fdca26\"], [1.0, \"#f0f921\"]], \"type\": \"surface\"}], \"table\": [{\"cells\": {\"fill\": {\"color\": \"#EBF0F8\"}, \"line\": {\"color\": \"white\"}}, \"header\": {\"fill\": {\"color\": \"#C8D4E3\"}, \"line\": {\"color\": \"white\"}}, \"type\": \"table\"}]}, \"layout\": {\"annotationdefaults\": {\"arrowcolor\": \"#2a3f5f\", \"arrowhead\": 0, \"arrowwidth\": 1}, \"autotypenumbers\": \"strict\", \"coloraxis\": {\"colorbar\": {\"outlinewidth\": 0, \"ticks\": \"\"}}, \"colorscale\": {\"diverging\": [[0, \"#8e0152\"], [0.1, \"#c51b7d\"], [0.2, \"#de77ae\"], [0.3, \"#f1b6da\"], [0.4, \"#fde0ef\"], [0.5, \"#f7f7f7\"], [0.6, \"#e6f5d0\"], [0.7, \"#b8e186\"], [0.8, \"#7fbc41\"], [0.9, \"#4d9221\"], [1, \"#276419\"]], \"sequential\": [[0.0, \"#0d0887\"], [0.1111111111111111, \"#46039f\"], [0.2222222222222222, \"#7201a8\"], [0.3333333333333333, \"#9c179e\"], [0.4444444444444444, \"#bd3786\"], [0.5555555555555556, \"#d8576b\"], [0.6666666666666666, \"#ed7953\"], [0.7777777777777778, \"#fb9f3a\"], [0.8888888888888888, \"#fdca26\"], [1.0, \"#f0f921\"]], \"sequentialminus\": [[0.0, \"#0d0887\"], [0.1111111111111111, \"#46039f\"], [0.2222222222222222, \"#7201a8\"], [0.3333333333333333, \"#9c179e\"], [0.4444444444444444, \"#bd3786\"], [0.5555555555555556, \"#d8576b\"], [0.6666666666666666, \"#ed7953\"], [0.7777777777777778, \"#fb9f3a\"], [0.8888888888888888, \"#fdca26\"], [1.0, \"#f0f921\"]]}, \"colorway\": [\"#636efa\", \"#EF553B\", \"#00cc96\", \"#ab63fa\", \"#FFA15A\", \"#19d3f3\", \"#FF6692\", \"#B6E880\", \"#FF97FF\", \"#FECB52\"], \"font\": {\"color\": \"#2a3f5f\"}, \"geo\": {\"bgcolor\": \"white\", \"lakecolor\": \"white\", \"landcolor\": \"#E5ECF6\", \"showlakes\": true, \"showland\": true, \"subunitcolor\": \"white\"}, \"hoverlabel\": {\"align\": \"left\"}, \"hovermode\": \"closest\", \"mapbox\": {\"style\": \"light\"}, \"paper_bgcolor\": \"white\", \"plot_bgcolor\": \"#E5ECF6\", \"polar\": {\"angularaxis\": {\"gridcolor\": \"white\", \"linecolor\": \"white\", \"ticks\": \"\"}, \"bgcolor\": \"#E5ECF6\", \"radialaxis\": {\"gridcolor\": \"white\", \"linecolor\": \"white\", \"ticks\": \"\"}}, \"scene\": {\"xaxis\": {\"backgroundcolor\": \"#E5ECF6\", \"gridcolor\": \"white\", \"gridwidth\": 2, \"linecolor\": \"white\", \"showbackground\": true, \"ticks\": \"\", \"zerolinecolor\": \"white\"}, \"yaxis\": {\"backgroundcolor\": \"#E5ECF6\", \"gridcolor\": \"white\", \"gridwidth\": 2, \"linecolor\": \"white\", \"showbackground\": true, \"ticks\": \"\", \"zerolinecolor\": \"white\"}, \"zaxis\": {\"backgroundcolor\": \"#E5ECF6\", \"gridcolor\": \"white\", \"gridwidth\": 2, \"linecolor\": \"white\", \"showbackground\": true, \"ticks\": \"\", \"zerolinecolor\": \"white\"}}, \"shapedefaults\": {\"line\": {\"color\": \"#2a3f5f\"}}, \"ternary\": {\"aaxis\": {\"gridcolor\": \"white\", \"linecolor\": \"white\", \"ticks\": \"\"}, \"baxis\": {\"gridcolor\": \"white\", \"linecolor\": \"white\", \"ticks\": \"\"}, \"bgcolor\": \"#E5ECF6\", \"caxis\": {\"gridcolor\": \"white\", \"linecolor\": \"white\", \"ticks\": \"\"}}, \"title\": {\"x\": 0.05}, \"xaxis\": {\"automargin\": true, \"gridcolor\": \"white\", \"linecolor\": \"white\", \"ticks\": \"\", \"title\": {\"standoff\": 15}, \"zerolinecolor\": \"white\", \"zerolinewidth\": 2}, \"yaxis\": {\"automargin\": true, \"gridcolor\": \"white\", \"linecolor\": \"white\", \"ticks\": \"\", \"title\": {\"standoff\": 15}, \"zerolinecolor\": \"white\", \"zerolinewidth\": 2}}}, \"xaxis\": {\"anchor\": \"y\", \"domain\": [0.0, 1.0]}, \"yaxis\": {\"anchor\": \"x\", \"domain\": [0.0, 1.0]}},                        {\"responsive\": true}                    ).then(function(){\n",
       "                            \n",
       "var gd = document.getElementById('aae85011-8af7-4c30-af12-b3a5a09794df');\n",
       "var x = new MutationObserver(function (mutations, observer) {{\n",
       "        var display = window.getComputedStyle(gd).display;\n",
       "        if (!display || display === 'none') {{\n",
       "            console.log([gd, 'removed!']);\n",
       "            Plotly.purge(gd);\n",
       "            observer.disconnect();\n",
       "        }}\n",
       "}});\n",
       "\n",
       "// Listen for the removal of the full notebook cells\n",
       "var notebookContainer = gd.closest('#notebook-container');\n",
       "if (notebookContainer) {{\n",
       "    x.observe(notebookContainer, {childList: true});\n",
       "}}\n",
       "\n",
       "// Listen for the clearing of the current output cell\n",
       "var outputEl = gd.closest('.output');\n",
       "if (outputEl) {{\n",
       "    x.observe(outputEl, {childList: true});\n",
       "}}\n",
       "\n",
       "                        })                };                });            </script>        </div>"
      ]
     },
     "metadata": {},
     "output_type": "display_data"
    }
   ],
   "source": [
    "INDEX = 1\n",
    "\n",
    "sample = train_df.iloc[INDEX]\n",
    "sample.image_id\n",
    "\n",
    "image_path = constants.COMPETITION_DATADIR / \"train\" / \"/\".join(sample.image_id[:3]) / f\"{sample.image_id}.png\"\n",
    "image = cv2.imread(str(image_path))\n",
    "image = cv2.cvtColor(image, cv2.COLOR_BGR2RGB).astype(\"f\")\n",
    "px.imshow(image)"
   ]
  },
  {
   "cell_type": "code",
   "execution_count": 27,
   "id": "invisible-forestry",
   "metadata": {},
   "outputs": [],
   "source": [
    "transforms = A.Compose(\n",
    "    [A.Resize(height=224, width=224)]\n",
    ")"
   ]
  },
  {
   "cell_type": "code",
   "execution_count": 31,
   "id": "liked-checkout",
   "metadata": {},
   "outputs": [
    {
     "data": {
      "application/vnd.plotly.v1+json": {
       "config": {
        "plotlyServerURL": "https://plot.ly"
       },
       "data": [
        {
         "hovertemplate": "x: %{x}<br>y: %{y}<extra></extra>",
         "name": "0",
         "source": "data:image/png;base64,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",
         "type": "image",
         "xaxis": "x",
         "yaxis": "y"
        }
       ],
       "layout": {
        "autosize": true,
        "margin": {
         "t": 60
        },
        "template": {
         "data": {
          "bar": [
           {
            "error_x": {
             "color": "#2a3f5f"
            },
            "error_y": {
             "color": "#2a3f5f"
            },
            "marker": {
             "line": {
              "color": "#E5ECF6",
              "width": 0.5
             }
            },
            "type": "bar"
           }
          ],
          "barpolar": [
           {
            "marker": {
             "line": {
              "color": "#E5ECF6",
              "width": 0.5
             }
            },
            "type": "barpolar"
           }
          ],
          "carpet": [
           {
            "aaxis": {
             "endlinecolor": "#2a3f5f",
             "gridcolor": "white",
             "linecolor": "white",
             "minorgridcolor": "white",
             "startlinecolor": "#2a3f5f"
            },
            "baxis": {
             "endlinecolor": "#2a3f5f",
             "gridcolor": "white",
             "linecolor": "white",
             "minorgridcolor": "white",
             "startlinecolor": "#2a3f5f"
            },
            "type": "carpet"
           }
          ],
          "choropleth": [
           {
            "colorbar": {
             "outlinewidth": 0,
             "ticks": ""
            },
            "type": "choropleth"
           }
          ],
          "contour": [
           {
            "colorbar": {
             "outlinewidth": 0,
             "ticks": ""
            },
            "colorscale": [
             [
              0,
              "#0d0887"
             ],
             [
              0.1111111111111111,
              "#46039f"
             ],
             [
              0.2222222222222222,
              "#7201a8"
             ],
             [
              0.3333333333333333,
              "#9c179e"
             ],
             [
              0.4444444444444444,
              "#bd3786"
             ],
             [
              0.5555555555555556,
              "#d8576b"
             ],
             [
              0.6666666666666666,
              "#ed7953"
             ],
             [
              0.7777777777777778,
              "#fb9f3a"
             ],
             [
              0.8888888888888888,
              "#fdca26"
             ],
             [
              1,
              "#f0f921"
             ]
            ],
            "type": "contour"
           }
          ],
          "contourcarpet": [
           {
            "colorbar": {
             "outlinewidth": 0,
             "ticks": ""
            },
            "type": "contourcarpet"
           }
          ],
          "heatmap": [
           {
            "colorbar": {
             "outlinewidth": 0,
             "ticks": ""
            },
            "colorscale": [
             [
              0,
              "#0d0887"
             ],
             [
              0.1111111111111111,
              "#46039f"
             ],
             [
              0.2222222222222222,
              "#7201a8"
             ],
             [
              0.3333333333333333,
              "#9c179e"
             ],
             [
              0.4444444444444444,
              "#bd3786"
             ],
             [
              0.5555555555555556,
              "#d8576b"
             ],
             [
              0.6666666666666666,
              "#ed7953"
             ],
             [
              0.7777777777777778,
              "#fb9f3a"
             ],
             [
              0.8888888888888888,
              "#fdca26"
             ],
             [
              1,
              "#f0f921"
             ]
            ],
            "type": "heatmap"
           }
          ],
          "heatmapgl": [
           {
            "colorbar": {
             "outlinewidth": 0,
             "ticks": ""
            },
            "colorscale": [
             [
              0,
              "#0d0887"
             ],
             [
              0.1111111111111111,
              "#46039f"
             ],
             [
              0.2222222222222222,
              "#7201a8"
             ],
             [
              0.3333333333333333,
              "#9c179e"
             ],
             [
              0.4444444444444444,
              "#bd3786"
             ],
             [
              0.5555555555555556,
              "#d8576b"
             ],
             [
              0.6666666666666666,
              "#ed7953"
             ],
             [
              0.7777777777777778,
              "#fb9f3a"
             ],
             [
              0.8888888888888888,
              "#fdca26"
             ],
             [
              1,
              "#f0f921"
             ]
            ],
            "type": "heatmapgl"
           }
          ],
          "histogram": [
           {
            "marker": {
             "colorbar": {
              "outlinewidth": 0,
              "ticks": ""
             }
            },
            "type": "histogram"
           }
          ],
          "histogram2d": [
           {
            "colorbar": {
             "outlinewidth": 0,
             "ticks": ""
            },
            "colorscale": [
             [
              0,
              "#0d0887"
             ],
             [
              0.1111111111111111,
              "#46039f"
             ],
             [
              0.2222222222222222,
              "#7201a8"
             ],
             [
              0.3333333333333333,
              "#9c179e"
             ],
             [
              0.4444444444444444,
              "#bd3786"
             ],
             [
              0.5555555555555556,
              "#d8576b"
             ],
             [
              0.6666666666666666,
              "#ed7953"
             ],
             [
              0.7777777777777778,
              "#fb9f3a"
             ],
             [
              0.8888888888888888,
              "#fdca26"
             ],
             [
              1,
              "#f0f921"
             ]
            ],
            "type": "histogram2d"
           }
          ],
          "histogram2dcontour": [
           {
            "colorbar": {
             "outlinewidth": 0,
             "ticks": ""
            },
            "colorscale": [
             [
              0,
              "#0d0887"
             ],
             [
              0.1111111111111111,
              "#46039f"
             ],
             [
              0.2222222222222222,
              "#7201a8"
             ],
             [
              0.3333333333333333,
              "#9c179e"
             ],
             [
              0.4444444444444444,
              "#bd3786"
             ],
             [
              0.5555555555555556,
              "#d8576b"
             ],
             [
              0.6666666666666666,
              "#ed7953"
             ],
             [
              0.7777777777777778,
              "#fb9f3a"
             ],
             [
              0.8888888888888888,
              "#fdca26"
             ],
             [
              1,
              "#f0f921"
             ]
            ],
            "type": "histogram2dcontour"
           }
          ],
          "mesh3d": [
           {
            "colorbar": {
             "outlinewidth": 0,
             "ticks": ""
            },
            "type": "mesh3d"
           }
          ],
          "parcoords": [
           {
            "line": {
             "colorbar": {
              "outlinewidth": 0,
              "ticks": ""
             }
            },
            "type": "parcoords"
           }
          ],
          "pie": [
           {
            "automargin": true,
            "type": "pie"
           }
          ],
          "scatter": [
           {
            "marker": {
             "colorbar": {
              "outlinewidth": 0,
              "ticks": ""
             }
            },
            "type": "scatter"
           }
          ],
          "scatter3d": [
           {
            "line": {
             "colorbar": {
              "outlinewidth": 0,
              "ticks": ""
             }
            },
            "marker": {
             "colorbar": {
              "outlinewidth": 0,
              "ticks": ""
             }
            },
            "type": "scatter3d"
           }
          ],
          "scattercarpet": [
           {
            "marker": {
             "colorbar": {
              "outlinewidth": 0,
              "ticks": ""
             }
            },
            "type": "scattercarpet"
           }
          ],
          "scattergeo": [
           {
            "marker": {
             "colorbar": {
              "outlinewidth": 0,
              "ticks": ""
             }
            },
            "type": "scattergeo"
           }
          ],
          "scattergl": [
           {
            "marker": {
             "colorbar": {
              "outlinewidth": 0,
              "ticks": ""
             }
            },
            "type": "scattergl"
           }
          ],
          "scattermapbox": [
           {
            "marker": {
             "colorbar": {
              "outlinewidth": 0,
              "ticks": ""
             }
            },
            "type": "scattermapbox"
           }
          ],
          "scatterpolar": [
           {
            "marker": {
             "colorbar": {
              "outlinewidth": 0,
              "ticks": ""
             }
            },
            "type": "scatterpolar"
           }
          ],
          "scatterpolargl": [
           {
            "marker": {
             "colorbar": {
              "outlinewidth": 0,
              "ticks": ""
             }
            },
            "type": "scatterpolargl"
           }
          ],
          "scatterternary": [
           {
            "marker": {
             "colorbar": {
              "outlinewidth": 0,
              "ticks": ""
             }
            },
            "type": "scatterternary"
           }
          ],
          "surface": [
           {
            "colorbar": {
             "outlinewidth": 0,
             "ticks": ""
            },
            "colorscale": [
             [
              0,
              "#0d0887"
             ],
             [
              0.1111111111111111,
              "#46039f"
             ],
             [
              0.2222222222222222,
              "#7201a8"
             ],
             [
              0.3333333333333333,
              "#9c179e"
             ],
             [
              0.4444444444444444,
              "#bd3786"
             ],
             [
              0.5555555555555556,
              "#d8576b"
             ],
             [
              0.6666666666666666,
              "#ed7953"
             ],
             [
              0.7777777777777778,
              "#fb9f3a"
             ],
             [
              0.8888888888888888,
              "#fdca26"
             ],
             [
              1,
              "#f0f921"
             ]
            ],
            "type": "surface"
           }
          ],
          "table": [
           {
            "cells": {
             "fill": {
              "color": "#EBF0F8"
             },
             "line": {
              "color": "white"
             }
            },
            "header": {
             "fill": {
              "color": "#C8D4E3"
             },
             "line": {
              "color": "white"
             }
            },
            "type": "table"
           }
          ]
         },
         "layout": {
          "annotationdefaults": {
           "arrowcolor": "#2a3f5f",
           "arrowhead": 0,
           "arrowwidth": 1
          },
          "autotypenumbers": "strict",
          "coloraxis": {
           "colorbar": {
            "outlinewidth": 0,
            "ticks": ""
           }
          },
          "colorscale": {
           "diverging": [
            [
             0,
             "#8e0152"
            ],
            [
             0.1,
             "#c51b7d"
            ],
            [
             0.2,
             "#de77ae"
            ],
            [
             0.3,
             "#f1b6da"
            ],
            [
             0.4,
             "#fde0ef"
            ],
            [
             0.5,
             "#f7f7f7"
            ],
            [
             0.6,
             "#e6f5d0"
            ],
            [
             0.7,
             "#b8e186"
            ],
            [
             0.8,
             "#7fbc41"
            ],
            [
             0.9,
             "#4d9221"
            ],
            [
             1,
             "#276419"
            ]
           ],
           "sequential": [
            [
             0,
             "#0d0887"
            ],
            [
             0.1111111111111111,
             "#46039f"
            ],
            [
             0.2222222222222222,
             "#7201a8"
            ],
            [
             0.3333333333333333,
             "#9c179e"
            ],
            [
             0.4444444444444444,
             "#bd3786"
            ],
            [
             0.5555555555555556,
             "#d8576b"
            ],
            [
             0.6666666666666666,
             "#ed7953"
            ],
            [
             0.7777777777777778,
             "#fb9f3a"
            ],
            [
             0.8888888888888888,
             "#fdca26"
            ],
            [
             1,
             "#f0f921"
            ]
           ],
           "sequentialminus": [
            [
             0,
             "#0d0887"
            ],
            [
             0.1111111111111111,
             "#46039f"
            ],
            [
             0.2222222222222222,
             "#7201a8"
            ],
            [
             0.3333333333333333,
             "#9c179e"
            ],
            [
             0.4444444444444444,
             "#bd3786"
            ],
            [
             0.5555555555555556,
             "#d8576b"
            ],
            [
             0.6666666666666666,
             "#ed7953"
            ],
            [
             0.7777777777777778,
             "#fb9f3a"
            ],
            [
             0.8888888888888888,
             "#fdca26"
            ],
            [
             1,
             "#f0f921"
            ]
           ]
          },
          "colorway": [
           "#636efa",
           "#EF553B",
           "#00cc96",
           "#ab63fa",
           "#FFA15A",
           "#19d3f3",
           "#FF6692",
           "#B6E880",
           "#FF97FF",
           "#FECB52"
          ],
          "font": {
           "color": "#2a3f5f"
          },
          "geo": {
           "bgcolor": "white",
           "lakecolor": "white",
           "landcolor": "#E5ECF6",
           "showlakes": true,
           "showland": true,
           "subunitcolor": "white"
          },
          "hoverlabel": {
           "align": "left"
          },
          "hovermode": "closest",
          "mapbox": {
           "style": "light"
          },
          "paper_bgcolor": "white",
          "plot_bgcolor": "#E5ECF6",
          "polar": {
           "angularaxis": {
            "gridcolor": "white",
            "linecolor": "white",
            "ticks": ""
           },
           "bgcolor": "#E5ECF6",
           "radialaxis": {
            "gridcolor": "white",
            "linecolor": "white",
            "ticks": ""
           }
          },
          "scene": {
           "xaxis": {
            "backgroundcolor": "#E5ECF6",
            "gridcolor": "white",
            "gridwidth": 2,
            "linecolor": "white",
            "showbackground": true,
            "ticks": "",
            "zerolinecolor": "white"
           },
           "yaxis": {
            "backgroundcolor": "#E5ECF6",
            "gridcolor": "white",
            "gridwidth": 2,
            "linecolor": "white",
            "showbackground": true,
            "ticks": "",
            "zerolinecolor": "white"
           },
           "zaxis": {
            "backgroundcolor": "#E5ECF6",
            "gridcolor": "white",
            "gridwidth": 2,
            "linecolor": "white",
            "showbackground": true,
            "ticks": "",
            "zerolinecolor": "white"
           }
          },
          "shapedefaults": {
           "line": {
            "color": "#2a3f5f"
           }
          },
          "ternary": {
           "aaxis": {
            "gridcolor": "white",
            "linecolor": "white",
            "ticks": ""
           },
           "baxis": {
            "gridcolor": "white",
            "linecolor": "white",
            "ticks": ""
           },
           "bgcolor": "#E5ECF6",
           "caxis": {
            "gridcolor": "white",
            "linecolor": "white",
            "ticks": ""
           }
          },
          "title": {
           "x": 0.05
          },
          "xaxis": {
           "automargin": true,
           "gridcolor": "white",
           "linecolor": "white",
           "ticks": "",
           "title": {
            "standoff": 15
           },
           "zerolinecolor": "white",
           "zerolinewidth": 2
          },
          "yaxis": {
           "automargin": true,
           "gridcolor": "white",
           "linecolor": "white",
           "ticks": "",
           "title": {
            "standoff": 15
           },
           "zerolinecolor": "white",
           "zerolinewidth": 2
          }
         }
        },
        "xaxis": {
         "anchor": "y",
         "autorange": true,
         "domain": [
          0.2543581616481775,
          0.7456418383518225
         ],
         "range": [
          -0.5,
          223.5
         ]
        },
        "yaxis": {
         "anchor": "x",
         "autorange": true,
         "domain": [
          0,
          1
         ],
         "range": [
          223.5,
          -0.5
         ]
        }
       }
      },
      "image/png": "[encoded data removed]",
      "text/html": [
       "<div>                            <div id=\"28aaa13d-cd04-4be0-8f9a-90e1fc2a590d\" class=\"plotly-graph-div\" style=\"height:525px; width:100%;\"></div>            <script type=\"text/javascript\">                require([\"plotly\"], function(Plotly) {                    window.PLOTLYENV=window.PLOTLYENV || {};                                    if (document.getElementById(\"28aaa13d-cd04-4be0-8f9a-90e1fc2a590d\")) {                    Plotly.newPlot(                        \"28aaa13d-cd04-4be0-8f9a-90e1fc2a590d\",                        [{\"hovertemplate\": \"x: %{x}<br>y: %{y}<extra></extra>\", \"name\": \"0\", \"source\": \"data:image/png;base64,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\", \"type\": \"image\", \"xaxis\": \"x\", \"yaxis\": \"y\"}],                        {\"margin\": {\"t\": 60}, \"template\": {\"data\": {\"bar\": [{\"error_x\": {\"color\": \"#2a3f5f\"}, \"error_y\": {\"color\": \"#2a3f5f\"}, \"marker\": {\"line\": {\"color\": \"#E5ECF6\", \"width\": 0.5}}, \"type\": \"bar\"}], \"barpolar\": [{\"marker\": {\"line\": {\"color\": \"#E5ECF6\", \"width\": 0.5}}, \"type\": \"barpolar\"}], \"carpet\": [{\"aaxis\": {\"endlinecolor\": \"#2a3f5f\", \"gridcolor\": \"white\", \"linecolor\": \"white\", \"minorgridcolor\": \"white\", \"startlinecolor\": \"#2a3f5f\"}, \"baxis\": {\"endlinecolor\": \"#2a3f5f\", \"gridcolor\": \"white\", \"linecolor\": \"white\", \"minorgridcolor\": \"white\", \"startlinecolor\": \"#2a3f5f\"}, \"type\": \"carpet\"}], \"choropleth\": [{\"colorbar\": {\"outlinewidth\": 0, \"ticks\": \"\"}, \"type\": \"choropleth\"}], \"contour\": [{\"colorbar\": {\"outlinewidth\": 0, \"ticks\": \"\"}, \"colorscale\": [[0.0, \"#0d0887\"], [0.1111111111111111, \"#46039f\"], [0.2222222222222222, \"#7201a8\"], [0.3333333333333333, \"#9c179e\"], [0.4444444444444444, \"#bd3786\"], [0.5555555555555556, \"#d8576b\"], [0.6666666666666666, \"#ed7953\"], [0.7777777777777778, \"#fb9f3a\"], [0.8888888888888888, \"#fdca26\"], [1.0, \"#f0f921\"]], \"type\": \"contour\"}], \"contourcarpet\": [{\"colorbar\": {\"outlinewidth\": 0, \"ticks\": \"\"}, \"type\": \"contourcarpet\"}], \"heatmap\": [{\"colorbar\": {\"outlinewidth\": 0, \"ticks\": \"\"}, \"colorscale\": [[0.0, \"#0d0887\"], [0.1111111111111111, \"#46039f\"], [0.2222222222222222, \"#7201a8\"], [0.3333333333333333, \"#9c179e\"], [0.4444444444444444, \"#bd3786\"], [0.5555555555555556, \"#d8576b\"], [0.6666666666666666, \"#ed7953\"], [0.7777777777777778, \"#fb9f3a\"], [0.8888888888888888, \"#fdca26\"], [1.0, \"#f0f921\"]], \"type\": \"heatmap\"}], \"heatmapgl\": [{\"colorbar\": {\"outlinewidth\": 0, \"ticks\": \"\"}, \"colorscale\": [[0.0, \"#0d0887\"], [0.1111111111111111, \"#46039f\"], [0.2222222222222222, \"#7201a8\"], [0.3333333333333333, \"#9c179e\"], [0.4444444444444444, \"#bd3786\"], [0.5555555555555556, \"#d8576b\"], [0.6666666666666666, \"#ed7953\"], [0.7777777777777778, \"#fb9f3a\"], [0.8888888888888888, \"#fdca26\"], [1.0, \"#f0f921\"]], \"type\": \"heatmapgl\"}], \"histogram\": [{\"marker\": {\"colorbar\": {\"outlinewidth\": 0, \"ticks\": \"\"}}, \"type\": \"histogram\"}], \"histogram2d\": [{\"colorbar\": {\"outlinewidth\": 0, \"ticks\": \"\"}, \"colorscale\": [[0.0, \"#0d0887\"], [0.1111111111111111, \"#46039f\"], [0.2222222222222222, \"#7201a8\"], [0.3333333333333333, \"#9c179e\"], [0.4444444444444444, \"#bd3786\"], [0.5555555555555556, \"#d8576b\"], [0.6666666666666666, \"#ed7953\"], [0.7777777777777778, \"#fb9f3a\"], [0.8888888888888888, \"#fdca26\"], [1.0, \"#f0f921\"]], \"type\": \"histogram2d\"}], \"histogram2dcontour\": [{\"colorbar\": {\"outlinewidth\": 0, \"ticks\": \"\"}, \"colorscale\": [[0.0, \"#0d0887\"], [0.1111111111111111, \"#46039f\"], [0.2222222222222222, \"#7201a8\"], [0.3333333333333333, \"#9c179e\"], [0.4444444444444444, \"#bd3786\"], [0.5555555555555556, \"#d8576b\"], [0.6666666666666666, \"#ed7953\"], [0.7777777777777778, \"#fb9f3a\"], [0.8888888888888888, \"#fdca26\"], [1.0, \"#f0f921\"]], \"type\": \"histogram2dcontour\"}], \"mesh3d\": [{\"colorbar\": {\"outlinewidth\": 0, \"ticks\": \"\"}, \"type\": \"mesh3d\"}], \"parcoords\": [{\"line\": {\"colorbar\": {\"outlinewidth\": 0, \"ticks\": \"\"}}, \"type\": \"parcoords\"}], \"pie\": [{\"automargin\": true, \"type\": \"pie\"}], \"scatter\": [{\"marker\": {\"colorbar\": {\"outlinewidth\": 0, \"ticks\": \"\"}}, \"type\": \"scatter\"}], \"scatter3d\": [{\"line\": {\"colorbar\": {\"outlinewidth\": 0, \"ticks\": \"\"}}, \"marker\": {\"colorbar\": {\"outlinewidth\": 0, \"ticks\": \"\"}}, \"type\": \"scatter3d\"}], \"scattercarpet\": [{\"marker\": {\"colorbar\": {\"outlinewidth\": 0, \"ticks\": \"\"}}, \"type\": \"scattercarpet\"}], \"scattergeo\": [{\"marker\": {\"colorbar\": {\"outlinewidth\": 0, \"ticks\": \"\"}}, \"type\": \"scattergeo\"}], \"scattergl\": [{\"marker\": {\"colorbar\": {\"outlinewidth\": 0, \"ticks\": \"\"}}, \"type\": \"scattergl\"}], \"scattermapbox\": [{\"marker\": {\"colorbar\": {\"outlinewidth\": 0, \"ticks\": \"\"}}, \"type\": \"scattermapbox\"}], \"scatterpolar\": [{\"marker\": {\"colorbar\": {\"outlinewidth\": 0, \"ticks\": \"\"}}, \"type\": \"scatterpolar\"}], \"scatterpolargl\": [{\"marker\": {\"colorbar\": {\"outlinewidth\": 0, \"ticks\": \"\"}}, \"type\": \"scatterpolargl\"}], \"scatterternary\": [{\"marker\": {\"colorbar\": {\"outlinewidth\": 0, \"ticks\": \"\"}}, \"type\": \"scatterternary\"}], \"surface\": [{\"colorbar\": {\"outlinewidth\": 0, \"ticks\": \"\"}, \"colorscale\": [[0.0, \"#0d0887\"], [0.1111111111111111, \"#46039f\"], [0.2222222222222222, \"#7201a8\"], [0.3333333333333333, \"#9c179e\"], [0.4444444444444444, \"#bd3786\"], [0.5555555555555556, \"#d8576b\"], [0.6666666666666666, \"#ed7953\"], [0.7777777777777778, \"#fb9f3a\"], [0.8888888888888888, \"#fdca26\"], [1.0, \"#f0f921\"]], \"type\": \"surface\"}], \"table\": [{\"cells\": {\"fill\": {\"color\": \"#EBF0F8\"}, \"line\": {\"color\": \"white\"}}, \"header\": {\"fill\": {\"color\": \"#C8D4E3\"}, \"line\": {\"color\": \"white\"}}, \"type\": \"table\"}]}, \"layout\": {\"annotationdefaults\": {\"arrowcolor\": \"#2a3f5f\", \"arrowhead\": 0, \"arrowwidth\": 1}, \"autotypenumbers\": \"strict\", \"coloraxis\": {\"colorbar\": {\"outlinewidth\": 0, \"ticks\": \"\"}}, \"colorscale\": {\"diverging\": [[0, \"#8e0152\"], [0.1, \"#c51b7d\"], [0.2, \"#de77ae\"], [0.3, \"#f1b6da\"], [0.4, \"#fde0ef\"], [0.5, \"#f7f7f7\"], [0.6, \"#e6f5d0\"], [0.7, \"#b8e186\"], [0.8, \"#7fbc41\"], [0.9, \"#4d9221\"], [1, \"#276419\"]], \"sequential\": [[0.0, \"#0d0887\"], [0.1111111111111111, \"#46039f\"], [0.2222222222222222, \"#7201a8\"], [0.3333333333333333, \"#9c179e\"], [0.4444444444444444, \"#bd3786\"], [0.5555555555555556, \"#d8576b\"], [0.6666666666666666, \"#ed7953\"], [0.7777777777777778, \"#fb9f3a\"], [0.8888888888888888, \"#fdca26\"], [1.0, \"#f0f921\"]], \"sequentialminus\": [[0.0, \"#0d0887\"], [0.1111111111111111, \"#46039f\"], [0.2222222222222222, \"#7201a8\"], [0.3333333333333333, \"#9c179e\"], [0.4444444444444444, \"#bd3786\"], [0.5555555555555556, \"#d8576b\"], [0.6666666666666666, \"#ed7953\"], [0.7777777777777778, \"#fb9f3a\"], [0.8888888888888888, \"#fdca26\"], [1.0, \"#f0f921\"]]}, \"colorway\": [\"#636efa\", \"#EF553B\", \"#00cc96\", \"#ab63fa\", \"#FFA15A\", \"#19d3f3\", \"#FF6692\", \"#B6E880\", \"#FF97FF\", \"#FECB52\"], \"font\": {\"color\": \"#2a3f5f\"}, \"geo\": {\"bgcolor\": \"white\", \"lakecolor\": \"white\", \"landcolor\": \"#E5ECF6\", \"showlakes\": true, \"showland\": true, \"subunitcolor\": \"white\"}, \"hoverlabel\": {\"align\": \"left\"}, \"hovermode\": \"closest\", \"mapbox\": {\"style\": \"light\"}, \"paper_bgcolor\": \"white\", \"plot_bgcolor\": \"#E5ECF6\", \"polar\": {\"angularaxis\": {\"gridcolor\": \"white\", \"linecolor\": \"white\", \"ticks\": \"\"}, \"bgcolor\": \"#E5ECF6\", \"radialaxis\": {\"gridcolor\": \"white\", \"linecolor\": \"white\", \"ticks\": \"\"}}, \"scene\": {\"xaxis\": {\"backgroundcolor\": \"#E5ECF6\", \"gridcolor\": \"white\", \"gridwidth\": 2, \"linecolor\": \"white\", \"showbackground\": true, \"ticks\": \"\", \"zerolinecolor\": \"white\"}, \"yaxis\": {\"backgroundcolor\": \"#E5ECF6\", \"gridcolor\": \"white\", \"gridwidth\": 2, \"linecolor\": \"white\", \"showbackground\": true, \"ticks\": \"\", \"zerolinecolor\": \"white\"}, \"zaxis\": {\"backgroundcolor\": \"#E5ECF6\", \"gridcolor\": \"white\", \"gridwidth\": 2, \"linecolor\": \"white\", \"showbackground\": true, \"ticks\": \"\", \"zerolinecolor\": \"white\"}}, \"shapedefaults\": {\"line\": {\"color\": \"#2a3f5f\"}}, \"ternary\": {\"aaxis\": {\"gridcolor\": \"white\", \"linecolor\": \"white\", \"ticks\": \"\"}, \"baxis\": {\"gridcolor\": \"white\", \"linecolor\": \"white\", \"ticks\": \"\"}, \"bgcolor\": \"#E5ECF6\", \"caxis\": {\"gridcolor\": \"white\", \"linecolor\": \"white\", \"ticks\": \"\"}}, \"title\": {\"x\": 0.05}, \"xaxis\": {\"automargin\": true, \"gridcolor\": \"white\", \"linecolor\": \"white\", \"ticks\": \"\", \"title\": {\"standoff\": 15}, \"zerolinecolor\": \"white\", \"zerolinewidth\": 2}, \"yaxis\": {\"automargin\": true, \"gridcolor\": \"white\", \"linecolor\": \"white\", \"ticks\": \"\", \"title\": {\"standoff\": 15}, \"zerolinecolor\": \"white\", \"zerolinewidth\": 2}}}, \"xaxis\": {\"anchor\": \"y\", \"domain\": [0.0, 1.0]}, \"yaxis\": {\"anchor\": \"x\", \"domain\": [0.0, 1.0]}},                        {\"responsive\": true}                    ).then(function(){\n",
       "                            \n",
       "var gd = document.getElementById('28aaa13d-cd04-4be0-8f9a-90e1fc2a590d');\n",
       "var x = new MutationObserver(function (mutations, observer) {{\n",
       "        var display = window.getComputedStyle(gd).display;\n",
       "        if (!display || display === 'none') {{\n",
       "            console.log([gd, 'removed!']);\n",
       "            Plotly.purge(gd);\n",
       "            observer.disconnect();\n",
       "        }}\n",
       "}});\n",
       "\n",
       "// Listen for the removal of the full notebook cells\n",
       "var notebookContainer = gd.closest('#notebook-container');\n",
       "if (notebookContainer) {{\n",
       "    x.observe(notebookContainer, {childList: true});\n",
       "}}\n",
       "\n",
       "// Listen for the clearing of the current output cell\n",
       "var outputEl = gd.closest('.output');\n",
       "if (outputEl) {{\n",
       "    x.observe(outputEl, {childList: true});\n",
       "}}\n",
       "\n",
       "                        })                };                });            </script>        </div>"
      ]
     },
     "metadata": {},
     "output_type": "display_data"
    }
   ],
   "source": [
    "px.imshow(transforms(image=image)[\"image\"])"
   ]
  },
  {
   "cell_type": "code",
   "execution_count": 40,
   "id": "interstate-crown",
   "metadata": {},
   "outputs": [
    {
     "name": "stderr",
     "output_type": "stream",
     "text": [
      "/work/submodules/nncomp/src/nncomp/registry.py:49: UserWarning:\n",
      "\n",
      "Factory with name 'AlbumentationCompose' is already present\n",
      "Already registered: '<function AlbumentationCompose at 0x7fe8d61d9a60>'\n",
      "New: '<function AlbumentationCompose at 0x7fe8cb0fa310>'\n",
      "\n"
     ]
    },
    {
     "data": {
      "application/vnd.plotly.v1+json": {
       "config": {
        "plotlyServerURL": "https://plot.ly"
       },
       "data": [
        {
         "hovertemplate": "x: %{x}<br>y: %{y}<br>color: [%{z[0]}, %{z[1]}, %{z[2]}]<extra></extra>",
         "name": "0",
         "source": "data:image/png;base64,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",
         "type": "image",
         "xaxis": "x",
         "yaxis": "y"
        }
       ],
       "layout": {
        "autosize": true,
        "margin": {
         "t": 60
        },
        "template": {
         "data": {
          "bar": [
           {
            "error_x": {
             "color": "#2a3f5f"
            },
            "error_y": {
             "color": "#2a3f5f"
            },
            "marker": {
             "line": {
              "color": "#E5ECF6",
              "width": 0.5
             }
            },
            "type": "bar"
           }
          ],
          "barpolar": [
           {
            "marker": {
             "line": {
              "color": "#E5ECF6",
              "width": 0.5
             }
            },
            "type": "barpolar"
           }
          ],
          "carpet": [
           {
            "aaxis": {
             "endlinecolor": "#2a3f5f",
             "gridcolor": "white",
             "linecolor": "white",
             "minorgridcolor": "white",
             "startlinecolor": "#2a3f5f"
            },
            "baxis": {
             "endlinecolor": "#2a3f5f",
             "gridcolor": "white",
             "linecolor": "white",
             "minorgridcolor": "white",
             "startlinecolor": "#2a3f5f"
            },
            "type": "carpet"
           }
          ],
          "choropleth": [
           {
            "colorbar": {
             "outlinewidth": 0,
             "ticks": ""
            },
            "type": "choropleth"
           }
          ],
          "contour": [
           {
            "colorbar": {
             "outlinewidth": 0,
             "ticks": ""
            },
            "colorscale": [
             [
              0,
              "#0d0887"
             ],
             [
              0.1111111111111111,
              "#46039f"
             ],
             [
              0.2222222222222222,
              "#7201a8"
             ],
             [
              0.3333333333333333,
              "#9c179e"
             ],
             [
              0.4444444444444444,
              "#bd3786"
             ],
             [
              0.5555555555555556,
              "#d8576b"
             ],
             [
              0.6666666666666666,
              "#ed7953"
             ],
             [
              0.7777777777777778,
              "#fb9f3a"
             ],
             [
              0.8888888888888888,
              "#fdca26"
             ],
             [
              1,
              "#f0f921"
             ]
            ],
            "type": "contour"
           }
          ],
          "contourcarpet": [
           {
            "colorbar": {
             "outlinewidth": 0,
             "ticks": ""
            },
            "type": "contourcarpet"
           }
          ],
          "heatmap": [
           {
            "colorbar": {
             "outlinewidth": 0,
             "ticks": ""
            },
            "colorscale": [
             [
              0,
              "#0d0887"
             ],
             [
              0.1111111111111111,
              "#46039f"
             ],
             [
              0.2222222222222222,
              "#7201a8"
             ],
             [
              0.3333333333333333,
              "#9c179e"
             ],
             [
              0.4444444444444444,
              "#bd3786"
             ],
             [
              0.5555555555555556,
              "#d8576b"
             ],
             [
              0.6666666666666666,
              "#ed7953"
             ],
             [
              0.7777777777777778,
              "#fb9f3a"
             ],
             [
              0.8888888888888888,
              "#fdca26"
             ],
             [
              1,
              "#f0f921"
             ]
            ],
            "type": "heatmap"
           }
          ],
          "heatmapgl": [
           {
            "colorbar": {
             "outlinewidth": 0,
             "ticks": ""
            },
            "colorscale": [
             [
              0,
              "#0d0887"
             ],
             [
              0.1111111111111111,
              "#46039f"
             ],
             [
              0.2222222222222222,
              "#7201a8"
             ],
             [
              0.3333333333333333,
              "#9c179e"
             ],
             [
              0.4444444444444444,
              "#bd3786"
             ],
             [
              0.5555555555555556,
              "#d8576b"
             ],
             [
              0.6666666666666666,
              "#ed7953"
             ],
             [
              0.7777777777777778,
              "#fb9f3a"
             ],
             [
              0.8888888888888888,
              "#fdca26"
             ],
             [
              1,
              "#f0f921"
             ]
            ],
            "type": "heatmapgl"
           }
          ],
          "histogram": [
           {
            "marker": {
             "colorbar": {
              "outlinewidth": 0,
              "ticks": ""
             }
            },
            "type": "histogram"
           }
          ],
          "histogram2d": [
           {
            "colorbar": {
             "outlinewidth": 0,
             "ticks": ""
            },
            "colorscale": [
             [
              0,
              "#0d0887"
             ],
             [
              0.1111111111111111,
              "#46039f"
             ],
             [
              0.2222222222222222,
              "#7201a8"
             ],
             [
              0.3333333333333333,
              "#9c179e"
             ],
             [
              0.4444444444444444,
              "#bd3786"
             ],
             [
              0.5555555555555556,
              "#d8576b"
             ],
             [
              0.6666666666666666,
              "#ed7953"
             ],
             [
              0.7777777777777778,
              "#fb9f3a"
             ],
             [
              0.8888888888888888,
              "#fdca26"
             ],
             [
              1,
              "#f0f921"
             ]
            ],
            "type": "histogram2d"
           }
          ],
          "histogram2dcontour": [
           {
            "colorbar": {
             "outlinewidth": 0,
             "ticks": ""
            },
            "colorscale": [
             [
              0,
              "#0d0887"
             ],
             [
              0.1111111111111111,
              "#46039f"
             ],
             [
              0.2222222222222222,
              "#7201a8"
             ],
             [
              0.3333333333333333,
              "#9c179e"
             ],
             [
              0.4444444444444444,
              "#bd3786"
             ],
             [
              0.5555555555555556,
              "#d8576b"
             ],
             [
              0.6666666666666666,
              "#ed7953"
             ],
             [
              0.7777777777777778,
              "#fb9f3a"
             ],
             [
              0.8888888888888888,
              "#fdca26"
             ],
             [
              1,
              "#f0f921"
             ]
            ],
            "type": "histogram2dcontour"
           }
          ],
          "mesh3d": [
           {
            "colorbar": {
             "outlinewidth": 0,
             "ticks": ""
            },
            "type": "mesh3d"
           }
          ],
          "parcoords": [
           {
            "line": {
             "colorbar": {
              "outlinewidth": 0,
              "ticks": ""
             }
            },
            "type": "parcoords"
           }
          ],
          "pie": [
           {
            "automargin": true,
            "type": "pie"
           }
          ],
          "scatter": [
           {
            "marker": {
             "colorbar": {
              "outlinewidth": 0,
              "ticks": ""
             }
            },
            "type": "scatter"
           }
          ],
          "scatter3d": [
           {
            "line": {
             "colorbar": {
              "outlinewidth": 0,
              "ticks": ""
             }
            },
            "marker": {
             "colorbar": {
              "outlinewidth": 0,
              "ticks": ""
             }
            },
            "type": "scatter3d"
           }
          ],
          "scattercarpet": [
           {
            "marker": {
             "colorbar": {
              "outlinewidth": 0,
              "ticks": ""
             }
            },
            "type": "scattercarpet"
           }
          ],
          "scattergeo": [
           {
            "marker": {
             "colorbar": {
              "outlinewidth": 0,
              "ticks": ""
             }
            },
            "type": "scattergeo"
           }
          ],
          "scattergl": [
           {
            "marker": {
             "colorbar": {
              "outlinewidth": 0,
              "ticks": ""
             }
            },
            "type": "scattergl"
           }
          ],
          "scattermapbox": [
           {
            "marker": {
             "colorbar": {
              "outlinewidth": 0,
              "ticks": ""
             }
            },
            "type": "scattermapbox"
           }
          ],
          "scatterpolar": [
           {
            "marker": {
             "colorbar": {
              "outlinewidth": 0,
              "ticks": ""
             }
            },
            "type": "scatterpolar"
           }
          ],
          "scatterpolargl": [
           {
            "marker": {
             "colorbar": {
              "outlinewidth": 0,
              "ticks": ""
             }
            },
            "type": "scatterpolargl"
           }
          ],
          "scatterternary": [
           {
            "marker": {
             "colorbar": {
              "outlinewidth": 0,
              "ticks": ""
             }
            },
            "type": "scatterternary"
           }
          ],
          "surface": [
           {
            "colorbar": {
             "outlinewidth": 0,
             "ticks": ""
            },
            "colorscale": [
             [
              0,
              "#0d0887"
             ],
             [
              0.1111111111111111,
              "#46039f"
             ],
             [
              0.2222222222222222,
              "#7201a8"
             ],
             [
              0.3333333333333333,
              "#9c179e"
             ],
             [
              0.4444444444444444,
              "#bd3786"
             ],
             [
              0.5555555555555556,
              "#d8576b"
             ],
             [
              0.6666666666666666,
              "#ed7953"
             ],
             [
              0.7777777777777778,
              "#fb9f3a"
             ],
             [
              0.8888888888888888,
              "#fdca26"
             ],
             [
              1,
              "#f0f921"
             ]
            ],
            "type": "surface"
           }
          ],
          "table": [
           {
            "cells": {
             "fill": {
              "color": "#EBF0F8"
             },
             "line": {
              "color": "white"
             }
            },
            "header": {
             "fill": {
              "color": "#C8D4E3"
             },
             "line": {
              "color": "white"
             }
            },
            "type": "table"
           }
          ]
         },
         "layout": {
          "annotationdefaults": {
           "arrowcolor": "#2a3f5f",
           "arrowhead": 0,
           "arrowwidth": 1
          },
          "autotypenumbers": "strict",
          "coloraxis": {
           "colorbar": {
            "outlinewidth": 0,
            "ticks": ""
           }
          },
          "colorscale": {
           "diverging": [
            [
             0,
             "#8e0152"
            ],
            [
             0.1,
             "#c51b7d"
            ],
            [
             0.2,
             "#de77ae"
            ],
            [
             0.3,
             "#f1b6da"
            ],
            [
             0.4,
             "#fde0ef"
            ],
            [
             0.5,
             "#f7f7f7"
            ],
            [
             0.6,
             "#e6f5d0"
            ],
            [
             0.7,
             "#b8e186"
            ],
            [
             0.8,
             "#7fbc41"
            ],
            [
             0.9,
             "#4d9221"
            ],
            [
             1,
             "#276419"
            ]
           ],
           "sequential": [
            [
             0,
             "#0d0887"
            ],
            [
             0.1111111111111111,
             "#46039f"
            ],
            [
             0.2222222222222222,
             "#7201a8"
            ],
            [
             0.3333333333333333,
             "#9c179e"
            ],
            [
             0.4444444444444444,
             "#bd3786"
            ],
            [
             0.5555555555555556,
             "#d8576b"
            ],
            [
             0.6666666666666666,
             "#ed7953"
            ],
            [
             0.7777777777777778,
             "#fb9f3a"
            ],
            [
             0.8888888888888888,
             "#fdca26"
            ],
            [
             1,
             "#f0f921"
            ]
           ],
           "sequentialminus": [
            [
             0,
             "#0d0887"
            ],
            [
             0.1111111111111111,
             "#46039f"
            ],
            [
             0.2222222222222222,
             "#7201a8"
            ],
            [
             0.3333333333333333,
             "#9c179e"
            ],
            [
             0.4444444444444444,
             "#bd3786"
            ],
            [
             0.5555555555555556,
             "#d8576b"
            ],
            [
             0.6666666666666666,
             "#ed7953"
            ],
            [
             0.7777777777777778,
             "#fb9f3a"
            ],
            [
             0.8888888888888888,
             "#fdca26"
            ],
            [
             1,
             "#f0f921"
            ]
           ]
          },
          "colorway": [
           "#636efa",
           "#EF553B",
           "#00cc96",
           "#ab63fa",
           "#FFA15A",
           "#19d3f3",
           "#FF6692",
           "#B6E880",
           "#FF97FF",
           "#FECB52"
          ],
          "font": {
           "color": "#2a3f5f"
          },
          "geo": {
           "bgcolor": "white",
           "lakecolor": "white",
           "landcolor": "#E5ECF6",
           "showlakes": true,
           "showland": true,
           "subunitcolor": "white"
          },
          "hoverlabel": {
           "align": "left"
          },
          "hovermode": "closest",
          "mapbox": {
           "style": "light"
          },
          "paper_bgcolor": "white",
          "plot_bgcolor": "#E5ECF6",
          "polar": {
           "angularaxis": {
            "gridcolor": "white",
            "linecolor": "white",
            "ticks": ""
           },
           "bgcolor": "#E5ECF6",
           "radialaxis": {
            "gridcolor": "white",
            "linecolor": "white",
            "ticks": ""
           }
          },
          "scene": {
           "xaxis": {
            "backgroundcolor": "#E5ECF6",
            "gridcolor": "white",
            "gridwidth": 2,
            "linecolor": "white",
            "showbackground": true,
            "ticks": "",
            "zerolinecolor": "white"
           },
           "yaxis": {
            "backgroundcolor": "#E5ECF6",
            "gridcolor": "white",
            "gridwidth": 2,
            "linecolor": "white",
            "showbackground": true,
            "ticks": "",
            "zerolinecolor": "white"
           },
           "zaxis": {
            "backgroundcolor": "#E5ECF6",
            "gridcolor": "white",
            "gridwidth": 2,
            "linecolor": "white",
            "showbackground": true,
            "ticks": "",
            "zerolinecolor": "white"
           }
          },
          "shapedefaults": {
           "line": {
            "color": "#2a3f5f"
           }
          },
          "ternary": {
           "aaxis": {
            "gridcolor": "white",
            "linecolor": "white",
            "ticks": ""
           },
           "baxis": {
            "gridcolor": "white",
            "linecolor": "white",
            "ticks": ""
           },
           "bgcolor": "#E5ECF6",
           "caxis": {
            "gridcolor": "white",
            "linecolor": "white",
            "ticks": ""
           }
          },
          "title": {
           "x": 0.05
          },
          "xaxis": {
           "automargin": true,
           "gridcolor": "white",
           "linecolor": "white",
           "ticks": "",
           "title": {
            "standoff": 15
           },
           "zerolinecolor": "white",
           "zerolinewidth": 2
          },
          "yaxis": {
           "automargin": true,
           "gridcolor": "white",
           "linecolor": "white",
           "ticks": "",
           "title": {
            "standoff": 15
           },
           "zerolinecolor": "white",
           "zerolinewidth": 2
          }
         }
        },
        "xaxis": {
         "anchor": "y",
         "autorange": true,
         "domain": [
          0.2543581616481775,
          0.7456418383518225
         ],
         "range": [
          -0.5,
          287.5
         ]
        },
        "yaxis": {
         "anchor": "x",
         "autorange": true,
         "domain": [
          0,
          1
         ],
         "range": [
          287.5,
          -0.5
         ]
        }
       }
      },
      "image/png": "[encoded data removed]",
      "text/html": [
       "<div>                            <div id=\"df7240a1-36be-4b55-903a-e01668defa85\" class=\"plotly-graph-div\" style=\"height:525px; width:100%;\"></div>            <script type=\"text/javascript\">                require([\"plotly\"], function(Plotly) {                    window.PLOTLYENV=window.PLOTLYENV || {};                                    if (document.getElementById(\"df7240a1-36be-4b55-903a-e01668defa85\")) {                    Plotly.newPlot(                        \"df7240a1-36be-4b55-903a-e01668defa85\",                        [{\"hovertemplate\": \"x: %{x}<br>y: %{y}<br>color: [%{z[0]}, %{z[1]}, %{z[2]}]<extra></extra>\", \"name\": \"0\", \"source\": \"data:image/png;base64,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\", \"type\": \"image\", \"xaxis\": \"x\", \"yaxis\": \"y\"}],                        {\"margin\": {\"t\": 60}, \"template\": {\"data\": {\"bar\": [{\"error_x\": {\"color\": \"#2a3f5f\"}, \"error_y\": {\"color\": \"#2a3f5f\"}, \"marker\": {\"line\": {\"color\": \"#E5ECF6\", \"width\": 0.5}}, \"type\": \"bar\"}], \"barpolar\": [{\"marker\": {\"line\": {\"color\": \"#E5ECF6\", \"width\": 0.5}}, \"type\": \"barpolar\"}], \"carpet\": [{\"aaxis\": {\"endlinecolor\": \"#2a3f5f\", \"gridcolor\": \"white\", \"linecolor\": \"white\", \"minorgridcolor\": \"white\", \"startlinecolor\": \"#2a3f5f\"}, \"baxis\": {\"endlinecolor\": \"#2a3f5f\", \"gridcolor\": \"white\", \"linecolor\": \"white\", \"minorgridcolor\": \"white\", \"startlinecolor\": \"#2a3f5f\"}, \"type\": \"carpet\"}], \"choropleth\": [{\"colorbar\": {\"outlinewidth\": 0, \"ticks\": \"\"}, \"type\": \"choropleth\"}], \"contour\": [{\"colorbar\": {\"outlinewidth\": 0, \"ticks\": \"\"}, \"colorscale\": [[0.0, \"#0d0887\"], [0.1111111111111111, \"#46039f\"], [0.2222222222222222, \"#7201a8\"], [0.3333333333333333, \"#9c179e\"], [0.4444444444444444, \"#bd3786\"], [0.5555555555555556, \"#d8576b\"], [0.6666666666666666, \"#ed7953\"], [0.7777777777777778, \"#fb9f3a\"], [0.8888888888888888, \"#fdca26\"], [1.0, \"#f0f921\"]], \"type\": \"contour\"}], \"contourcarpet\": [{\"colorbar\": {\"outlinewidth\": 0, \"ticks\": \"\"}, \"type\": \"contourcarpet\"}], \"heatmap\": [{\"colorbar\": {\"outlinewidth\": 0, \"ticks\": \"\"}, \"colorscale\": [[0.0, \"#0d0887\"], [0.1111111111111111, \"#46039f\"], [0.2222222222222222, \"#7201a8\"], [0.3333333333333333, \"#9c179e\"], [0.4444444444444444, \"#bd3786\"], [0.5555555555555556, \"#d8576b\"], [0.6666666666666666, \"#ed7953\"], [0.7777777777777778, \"#fb9f3a\"], [0.8888888888888888, \"#fdca26\"], [1.0, \"#f0f921\"]], \"type\": \"heatmap\"}], \"heatmapgl\": [{\"colorbar\": {\"outlinewidth\": 0, \"ticks\": \"\"}, \"colorscale\": [[0.0, \"#0d0887\"], [0.1111111111111111, \"#46039f\"], [0.2222222222222222, \"#7201a8\"], [0.3333333333333333, \"#9c179e\"], [0.4444444444444444, \"#bd3786\"], [0.5555555555555556, \"#d8576b\"], [0.6666666666666666, \"#ed7953\"], [0.7777777777777778, \"#fb9f3a\"], [0.8888888888888888, \"#fdca26\"], [1.0, \"#f0f921\"]], \"type\": \"heatmapgl\"}], \"histogram\": [{\"marker\": {\"colorbar\": {\"outlinewidth\": 0, \"ticks\": \"\"}}, \"type\": \"histogram\"}], \"histogram2d\": [{\"colorbar\": {\"outlinewidth\": 0, \"ticks\": \"\"}, \"colorscale\": [[0.0, \"#0d0887\"], [0.1111111111111111, \"#46039f\"], [0.2222222222222222, \"#7201a8\"], [0.3333333333333333, \"#9c179e\"], [0.4444444444444444, \"#bd3786\"], [0.5555555555555556, \"#d8576b\"], [0.6666666666666666, \"#ed7953\"], [0.7777777777777778, \"#fb9f3a\"], [0.8888888888888888, \"#fdca26\"], [1.0, \"#f0f921\"]], \"type\": \"histogram2d\"}], \"histogram2dcontour\": [{\"colorbar\": {\"outlinewidth\": 0, \"ticks\": \"\"}, \"colorscale\": [[0.0, \"#0d0887\"], [0.1111111111111111, \"#46039f\"], [0.2222222222222222, \"#7201a8\"], [0.3333333333333333, \"#9c179e\"], [0.4444444444444444, \"#bd3786\"], [0.5555555555555556, \"#d8576b\"], [0.6666666666666666, \"#ed7953\"], [0.7777777777777778, \"#fb9f3a\"], [0.8888888888888888, \"#fdca26\"], [1.0, \"#f0f921\"]], \"type\": \"histogram2dcontour\"}], \"mesh3d\": [{\"colorbar\": {\"outlinewidth\": 0, \"ticks\": \"\"}, \"type\": \"mesh3d\"}], \"parcoords\": [{\"line\": {\"colorbar\": {\"outlinewidth\": 0, \"ticks\": \"\"}}, \"type\": \"parcoords\"}], \"pie\": [{\"automargin\": true, \"type\": \"pie\"}], \"scatter\": [{\"marker\": {\"colorbar\": {\"outlinewidth\": 0, \"ticks\": \"\"}}, \"type\": \"scatter\"}], \"scatter3d\": [{\"line\": {\"colorbar\": {\"outlinewidth\": 0, \"ticks\": \"\"}}, \"marker\": {\"colorbar\": {\"outlinewidth\": 0, \"ticks\": \"\"}}, \"type\": \"scatter3d\"}], \"scattercarpet\": [{\"marker\": {\"colorbar\": {\"outlinewidth\": 0, \"ticks\": \"\"}}, \"type\": \"scattercarpet\"}], \"scattergeo\": [{\"marker\": {\"colorbar\": {\"outlinewidth\": 0, \"ticks\": \"\"}}, \"type\": \"scattergeo\"}], \"scattergl\": [{\"marker\": {\"colorbar\": {\"outlinewidth\": 0, \"ticks\": \"\"}}, \"type\": \"scattergl\"}], \"scattermapbox\": [{\"marker\": {\"colorbar\": {\"outlinewidth\": 0, \"ticks\": \"\"}}, \"type\": \"scattermapbox\"}], \"scatterpolar\": [{\"marker\": {\"colorbar\": {\"outlinewidth\": 0, \"ticks\": \"\"}}, \"type\": \"scatterpolar\"}], \"scatterpolargl\": [{\"marker\": {\"colorbar\": {\"outlinewidth\": 0, \"ticks\": \"\"}}, \"type\": \"scatterpolargl\"}], \"scatterternary\": [{\"marker\": {\"colorbar\": {\"outlinewidth\": 0, \"ticks\": \"\"}}, \"type\": \"scatterternary\"}], \"surface\": [{\"colorbar\": {\"outlinewidth\": 0, \"ticks\": \"\"}, \"colorscale\": [[0.0, \"#0d0887\"], [0.1111111111111111, \"#46039f\"], [0.2222222222222222, \"#7201a8\"], [0.3333333333333333, \"#9c179e\"], [0.4444444444444444, \"#bd3786\"], [0.5555555555555556, \"#d8576b\"], [0.6666666666666666, \"#ed7953\"], [0.7777777777777778, \"#fb9f3a\"], [0.8888888888888888, \"#fdca26\"], [1.0, \"#f0f921\"]], \"type\": \"surface\"}], \"table\": [{\"cells\": {\"fill\": {\"color\": \"#EBF0F8\"}, \"line\": {\"color\": \"white\"}}, \"header\": {\"fill\": {\"color\": \"#C8D4E3\"}, \"line\": {\"color\": \"white\"}}, \"type\": \"table\"}]}, \"layout\": {\"annotationdefaults\": {\"arrowcolor\": \"#2a3f5f\", \"arrowhead\": 0, \"arrowwidth\": 1}, \"autotypenumbers\": \"strict\", \"coloraxis\": {\"colorbar\": {\"outlinewidth\": 0, \"ticks\": \"\"}}, \"colorscale\": {\"diverging\": [[0, \"#8e0152\"], [0.1, \"#c51b7d\"], [0.2, \"#de77ae\"], [0.3, \"#f1b6da\"], [0.4, \"#fde0ef\"], [0.5, \"#f7f7f7\"], [0.6, \"#e6f5d0\"], [0.7, \"#b8e186\"], [0.8, \"#7fbc41\"], [0.9, \"#4d9221\"], [1, \"#276419\"]], \"sequential\": [[0.0, \"#0d0887\"], [0.1111111111111111, \"#46039f\"], [0.2222222222222222, \"#7201a8\"], [0.3333333333333333, \"#9c179e\"], [0.4444444444444444, \"#bd3786\"], [0.5555555555555556, \"#d8576b\"], [0.6666666666666666, \"#ed7953\"], [0.7777777777777778, \"#fb9f3a\"], [0.8888888888888888, \"#fdca26\"], [1.0, \"#f0f921\"]], \"sequentialminus\": [[0.0, \"#0d0887\"], [0.1111111111111111, \"#46039f\"], [0.2222222222222222, \"#7201a8\"], [0.3333333333333333, \"#9c179e\"], [0.4444444444444444, \"#bd3786\"], [0.5555555555555556, \"#d8576b\"], [0.6666666666666666, \"#ed7953\"], [0.7777777777777778, \"#fb9f3a\"], [0.8888888888888888, \"#fdca26\"], [1.0, \"#f0f921\"]]}, \"colorway\": [\"#636efa\", \"#EF553B\", \"#00cc96\", \"#ab63fa\", \"#FFA15A\", \"#19d3f3\", \"#FF6692\", \"#B6E880\", \"#FF97FF\", \"#FECB52\"], \"font\": {\"color\": \"#2a3f5f\"}, \"geo\": {\"bgcolor\": \"white\", \"lakecolor\": \"white\", \"landcolor\": \"#E5ECF6\", \"showlakes\": true, \"showland\": true, \"subunitcolor\": \"white\"}, \"hoverlabel\": {\"align\": \"left\"}, \"hovermode\": \"closest\", \"mapbox\": {\"style\": \"light\"}, \"paper_bgcolor\": \"white\", \"plot_bgcolor\": \"#E5ECF6\", \"polar\": {\"angularaxis\": {\"gridcolor\": \"white\", \"linecolor\": \"white\", \"ticks\": \"\"}, \"bgcolor\": \"#E5ECF6\", \"radialaxis\": {\"gridcolor\": \"white\", \"linecolor\": \"white\", \"ticks\": \"\"}}, \"scene\": {\"xaxis\": {\"backgroundcolor\": \"#E5ECF6\", \"gridcolor\": \"white\", \"gridwidth\": 2, \"linecolor\": \"white\", \"showbackground\": true, \"ticks\": \"\", \"zerolinecolor\": \"white\"}, \"yaxis\": {\"backgroundcolor\": \"#E5ECF6\", \"gridcolor\": \"white\", \"gridwidth\": 2, \"linecolor\": \"white\", \"showbackground\": true, \"ticks\": \"\", \"zerolinecolor\": \"white\"}, \"zaxis\": {\"backgroundcolor\": \"#E5ECF6\", \"gridcolor\": \"white\", \"gridwidth\": 2, \"linecolor\": \"white\", \"showbackground\": true, \"ticks\": \"\", \"zerolinecolor\": \"white\"}}, \"shapedefaults\": {\"line\": {\"color\": \"#2a3f5f\"}}, \"ternary\": {\"aaxis\": {\"gridcolor\": \"white\", \"linecolor\": \"white\", \"ticks\": \"\"}, \"baxis\": {\"gridcolor\": \"white\", \"linecolor\": \"white\", \"ticks\": \"\"}, \"bgcolor\": \"#E5ECF6\", \"caxis\": {\"gridcolor\": \"white\", \"linecolor\": \"white\", \"ticks\": \"\"}}, \"title\": {\"x\": 0.05}, \"xaxis\": {\"automargin\": true, \"gridcolor\": \"white\", \"linecolor\": \"white\", \"ticks\": \"\", \"title\": {\"standoff\": 15}, \"zerolinecolor\": \"white\", \"zerolinewidth\": 2}, \"yaxis\": {\"automargin\": true, \"gridcolor\": \"white\", \"linecolor\": \"white\", \"ticks\": \"\", \"title\": {\"standoff\": 15}, \"zerolinecolor\": \"white\", \"zerolinewidth\": 2}}}, \"xaxis\": {\"anchor\": \"y\", \"domain\": [0.0, 1.0]}, \"yaxis\": {\"anchor\": \"x\", \"domain\": [0.0, 1.0]}},                        {\"responsive\": true}                    ).then(function(){\n",
       "                            \n",
       "var gd = document.getElementById('df7240a1-36be-4b55-903a-e01668defa85');\n",
       "var x = new MutationObserver(function (mutations, observer) {{\n",
       "        var display = window.getComputedStyle(gd).display;\n",
       "        if (!display || display === 'none') {{\n",
       "            console.log([gd, 'removed!']);\n",
       "            Plotly.purge(gd);\n",
       "            observer.disconnect();\n",
       "        }}\n",
       "}});\n",
       "\n",
       "// Listen for the removal of the full notebook cells\n",
       "var notebookContainer = gd.closest('#notebook-container');\n",
       "if (notebookContainer) {{\n",
       "    x.observe(notebookContainer, {childList: true});\n",
       "}}\n",
       "\n",
       "// Listen for the clearing of the current output cell\n",
       "var outputEl = gd.closest('.output');\n",
       "if (outputEl) {{\n",
       "    x.observe(outputEl, {childList: true});\n",
       "}}\n",
       "\n",
       "                        })                };                });            </script>        </div>"
      ]
     },
     "metadata": {},
     "output_type": "display_data"
    }
   ],
   "source": [
    "class LongestSizePadding(A.DualTransform):\n",
    "    def __init__(self, pad_value=255, p=1.0, always_apply=False):\n",
    "        super().__init__(always_apply, p)\n",
    "        self.pad_value = pad_value\n",
    "        \n",
    "    def apply(self, image, **params):\n",
    "        h, w, d = image.shape\n",
    "        size = max(h, w)\n",
    "        center, center_x, center_y = size // 2, w // 2, h // 2\n",
    "\n",
    "        padded_image = np.full((size, size, d), 255, dtype=image.dtype)\n",
    "        y = center - center_y\n",
    "        x = center - center_x\n",
    "        padded_image[y:y+h, x:x+w] = image\n",
    "        return padded_image\n",
    "    \n",
    "px.imshow(LongestSizePadding()(image=image)[\"image\"])"
   ]
  },
  {
   "cell_type": "code",
   "execution_count": null,
   "id": "hispanic-process",
   "metadata": {},
   "outputs": [],
   "source": []
  }
 ],
 "metadata": {
  "kernelspec": {
   "display_name": "Python 3",
   "language": "python",
   "name": "python3"
  },
  "language_info": {
   "codemirror_mode": {
    "name": "ipython",
    "version": 3
   },
   "file_extension": ".py",
   "mimetype": "text/x-python",
   "name": "python",
   "nbconvert_exporter": "python",
   "pygments_lexer": "ipython3",
   "version": "3.8.5"
  }
 },
 "nbformat": 4,
 "nbformat_minor": 5
}
