{
 "cells": [
  {
   "cell_type": "markdown",
   "id": "extraordinary-direction",
   "metadata": {},
   "source": [
    "# Preprocess datasets (v1)"
   ]
  },
  {
   "cell_type": "code",
   "execution_count": 1,
   "id": "perceived-broadcasting",
   "metadata": {},
   "outputs": [
    {
     "name": "stdout",
     "output_type": "stream",
     "text": [
      "INFO: Pandarallel will run on 8 workers.\n",
      "INFO: Pandarallel will use Memory file system to transfer data between the main process and workers.\n"
     ]
    },
    {
     "name": "stderr",
     "output_type": "stream",
     "text": [
      "/opt/miniconda/lib/python3.8/site-packages/tqdm/std.py:703: FutureWarning: The Panel class is removed from pandas. Accessing it from the top-level namespace will also be removed in the next version\n",
      "  from pandas import Panel\n"
     ]
    }
   ],
   "source": [
    "import re\n",
    "import shutil\n",
    "import numpy as np\n",
    "import pandas as pd\n",
    "import tokenizers\n",
    "from dataclasses import dataclass\n",
    "from pathlib import Path\n",
    "from pandarallel import pandarallel\n",
    "from rdkit import Chem\n",
    "from tqdm.auto import tqdm\n",
    "\n",
    "tqdm.pandas()\n",
    "pandarallel.initialize(progress_bar=True)"
   ]
  },
  {
   "cell_type": "code",
   "execution_count": 2,
   "id": "ordinary-reproduction",
   "metadata": {},
   "outputs": [],
   "source": [
    "%load_ext autoreload\n",
    "%autoreload 2\n",
    "from nncomp_molecule import constants"
   ]
  },
  {
   "cell_type": "markdown",
   "id": "gross-winning",
   "metadata": {},
   "source": [
    "## Config"
   ]
  },
  {
   "cell_type": "code",
   "execution_count": 3,
   "id": "informational-thread",
   "metadata": {},
   "outputs": [
    {
     "data": {
      "text/plain": [
       "PosixPath('/work/input/kfujikawa/bms-preprocess-v1')"
      ]
     },
     "execution_count": 3,
     "metadata": {},
     "output_type": "execute_result"
    }
   ],
   "source": [
    "NOTEBOOK_ID = \"bms-preprocess-v1\"\n",
    "OUTDIR = constants.INPUTDIR / \"kfujikawa\" / NOTEBOOK_ID"
   ]
  },
  {
   "cell_type": "markdown",
   "id": "posted-trustee",
   "metadata": {
    "tags": []
   },
   "source": [
    "## Preprocess"
   ]
  },
  {
   "cell_type": "code",
   "execution_count": null,
   "id": "scenic-technical",
   "metadata": {},
   "outputs": [],
   "source": [
    "OUTDIR.mkdir(parents=True, exist_ok=True)\n",
    "print(f\"{OUTDIR / 'train.pkl'}: {(OUTDIR / 'train.pkl').exists()}\")\n",
    "print(f\"{OUTDIR / 'test.pkl'}: {(OUTDIR / 'test.pkl').exists()}\")"
   ]
  },
  {
   "cell_type": "markdown",
   "id": "posted-ranch",
   "metadata": {},
   "source": [
    "### Preprocess train dataset"
   ]
  },
  {
   "cell_type": "code",
   "execution_count": 4,
   "id": "burning-sponsorship",
   "metadata": {},
   "outputs": [
    {
     "data": {
      "application/vnd.jupyter.widget-view+json": {
       "model_id": "2eb27aa400ac4b99acc21c8b55a9742e",
       "version_major": 2,
       "version_minor": 0
      },
      "text/plain": [
       "HBox(children=(HTML(value=''), FloatProgress(value=0.0, max=2424186.0), HTML(value='')))"
      ]
     },
     "metadata": {},
     "output_type": "display_data"
    },
    {
     "name": "stdout",
     "output_type": "stream",
     "text": [
      "\n"
     ]
    },
    {
     "data": {
      "text/html": [
       "<div>\n",
       "<style scoped>\n",
       "    .dataframe tbody tr th:only-of-type {\n",
       "        vertical-align: middle;\n",
       "    }\n",
       "\n",
       "    .dataframe tbody tr th {\n",
       "        vertical-align: top;\n",
       "    }\n",
       "\n",
       "    .dataframe thead th {\n",
       "        text-align: right;\n",
       "    }\n",
       "</style>\n",
       "<table border=\"1\" class=\"dataframe\">\n",
       "  <thead>\n",
       "    <tr style=\"text-align: right;\">\n",
       "      <th></th>\n",
       "      <th>image_id</th>\n",
       "      <th>InChI</th>\n",
       "      <th>image_path</th>\n",
       "    </tr>\n",
       "  </thead>\n",
       "  <tbody>\n",
       "    <tr>\n",
       "      <th>0</th>\n",
       "      <td>000011a64c74</td>\n",
       "      <td>InChI=1S/C13H20OS/c1-9(2)8-15-13-6-5-10(3)7-12...</td>\n",
       "      <td>/work/input/bms-molecular-translation/train/0/...</td>\n",
       "    </tr>\n",
       "    <tr>\n",
       "      <th>1</th>\n",
       "      <td>000019cc0cd2</td>\n",
       "      <td>InChI=1S/C21H30O4/c1-12(22)25-14-6-8-20(2)13(1...</td>\n",
       "      <td>/work/input/bms-molecular-translation/train/0/...</td>\n",
       "    </tr>\n",
       "    <tr>\n",
       "      <th>2</th>\n",
       "      <td>0000252b6d2b</td>\n",
       "      <td>InChI=1S/C24H23N5O4/c1-14-13-15(7-8-17(14)28-1...</td>\n",
       "      <td>/work/input/bms-molecular-translation/train/0/...</td>\n",
       "    </tr>\n",
       "    <tr>\n",
       "      <th>3</th>\n",
       "      <td>000026b49b7e</td>\n",
       "      <td>InChI=1S/C17H24N2O4S/c1-12(20)18-13(14-7-6-10-...</td>\n",
       "      <td>/work/input/bms-molecular-translation/train/0/...</td>\n",
       "    </tr>\n",
       "    <tr>\n",
       "      <th>4</th>\n",
       "      <td>000026fc6c36</td>\n",
       "      <td>InChI=1S/C10H19N3O2S/c1-15-10(14)12-8-4-6-13(7...</td>\n",
       "      <td>/work/input/bms-molecular-translation/train/0/...</td>\n",
       "    </tr>\n",
       "  </tbody>\n",
       "</table>\n",
       "</div>"
      ],
      "text/plain": [
       "       image_id                                              InChI  \\\n",
       "0  000011a64c74  InChI=1S/C13H20OS/c1-9(2)8-15-13-6-5-10(3)7-12...   \n",
       "1  000019cc0cd2  InChI=1S/C21H30O4/c1-12(22)25-14-6-8-20(2)13(1...   \n",
       "2  0000252b6d2b  InChI=1S/C24H23N5O4/c1-14-13-15(7-8-17(14)28-1...   \n",
       "3  000026b49b7e  InChI=1S/C17H24N2O4S/c1-12(20)18-13(14-7-6-10-...   \n",
       "4  000026fc6c36  InChI=1S/C10H19N3O2S/c1-15-10(14)12-8-4-6-13(7...   \n",
       "\n",
       "                                          image_path  \n",
       "0  /work/input/bms-molecular-translation/train/0/...  \n",
       "1  /work/input/bms-molecular-translation/train/0/...  \n",
       "2  /work/input/bms-molecular-translation/train/0/...  \n",
       "3  /work/input/bms-molecular-translation/train/0/...  \n",
       "4  /work/input/bms-molecular-translation/train/0/...  "
      ]
     },
     "execution_count": 4,
     "metadata": {},
     "output_type": "execute_result"
    }
   ],
   "source": [
    "train_df = pd.read_csv(constants.COMPETITION_DATADIR / \"train_labels.csv\")\n",
    "train_df[\"image_path\"] = train_df.image_id.progress_apply(\n",
    "    lambda x: str(constants.COMPETITION_DATADIR / f\"train/{x[0]}/{x[1]}/{x[2]}/{x}.png\")\n",
    ")\n",
    "train_df.head()"
   ]
  },
  {
   "cell_type": "markdown",
   "id": "expanded-truck",
   "metadata": {},
   "source": [
    "### Preprocess test dataset"
   ]
  },
  {
   "cell_type": "code",
   "execution_count": 5,
   "id": "descending-orientation",
   "metadata": {},
   "outputs": [
    {
     "data": {
      "application/vnd.jupyter.widget-view+json": {
       "model_id": "5168a5687a914f46b848da0c49eb09ca",
       "version_major": 2,
       "version_minor": 0
      },
      "text/plain": [
       "HBox(children=(HTML(value=''), FloatProgress(value=0.0, max=1616107.0), HTML(value='')))"
      ]
     },
     "metadata": {},
     "output_type": "display_data"
    },
    {
     "name": "stdout",
     "output_type": "stream",
     "text": [
      "\n"
     ]
    },
    {
     "data": {
      "text/html": [
       "<div>\n",
       "<style scoped>\n",
       "    .dataframe tbody tr th:only-of-type {\n",
       "        vertical-align: middle;\n",
       "    }\n",
       "\n",
       "    .dataframe tbody tr th {\n",
       "        vertical-align: top;\n",
       "    }\n",
       "\n",
       "    .dataframe thead th {\n",
       "        text-align: right;\n",
       "    }\n",
       "</style>\n",
       "<table border=\"1\" class=\"dataframe\">\n",
       "  <thead>\n",
       "    <tr style=\"text-align: right;\">\n",
       "      <th></th>\n",
       "      <th>image_id</th>\n",
       "      <th>image_path</th>\n",
       "    </tr>\n",
       "  </thead>\n",
       "  <tbody>\n",
       "    <tr>\n",
       "      <th>0</th>\n",
       "      <td>00000d2a601c</td>\n",
       "      <td>/work/input/bms-molecular-translation/test/0/0...</td>\n",
       "    </tr>\n",
       "    <tr>\n",
       "      <th>1</th>\n",
       "      <td>00001f7fc849</td>\n",
       "      <td>/work/input/bms-molecular-translation/test/0/0...</td>\n",
       "    </tr>\n",
       "    <tr>\n",
       "      <th>2</th>\n",
       "      <td>000037687605</td>\n",
       "      <td>/work/input/bms-molecular-translation/test/0/0...</td>\n",
       "    </tr>\n",
       "    <tr>\n",
       "      <th>3</th>\n",
       "      <td>00004b6d55b6</td>\n",
       "      <td>/work/input/bms-molecular-translation/test/0/0...</td>\n",
       "    </tr>\n",
       "    <tr>\n",
       "      <th>4</th>\n",
       "      <td>00004df0fe53</td>\n",
       "      <td>/work/input/bms-molecular-translation/test/0/0...</td>\n",
       "    </tr>\n",
       "  </tbody>\n",
       "</table>\n",
       "</div>"
      ],
      "text/plain": [
       "       image_id                                         image_path\n",
       "0  00000d2a601c  /work/input/bms-molecular-translation/test/0/0...\n",
       "1  00001f7fc849  /work/input/bms-molecular-translation/test/0/0...\n",
       "2  000037687605  /work/input/bms-molecular-translation/test/0/0...\n",
       "3  00004b6d55b6  /work/input/bms-molecular-translation/test/0/0...\n",
       "4  00004df0fe53  /work/input/bms-molecular-translation/test/0/0..."
      ]
     },
     "execution_count": 5,
     "metadata": {},
     "output_type": "execute_result"
    }
   ],
   "source": [
    "submission_df = pd.read_csv(constants.COMPETITION_DATADIR / \"sample_submission.csv\", usecols=[\"image_id\"])\n",
    "submission_df[\"image_path\"] = submission_df.image_id.progress_apply(\n",
    "    lambda x: str(constants.COMPETITION_DATADIR / f\"test/{x[0]}/{x[1]}/{x[2]}/{x}.png\")\n",
    ")\n",
    "submission_df.head()"
   ]
  },
  {
   "cell_type": "markdown",
   "id": "sixth-bleeding",
   "metadata": {},
   "source": [
    "## Output"
   ]
  },
  {
   "cell_type": "code",
   "execution_count": 6,
   "id": "impossible-employee",
   "metadata": {},
   "outputs": [
    {
     "data": {
      "text/plain": [
       "[PosixPath('/work/input/kfujikawa/bms-preprocess-v1/dataset-metadata.json'),\n",
       " PosixPath('/work/input/kfujikawa/bms-preprocess-v1/train.debug.pkl'),\n",
       " PosixPath('/work/input/kfujikawa/bms-preprocess-v1/.ipynb_checkpoints'),\n",
       " PosixPath('/work/input/kfujikawa/bms-preprocess-v1/test.debug.pkl'),\n",
       " PosixPath('/work/input/kfujikawa/bms-preprocess-v1/train.pkl'),\n",
       " PosixPath('/work/input/kfujikawa/bms-preprocess-v1/test.pkl')]"
      ]
     },
     "execution_count": 6,
     "metadata": {},
     "output_type": "execute_result"
    }
   ],
   "source": [
    "OUTDIR.mkdir(parents=True, exist_ok=True)\n",
    "train_df.head(1000).to_pickle(OUTDIR / \"train.debug.pkl\")\n",
    "train_df.to_pickle(OUTDIR / \"train.pkl\")\n",
    "submission_df.head(1000).to_pickle(OUTDIR / \"test.debug.pkl\")\n",
    "submission_df.to_pickle(OUTDIR / \"test.pkl\")\n",
    "list(OUTDIR.iterdir())"
   ]
  },
  {
   "cell_type": "code",
   "execution_count": null,
   "id": "directed-council",
   "metadata": {},
   "outputs": [],
   "source": []
  }
 ],
 "metadata": {
  "kernelspec": {
   "display_name": "Python 3",
   "language": "python",
   "name": "python3"
  },
  "language_info": {
   "codemirror_mode": {
    "name": "ipython",
    "version": 3
   },
   "file_extension": ".py",
   "mimetype": "text/x-python",
   "name": "python",
   "nbconvert_exporter": "python",
   "pygments_lexer": "ipython3",
   "version": "3.8.5"
  }
 },
 "nbformat": 4,
 "nbformat_minor": 5
}
