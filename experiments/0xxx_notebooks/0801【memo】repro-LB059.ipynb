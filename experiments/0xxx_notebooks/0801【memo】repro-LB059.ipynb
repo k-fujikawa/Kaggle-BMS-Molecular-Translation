{
 "cells": [
  {
   "cell_type": "code",
   "execution_count": 1,
   "id": "58f5b3a1-8a7c-4d0f-8833-e0f34c85a7e0",
   "metadata": {},
   "outputs": [],
   "source": [
    "import gc\n",
    "import io\n",
    "import multiprocessing as mp\n",
    "from copy import deepcopy\n",
    "from urllib.parse import urlparse\n",
    "\n",
    "import google.cloud.storage as gcs\n",
    "import pandas as pd\n",
    "import seaborn as sns\n",
    "import Levenshtein\n",
    "from retrying import retry\n",
    "from tqdm.auto import tqdm"
   ]
  },
  {
   "cell_type": "code",
   "execution_count": 9,
   "id": "e40f4a4c-4af2-4d0f-b07e-15c378bfd9d8",
   "metadata": {},
   "outputs": [],
   "source": [
    "GCP_PROJECT = \"dena-ai-training-28-gcp\"\n",
    "\n",
    "\n",
    "@retry(stop_max_attempt_number=3)\n",
    "def download_from_gcs(path: str):\n",
    "    url = urlparse(path)\n",
    "    bucket_name = url.netloc\n",
    "    storage_client = gcs.Client(project=GCP_PROJECT)\n",
    "    bucket = storage_client.get_bucket(bucket_name)\n",
    "    blob = gcs.Blob(url.path[1:], bucket)\n",
    "    return blob.download_as_string()\n",
    "\n",
    "\n",
    "def load_prediction(path: str):\n",
    "    if path.split(\"/\")[-2] == \"kf-bms-candidates-v2\":\n",
    "        model = path.split(\"/\")[-3]\n",
    "    else:\n",
    "        model = path.split(\"/\")[-2]\n",
    "    df = pd.read_csv(io.BytesIO(download_from_gcs(path)))\\\n",
    "        .assign(model=model, filename=path.split(\"/\")[-1])\\\n",
    "        .query(\"is_valid | image_id.isin(@NO_VALID_IMAGE_IDs)\", engine=\"python\")\n",
    "    return df"
   ]
  },
  {
   "cell_type": "code",
   "execution_count": 6,
   "id": "e52800ec-ee50-4864-87a4-8f733fcee3a9",
   "metadata": {},
   "outputs": [
    {
     "data": {
      "text/plain": [
       "5152"
      ]
     },
     "execution_count": 6,
     "metadata": {},
     "output_type": "execute_result"
    }
   ],
   "source": [
    "n_valid_InChIs = pd.read_csv(io.BytesIO(download_from_gcs(\"gs://kfujikawa-kaggle-bms-molecular-generation/kfujikawa/kf-bms-candidates-v2/test_n_valid_InChIs.csv\")))\n",
    "NO_VALID_IMAGE_IDs = n_valid_InChIs.query(\"n_valid_InChIs == 0\").image_id\n",
    "len(NO_VALID_IMAGE_IDs)"
   ]
  },
  {
   "cell_type": "code",
   "execution_count": 15,
   "id": "ecc22449-26ed-4ae8-9483-ab687bce3a46",
   "metadata": {},
   "outputs": [],
   "source": [
    "baseline_df = pd.read_csv(io.BytesIO(download_from_gcs(\n",
    "    \"gs://kfujikawa-kaggle-bms-molecular-generation/submissions/LB059+kf0527.csv\"\n",
    ")))"
   ]
  },
  {
   "cell_type": "markdown",
   "id": "23ee645d-c762-4b3f-8cb2-be07460a1dde",
   "metadata": {},
   "source": [
    "# KF side"
   ]
  },
  {
   "cell_type": "code",
   "execution_count": 7,
   "id": "4ff74746-aff8-40bd-bb8d-3704b1b4b723",
   "metadata": {},
   "outputs": [],
   "source": [
    "TEST_FILENAMES = [\n",
    "    \"test_kf_0523.csv\",\n",
    "    \"test_kf_0525.csv\",\n",
    "    \"test_kf_0527.csv\",\n",
    "    \"test_yokoo_0527.csv\",\n",
    "    \"test_camaro_0525.csv\",\n",
    "]\n",
    "KF_MODELS = [\n",
    "    \"1109_vtnt_bert_512-1024-denoise-5\",\n",
    "    \"1113_swin_large_bert_384\",\n",
    "]\n",
    "KF_TEST_CSVs = [\n",
    "    f\"gs://kfujikawa-kaggle-bms-molecular-generation/kfujikawa/{model}/kf-bms-candidates-v2/{filename}\"\n",
    "    for model in KF_MODELS\n",
    "    for filename in TEST_FILENAMES\n",
    "]"
   ]
  },
  {
   "cell_type": "code",
   "execution_count": 10,
   "id": "cfa706f3-e9d6-4f38-a246-f454e26dbe19",
   "metadata": {},
   "outputs": [
    {
     "data": {
      "application/vnd.jupyter.widget-view+json": {
       "model_id": "a822d8cf439b402b8cf07c7d6d95adcc",
       "version_major": 2,
       "version_minor": 0
      },
      "text/plain": [
       "HBox(children=(HTML(value=''), FloatProgress(value=0.0, max=10.0), HTML(value='')))"
      ]
     },
     "metadata": {},
     "output_type": "display_data"
    },
    {
     "name": "stdout",
     "output_type": "stream",
     "text": [
      "\n"
     ]
    },
    {
     "data": {
      "text/html": [
       "<div>\n",
       "<style scoped>\n",
       "    .dataframe tbody tr th:only-of-type {\n",
       "        vertical-align: middle;\n",
       "    }\n",
       "\n",
       "    .dataframe tbody tr th {\n",
       "        vertical-align: top;\n",
       "    }\n",
       "\n",
       "    .dataframe thead th {\n",
       "        text-align: right;\n",
       "    }\n",
       "</style>\n",
       "<table border=\"1\" class=\"dataframe\">\n",
       "  <thead>\n",
       "    <tr style=\"text-align: right;\">\n",
       "      <th></th>\n",
       "      <th>image_id</th>\n",
       "      <th>InChI</th>\n",
       "      <th>levenshtein</th>\n",
       "      <th>is_valid</th>\n",
       "      <th>normed_score</th>\n",
       "      <th>model</th>\n",
       "      <th>filename</th>\n",
       "    </tr>\n",
       "  </thead>\n",
       "  <tbody>\n",
       "    <tr>\n",
       "      <th>0</th>\n",
       "      <td>007706c43e8d</td>\n",
       "      <td>InChI=1S/C16H32O6/c1-5-17-11-13-21-9-3-7-19-15...</td>\n",
       "      <td>NaN</td>\n",
       "      <td>False</td>\n",
       "      <td>0.192261</td>\n",
       "      <td>1113_swin_large_bert_384</td>\n",
       "      <td>test_yokoo_0527.csv</td>\n",
       "    </tr>\n",
       "  </tbody>\n",
       "</table>\n",
       "</div>"
      ],
      "text/plain": [
       "       image_id                                              InChI  \\\n",
       "0  007706c43e8d  InChI=1S/C16H32O6/c1-5-17-11-13-21-9-3-7-19-15...   \n",
       "\n",
       "   levenshtein  is_valid  normed_score                     model  \\\n",
       "0          NaN     False      0.192261  1113_swin_large_bert_384   \n",
       "\n",
       "              filename  \n",
       "0  test_yokoo_0527.csv  "
      ]
     },
     "metadata": {},
     "output_type": "display_data"
    },
    {
     "data": {
      "text/plain": [
       "model\n",
       "1109_vtnt_bert_512-1024-denoise-5    5004678\n",
       "1113_swin_large_bert_384             5004678\n",
       "Name: image_id, dtype: int64"
      ]
     },
     "metadata": {},
     "output_type": "display_data"
    }
   ],
   "source": [
    "with mp.Pool() as pool:\n",
    "    total = len(KF_TEST_CSVs)\n",
    "    iterator = pool.imap_unordered(load_prediction, KF_TEST_CSVs)\n",
    "    kf_df = pd.concat(list(tqdm(iterator, total=total)), ignore_index=True)\n",
    "kf_df = kf_df.drop_duplicates(subset=[\"model\", \"image_id\", \"InChI\"])\n",
    "display(kf_df.head(1))\n",
    "display(kf_df.groupby(\"model\").image_id.count())"
   ]
  },
  {
   "cell_type": "code",
   "execution_count": 17,
   "id": "ef997e6b-ffae-4ec7-a9d3-c527dbf1f4a6",
   "metadata": {},
   "outputs": [
    {
     "data": {
      "application/vnd.jupyter.widget-view+json": {
       "model_id": "a09f5fd9c777454fb82cdbabab8ad8bf",
       "version_major": 2,
       "version_minor": 0
      },
      "text/plain": [
       "HBox(children=(HTML(value=''), FloatProgress(value=0.0, max=1616107.0), HTML(value='')))"
      ]
     },
     "metadata": {},
     "output_type": "display_data"
    },
    {
     "name": "stdout",
     "output_type": "stream",
     "text": [
      "\n",
      "1616107\n",
      "(135514, 8)\n",
      "0.3325175870162062\n"
     ]
    }
   ],
   "source": [
    "sort_keys = dict(\n",
    "    image_id=True,\n",
    "    is_valid=False,\n",
    "    normed_score=True,\n",
    ")\n",
    "kf_ensembled_df = kf_df.sort_values(\n",
    "    by=list(sort_keys.keys()),\n",
    "    ascending=list(sort_keys.values()),\n",
    ").groupby(\"image_id\").first().reset_index()\n",
    "kf_ensembled_df = kf_ensembled_df.merge(baseline_df, on=\"image_id\")\n",
    "kf_ensembled_df[\"levenshtein\"] = [\n",
    "    Levenshtein.distance(x, y)\n",
    "    for x, y in tqdm(kf_ensembled_df[[\"InChI_x\", \"InChI_y\"]].values)\n",
    "]\n",
    "print(len(kf_ensembled_df))\n",
    "print(kf_ensembled_df.query(\"InChI_x != InChI_y\").shape)\n",
    "print(kf_ensembled_df.levenshtein.mean())"
   ]
  },
  {
   "cell_type": "markdown",
   "id": "803dbc90-11d1-4382-88dc-3d65fb949d47",
   "metadata": {},
   "source": [
    "# Lyakaap side"
   ]
  },
  {
   "cell_type": "code",
   "execution_count": 11,
   "id": "b02f38e9-10e4-498b-a6cc-4245937a7473",
   "metadata": {},
   "outputs": [],
   "source": [
    "LYAKAAP_TEST_CSVs = \"\"\"\n",
    "gs://kfujikawa-kaggle-bms-molecular-generation/yokoo/v52/test_yokoo_0527.csv\n",
    "gs://kfujikawa-kaggle-bms-molecular-generation/yokoo/v52/test_kf_0523.csv\n",
    "gs://kfujikawa-kaggle-bms-molecular-generation/yokoo/v52/test_kf_0525.csv\n",
    "gs://kfujikawa-kaggle-bms-molecular-generation/yokoo/v52/test_kf_0527.csv\n",
    "gs://kfujikawa-kaggle-bms-molecular-generation/yokoo/v52/test_camaro_0525.csv\n",
    "\"\"\".strip().split()"
   ]
  },
  {
   "cell_type": "code",
   "execution_count": 12,
   "id": "a579070f-34a0-434f-8488-6cedff0c4c75",
   "metadata": {},
   "outputs": [
    {
     "data": {
      "application/vnd.jupyter.widget-view+json": {
       "model_id": "57babb8d3b224c75a16053cf5ef67f88",
       "version_major": 2,
       "version_minor": 0
      },
      "text/plain": [
       "HBox(children=(HTML(value=''), FloatProgress(value=0.0, max=5.0), HTML(value='')))"
      ]
     },
     "metadata": {},
     "output_type": "display_data"
    },
    {
     "name": "stdout",
     "output_type": "stream",
     "text": [
      "\n"
     ]
    },
    {
     "data": {
      "text/html": [
       "<div>\n",
       "<style scoped>\n",
       "    .dataframe tbody tr th:only-of-type {\n",
       "        vertical-align: middle;\n",
       "    }\n",
       "\n",
       "    .dataframe tbody tr th {\n",
       "        vertical-align: top;\n",
       "    }\n",
       "\n",
       "    .dataframe thead th {\n",
       "        text-align: right;\n",
       "    }\n",
       "</style>\n",
       "<table border=\"1\" class=\"dataframe\">\n",
       "  <thead>\n",
       "    <tr style=\"text-align: right;\">\n",
       "      <th></th>\n",
       "      <th>image_id</th>\n",
       "      <th>InChI</th>\n",
       "      <th>levenshtein</th>\n",
       "      <th>is_valid</th>\n",
       "      <th>normed_score</th>\n",
       "      <th>model</th>\n",
       "      <th>filename</th>\n",
       "    </tr>\n",
       "  </thead>\n",
       "  <tbody>\n",
       "    <tr>\n",
       "      <th>0</th>\n",
       "      <td>007706c43e8d</td>\n",
       "      <td>InChI=1S/C16H32O6/c1-5-17-11-13-21-9-3-7-19-15...</td>\n",
       "      <td>NaN</td>\n",
       "      <td>False</td>\n",
       "      <td>0.044922</td>\n",
       "      <td>v52</td>\n",
       "      <td>test_yokoo_0527.csv</td>\n",
       "    </tr>\n",
       "  </tbody>\n",
       "</table>\n",
       "</div>"
      ],
      "text/plain": [
       "       image_id                                              InChI  \\\n",
       "0  007706c43e8d  InChI=1S/C16H32O6/c1-5-17-11-13-21-9-3-7-19-15...   \n",
       "\n",
       "   levenshtein  is_valid  normed_score model             filename  \n",
       "0          NaN     False      0.044922   v52  test_yokoo_0527.csv  "
      ]
     },
     "metadata": {},
     "output_type": "display_data"
    },
    {
     "data": {
      "text/plain": [
       "model\n",
       "v52    5004678\n",
       "Name: image_id, dtype: int64"
      ]
     },
     "metadata": {},
     "output_type": "display_data"
    }
   ],
   "source": [
    "with mp.Pool() as pool:\n",
    "    total = len(LYAKAAP_TEST_CSVs)\n",
    "    iterator = pool.imap_unordered(load_prediction, LYAKAAP_TEST_CSVs)\n",
    "    lyakaap_df = pd.concat(list(tqdm(iterator, total=total)), ignore_index=True)\n",
    "lyakaap_df = lyakaap_df.drop_duplicates(subset=[\"model\", \"image_id\", \"InChI\"])\n",
    "display(lyakaap_df.head(1))\n",
    "display(lyakaap_df.groupby(\"model\").image_id.count())"
   ]
  },
  {
   "cell_type": "code",
   "execution_count": 18,
   "id": "d3463351-2e63-41dc-9ac4-d69f3b04225a",
   "metadata": {},
   "outputs": [
    {
     "data": {
      "application/vnd.jupyter.widget-view+json": {
       "model_id": "2982a63dc3894fd38f16c358330e967a",
       "version_major": 2,
       "version_minor": 0
      },
      "text/plain": [
       "HBox(children=(HTML(value=''), FloatProgress(value=0.0, max=1616107.0), HTML(value='')))"
      ]
     },
     "metadata": {},
     "output_type": "display_data"
    },
    {
     "name": "stdout",
     "output_type": "stream",
     "text": [
      "\n",
      "1616107\n",
      "(129105, 8)\n",
      "0.3429878095942905\n"
     ]
    }
   ],
   "source": [
    "sort_keys = dict(\n",
    "    image_id=True,\n",
    "    is_valid=False,\n",
    "    normed_score=True,\n",
    ")\n",
    "lyakaap_ensembled_df = lyakaap_df.sort_values(\n",
    "    by=list(sort_keys.keys()),\n",
    "    ascending=list(sort_keys.values()),\n",
    ").groupby(\"image_id\").first().reset_index()\n",
    "lyakaap_ensembled_df = lyakaap_ensembled_df.merge(baseline_df, on=\"image_id\")\n",
    "lyakaap_ensembled_df[\"levenshtein\"] = [\n",
    "    Levenshtein.distance(x, y)\n",
    "    for x, y in tqdm(lyakaap_ensembled_df[[\"InChI_x\", \"InChI_y\"]].values)\n",
    "]\n",
    "print(len(lyakaap_ensembled_df))\n",
    "print(lyakaap_ensembled_df.query(\"InChI_x != InChI_y\").shape)\n",
    "print(lyakaap_ensembled_df.levenshtein.mean())"
   ]
  },
  {
   "cell_type": "markdown",
   "id": "aa694f4a-b74c-4a1e-ac28-6fcb95b9ce9d",
   "metadata": {},
   "source": [
    "# Camaro side"
   ]
  },
  {
   "cell_type": "code",
   "execution_count": 13,
   "id": "94e681c9-b128-469f-aadc-5b4d4def3272",
   "metadata": {},
   "outputs": [],
   "source": [
    "CAMARO_TEST_CSVs = \"\"\"\n",
    "gs://kfujikawa-kaggle-bms-molecular-generation/camaro/exp084/test_kf_0523.csv\n",
    "gs://kfujikawa-kaggle-bms-molecular-generation/camaro/exp084/test_kf_0525.csv\n",
    "gs://kfujikawa-kaggle-bms-molecular-generation/camaro/exp084/test_kf_0527.csv\n",
    "gs://kfujikawa-kaggle-bms-molecular-generation/camaro/exp084/test_yokoo_0527.csv\n",
    "\"\"\".strip().split()"
   ]
  },
  {
   "cell_type": "code",
   "execution_count": 14,
   "id": "c70f7bae-6b9e-4dbe-9d22-e91bd2f7e0b2",
   "metadata": {},
   "outputs": [
    {
     "data": {
      "application/vnd.jupyter.widget-view+json": {
       "model_id": "ee4cc779b843428493bc9db3aae943ef",
       "version_major": 2,
       "version_minor": 0
      },
      "text/plain": [
       "HBox(children=(HTML(value=''), FloatProgress(value=0.0, max=4.0), HTML(value='')))"
      ]
     },
     "metadata": {},
     "output_type": "display_data"
    },
    {
     "name": "stdout",
     "output_type": "stream",
     "text": [
      "\n"
     ]
    },
    {
     "data": {
      "text/html": [
       "<div>\n",
       "<style scoped>\n",
       "    .dataframe tbody tr th:only-of-type {\n",
       "        vertical-align: middle;\n",
       "    }\n",
       "\n",
       "    .dataframe tbody tr th {\n",
       "        vertical-align: top;\n",
       "    }\n",
       "\n",
       "    .dataframe thead th {\n",
       "        text-align: right;\n",
       "    }\n",
       "</style>\n",
       "<table border=\"1\" class=\"dataframe\">\n",
       "  <thead>\n",
       "    <tr style=\"text-align: right;\">\n",
       "      <th></th>\n",
       "      <th>image_id</th>\n",
       "      <th>InChI</th>\n",
       "      <th>levenshtein</th>\n",
       "      <th>is_valid</th>\n",
       "      <th>focal_score</th>\n",
       "      <th>ce_score</th>\n",
       "      <th>model</th>\n",
       "      <th>filename</th>\n",
       "    </tr>\n",
       "  </thead>\n",
       "  <tbody>\n",
       "    <tr>\n",
       "      <th>0</th>\n",
       "      <td>007706c43e8d</td>\n",
       "      <td>InChI=1S/C16H32O6/c1-5-17-11-13-21-9-3-7-19-15...</td>\n",
       "      <td>NaN</td>\n",
       "      <td>False</td>\n",
       "      <td>0.18025</td>\n",
       "      <td>0.521818</td>\n",
       "      <td>exp084</td>\n",
       "      <td>test_yokoo_0527.csv</td>\n",
       "    </tr>\n",
       "  </tbody>\n",
       "</table>\n",
       "</div>"
      ],
      "text/plain": [
       "       image_id                                              InChI  \\\n",
       "0  007706c43e8d  InChI=1S/C16H32O6/c1-5-17-11-13-21-9-3-7-19-15...   \n",
       "\n",
       "   levenshtein  is_valid  focal_score  ce_score   model             filename  \n",
       "0          NaN     False      0.18025  0.521818  exp084  test_yokoo_0527.csv  "
      ]
     },
     "metadata": {},
     "output_type": "display_data"
    },
    {
     "data": {
      "text/plain": [
       "model\n",
       "exp084    4973760\n",
       "Name: image_id, dtype: int64"
      ]
     },
     "metadata": {},
     "output_type": "display_data"
    }
   ],
   "source": [
    "with mp.Pool() as pool:\n",
    "    total = len(CAMARO_TEST_CSVs)\n",
    "    iterator = pool.imap_unordered(load_prediction, CAMARO_TEST_CSVs)\n",
    "    camaro_df = pd.concat(list(tqdm(iterator, total=total)), ignore_index=True)\n",
    "camaro_df = camaro_df.drop_duplicates(subset=[\"model\", \"image_id\", \"InChI\"])\n",
    "display(camaro_df.head(1))\n",
    "display(camaro_df.groupby(\"model\").image_id.count())"
   ]
  },
  {
   "cell_type": "code",
   "execution_count": 19,
   "id": "1ebd1b40-06ba-4077-b58c-997b15b45111",
   "metadata": {},
   "outputs": [
    {
     "data": {
      "application/vnd.jupyter.widget-view+json": {
       "model_id": "22047b18f5104bcda2a9985bbe951edb",
       "version_major": 2,
       "version_minor": 0
      },
      "text/plain": [
       "HBox(children=(HTML(value=''), FloatProgress(value=0.0, max=1615331.0), HTML(value='')))"
      ]
     },
     "metadata": {},
     "output_type": "display_data"
    },
    {
     "name": "stdout",
     "output_type": "stream",
     "text": [
      "\n",
      "1615331\n",
      "(37696, 9)\n",
      "0.18372395502841213\n"
     ]
    }
   ],
   "source": [
    "sort_keys = dict(\n",
    "    image_id=True,\n",
    "    is_valid=False,\n",
    "    focal_score=True,\n",
    ")\n",
    "camaro_ensembled_df = camaro_df.sort_values(\n",
    "    by=list(sort_keys.keys()),\n",
    "    ascending=list(sort_keys.values()),\n",
    ").groupby(\"image_id\").first().reset_index()\n",
    "camaro_ensembled_df = camaro_ensembled_df.merge(baseline_df, on=\"image_id\")\n",
    "camaro_ensembled_df[\"levenshtein\"] = [\n",
    "    Levenshtein.distance(x, y)\n",
    "    for x, y in tqdm(camaro_ensembled_df[[\"InChI_x\", \"InChI_y\"]].values)\n",
    "]\n",
    "print(len(camaro_ensembled_df))\n",
    "print(camaro_ensembled_df.query(\"InChI_x != InChI_y\").shape)\n",
    "print(camaro_ensembled_df.levenshtein.mean())"
   ]
  },
  {
   "cell_type": "markdown",
   "id": "bf808a69-3bd9-4f52-8b35-e86f1f03b423",
   "metadata": {},
   "source": [
    "# Single model"
   ]
  },
  {
   "cell_type": "code",
   "execution_count": 7,
   "id": "25eaea5f-cc48-432a-a6d0-cb7891227ecc",
   "metadata": {},
   "outputs": [],
   "source": [
    "sort_keys = dict(\n",
    "    image_id=True,\n",
    "    is_valid=False,\n",
    "    focal_score=True,\n",
    ")\n",
    "camaro_ensembled_df = camaro_df.sort_values(\n",
    "    by=list(sort_keys.keys()),\n",
    "    ascending=list(sort_keys.values()),\n",
    ").groupby(\"image_id\").first().reset_index()"
   ]
  },
  {
   "cell_type": "code",
   "execution_count": 8,
   "id": "db41bb18-5b0d-4e76-a7c1-fc5209827277",
   "metadata": {},
   "outputs": [],
   "source": [
    "baseline_df = pd.read_csv(io.BytesIO(download_from_gcs(\n",
    "    \"gs://kfujikawa-kaggle-bms-molecular-generation/submissions/LB059+kf0527.csv\"\n",
    ")))"
   ]
  },
  {
   "cell_type": "code",
   "execution_count": 11,
   "id": "f06a0842-c86f-4703-bdcf-eacca469014f",
   "metadata": {},
   "outputs": [
    {
     "data": {
      "application/vnd.jupyter.widget-view+json": {
       "model_id": "7832344c95b54b29a5f5ddfa81700a04",
       "version_major": 2,
       "version_minor": 0
      },
      "text/plain": [
       "HBox(children=(HTML(value=''), FloatProgress(value=0.0, max=1615577.0), HTML(value='')))"
      ]
     },
     "metadata": {},
     "output_type": "display_data"
    },
    {
     "name": "stdout",
     "output_type": "stream",
     "text": [
      "\n",
      "(33625, 9)\n",
      "0.21922693873458213\n"
     ]
    }
   ],
   "source": [
    "merged_df = camaro_ensembled_df.merge(baseline_df, on=\"image_id\")\n",
    "merged_df[\"levenshtein\"] = [\n",
    "    Levenshtein.distance(x, y)\n",
    "    for x, y in tqdm(merged_df[[\"InChI_x\", \"InChI_y\"]].values)\n",
    "]\n",
    "print(merged_df.query(\"InChI_x != InChI_y\").shape)\n",
    "print(merged_df.levenshtein.mean())"
   ]
  },
  {
   "cell_type": "code",
   "execution_count": 15,
   "id": "c09ecf1d-92e0-4b5a-9c8a-0372969d1f8a",
   "metadata": {},
   "outputs": [
    {
     "data": {
      "text/plain": [
       "1615577"
      ]
     },
     "execution_count": 15,
     "metadata": {},
     "output_type": "execute_result"
    }
   ],
   "source": [
    "camaro_df.image_id.nunique()"
   ]
  },
  {
   "cell_type": "code",
   "execution_count": null,
   "id": "3b905aad-6093-414e-935d-9a653aef27a4",
   "metadata": {},
   "outputs": [],
   "source": []
  }
 ],
 "metadata": {
  "kernelspec": {
   "display_name": "Python 3",
   "language": "python",
   "name": "python3"
  },
  "language_info": {
   "codemirror_mode": {
    "name": "ipython",
    "version": 3
   },
   "file_extension": ".py",
   "mimetype": "text/x-python",
   "name": "python",
   "nbconvert_exporter": "python",
   "pygments_lexer": "ipython3",
   "version": "3.8.5"
  }
 },
 "nbformat": 4,
 "nbformat_minor": 5
}
