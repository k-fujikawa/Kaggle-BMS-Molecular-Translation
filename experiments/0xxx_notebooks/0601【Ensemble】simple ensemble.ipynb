{
 "cells": [
  {
   "cell_type": "code",
   "execution_count": 2,
   "id": "060fdc4d-c588-4ff5-9a1a-24f281164171",
   "metadata": {},
   "outputs": [
    {
     "name": "stderr",
     "output_type": "stream",
     "text": [
      "/opt/miniconda/lib/python3.8/site-packages/tqdm/std.py:703: FutureWarning: The Panel class is removed from pandas. Accessing it from the top-level namespace will also be removed in the next version\n",
      "  from pandas import Panel\n"
     ]
    }
   ],
   "source": [
    "import cv2\n",
    "import Levenshtein\n",
    "import optuna\n",
    "import numpy as np\n",
    "import pandas as pd\n",
    "import plotly.express as px\n",
    "import sklearn.metrics\n",
    "import ipywidgets\n",
    "import matplotlib.pyplot as plt\n",
    "import multiprocessing as mp\n",
    "from tqdm.auto import tqdm\n",
    "tqdm.pandas()"
   ]
  },
  {
   "cell_type": "code",
   "execution_count": 3,
   "id": "96273d07-39d9-4b74-a4b6-540fac880da4",
   "metadata": {},
   "outputs": [],
   "source": [
    "%load_ext autoreload\n",
    "%autoreload 2\n",
    "from nncomp_molecule import constants"
   ]
  },
  {
   "cell_type": "code",
   "execution_count": 4,
   "id": "51768dcc-2bed-4f06-bdbc-7887c73c54a1",
   "metadata": {},
   "outputs": [
    {
     "data": {
      "text/html": [
       "<div>\n",
       "<style scoped>\n",
       "    .dataframe tbody tr th:only-of-type {\n",
       "        vertical-align: middle;\n",
       "    }\n",
       "\n",
       "    .dataframe tbody tr th {\n",
       "        vertical-align: top;\n",
       "    }\n",
       "\n",
       "    .dataframe thead th {\n",
       "        text-align: right;\n",
       "    }\n",
       "</style>\n",
       "<table border=\"1\" class=\"dataframe\">\n",
       "  <thead>\n",
       "    <tr style=\"text-align: right;\">\n",
       "      <th></th>\n",
       "      <th>InChI</th>\n",
       "      <th>image_path</th>\n",
       "      <th>InChI_length</th>\n",
       "      <th>w</th>\n",
       "      <th>h</th>\n",
       "      <th>w/h</th>\n",
       "      <th>w*h</th>\n",
       "      <th>is_flipped</th>\n",
       "    </tr>\n",
       "    <tr>\n",
       "      <th>image_id</th>\n",
       "      <th></th>\n",
       "      <th></th>\n",
       "      <th></th>\n",
       "      <th></th>\n",
       "      <th></th>\n",
       "      <th></th>\n",
       "      <th></th>\n",
       "      <th></th>\n",
       "    </tr>\n",
       "  </thead>\n",
       "  <tbody>\n",
       "    <tr>\n",
       "      <th>4435736fd10b</th>\n",
       "      <td>InChI=1S/C65H110O6/c1-4-7-10-13-16-19-22-25-28...</td>\n",
       "      <td>/work/input/bms-molecular-translation/train/4/...</td>\n",
       "      <td>403</td>\n",
       "      <td>1472</td>\n",
       "      <td>788</td>\n",
       "      <td>1.868020</td>\n",
       "      <td>1159936</td>\n",
       "      <td>False</td>\n",
       "    </tr>\n",
       "    <tr>\n",
       "      <th>8c0e35ce3f1f</th>\n",
       "      <td>InChI=1S/C60H98O6/c1-4-7-10-13-16-19-22-25-27-...</td>\n",
       "      <td>/work/input/bms-molecular-translation/train/8/...</td>\n",
       "      <td>398</td>\n",
       "      <td>939</td>\n",
       "      <td>309</td>\n",
       "      <td>3.038835</td>\n",
       "      <td>290151</td>\n",
       "      <td>False</td>\n",
       "    </tr>\n",
       "    <tr>\n",
       "      <th>934593ad3cae</th>\n",
       "      <td>InChI=1S/C63H106O6/c1-4-7-10-13-16-19-22-25-27...</td>\n",
       "      <td>/work/input/bms-molecular-translation/train/9/...</td>\n",
       "      <td>397</td>\n",
       "      <td>826</td>\n",
       "      <td>661</td>\n",
       "      <td>1.249622</td>\n",
       "      <td>545986</td>\n",
       "      <td>False</td>\n",
       "    </tr>\n",
       "    <tr>\n",
       "      <th>c963808e309d</th>\n",
       "      <td>InChI=1S/C59H92O6/c1-4-7-10-13-16-19-22-25-28-...</td>\n",
       "      <td>/work/input/bms-molecular-translation/train/c/...</td>\n",
       "      <td>393</td>\n",
       "      <td>1268</td>\n",
       "      <td>883</td>\n",
       "      <td>1.436014</td>\n",
       "      <td>1119644</td>\n",
       "      <td>False</td>\n",
       "    </tr>\n",
       "    <tr>\n",
       "      <th>0aa425d5f5ac</th>\n",
       "      <td>InChI=1S/C62H106O6/c1-4-7-10-13-16-19-22-25-27...</td>\n",
       "      <td>/work/input/bms-molecular-translation/train/0/...</td>\n",
       "      <td>393</td>\n",
       "      <td>918</td>\n",
       "      <td>543</td>\n",
       "      <td>1.690608</td>\n",
       "      <td>498474</td>\n",
       "      <td>False</td>\n",
       "    </tr>\n",
       "  </tbody>\n",
       "</table>\n",
       "</div>"
      ],
      "text/plain": [
       "                                                          InChI  \\\n",
       "image_id                                                          \n",
       "4435736fd10b  InChI=1S/C65H110O6/c1-4-7-10-13-16-19-22-25-28...   \n",
       "8c0e35ce3f1f  InChI=1S/C60H98O6/c1-4-7-10-13-16-19-22-25-27-...   \n",
       "934593ad3cae  InChI=1S/C63H106O6/c1-4-7-10-13-16-19-22-25-27...   \n",
       "c963808e309d  InChI=1S/C59H92O6/c1-4-7-10-13-16-19-22-25-28-...   \n",
       "0aa425d5f5ac  InChI=1S/C62H106O6/c1-4-7-10-13-16-19-22-25-27...   \n",
       "\n",
       "                                                     image_path  InChI_length  \\\n",
       "image_id                                                                        \n",
       "4435736fd10b  /work/input/bms-molecular-translation/train/4/...           403   \n",
       "8c0e35ce3f1f  /work/input/bms-molecular-translation/train/8/...           398   \n",
       "934593ad3cae  /work/input/bms-molecular-translation/train/9/...           397   \n",
       "c963808e309d  /work/input/bms-molecular-translation/train/c/...           393   \n",
       "0aa425d5f5ac  /work/input/bms-molecular-translation/train/0/...           393   \n",
       "\n",
       "                 w    h       w/h      w*h  is_flipped  \n",
       "image_id                                                \n",
       "4435736fd10b  1472  788  1.868020  1159936       False  \n",
       "8c0e35ce3f1f   939  309  3.038835   290151       False  \n",
       "934593ad3cae   826  661  1.249622   545986       False  \n",
       "c963808e309d  1268  883  1.436014  1119644       False  \n",
       "0aa425d5f5ac   918  543  1.690608   498474       False  "
      ]
     },
     "execution_count": 4,
     "metadata": {},
     "output_type": "execute_result"
    }
   ],
   "source": [
    "train_df = pd.read_pickle(\"/work/input/kfujikawa/bms-preprocess-v2/train.pkl\").set_index(\"image_id\")\n",
    "train_df.head()"
   ]
  },
  {
   "cell_type": "code",
   "execution_count": 9,
   "id": "9af31ead-4004-4a6f-9859-c3ad1ad8a97d",
   "metadata": {},
   "outputs": [
    {
     "data": {
      "application/vnd.jupyter.widget-view+json": {
       "model_id": "dbd1dd406da74ca7ae5d137e17f6bd76",
       "version_major": 2,
       "version_minor": 0
      },
      "text/plain": [
       "HBox(children=(HTML(value=''), FloatProgress(value=0.0, max=7.0), HTML(value='')))"
      ]
     },
     "metadata": {},
     "output_type": "display_data"
    },
    {
     "name": "stdout",
     "output_type": "stream",
     "text": [
      "\n"
     ]
    },
    {
     "data": {
      "text/html": [
       "<div>\n",
       "<style scoped>\n",
       "    .dataframe tbody tr th:only-of-type {\n",
       "        vertical-align: middle;\n",
       "    }\n",
       "\n",
       "    .dataframe tbody tr th {\n",
       "        vertical-align: top;\n",
       "    }\n",
       "\n",
       "    .dataframe thead th {\n",
       "        text-align: right;\n",
       "    }\n",
       "</style>\n",
       "<table border=\"1\" class=\"dataframe\">\n",
       "  <thead>\n",
       "    <tr style=\"text-align: right;\">\n",
       "      <th></th>\n",
       "      <th>count</th>\n",
       "      <th>levenshtein</th>\n",
       "      <th>is_valid</th>\n",
       "      <th>normed_score</th>\n",
       "    </tr>\n",
       "    <tr>\n",
       "      <th>model</th>\n",
       "      <th></th>\n",
       "      <th></th>\n",
       "      <th></th>\n",
       "      <th></th>\n",
       "    </tr>\n",
       "  </thead>\n",
       "  <tbody>\n",
       "    <tr>\n",
       "      <th>1113_swin_large_bert_384</th>\n",
       "      <td>1212095</td>\n",
       "      <td>8.214288</td>\n",
       "      <td>0.561736</td>\n",
       "      <td>0.071950</td>\n",
       "    </tr>\n",
       "    <tr>\n",
       "      <th>9005_1102+1105+1106</th>\n",
       "      <td>242419</td>\n",
       "      <td>0.898923</td>\n",
       "      <td>0.985942</td>\n",
       "      <td>0.002378</td>\n",
       "    </tr>\n",
       "    <tr>\n",
       "      <th>9006_1103+1106+1109</th>\n",
       "      <td>1212095</td>\n",
       "      <td>13.574322</td>\n",
       "      <td>0.614990</td>\n",
       "      <td>0.072085</td>\n",
       "    </tr>\n",
       "    <tr>\n",
       "      <th>9007_1109+1113</th>\n",
       "      <td>1212095</td>\n",
       "      <td>12.033737</td>\n",
       "      <td>0.599610</td>\n",
       "      <td>0.072635</td>\n",
       "    </tr>\n",
       "  </tbody>\n",
       "</table>\n",
       "</div>"
      ],
      "text/plain": [
       "                            count  levenshtein  is_valid  normed_score\n",
       "model                                                                 \n",
       "1113_swin_large_bert_384  1212095     8.214288  0.561736      0.071950\n",
       "9005_1102+1105+1106        242419     0.898923  0.985942      0.002378\n",
       "9006_1103+1106+1109       1212095    13.574322  0.614990      0.072085\n",
       "9007_1109+1113            1212095    12.033737  0.599610      0.072635"
      ]
     },
     "metadata": {},
     "output_type": "display_data"
    }
   ],
   "source": [
    "VALID_CSVs = [\n",
    "    constants.OUTPUTDIR / \"1113_swin_large_bert_384\" / \"valid_beam=1.csv\",\n",
    "    constants.OUTPUTDIR / \"1113_swin_large_bert_384\" / \"valid_beam=4.csv\",\n",
    "#     constants.OUTPUTDIR / \"1113_swin_large_bert_384\" / \"valid_beam=16.csv\",\n",
    "#     constants.OUTPUTDIR / \"1113_swin_large_bert_384\" / \"candidate_0521_1113_swin_large_bert_384.csv\",\n",
    "#     constants.OUTPUTDIR / \"1106_swin_bert_384\" / \"valid_beam=1.csv\",\n",
    "#     constants.OUTPUTDIR / \"1106_swin_bert_384\" / \"valid_beam=4.csv\",\n",
    "#     constants.OUTPUTDIR / \"1109_vtnt_bert_512-1024-denoise-5\" / \"valid_beam=1.csv\",\n",
    "#     constants.OUTPUTDIR / \"1109_vtnt_bert_512-1024-denoise-5\" / \"valid_beam=4.csv\",\n",
    "#     constants.OUTPUTDIR / \"9004_1102+1105\" / \"valid_beam=1.csv\",\n",
    "    constants.OUTPUTDIR / \"9005_1102+1105+1106\" / \"valid_beam=1.csv\",\n",
    "#     constants.OUTPUTDIR / \"9005_1102+1105+1106\" / \"valid_beam=4.csv\",\n",
    "    constants.OUTPUTDIR / \"9006_1103+1106+1109\" / \"valid_beam=1.csv\",\n",
    "    constants.OUTPUTDIR / \"9006_1103+1106+1109\" / \"valid_beam=4.csv\",\n",
    "    constants.OUTPUTDIR / \"9007_1109+1113\" / \"valid_beam=1.csv\",\n",
    "    constants.OUTPUTDIR / \"9007_1109+1113\" / \"valid_beam=4.csv\",\n",
    "    \n",
    "#     constants.OUTPUTDIR / \"v30\" / \"valid_pred.csv\",\n",
    "]\n",
    "COLUMNS = [\n",
    "    \"image_id\",\n",
    "    \"InChI\",\n",
    "    \"normed_InChI\",\n",
    "    \"is_valid\",\n",
    "    \"normed_score\",\n",
    "    \"InChI_GT\",\n",
    "    \"levenshtein\",\n",
    "]\n",
    "valid_df = pd.concat([\n",
    "    pd.read_csv(filename, usecols=COLUMNS).assign(model=filename.parent.name)\n",
    "    for filename in tqdm(VALID_CSVs)\n",
    "], ignore_index=True)\n",
    "display(valid_df.groupby(\"model\").agg(**{\n",
    "    \"count\": (\"image_id\", \"count\"),\n",
    "    \"levenshtein\": (\"levenshtein\", \"mean\"),\n",
    "    \"is_valid\": (\"is_valid\", \"mean\"),\n",
    "    \"normed_score\": (\"normed_score\", \"mean\")\n",
    "}))"
   ]
  },
  {
   "cell_type": "code",
   "execution_count": 10,
   "id": "658bef8d-5616-4d0b-acf1-d3b777dd19e0",
   "metadata": {},
   "outputs": [
    {
     "data": {
      "text/plain": [
       "model\n",
       "1113_swin_large_bert_384    0.868298\n",
       "9005_1102+1105+1106         0.898923\n",
       "9006_1103+1106+1109         0.787067\n",
       "9007_1109+1113              0.759503\n",
       "Name: levenshtein, dtype: float64"
      ]
     },
     "execution_count": 10,
     "metadata": {},
     "output_type": "execute_result"
    }
   ],
   "source": [
    "sort_keys = dict(\n",
    "    image_id=True,\n",
    "    is_valid=False,\n",
    "    normed_score=True,\n",
    ")\n",
    "valid_ensembled_df = valid_df.sort_values(\n",
    "    by=list(sort_keys.keys()),\n",
    "    ascending=list(sort_keys.values()),\n",
    ").groupby([\"image_id\", \"model\"]).first()\n",
    "valid_ensembled_df.groupby(\"model\").levenshtein.mean()"
   ]
  },
  {
   "cell_type": "code",
   "execution_count": 11,
   "id": "f9903fc6-1015-47bc-9736-7d7f9d6b0424",
   "metadata": {},
   "outputs": [
    {
     "name": "stdout",
     "output_type": "stream",
     "text": [
      "Levenshtein: 0.735825162219133\n",
      "Levenshtein (lower): 0.1739632619555398\n"
     ]
    }
   ],
   "source": [
    "base_score = valid_df.sort_values(\n",
    "    by=list(sort_keys.keys()),\n",
    "    ascending=list(sort_keys.values()),\n",
    ").groupby(\"image_id\").first().levenshtein.mean()\n",
    "lower_score = valid_df.groupby(\"image_id\").levenshtein.min().mean()\n",
    "\n",
    "print(f\"Levenshtein: {base_score}\")\n",
    "print(f\"Levenshtein (lower): {lower_score}\")"
   ]
  },
  {
   "cell_type": "code",
   "execution_count": 7,
   "id": "1a4ac364-ce2e-41a8-9b1b-f7d39f4b4c41",
   "metadata": {},
   "outputs": [
    {
     "data": {
      "application/vnd.jupyter.widget-view+json": {
       "model_id": "634b40de4ebf49c6ba4f8119531c1b8c",
       "version_major": 2,
       "version_minor": 0
      },
      "text/plain": [
       "HBox(children=(HTML(value=''), FloatProgress(value=0.0, max=4848380.0), HTML(value='')))"
      ]
     },
     "metadata": {},
     "output_type": "display_data"
    },
    {
     "name": "stdout",
     "output_type": "stream",
     "text": [
      "\n"
     ]
    }
   ],
   "source": [
    "voting_df = valid_df.groupby([\"image_id\", \"normed_InChI\"]).model.count()\n",
    "valid_df[\"votes\"] = valid_df[[\"image_id\", \"normed_InChI\"]].progress_apply(\n",
    "    lambda x: voting_df.loc[x.image_id, x.normed_InChI],\n",
    "    axis=1\n",
    ")"
   ]
  },
  {
   "cell_type": "code",
   "execution_count": 8,
   "id": "1f6de286-80cc-4627-bcff-f365794a6cf8",
   "metadata": {},
   "outputs": [
    {
     "name": "stdout",
     "output_type": "stream",
     "text": [
      "Levenshtein: 0.7396903708042687\n",
      "Levenshtein (lower): 0.16620809425003816\n"
     ]
    }
   ],
   "source": [
    "sort_keys = dict(\n",
    "    image_id=True,\n",
    "    is_valid=False,\n",
    "#     votes=False,\n",
    "    normed_score=True,\n",
    ")\n",
    "base_score = valid_ensembled_df.sort_values(\n",
    "    by=list(sort_keys.keys()),\n",
    "    ascending=list(sort_keys.values()),\n",
    ").groupby(\"image_id\").first().levenshtein.mean()\n",
    "lower_score = valid_df.groupby(\"image_id\").levenshtein.min().mean()\n",
    "\n",
    "print(f\"Levenshtein: {base_score}\")\n",
    "print(f\"Levenshtein (lower): {lower_score}\")"
   ]
  },
  {
   "cell_type": "code",
   "execution_count": 9,
   "id": "3d948234-e58a-4959-bbf8-58d3daa3ef5d",
   "metadata": {},
   "outputs": [],
   "source": [
    "invalid_df = valid_df[valid_df.normed_InChI.apply(lambda x: \"/q\" in x)]"
   ]
  },
  {
   "cell_type": "code",
   "execution_count": 10,
   "id": "09758af1-8f9e-4371-850e-9a88405b298d",
   "metadata": {},
   "outputs": [],
   "source": [
    "sample = invalid_df.sort_values([\"votes\", \"image_id\"]).iloc[-1]"
   ]
  },
  {
   "cell_type": "code",
   "execution_count": null,
   "id": "6d17169b-0612-4bbb-b68e-6de6ab17196b",
   "metadata": {},
   "outputs": [],
   "source": []
  },
  {
   "cell_type": "code",
   "execution_count": null,
   "id": "f307d7ec-060f-4ffd-b514-f084ea4a3b51",
   "metadata": {},
   "outputs": [],
   "source": []
  }
 ],
 "metadata": {
  "kernelspec": {
   "display_name": "Python 3",
   "language": "python",
   "name": "python3"
  },
  "language_info": {
   "codemirror_mode": {
    "name": "ipython",
    "version": 3
   },
   "file_extension": ".py",
   "mimetype": "text/x-python",
   "name": "python",
   "nbconvert_exporter": "python",
   "pygments_lexer": "ipython3",
   "version": "3.8.5"
  }
 },
 "nbformat": 4,
 "nbformat_minor": 5
}
